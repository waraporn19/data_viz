{
  "nbformat": 4,
  "nbformat_minor": 0,
  "metadata": {
    "colab": {
      "name": "Pandas_101.ipynb",
      "provenance": [],
      "authorship_tag": "ABX9TyNN/5+NpH93xrZoxRZ4O8Lf",
      "include_colab_link": true
    },
    "kernelspec": {
      "name": "python3",
      "display_name": "Python 3"
    }
  },
  "cells": [
    {
      "cell_type": "markdown",
      "metadata": {
        "id": "view-in-github",
        "colab_type": "text"
      },
      "source": [
        "<a href=\"https://colab.research.google.com/github/waraporn19/data_viz/blob/main/Pandas_101.ipynb\" target=\"_parent\"><img src=\"https://colab.research.google.com/assets/colab-badge.svg\" alt=\"Open In Colab\"/></a>"
      ]
    },
    {
      "cell_type": "code",
      "metadata": {
        "id": "eZ7JNJdgmzYd"
      },
      "source": [
        "import pandas as pd #เรียกใช้ packet ชื่อว่า pandas แล้วเปลี่ยนเป็น pd"
      ],
      "execution_count": 16,
      "outputs": []
    },
    {
      "cell_type": "code",
      "metadata": {
        "colab": {
          "base_uri": "https://localhost:8080/"
        },
        "id": "ZexV-8JBosnK",
        "outputId": "c4b1bad8-6e1f-4adb-eb23-16f81b8620fd"
      },
      "source": [
        "from google.colab import drive\r\n",
        "drive.mount('/content/drive')"
      ],
      "execution_count": 19,
      "outputs": [
        {
          "output_type": "stream",
          "text": [
            "Drive already mounted at /content/drive; to attempt to forcibly remount, call drive.mount(\"/content/drive\", force_remount=True).\n"
          ],
          "name": "stdout"
        }
      ]
    },
    {
      "cell_type": "code",
      "metadata": {
        "id": "68QVinwWq2NS"
      },
      "source": [
        "# เรียกใช้ฟังก์ชั่น os  คือเรียกไฟล์ ชี้ไฟล์\r\n",
        "import os\r\n",
        "path = '/content/drive/My Drive/Dataviz_2021'#ให้ข้อมูลที่อยู่ใน Drive แทนด้วยชื่อ path"
      ],
      "execution_count": 20,
      "outputs": []
    },
    {
      "cell_type": "code",
      "metadata": {
        "colab": {
          "base_uri": "https://localhost:8080/"
        },
        "id": "tbDdszNNosw3",
        "outputId": "946c9a7a-c479-4fc3-c2c2-85b28d36e78e"
      },
      "source": [
        "covid_file_path = os.path.join(path,'pm-18-jan-2021')\r\n",
        "print(covid_file_path)"
      ],
      "execution_count": 21,
      "outputs": [
        {
          "output_type": "stream",
          "text": [
            "/content/drive/My Drive/Dataviz_2021/pm-18-jan-2021\n"
          ],
          "name": "stdout"
        }
      ]
    },
    {
      "cell_type": "code",
      "metadata": {
        "id": "5aaRtqcJvqAD"
      },
      "source": [
        "data_covid = pd.read_csv(covid_file_path)\r\n",
        "data_covid"
      ],
      "execution_count": null,
      "outputs": []
    },
    {
      "cell_type": "code",
      "metadata": {
        "id": "9Bm9ZhDIyXGj"
      },
      "source": [
        "data_covid.head()"
      ],
      "execution_count": null,
      "outputs": []
    },
    {
      "cell_type": "code",
      "metadata": {
        "id": "Dpw5bPhty3vJ"
      },
      "source": [
        "data_covid.shape"
      ],
      "execution_count": null,
      "outputs": []
    },
    {
      "cell_type": "code",
      "metadata": {
        "id": "XwMtrb0x0BWW"
      },
      "source": [
        "#[เลือกcolum][ตัวที่จะชี้]"
      ],
      "execution_count": null,
      "outputs": []
    },
    {
      "cell_type": "markdown",
      "metadata": {
        "id": "-OOFxEE60Oug"
      },
      "source": [
        "#.iloc ชี้ค่าที่เป็น array [แถว][หลัก]"
      ]
    },
    {
      "cell_type": "code",
      "metadata": {
        "id": "AdEuJ3_P0NYz"
      },
      "source": [
        ""
      ],
      "execution_count": null,
      "outputs": []
    },
    {
      "cell_type": "markdown",
      "metadata": {
        "id": "Lr1XKm-61Sj5"
      },
      "source": [
        "#Table sclicing"
      ]
    },
    {
      "cell_type": "markdown",
      "metadata": {
        "id": "zezdk3Wa1kDD"
      },
      "source": [
        "#ใช้คำสั่ง smaller_table  \r\n",
        "ตัดเฉพาะ Colum ที่เราต้องการ"
      ]
    },
    {
      "cell_type": "code",
      "metadata": {
        "id": "C1gT8yrZ1Rjj"
      },
      "source": [
        "#ใช้คำสั่ง smaller_table \r\n",
        "smaller_table = \r\n",
        "smaller_table "
      ],
      "execution_count": null,
      "outputs": []
    },
    {
      "cell_type": "markdown",
      "metadata": {
        "id": "ok46p_Lg2Osq"
      },
      "source": [
        "#### ตัดเฉพาะ row ที่ต้องการ"
      ]
    },
    {
      "cell_type": "markdown",
      "metadata": {
        "id": "2rzCgKU72a0U"
      },
      "source": [
        "แบบง่าย แต่ใช้งานไม่ค่อยจะได้"
      ]
    },
    {
      "cell_type": "code",
      "metadata": {
        "id": "nCrFQhlK2eZV"
      },
      "source": [
        ""
      ],
      "execution_count": null,
      "outputs": []
    },
    {
      "cell_type": "markdown",
      "metadata": {
        "id": "hPZCmaL62-7J"
      },
      "source": [
        "แบบ Advanced แต่ใช้ประโยชน์ได้เยอะกว่า ( ตัดแบบใช้ logic query)"
      ]
    },
    {
      "cell_type": "code",
      "metadata": {
        "id": "1GA8ixZ93I4j"
      },
      "source": [
        "ชื่อตาราง"
      ],
      "execution_count": null,
      "outputs": []
    }
  ]
}