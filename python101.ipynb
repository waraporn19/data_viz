{
  "nbformat": 4,
  "nbformat_minor": 0,
  "metadata": {
    "colab": {
      "name": "Untitled8.ipynb",
      "provenance": [],
      "authorship_tag": "ABX9TyN6e1W+R1s4Ezj+6LRNVREM",
      "include_colab_link": true
    },
    "kernelspec": {
      "name": "python3",
      "display_name": "Python 3"
    }
  },
  "cells": [
    {
      "cell_type": "markdown",
      "metadata": {
        "id": "view-in-github",
        "colab_type": "text"
      },
      "source": [
        "<a href=\"https://colab.research.google.com/github/waraporn19/data_viz/blob/main/python101.ipynb\" target=\"_parent\"><img src=\"https://colab.research.google.com/assets/colab-badge.svg\" alt=\"Open In Colab\"/></a>"
      ]
    },
    {
      "cell_type": "markdown",
      "metadata": {
        "id": "nLdu-JxAvDQ6"
      },
      "source": [
        "##Variables"
      ]
    },
    {
      "cell_type": "code",
      "metadata": {
        "id": "dw5QW8FevG9q",
        "colab": {
          "base_uri": "https://localhost:8080/"
        },
        "outputId": "1884445c-3255-4c92-ea52-cb24d5c1d72c"
      },
      "source": [
        "3.14159265359 #ค่าพาย Pi"
      ],
      "execution_count": null,
      "outputs": [
        {
          "output_type": "execute_result",
          "data": {
            "text/plain": [
              "3.14159265359"
            ]
          },
          "metadata": {
            "tags": []
          },
          "execution_count": 3
        }
      ]
    },
    {
      "cell_type": "markdown",
      "metadata": {
        "id": "QNBUlRKDvROv"
      },
      "source": [
        "##หลักการตั้งชื่อตัวแปรเบื้องต้น\r\n",
        "\r\n",
        "1.ตั้งให้สื่อ\r\n",
        "\r\n",
        "2.ภาษาอังกฤษ\r\n",
        "\r\n",
        "3.ใช้ตัวเลขได้แต่ห้ามขึ้นต้นด้วยตัวเลข\r\n",
        "\r\n",
        "4.ห้ามเว้นวรรค"
      ]
    },
    {
      "cell_type": "code",
      "metadata": {
        "id": "lL65yYmMvd8J",
        "colab": {
          "base_uri": "https://localhost:8080/"
        },
        "outputId": "f46ae6e9-d090-4272-ecbc-162e6e6a3820"
      },
      "source": [
        "pi = 3.14159265359\r\n",
        "pi"
      ],
      "execution_count": null,
      "outputs": [
        {
          "output_type": "execute_result",
          "data": {
            "text/plain": [
              "3.14159265359"
            ]
          },
          "metadata": {
            "tags": []
          },
          "execution_count": 4
        }
      ]
    },
    {
      "cell_type": "markdown",
      "metadata": {
        "id": "iRWq-DVkvqNA"
      },
      "source": [
        "#int : จำนวนเต็ม"
      ]
    },
    {
      "cell_type": "code",
      "metadata": {
        "id": "W4jwTXmMvt4f",
        "colab": {
          "base_uri": "https://localhost:8080/"
        },
        "outputId": "5c979995-0aad-4ab8-f590-acbf5ea2cd37"
      },
      "source": [
        "a = 10\r\n",
        "print(a)"
      ],
      "execution_count": null,
      "outputs": [
        {
          "output_type": "stream",
          "text": [
            "10\n"
          ],
          "name": "stdout"
        }
      ]
    },
    {
      "cell_type": "markdown",
      "metadata": {
        "id": "BkREjsjkv46l"
      },
      "source": [
        "#float : ทศนิยม"
      ]
    },
    {
      "cell_type": "code",
      "metadata": {
        "id": "nRTIuzAtv34b",
        "colab": {
          "base_uri": "https://localhost:8080/"
        },
        "outputId": "5f26361e-93cd-478b-fde4-f21f85215013"
      },
      "source": [
        "b = 10.\r\n",
        "print(b)"
      ],
      "execution_count": null,
      "outputs": [
        {
          "output_type": "stream",
          "text": [
            "10.0\n"
          ],
          "name": "stdout"
        }
      ]
    },
    {
      "cell_type": "markdown",
      "metadata": {
        "id": "9IJgrMARwC6I"
      },
      "source": [
        "#char : ข้อความหรือตัวอักษร"
      ]
    },
    {
      "cell_type": "code",
      "metadata": {
        "id": "TTdC2S2pvzXh",
        "colab": {
          "base_uri": "https://localhost:8080/"
        },
        "outputId": "51771f35-c69d-4ceb-e3db-887d98b1b2e6"
      },
      "source": [
        "c = 'CAKEWARAPORN'\r\n",
        "print(c)"
      ],
      "execution_count": null,
      "outputs": [
        {
          "output_type": "stream",
          "text": [
            "CAKEWARAPORN\n"
          ],
          "name": "stdout"
        }
      ]
    },
    {
      "cell_type": "markdown",
      "metadata": {
        "id": "9unNPl_kvsi5"
      },
      "source": [
        "#การเปลี่ยน char เป็น int\r\n",
        "\r\n",
        "ตัวเลขที่เป็นstringไม่สามารถนำมา + - * / กับตัวเลขได้"
      ]
    },
    {
      "cell_type": "code",
      "metadata": {
        "id": "gdbmDZV0vpUH",
        "colab": {
          "base_uri": "https://localhost:8080/"
        },
        "outputId": "771e2dec-d261-49de-b629-6f10850c1f5e"
      },
      "source": [
        "d = '10'\r\n",
        "print(d)"
      ],
      "execution_count": null,
      "outputs": [
        {
          "output_type": "stream",
          "text": [
            "10\n"
          ],
          "name": "stdout"
        }
      ]
    },
    {
      "cell_type": "code",
      "metadata": {
        "id": "8P03ELy7vk0S",
        "colab": {
          "base_uri": "https://localhost:8080/",
          "height": 162
        },
        "outputId": "b6eb7404-1b86-4540-ae76-8b465969f7ba"
      },
      "source": [
        "d+1"
      ],
      "execution_count": null,
      "outputs": [
        {
          "output_type": "error",
          "ename": "TypeError",
          "evalue": "ignored",
          "traceback": [
            "\u001b[0;31m---------------------------------------------------------------------------\u001b[0m",
            "\u001b[0;31mTypeError\u001b[0m                                 Traceback (most recent call last)",
            "\u001b[0;32m<ipython-input-9-1e06e37b4525>\u001b[0m in \u001b[0;36m<module>\u001b[0;34m()\u001b[0m\n\u001b[0;32m----> 1\u001b[0;31m \u001b[0md\u001b[0m\u001b[0;34m+\u001b[0m\u001b[0;36m1\u001b[0m\u001b[0;34m\u001b[0m\u001b[0;34m\u001b[0m\u001b[0m\n\u001b[0m",
            "\u001b[0;31mTypeError\u001b[0m: must be str, not int"
          ]
        }
      ]
    },
    {
      "cell_type": "markdown",
      "metadata": {
        "id": "icHVzQ-vwxLe"
      },
      "source": [
        "#variable casting (การเปลี่ยนชนิดของข้อมูล"
      ]
    },
    {
      "cell_type": "code",
      "metadata": {
        "id": "6spO5o7Avk3b",
        "colab": {
          "base_uri": "https://localhost:8080/"
        },
        "outputId": "0db7642a-545d-4f31-d907-d85f82fbdf46"
      },
      "source": [
        "int(d) + 1"
      ],
      "execution_count": null,
      "outputs": [
        {
          "output_type": "execute_result",
          "data": {
            "text/plain": [
              "11"
            ]
          },
          "metadata": {
            "tags": []
          },
          "execution_count": 10
        }
      ]
    },
    {
      "cell_type": "code",
      "metadata": {
        "id": "wnlP6fgfw6iC",
        "colab": {
          "base_uri": "https://localhost:8080/"
        },
        "outputId": "e6728a1b-4214-412b-cca4-2616028b9aa5"
      },
      "source": [
        "print(a)\r\n",
        "print(float(a))\r\n",
        "print(str(a))"
      ],
      "execution_count": null,
      "outputs": [
        {
          "output_type": "stream",
          "text": [
            "10\n",
            "10.0\n",
            "10\n"
          ],
          "name": "stdout"
        }
      ]
    },
    {
      "cell_type": "markdown",
      "metadata": {
        "id": "HJcVpnXWxFfy"
      },
      "source": [
        "#Operation (Operators+,-,*,/,%)"
      ]
    },
    {
      "cell_type": "code",
      "metadata": {
        "id": "xVbyGU8txI5b",
        "colab": {
          "base_uri": "https://localhost:8080/"
        },
        "outputId": "a5a85781-fc3c-4003-a3da-e80d8d373e82"
      },
      "source": [
        "a+b"
      ],
      "execution_count": null,
      "outputs": [
        {
          "output_type": "execute_result",
          "data": {
            "text/plain": [
              "20.0"
            ]
          },
          "metadata": {
            "tags": []
          },
          "execution_count": 12
        }
      ]
    },
    {
      "cell_type": "code",
      "metadata": {
        "id": "AsG9wJ6gxPss",
        "colab": {
          "base_uri": "https://localhost:8080/"
        },
        "outputId": "02cc77b7-ed49-4ec3-b4ec-5e11d4d61c03"
      },
      "source": [
        "ab = a+b\r\n",
        "print(ab)"
      ],
      "execution_count": null,
      "outputs": [
        {
          "output_type": "stream",
          "text": [
            "20.0\n"
          ],
          "name": "stdout"
        }
      ]
    },
    {
      "cell_type": "markdown",
      "metadata": {
        "id": "wQ5uPL05xWpP"
      },
      "source": [
        "#% เครื่องหมาย modulo คือการหารเอาเศษ"
      ]
    },
    {
      "cell_type": "code",
      "metadata": {
        "id": "HKORSUpdxdf-",
        "colab": {
          "base_uri": "https://localhost:8080/"
        },
        "outputId": "bda444dd-d6f5-4d03-ea5b-49fff85ba61c"
      },
      "source": [
        "5%3"
      ],
      "execution_count": null,
      "outputs": [
        {
          "output_type": "execute_result",
          "data": {
            "text/plain": [
              "2"
            ]
          },
          "metadata": {
            "tags": []
          },
          "execution_count": 14
        }
      ]
    },
    {
      "cell_type": "code",
      "metadata": {
        "id": "Atb-QspPxp63",
        "colab": {
          "base_uri": "https://localhost:8080/"
        },
        "outputId": "499e64e6-ce91-4a54-be4d-fb14292d9038"
      },
      "source": [
        "7%2"
      ],
      "execution_count": null,
      "outputs": [
        {
          "output_type": "execute_result",
          "data": {
            "text/plain": [
              "1"
            ]
          },
          "metadata": {
            "tags": []
          },
          "execution_count": 15
        }
      ]
    },
    {
      "cell_type": "markdown",
      "metadata": {
        "id": "eWunUR5Sxudv"
      },
      "source": [
        "#คำสั่ง print แบบพิเศษ (การ fomat strint)"
      ]
    },
    {
      "cell_type": "code",
      "metadata": {
        "id": "g05zk-Wuxy9y",
        "colab": {
          "base_uri": "https://localhost:8080/"
        },
        "outputId": "8beaf88b-a537-4a91-84b0-dc576765d5a0"
      },
      "source": [
        "print('ตัวแปร') #สิ่งที่อยู่ข้างในวงเล็บคือ ตัวแปร และ string"
      ],
      "execution_count": null,
      "outputs": [
        {
          "output_type": "stream",
          "text": [
            "ตัวแปร\n"
          ],
          "name": "stdout"
        }
      ]
    },
    {
      "cell_type": "code",
      "metadata": {
        "id": "L0Rj73eux6xw",
        "colab": {
          "base_uri": "https://localhost:8080/"
        },
        "outputId": "9c87a094-ec50-410c-d627-2d046aea48eb"
      },
      "source": [
        "print(f'% คือการหารเอาเศษ เช่น 7%3 ={7%3}') # เพิ่ม f หน้า 'string' และใช้ {} เพื่อใส่ code"
      ],
      "execution_count": null,
      "outputs": [
        {
          "output_type": "stream",
          "text": [
            "% คือการหารเอาเศษ เช่น 7%3 =1\n"
          ],
          "name": "stdout"
        }
      ]
    },
    {
      "cell_type": "code",
      "metadata": {
        "id": "qx2Eutrbx6-A",
        "colab": {
          "base_uri": "https://localhost:8080/"
        },
        "outputId": "2d30f63c-dcfe-489a-f0b0-caa30a3ab9a4"
      },
      "source": [
        "print(f'% คือการหารเอาเศษ เช่น 7%3 ={7%3} \\\\\r\n",
        "          แต่ \\n/ คือการหารปกติ เช่น 7/3 = {7/3} \\\\\r\n",
        "          และ \\n // คือการหารเอาส่วน เช่น 7//3 = {7//3} \\\\\r\n",
        "          หรือ\\nใช้ int เพื่อหารเอาส่วน เช่น int(7/3) = {int(7/3)}') # \\n คือการขึ้นบรรทัดใหม่"
      ],
      "execution_count": null,
      "outputs": [
        {
          "output_type": "stream",
          "text": [
            "% คือการหารเอาเศษ เช่น 7%3 =1 \\          แต่ \n",
            "/ คือการหารปกติ เช่น 7/3 = 2.3333333333333335 \\          และ \n",
            " // คือการหารเอาส่วน เช่น 7//3 = 2 \\          หรือ\n",
            "ใช้ int เพื่อหารเอาส่วน เช่น int(7/3) = 2\n"
          ],
          "name": "stdout"
        }
      ]
    },
    {
      "cell_type": "markdown",
      "metadata": {
        "id": "UWI8KQebyUoP"
      },
      "source": [
        "#DATA STRUCTURE (โครงสร้างข้อมูล)\r\n",
        "#List คือ การเอาตัวแปรหลายๆตัวมาเรียงกัน : เป็นได้ทั้งตัวเลขและอักขระ\r\n",
        "#list สามารถสร้างได้ 2 แบบ ดังนี้\r\n"
      ]
    },
    {
      "cell_type": "markdown",
      "metadata": {
        "id": "zpBBqpWayiKc"
      },
      "source": [
        "##แบบที่1 > square brackets"
      ]
    },
    {
      "cell_type": "code",
      "metadata": {
        "id": "9aqWSNvlyheB",
        "colab": {
          "base_uri": "https://localhost:8080/"
        },
        "outputId": "b22e7197-d4ba-45d8-80bb-d32229d9b9af"
      },
      "source": [
        "list_a = []\r\n",
        "print(list_a)"
      ],
      "execution_count": null,
      "outputs": [
        {
          "output_type": "stream",
          "text": [
            "[]\n"
          ],
          "name": "stdout"
        }
      ]
    },
    {
      "cell_type": "code",
      "metadata": {
        "id": "ezGZnVfPyTxi",
        "colab": {
          "base_uri": "https://localhost:8080/"
        },
        "outputId": "40e62890-f078-4167-c344-9c0ee19c8817"
      },
      "source": [
        "list_b = [1,5,'v']\r\n",
        "list_b"
      ],
      "execution_count": null,
      "outputs": [
        {
          "output_type": "execute_result",
          "data": {
            "text/plain": [
              "[1, 5, 'v']"
            ]
          },
          "metadata": {
            "tags": []
          },
          "execution_count": 47
        }
      ]
    },
    {
      "cell_type": "markdown",
      "metadata": {
        "id": "hQcuXbcby7_w"
      },
      "source": [
        "#ลำดับที่อยู่ใน list มีความสำคัญ (ลำดับในlist เริ่มจาก 0,1,2,3,....)"
      ]
    },
    {
      "cell_type": "code",
      "metadata": {
        "id": "1BlBvazAy7RI",
        "colab": {
          "base_uri": "https://localhost:8080/"
        },
        "outputId": "97507675-1abe-4bbd-ba6a-a5bcfe118be9"
      },
      "source": [
        "list_b[1]"
      ],
      "execution_count": null,
      "outputs": [
        {
          "output_type": "execute_result",
          "data": {
            "text/plain": [
              "5"
            ]
          },
          "metadata": {
            "tags": []
          },
          "execution_count": 20
        }
      ]
    },
    {
      "cell_type": "markdown",
      "metadata": {
        "id": "xbpoIcqizH_a"
      },
      "source": [
        "#แบบที่2"
      ]
    },
    {
      "cell_type": "code",
      "metadata": {
        "id": "BvMXAisVzJoD",
        "colab": {
          "base_uri": "https://localhost:8080/"
        },
        "outputId": "59f80adc-dd07-4907-cfde-41ba72181c3d"
      },
      "source": [
        "list_c = list()\r\n",
        "print(list_c)"
      ],
      "execution_count": null,
      "outputs": [
        {
          "output_type": "stream",
          "text": [
            "[]\n"
          ],
          "name": "stdout"
        }
      ]
    },
    {
      "cell_type": "markdown",
      "metadata": {
        "id": "JOMI4LV2zWjN"
      },
      "source": [
        "###append() เพิ่มสมาชิกใน list"
      ]
    },
    {
      "cell_type": "code",
      "metadata": {
        "id": "u3AbL2cEzJt0",
        "colab": {
          "base_uri": "https://localhost:8080/"
        },
        "outputId": "316fd230-f4d3-4ecf-d294-9f88b17b79c7"
      },
      "source": [
        "list_b.append('u')\r\n",
        "print(list_b)"
      ],
      "execution_count": null,
      "outputs": [
        {
          "output_type": "stream",
          "text": [
            "[1, 5, 'v', 'u']\n"
          ],
          "name": "stdout"
        }
      ]
    },
    {
      "cell_type": "code",
      "metadata": {
        "id": "DKq38lCMzg9j",
        "colab": {
          "base_uri": "https://localhost:8080/",
          "height": 34
        },
        "outputId": "bf7cd5d2-9834-40c6-cd56-028effd0dddc"
      },
      "source": [
        "list_b.pop() # คำสั่ง .pop ดึงสมาชิกสุดท้ายออกจาก list"
      ],
      "execution_count": null,
      "outputs": [
        {
          "output_type": "execute_result",
          "data": {
            "application/vnd.google.colaboratory.intrinsic+json": {
              "type": "string"
            },
            "text/plain": [
              "'u'"
            ]
          },
          "metadata": {
            "tags": []
          },
          "execution_count": 49
        }
      ]
    },
    {
      "cell_type": "code",
      "metadata": {
        "id": "Qdp6JNf0zhMh",
        "colab": {
          "base_uri": "https://localhost:8080/"
        },
        "outputId": "c2d3420e-2b8c-4a01-beb8-854f5687ef2d"
      },
      "source": [
        "list_b"
      ],
      "execution_count": null,
      "outputs": [
        {
          "output_type": "execute_result",
          "data": {
            "text/plain": [
              "[1, 5, 'v']"
            ]
          },
          "metadata": {
            "tags": []
          },
          "execution_count": 50
        }
      ]
    },
    {
      "cell_type": "code",
      "metadata": {
        "id": "ipyOFW2kz4TY",
        "colab": {
          "base_uri": "https://localhost:8080/"
        },
        "outputId": "2e336dea-7670-4d46-bce4-af3950119ade"
      },
      "source": [
        "list_b.append(list_a)\r\n",
        "print(list_b)"
      ],
      "execution_count": null,
      "outputs": [
        {
          "output_type": "stream",
          "text": [
            "[1, 5, 'v', []]\n"
          ],
          "name": "stdout"
        }
      ]
    },
    {
      "cell_type": "markdown",
      "metadata": {
        "id": "WsttDz1y0Dmw"
      },
      "source": [
        "##String > list of characters"
      ]
    },
    {
      "cell_type": "code",
      "metadata": {
        "id": "1XKM1_jg0AHd",
        "colab": {
          "base_uri": "https://localhost:8080/"
        },
        "outputId": "6ce9e0c4-4fb6-424e-e452-acb5c0ee9d4b"
      },
      "source": [
        "len(list_b) # len คือคำสั่งตรวจสอบความยาวของ list (จำนวนสมาชิก)"
      ],
      "execution_count": null,
      "outputs": [
        {
          "output_type": "execute_result",
          "data": {
            "text/plain": [
              "4"
            ]
          },
          "metadata": {
            "tags": []
          },
          "execution_count": 52
        }
      ]
    },
    {
      "cell_type": "code",
      "metadata": {
        "id": "zUHqQL5_0J4J",
        "colab": {
          "base_uri": "https://localhost:8080/",
          "height": 34
        },
        "outputId": "dce88122-2d9d-41c8-985a-9e3c58b9ffc6"
      },
      "source": [
        "t = 'python is easy'\r\n",
        "t"
      ],
      "execution_count": 4,
      "outputs": [
        {
          "output_type": "execute_result",
          "data": {
            "application/vnd.google.colaboratory.intrinsic+json": {
              "type": "string"
            },
            "text/plain": [
              "'python is easy'"
            ]
          },
          "metadata": {
            "tags": []
          },
          "execution_count": 4
        }
      ]
    },
    {
      "cell_type": "code",
      "metadata": {
        "id": "OMgySQW30KEv",
        "colab": {
          "base_uri": "https://localhost:8080/"
        },
        "outputId": "3adddcc5-b0c0-4e31-9220-7914299b868d"
      },
      "source": [
        "len(t) #ความยาวของlist = 14"
      ],
      "execution_count": 6,
      "outputs": [
        {
          "output_type": "execute_result",
          "data": {
            "text/plain": [
              "14"
            ]
          },
          "metadata": {
            "tags": []
          },
          "execution_count": 6
        }
      ]
    },
    {
      "cell_type": "markdown",
      "metadata": {
        "id": "r6UFjcLL0hkZ"
      },
      "source": [
        "##access a member of a list (list&string) โดยเริ่มนับจาก0 \r\n",
        "\r\n",
        "0คือสามชิกตัวแรก,   -1 คือสมาชิกตัวสุดท้าย"
      ]
    },
    {
      "cell_type": "code",
      "metadata": {
        "id": "nMmLHH0w0jHq",
        "colab": {
          "base_uri": "https://localhost:8080/",
          "height": 34
        },
        "outputId": "6f4b19a2-0bb7-4639-fcab-24a89d1b0bdb"
      },
      "source": [
        "t[-3]"
      ],
      "execution_count": null,
      "outputs": [
        {
          "output_type": "execute_result",
          "data": {
            "application/vnd.google.colaboratory.intrinsic+json": {
              "type": "string"
            },
            "text/plain": [
              "'a'"
            ]
          },
          "metadata": {
            "tags": []
          },
          "execution_count": 55
        }
      ]
    },
    {
      "cell_type": "markdown",
      "metadata": {
        "id": "D9yg6sK401gb"
      },
      "source": [
        "##ตัวที่อยู่ข้างใน [ ] เราเรียกว่า index(ตัวชี้)\r\n",
        "\r\n",
        "List slicing\r\n",
        "\r\n",
        "[a:b] -> [a,b)"
      ]
    },
    {
      "cell_type": "code",
      "metadata": {
        "id": "klBDIOw21AO2",
        "colab": {
          "base_uri": "https://localhost:8080/",
          "height": 178
        },
        "outputId": "2f66aea1-a305-4f44-dcd5-911f49dbc04f"
      },
      "source": [
        "print(t) #\r\n",
        "print(t[7:9])"
      ],
      "execution_count": 3,
      "outputs": [
        {
          "output_type": "error",
          "ename": "NameError",
          "evalue": "ignored",
          "traceback": [
            "\u001b[0;31m---------------------------------------------------------------------------\u001b[0m",
            "\u001b[0;31mNameError\u001b[0m                                 Traceback (most recent call last)",
            "\u001b[0;32m<ipython-input-3-e54698447685>\u001b[0m in \u001b[0;36m<module>\u001b[0;34m()\u001b[0m\n\u001b[0;32m----> 1\u001b[0;31m \u001b[0mprint\u001b[0m\u001b[0;34m(\u001b[0m\u001b[0mt\u001b[0m\u001b[0;34m)\u001b[0m \u001b[0;31m#\u001b[0m\u001b[0;34m\u001b[0m\u001b[0;34m\u001b[0m\u001b[0m\n\u001b[0m\u001b[1;32m      2\u001b[0m \u001b[0mprint\u001b[0m\u001b[0;34m(\u001b[0m\u001b[0mt\u001b[0m\u001b[0;34m[\u001b[0m\u001b[0;36m7\u001b[0m\u001b[0;34m:\u001b[0m\u001b[0;36m9\u001b[0m\u001b[0;34m]\u001b[0m\u001b[0;34m)\u001b[0m\u001b[0;34m\u001b[0m\u001b[0;34m\u001b[0m\u001b[0m\n",
            "\u001b[0;31mNameError\u001b[0m: name 't' is not defined"
          ]
        }
      ]
    },
    {
      "cell_type": "markdown",
      "metadata": {
        "id": "N7yFFBLZ1lVB"
      },
      "source": [
        "##ถ้าเว้นว่างหน้า : หมายความว่า เริ่มตั้งแต่ตัวแรก ถ้าเว้นว่างหลัง : หมายความว่า ไปจนถึงตัวสุดท้าย"
      ]
    },
    {
      "cell_type": "code",
      "metadata": {
        "id": "swK7xvuB1AX_",
        "colab": {
          "base_uri": "https://localhost:8080/"
        },
        "outputId": "8f91b479-2606-4cac-90b4-51ee4366cc01"
      },
      "source": [
        "print(t)\r\n",
        "print(t[:6]) #เริ่มจาก 0\r\n",
        "print(t[10:]) #ถึงตัวสุดท้าย\r\n",
        "print(t[-4:])\r\n",
        "print(t[:])"
      ],
      "execution_count": 7,
      "outputs": [
        {
          "output_type": "stream",
          "text": [
            "python is easy\n",
            "python\n",
            "easy\n",
            "easy\n",
            "python is easy\n"
          ],
          "name": "stdout"
        }
      ]
    },
    {
      "cell_type": "code",
      "metadata": {
        "id": "BWLJTh6kbanu",
        "outputId": "8c1a05da-bd16-4f91-c5c4-c4ba7d8fa73b",
        "colab": {
          "base_uri": "https://localhost:8080/"
        }
      },
      "source": [
        "print(t[: :2]) # :2 กำหนด step ให้กะโดดที่ละ 2"
      ],
      "execution_count": 10,
      "outputs": [
        {
          "output_type": "stream",
          "text": [
            "pto ses\n"
          ],
          "name": "stdout"
        }
      ]
    },
    {
      "cell_type": "markdown",
      "metadata": {
        "id": "lMZfT1Ut0_fQ"
      },
      "source": [
        "##เราสามารถเอา list มาต่อกันได้ด้วย +"
      ]
    },
    {
      "cell_type": "code",
      "metadata": {
        "id": "rigQDdao2Mc0",
        "colab": {
          "base_uri": "https://localhost:8080/",
          "height": 34
        },
        "outputId": "cb3af1bb-8eae-4c88-82e6-0e35029f0e95"
      },
      "source": [
        "t + '??'"
      ],
      "execution_count": null,
      "outputs": [
        {
          "output_type": "execute_result",
          "data": {
            "application/vnd.google.colaboratory.intrinsic+json": {
              "type": "string"
            },
            "text/plain": [
              "'python is easy??'"
            ]
          },
          "metadata": {
            "tags": []
          },
          "execution_count": 58
        }
      ]
    },
    {
      "cell_type": "code",
      "metadata": {
        "id": "URRVdbdV2PNw",
        "colab": {
          "base_uri": "https://localhost:8080/",
          "height": 162
        },
        "outputId": "c4ef496c-ca53-4c12-bf12-3799dfd463da"
      },
      "source": [
        "t + list_b #ไม่สามารถเอาlistมาต่อกับ string ได้"
      ],
      "execution_count": null,
      "outputs": [
        {
          "output_type": "error",
          "ename": "TypeError",
          "evalue": "ignored",
          "traceback": [
            "\u001b[0;31m---------------------------------------------------------------------------\u001b[0m",
            "\u001b[0;31mTypeError\u001b[0m                                 Traceback (most recent call last)",
            "\u001b[0;32m<ipython-input-59-4df489e6ddf4>\u001b[0m in \u001b[0;36m<module>\u001b[0;34m()\u001b[0m\n\u001b[0;32m----> 1\u001b[0;31m \u001b[0mt\u001b[0m \u001b[0;34m+\u001b[0m \u001b[0mlist_b\u001b[0m \u001b[0;31m#ไม่สามารถเอาlistมาต่อกับ string ได้\u001b[0m\u001b[0;34m\u001b[0m\u001b[0;34m\u001b[0m\u001b[0m\n\u001b[0m",
            "\u001b[0;31mTypeError\u001b[0m: must be str, not list"
          ]
        }
      ]
    },
    {
      "cell_type": "code",
      "metadata": {
        "id": "KffMa2u-2PYx",
        "colab": {
          "base_uri": "https://localhost:8080/"
        },
        "outputId": "9dc52b05-edf6-4a2c-fdf9-a6d00d310dbe"
      },
      "source": [
        "list_b + list_b"
      ],
      "execution_count": null,
      "outputs": [
        {
          "output_type": "execute_result",
          "data": {
            "text/plain": [
              "[1, 5, 'v', [], 1, 5, 'v', []]"
            ]
          },
          "metadata": {
            "tags": []
          },
          "execution_count": 60
        }
      ]
    },
    {
      "cell_type": "markdown",
      "metadata": {
        "id": "WG3SvHwd2e8C"
      },
      "source": [
        "##การแบ่ง string ตามสัญลักษณ์ที่กำหนด ->split string"
      ]
    },
    {
      "cell_type": "code",
      "metadata": {
        "id": "7BhhSGss2j9c",
        "colab": {
          "base_uri": "https://localhost:8080/"
        },
        "outputId": "b5ba789e-9dc6-4681-86a4-d1d2b950387d"
      },
      "source": [
        "t.split(' ')"
      ],
      "execution_count": null,
      "outputs": [
        {
          "output_type": "execute_result",
          "data": {
            "text/plain": [
              "['python', 'is', 'easy']"
            ]
          },
          "metadata": {
            "tags": []
          },
          "execution_count": 61
        }
      ]
    },
    {
      "cell_type": "code",
      "metadata": {
        "id": "ZoGNu-2C2kG7",
        "colab": {
          "base_uri": "https://localhost:8080/"
        },
        "outputId": "5009c331-ae40-4757-d0bc-325942f9da3d"
      },
      "source": [
        "t_sp = t.split(' ')\r\n",
        "print(t_sp)\r\n",
        "#วิธีรวมกลับ\r\n",
        "print(':'.join(t_sp))"
      ],
      "execution_count": null,
      "outputs": [
        {
          "output_type": "stream",
          "text": [
            "['python', 'is', 'easy']\n",
            "python:is:easy\n"
          ],
          "name": "stdout"
        }
      ]
    },
    {
      "cell_type": "code",
      "metadata": {
        "id": "EsQra6nN241w"
      },
      "source": [
        "time = '12:30:15'"
      ],
      "execution_count": null,
      "outputs": []
    },
    {
      "cell_type": "code",
      "metadata": {
        "id": "QYFtiC2024_Z",
        "colab": {
          "base_uri": "https://localhost:8080/"
        },
        "outputId": "a1c7b96b-58a7-4d04-f58d-c0cec9243c5f"
      },
      "source": [
        "time.split(':')"
      ],
      "execution_count": null,
      "outputs": [
        {
          "output_type": "execute_result",
          "data": {
            "text/plain": [
              "['12', '30', '15']"
            ]
          },
          "metadata": {
            "tags": []
          },
          "execution_count": 64
        }
      ]
    },
    {
      "cell_type": "markdown",
      "metadata": {
        "id": "O5mBr-j9klHZ"
      },
      "source": [
        "##HWคำนวณเวลาเป็นวินาทีของเวลาต่อไปนี้โดยใช้คำสั่ง split ช่วย(print ออกมาให้สวยงาม)\r\n",
        "12:30:15\r\n",
        "\r\n",
        "13:41:07\r\n",
        "\r\n",
        "12:53:15\r\n",
        "\r\n",
        "00:59:25\r\n",
        "\r\n",
        "11:11:11\r\n",
        "\r\n",
        "16:06:09"
      ]
    },
    {
      "cell_type": "code",
      "metadata": {
        "id": "yjLJUtqb3RLC",
        "colab": {
          "base_uri": "https://localhost:8080/"
        },
        "outputId": "eda0178d-9018-4c2f-c849-0af760d62c9b"
      },
      "source": [
        "#12:30:15\r\n",
        "t1 = '12:30:15' \r\n",
        "list1 = t1.split(':') \r\n",
        "h1=list1[0]\r\n",
        "H1=int(h1)*3600\r\n",
        "m1=list1[1]\r\n",
        "M1=int(m1)*60\r\n",
        "s1=list1[2]\r\n",
        "S1=int(s1)\r\n",
        "print(f'12:30:15 สามารถคำนวณเวลาให้เป็นวินาทีได้เท่ากับ {H1+M1+S1} วินาที')"
      ],
      "execution_count": null,
      "outputs": [
        {
          "output_type": "stream",
          "text": [
            "12:30:15 สามารถคำนวณเวลาให้เป็นวินาทีได้เท่ากับ 45015 วินาที\n"
          ],
          "name": "stdout"
        }
      ]
    },
    {
      "cell_type": "code",
      "metadata": {
        "id": "D1NbqgWx3RYK",
        "colab": {
          "base_uri": "https://localhost:8080/"
        },
        "outputId": "2dff7742-da90-4daf-a652-6391ded9acd3"
      },
      "source": [
        "#13:41:07\r\n",
        "t1 = '13:41:07' \r\n",
        "list1 = t1.split(':') \r\n",
        "h1=list1[0]\r\n",
        "H1=int(h1)*3600\r\n",
        "m1=list1[1]\r\n",
        "M1=int(m1)*60\r\n",
        "s1=list1[2]\r\n",
        "S1=int(s1)\r\n",
        "print(f'13:41:07 สามารถคำนวณเวลาให้เป็นวินาทีได้เท่ากับ {H1+M1+S1} วินาที')"
      ],
      "execution_count": null,
      "outputs": [
        {
          "output_type": "stream",
          "text": [
            "13:41:07 สามารถคำนวณเวลาให้เป็นวินาทีได้เท่ากับ 49267 วินาที\n"
          ],
          "name": "stdout"
        }
      ]
    },
    {
      "cell_type": "code",
      "metadata": {
        "id": "ngIbsKiy3RoB",
        "colab": {
          "base_uri": "https://localhost:8080/"
        },
        "outputId": "2f56041e-b771-44b7-a158-c677c5ccb323"
      },
      "source": [
        "#12:53:15\r\n",
        "t1 = '12:53:15' \r\n",
        "list1 = t1.split(':') \r\n",
        "h1=list1[0]\r\n",
        "H1=int(h1)*3600\r\n",
        "m1=list1[1]\r\n",
        "M1=int(m1)*60\r\n",
        "s1=list1[2]\r\n",
        "S1=int(s1)\r\n",
        "print(f'12:53:15 สามารถคำนวณเวลาให้เป็นวินาทีได้เท่ากับ {H1+M1+S1} วินาที')"
      ],
      "execution_count": null,
      "outputs": [
        {
          "output_type": "stream",
          "text": [
            "12:53:15 สามารถคำนวณเวลาให้เป็นวินาทีได้เท่ากับ 46395 วินาที\n"
          ],
          "name": "stdout"
        }
      ]
    },
    {
      "cell_type": "code",
      "metadata": {
        "id": "kM4xeiFG3Ryb",
        "colab": {
          "base_uri": "https://localhost:8080/"
        },
        "outputId": "77bf3a22-da53-4fde-c26b-462a095a8d03"
      },
      "source": [
        "#00:59:25\r\n",
        "t1 = '00:59:25' \r\n",
        "list1 = t1.split(':') \r\n",
        "h1=list1[0]\r\n",
        "H1=int(h1)*3600\r\n",
        "m1=list1[1]\r\n",
        "M1=int(m1)*60\r\n",
        "s1=list1[2]\r\n",
        "S1=int(s1)\r\n",
        "print(f'00:59:25 สามารถคำนวณเวลาให้เป็นวินาทีได้เท่ากับ {H1+M1+S1} วินาที')"
      ],
      "execution_count": null,
      "outputs": [
        {
          "output_type": "stream",
          "text": [
            "00:59:25 สามารถคำนวณเวลาให้เป็นวินาทีได้เท่ากับ 3565 วินาที\n"
          ],
          "name": "stdout"
        }
      ]
    },
    {
      "cell_type": "code",
      "metadata": {
        "id": "65RAFJxj7NSE",
        "colab": {
          "base_uri": "https://localhost:8080/"
        },
        "outputId": "f5ded5ef-46c7-47ab-e4fe-7594e4675325"
      },
      "source": [
        "#11:11:11\r\n",
        "t1 = '11:11:11' \r\n",
        "list1 = t1.split(':') \r\n",
        "h1=list1[0]\r\n",
        "H1=int(h1)*3600\r\n",
        "m1=list1[1]\r\n",
        "M1=int(m1)*60\r\n",
        "s1=list1[2]\r\n",
        "S1=int(s1)\r\n",
        "print(f'11:11:11 สามารถคำนวณเวลาให้เป็นวินาทีได้เท่ากับ {H1+M1+S1} วินาที')"
      ],
      "execution_count": null,
      "outputs": [
        {
          "output_type": "stream",
          "text": [
            "11:11:11 สามารถคำนวณเวลาให้เป็นวินาทีได้เท่ากับ 40271 วินาที\n"
          ],
          "name": "stdout"
        }
      ]
    },
    {
      "cell_type": "code",
      "metadata": {
        "id": "g8rTuR2v7NcE",
        "colab": {
          "base_uri": "https://localhost:8080/"
        },
        "outputId": "a239e5f7-15cd-4075-8b1c-fda87f96f5d2"
      },
      "source": [
        "#16:06:09\r\n",
        "t1 = '16:06:09' \r\n",
        "list1 = t1.split(':') \r\n",
        "h1=list1[0]\r\n",
        "H1=int(h1)*3600\r\n",
        "m1=list1[1]\r\n",
        "M1=int(m1)*60\r\n",
        "s1=list1[2]\r\n",
        "S1=int(s1)\r\n",
        "print(f'16:06:09 สามารถคำนวณเวลาให้เป็นวินาทีได้เท่ากับ {H1+M1+S1} วินาที')"
      ],
      "execution_count": null,
      "outputs": [
        {
          "output_type": "stream",
          "text": [
            "16:06:09 สามารถคำนวณเวลาให้เป็นวินาทีได้เท่ากับ 57969 วินาที\n"
          ],
          "name": "stdout"
        }
      ]
    },
    {
      "cell_type": "code",
      "metadata": {
        "id": "xGCOrz_R7vN1",
        "colab": {
          "base_uri": "https://localhost:8080/"
        },
        "outputId": "db8a681c-d731-4746-bb62-a7141bd54f2f"
      },
      "source": [
        "#24:00:00\r\n",
        "t1 = '24:00:00' \r\n",
        "list1 = t1.split(':') \r\n",
        "h1=list1[0]\r\n",
        "H1=int(h1)*3600\r\n",
        "m1=list1[1]\r\n",
        "M1=int(m1)*60\r\n",
        "s1=list1[2]\r\n",
        "S1=int(s1)\r\n",
        "print(f'24:00:00 สามารถคำนวณเวลาให้เป็นวินาทีได้เท่ากับ {H1+M1+S1} วินาที')\r\n"
      ],
      "execution_count": null,
      "outputs": [
        {
          "output_type": "stream",
          "text": [
            "24:00:00 สามารถคำนวณเวลาให้เป็นวินาทีได้เท่ากับ 86400 วินาที\n"
          ],
          "name": "stdout"
        }
      ]
    },
    {
      "cell_type": "markdown",
      "metadata": {
        "id": "dZ58_OUYmgS9"
      },
      "source": [
        "#Fuction\r\n",
        "\r\n",
        "##ทำหน้าที่รับ inpu มาประมวณผลออกมาเป็น output"
      ]
    },
    {
      "cell_type": "markdown",
      "metadata": {
        "id": "bp5MFF1Imghp"
      },
      "source": [
        "#def คือการกำหนดฟังก์ชั่น"
      ]
    },
    {
      "cell_type": "markdown",
      "metadata": {
        "id": "nKTl4tIkm2PS"
      },
      "source": [
        "fuction  มีส่วนสำคํญ  4 ส่วน\r\n",
        "\r\n",
        "1. บอก pythoon "
      ]
    },
    {
      "cell_type": "code",
      "metadata": {
        "id": "20X67s37mctw",
        "colab": {
          "base_uri": "https://localhost:8080/",
          "height": 128
        },
        "outputId": "c0056aea-01dc-46f0-a588-9d8eb42ad916"
      },
      "source": [
        "python\r\n",
        "   def fuction_name(_Input_) :\r\n",
        "    do_something wit _Input_ to get _Output_ #ว่าจะประมวลผลอะไร\r\n",
        "    return _Output_"
      ],
      "execution_count": null,
      "outputs": [
        {
          "output_type": "error",
          "ename": "IndentationError",
          "evalue": "ignored",
          "traceback": [
            "\u001b[0;36m  File \u001b[0;32m\"<ipython-input-72-4f7fa2483062>\"\u001b[0;36m, line \u001b[0;32m2\u001b[0m\n\u001b[0;31m    def fuction_name(_Input_) :\u001b[0m\n\u001b[0m    ^\u001b[0m\n\u001b[0;31mIndentationError\u001b[0m\u001b[0;31m:\u001b[0m unexpected indent\n"
          ]
        }
      ]
    },
    {
      "cell_type": "markdown",
      "metadata": {
        "id": "nZPa2lALpWWg"
      },
      "source": [
        "เราใช้ เว้นวรรค (indent) เพื่อบอกขอบเขตโปรแกรม"
      ]
    },
    {
      "cell_type": "markdown",
      "metadata": {
        "id": "KZ2TI1omq8GW"
      },
      "source": [
        "fuction ไม่จำเป็นต้องมี output"
      ]
    },
    {
      "cell_type": "code",
      "metadata": {
        "id": "J6dgDiFzoNv7"
      },
      "source": [
        "def print_name2(name,surname,ID) :\r\n",
        "      st = f'"
      ],
      "execution_count": null,
      "outputs": []
    },
    {
      "cell_type": "markdown",
      "metadata": {
        "id": "0KR_QQB6rF9Y"
      },
      "source": [
        "fuction ไม่จำเป็นต้องมี intput"
      ]
    },
    {
      "cell_type": "code",
      "metadata": {
        "id": "Wi4wx2YlrXpu"
      },
      "source": [
        "def Pi() :\r\n",
        "      "
      ],
      "execution_count": null,
      "outputs": []
    },
    {
      "cell_type": "code",
      "metadata": {
        "id": "K3Fs2t-lrnsh"
      },
      "source": [
        ""
      ],
      "execution_count": null,
      "outputs": []
    },
    {
      "cell_type": "markdown",
      "metadata": {
        "id": "xZ74r0Herop9"
      },
      "source": [
        "##เราสามารถำหนดค่า default ให้กับฟังก์ชั่นได้\r\n",
        "\r\n",
        "###default คือ ค่าที่ไม่ต้องพิมพ์ เช่น ไม่ได้ระบุ grade ค่าก็จะออกมาตาม input ที่ตั้งไว้"
      ]
    },
    {
      "cell_type": "markdown",
      "metadata": {
        "id": "Y8GsZHrdta4L"
      },
      "source": [
        "#ให้สร้าง fuction  คำนวณเวลาเป็นวินาทีของเวลาใดๆ ที่จะ input เข้ามา และ print ให้สวยงาม"
      ]
    },
    {
      "cell_type": "code",
      "metadata": {
        "id": "GmdBsdkOt3Pj"
      },
      "source": [
        "def time_second(t) :\r\n",
        "      list = t.split(':') \r\n",
        "      h1=(int(list[0])*36000)\r\n",
        "      m1=(int(list[1])*60)\r\n",
        "      s1=(int(list[2]))\r\n",
        "      time_second=f'{t} สามารถคำนวณเวลาให้เป็นวินาทีได้เท่ากับ {h1+m1+s1} วินาที'\r\n",
        "      print(time_second)\r\n",
        "\r\n",
        "     "
      ],
      "execution_count": null,
      "outputs": []
    },
    {
      "cell_type": "code",
      "metadata": {
        "colab": {
          "base_uri": "https://localhost:8080/"
        },
        "id": "ZFfjn3T10tOV",
        "outputId": "b3003e4c-f9ad-4962-d2ec-890aecbd169c"
      },
      "source": [
        "time_second('12:30:15')"
      ],
      "execution_count": null,
      "outputs": [
        {
          "output_type": "stream",
          "text": [
            "12:30:15 สามารถคำนวณเวลาให้เป็นวินาทีได้เท่ากับ 433815 วินาที\n"
          ],
          "name": "stdout"
        }
      ]
    },
    {
      "cell_type": "code",
      "metadata": {
        "colab": {
          "base_uri": "https://localhost:8080/"
        },
        "id": "ppQFFRt-zfw6",
        "outputId": "d7fdde49-d04f-4e66-ceb7-fc39115fd973"
      },
      "source": [
        "time_second('12:30:15')\r\n",
        "\r\n",
        "time_second('13:41:07')\r\n",
        "\r\n",
        "time_second('12:53:15')\r\n",
        "\r\n",
        "time_second('10:59:25')\r\n",
        "\r\n",
        "time_second('11:11:11')\r\n",
        "\r\n",
        "time_second('16:06:09')\r\n"
      ],
      "execution_count": null,
      "outputs": [
        {
          "output_type": "stream",
          "text": [
            "12:30:15 สามารถคำนวณเวลาให้เป็นวินาทีได้เท่ากับ 433815 วินาที\n",
            "13:41:07 สามารถคำนวณเวลาให้เป็นวินาทีได้เท่ากับ 470467 วินาที\n",
            "12:53:15 สามารถคำนวณเวลาให้เป็นวินาทีได้เท่ากับ 435195 วินาที\n",
            "10:59:25 สามารถคำนวณเวลาให้เป็นวินาทีได้เท่ากับ 363565 วินาที\n",
            "11:11:11 สามารถคำนวณเวลาให้เป็นวินาทีได้เท่ากับ 396671 วินาที\n",
            "16:06:09 สามารถคำนวณเวลาให้เป็นวินาทีได้เท่ากับ 576369 วินาที\n"
          ],
          "name": "stdout"
        }
      ]
    },
    {
      "cell_type": "markdown",
      "metadata": {
        "id": "LRJVPsTN2zjG"
      },
      "source": [
        "## HW ให้สร้าง list ของเวลา [12:30:15, 13:41:07, 12:53:15....] แล้ววนลูปฟังก์ชั่นคำนวณเป็น วินาที\r\n",
        "\r\n",
        " 'commit ว่า HW3'"
      ]
    },
    {
      "cell_type": "code",
      "metadata": {
        "id": "Dhej7jdnuEEY"
      },
      "source": [
        "list_time = ['12:30:15','13:41:07','12:53:15','00:59:25','11:11:11','16:06:09']"
      ],
      "execution_count": null,
      "outputs": []
    },
    {
      "cell_type": "code",
      "metadata": {
        "id": "apD0WyfAuES2",
        "colab": {
          "base_uri": "https://localhost:8080/"
        },
        "outputId": "99185c46-94e6-424b-8ed8-84d65be5b873"
      },
      "source": [
        "\r\n",
        "for i in list_time : #วนลูปค่า i ทุกค่าที่อยู่ใน list_time  \r\n",
        "    print(f'ช่วงเวลาที่ {i} สามารถคำนวณเป็นวินาทีได้เท่ากับ{time_second(i)}')  #นำค่าที่อยู่ใน i เข้าไปในฟังก์ชั่น time_second\r\n",
        "#i เริ่มจากข้อมูลตัวเลขที่อยู่ใน list_time จะถูกนำเข้าไปใน ฟังก์ชั่น time_second เพื่อเปลี่ยนให้เวลากลายเป็นวินาที"
      ],
      "execution_count": null,
      "outputs": [
        {
          "output_type": "stream",
          "text": [
            "12:30:15 สามารถคำนวณเวลาให้เป็นวินาทีได้เท่ากับ 433815 วินาที\n",
            "ช่วงเวลาที่ 12:30:15 สามารถคำนวณเป็นวินาทีได้เท่ากับNone\n",
            "13:41:07 สามารถคำนวณเวลาให้เป็นวินาทีได้เท่ากับ 470467 วินาที\n",
            "ช่วงเวลาที่ 13:41:07 สามารถคำนวณเป็นวินาทีได้เท่ากับNone\n",
            "12:53:15 สามารถคำนวณเวลาให้เป็นวินาทีได้เท่ากับ 435195 วินาที\n",
            "ช่วงเวลาที่ 12:53:15 สามารถคำนวณเป็นวินาทีได้เท่ากับNone\n",
            "00:59:25 สามารถคำนวณเวลาให้เป็นวินาทีได้เท่ากับ 3565 วินาที\n",
            "ช่วงเวลาที่ 00:59:25 สามารถคำนวณเป็นวินาทีได้เท่ากับNone\n",
            "11:11:11 สามารถคำนวณเวลาให้เป็นวินาทีได้เท่ากับ 396671 วินาที\n",
            "ช่วงเวลาที่ 11:11:11 สามารถคำนวณเป็นวินาทีได้เท่ากับNone\n",
            "16:06:09 สามารถคำนวณเวลาให้เป็นวินาทีได้เท่ากับ 576369 วินาที\n",
            "ช่วงเวลาที่ 16:06:09 สามารถคำนวณเป็นวินาทีได้เท่ากับNone\n"
          ],
          "name": "stdout"
        }
      ]
    },
    {
      "cell_type": "markdown",
      "metadata": {
        "id": "WJZ0thO6YTml"
      },
      "source": [
        "#สร้าง list ตัวเลขแบบอัตโนมัติ range()"
      ]
    },
    {
      "cell_type": "code",
      "metadata": {
        "id": "GP9naojgYRHK",
        "outputId": "fc09921c-dd88-4c58-8d43-77bebc29d732",
        "colab": {
          "base_uri": "https://localhost:8080/"
        }
      },
      "source": [
        "rangnt_5= range(5) #สร้าง range(5) ใน list\r\n",
        "print(list(range(5)))"
      ],
      "execution_count": 2,
      "outputs": [
        {
          "output_type": "stream",
          "text": [
            "[0, 1, 2, 3, 4]\n"
          ],
          "name": "stdout"
        }
      ]
    }
  ]
}