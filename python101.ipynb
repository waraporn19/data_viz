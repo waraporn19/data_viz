{
  "nbformat": 4,
  "nbformat_minor": 0,
  "metadata": {
    "colab": {
      "name": "Untitled8.ipynb",
      "provenance": [],
      "authorship_tag": "ABX9TyNR3jHCTN6jntABqYLb/Yeh",
      "include_colab_link": true
    },
    "kernelspec": {
      "name": "python3",
      "display_name": "Python 3"
    }
  },
  "cells": [
    {
      "cell_type": "markdown",
      "metadata": {
        "id": "view-in-github",
        "colab_type": "text"
      },
      "source": [
        "<a href=\"https://colab.research.google.com/github/waraporn19/data_viz/blob/main/python101.ipynb\" target=\"_parent\"><img src=\"https://colab.research.google.com/assets/colab-badge.svg\" alt=\"Open In Colab\"/></a>"
      ]
    },
    {
      "cell_type": "markdown",
      "metadata": {
        "id": "nLdu-JxAvDQ6"
      },
      "source": [
        "##Variables"
      ]
    },
    {
      "cell_type": "code",
      "metadata": {
        "id": "dw5QW8FevG9q",
        "colab": {
          "base_uri": "https://localhost:8080/"
        },
        "outputId": "dfa4c06b-1f65-4598-bc2e-e4b491563f44"
      },
      "source": [
        "3.14159265359 #ค่าพาย Pi"
      ],
      "execution_count": null,
      "outputs": [
        {
          "output_type": "execute_result",
          "data": {
            "text/plain": [
              "3.14159265359"
            ]
          },
          "metadata": {
            "tags": []
          },
          "execution_count": 1
        }
      ]
    },
    {
      "cell_type": "markdown",
      "metadata": {
        "id": "QNBUlRKDvROv"
      },
      "source": [
        "##หลักการตั้งชื่อตัวแปรเบื้องต้น\r\n",
        "\r\n",
        "1.ตั้งให้สื่อ\r\n",
        "\r\n",
        "2.ภาษาอังกฤษ\r\n",
        "\r\n",
        "3.ใช้ตัวเลขได้แต่ห้ามขึ้นต้นด้วยตัวเลข\r\n",
        "\r\n",
        "4.ห้ามเว้นวรรค"
      ]
    },
    {
      "cell_type": "code",
      "metadata": {
        "id": "lL65yYmMvd8J",
        "colab": {
          "base_uri": "https://localhost:8080/"
        },
        "outputId": "dd020e31-da26-4952-b2dc-d9c03bd0265d"
      },
      "source": [
        "pi = 3.14159265359\r\n",
        "pi"
      ],
      "execution_count": null,
      "outputs": [
        {
          "output_type": "execute_result",
          "data": {
            "text/plain": [
              "3.14159265359"
            ]
          },
          "metadata": {
            "tags": []
          },
          "execution_count": 2
        }
      ]
    },
    {
      "cell_type": "markdown",
      "metadata": {
        "id": "iRWq-DVkvqNA"
      },
      "source": [
        "#int : จำนวนเต็ม"
      ]
    },
    {
      "cell_type": "code",
      "metadata": {
        "id": "W4jwTXmMvt4f",
        "colab": {
          "base_uri": "https://localhost:8080/"
        },
        "outputId": "acfe7ba2-5e7c-4fcd-c678-a8525789217c"
      },
      "source": [
        "a = 10\r\n",
        "print(a)"
      ],
      "execution_count": null,
      "outputs": [
        {
          "output_type": "stream",
          "text": [
            "10\n"
          ],
          "name": "stdout"
        }
      ]
    },
    {
      "cell_type": "markdown",
      "metadata": {
        "id": "BkREjsjkv46l"
      },
      "source": [
        "#float : ทศนิยม"
      ]
    },
    {
      "cell_type": "code",
      "metadata": {
        "id": "nRTIuzAtv34b",
        "colab": {
          "base_uri": "https://localhost:8080/"
        },
        "outputId": "0d38fd81-b871-4c20-e7e0-5fe81d86bad0"
      },
      "source": [
        "b = 10.\r\n",
        "print(b)"
      ],
      "execution_count": null,
      "outputs": [
        {
          "output_type": "stream",
          "text": [
            "10.0\n"
          ],
          "name": "stdout"
        }
      ]
    },
    {
      "cell_type": "markdown",
      "metadata": {
        "id": "9IJgrMARwC6I"
      },
      "source": [
        "#char : ข้อความหรือตัวอักษร"
      ]
    },
    {
      "cell_type": "code",
      "metadata": {
        "id": "TTdC2S2pvzXh",
        "colab": {
          "base_uri": "https://localhost:8080/"
        },
        "outputId": "1775b247-6f5d-4597-928c-f422df5d6732"
      },
      "source": [
        "c = 'CAKEWARAPORN'\r\n",
        "print(c)"
      ],
      "execution_count": null,
      "outputs": [
        {
          "output_type": "stream",
          "text": [
            "CAKEWARAPORN\n"
          ],
          "name": "stdout"
        }
      ]
    },
    {
      "cell_type": "markdown",
      "metadata": {
        "id": "9unNPl_kvsi5"
      },
      "source": [
        "#การเปลี่ยน char เป็น int\r\n",
        "\r\n",
        "ตัวเลขที่เป็นstringไม่สามารถนำมา + - * / กับตัวเลขได้"
      ]
    },
    {
      "cell_type": "code",
      "metadata": {
        "id": "gdbmDZV0vpUH",
        "colab": {
          "base_uri": "https://localhost:8080/"
        },
        "outputId": "55396127-1c02-4ef5-deb0-656f1ba7661a"
      },
      "source": [
        "d = '10'\r\n",
        "print(d)"
      ],
      "execution_count": null,
      "outputs": [
        {
          "output_type": "stream",
          "text": [
            "10\n"
          ],
          "name": "stdout"
        }
      ]
    },
    {
      "cell_type": "code",
      "metadata": {
        "id": "8P03ELy7vk0S",
        "colab": {
          "base_uri": "https://localhost:8080/",
          "height": 162
        },
        "outputId": "47c4e56f-04dd-4b8d-d4f5-ce8e4bcfed61"
      },
      "source": [
        "d+1"
      ],
      "execution_count": null,
      "outputs": [
        {
          "output_type": "error",
          "ename": "TypeError",
          "evalue": "ignored",
          "traceback": [
            "\u001b[0;31m---------------------------------------------------------------------------\u001b[0m",
            "\u001b[0;31mTypeError\u001b[0m                                 Traceback (most recent call last)",
            "\u001b[0;32m<ipython-input-9-1e06e37b4525>\u001b[0m in \u001b[0;36m<module>\u001b[0;34m()\u001b[0m\n\u001b[0;32m----> 1\u001b[0;31m \u001b[0md\u001b[0m\u001b[0;34m+\u001b[0m\u001b[0;36m1\u001b[0m\u001b[0;34m\u001b[0m\u001b[0;34m\u001b[0m\u001b[0m\n\u001b[0m",
            "\u001b[0;31mTypeError\u001b[0m: must be str, not int"
          ]
        }
      ]
    },
    {
      "cell_type": "markdown",
      "metadata": {
        "id": "icHVzQ-vwxLe"
      },
      "source": [
        "#variable casting (การเปลี่ยนชนิดของข้อมูล"
      ]
    },
    {
      "cell_type": "code",
      "metadata": {
        "id": "6spO5o7Avk3b",
        "colab": {
          "base_uri": "https://localhost:8080/"
        },
        "outputId": "e486ab07-1956-4b3a-9839-e9e07757ae44"
      },
      "source": [
        "int(d) + 1"
      ],
      "execution_count": null,
      "outputs": [
        {
          "output_type": "execute_result",
          "data": {
            "text/plain": [
              "11"
            ]
          },
          "metadata": {
            "tags": []
          },
          "execution_count": 10
        }
      ]
    },
    {
      "cell_type": "code",
      "metadata": {
        "id": "wnlP6fgfw6iC",
        "colab": {
          "base_uri": "https://localhost:8080/"
        },
        "outputId": "f6d31706-e81e-4e83-eedd-47fed0099e6b"
      },
      "source": [
        "print(a)\r\n",
        "print(float(a))\r\n",
        "print(str(a))"
      ],
      "execution_count": null,
      "outputs": [
        {
          "output_type": "stream",
          "text": [
            "10\n",
            "10.0\n",
            "10\n"
          ],
          "name": "stdout"
        }
      ]
    },
    {
      "cell_type": "markdown",
      "metadata": {
        "id": "HJcVpnXWxFfy"
      },
      "source": [
        "#Operation (Operators+,-,*,/,%)"
      ]
    },
    {
      "cell_type": "code",
      "metadata": {
        "id": "xVbyGU8txI5b",
        "colab": {
          "base_uri": "https://localhost:8080/"
        },
        "outputId": "f8e0aac9-281c-4cfa-c9bd-cd1e37375d7e"
      },
      "source": [
        "a+b"
      ],
      "execution_count": null,
      "outputs": [
        {
          "output_type": "execute_result",
          "data": {
            "text/plain": [
              "20.0"
            ]
          },
          "metadata": {
            "tags": []
          },
          "execution_count": 12
        }
      ]
    },
    {
      "cell_type": "code",
      "metadata": {
        "id": "AsG9wJ6gxPss",
        "colab": {
          "base_uri": "https://localhost:8080/"
        },
        "outputId": "367d08bb-fa9a-4cae-dc54-ce7314409b85"
      },
      "source": [
        "ab = a+b\r\n",
        "print(ab)"
      ],
      "execution_count": null,
      "outputs": [
        {
          "output_type": "stream",
          "text": [
            "20.0\n"
          ],
          "name": "stdout"
        }
      ]
    },
    {
      "cell_type": "markdown",
      "metadata": {
        "id": "wQ5uPL05xWpP"
      },
      "source": [
        "#% เครื่องหมาย modulo คือการหารเอาเศษ"
      ]
    },
    {
      "cell_type": "code",
      "metadata": {
        "id": "HKORSUpdxdf-",
        "colab": {
          "base_uri": "https://localhost:8080/"
        },
        "outputId": "20219a4a-4311-4261-9be8-5ef228bf1a4e"
      },
      "source": [
        "5%3"
      ],
      "execution_count": null,
      "outputs": [
        {
          "output_type": "execute_result",
          "data": {
            "text/plain": [
              "2"
            ]
          },
          "metadata": {
            "tags": []
          },
          "execution_count": 14
        }
      ]
    },
    {
      "cell_type": "code",
      "metadata": {
        "id": "Atb-QspPxp63",
        "colab": {
          "base_uri": "https://localhost:8080/"
        },
        "outputId": "46d882bf-a4f5-42cd-efc9-37f0890fa85c"
      },
      "source": [
        "7%2"
      ],
      "execution_count": null,
      "outputs": [
        {
          "output_type": "execute_result",
          "data": {
            "text/plain": [
              "1"
            ]
          },
          "metadata": {
            "tags": []
          },
          "execution_count": 15
        }
      ]
    },
    {
      "cell_type": "markdown",
      "metadata": {
        "id": "eWunUR5Sxudv"
      },
      "source": [
        "#คำสั่ง print แบบพิเศษ (การ fomat strint)"
      ]
    },
    {
      "cell_type": "code",
      "metadata": {
        "id": "g05zk-Wuxy9y",
        "colab": {
          "base_uri": "https://localhost:8080/"
        },
        "outputId": "a7e10750-f22a-4194-e176-2c03480e42ad"
      },
      "source": [
        "print('ตัวแปร') #สิ่งที่อยู่ข้างในวงเล็บคือ ตัวแปร และ string"
      ],
      "execution_count": null,
      "outputs": [
        {
          "output_type": "stream",
          "text": [
            "ตัวแปร\n"
          ],
          "name": "stdout"
        }
      ]
    },
    {
      "cell_type": "code",
      "metadata": {
        "id": "L0Rj73eux6xw",
        "colab": {
          "base_uri": "https://localhost:8080/"
        },
        "outputId": "ce7fbcd9-49e0-4209-fe14-f7fb3b8dc724"
      },
      "source": [
        "print(f'% คือการหารเอาเศษ เช่น 7%3 ={7%3}') # เพิ่ม f หน้า 'string' และใช้ {} เพื่อใส่ code"
      ],
      "execution_count": null,
      "outputs": [
        {
          "output_type": "stream",
          "text": [
            "% คือการหารเอาเศษ เช่น 7%3 =1\n"
          ],
          "name": "stdout"
        }
      ]
    },
    {
      "cell_type": "code",
      "metadata": {
        "id": "qx2Eutrbx6-A",
        "colab": {
          "base_uri": "https://localhost:8080/"
        },
        "outputId": "abc0a431-47cd-4232-9971-20fe84dc72e3"
      },
      "source": [
        "print(f'% คือการหารเอาเศษ เช่น 7%3 ={7%3} \\\\\r\n",
        "          แต่ \\n/ คือการหารปกติ เช่น 7/3 = {7/3} \\\\\r\n",
        "          และ \\n // คือการหารเอาส่วน เช่น 7//3 = {7//3} \\\\\r\n",
        "          หรือ\\nใช้ int เพื่อหารเอาส่วน เช่น int(7/3) = {int(7/3)}') # \\n คือการขึ้นบรรทัดใหม่"
      ],
      "execution_count": null,
      "outputs": [
        {
          "output_type": "stream",
          "text": [
            "% คือการหารเอาเศษ เช่น 7%3 =1 \\          แต่ \n",
            "/ คือการหารปกติ เช่น 7/3 = 2.3333333333333335 \\          และ \n",
            " // คือการหารเอาส่วน เช่น 7//3 = 2 \\          หรือ\n",
            "ใช้ int เพื่อหารเอาส่วน เช่น int(7/3) = 2\n"
          ],
          "name": "stdout"
        }
      ]
    },
    {
      "cell_type": "markdown",
      "metadata": {
        "id": "UWI8KQebyUoP"
      },
      "source": [
        "#DATA STRUCTURE (โครงสร้างข้อมูล)\r\n",
        "#List คือ การเอาตัวแปรหลายๆตัวมาเรียงกัน : เป็นได้ทั้งตัวเลขและอักขระ\r\n",
        "#list สามารถสร้างได้ 2 แบบ ดังนี้\r\n"
      ]
    },
    {
      "cell_type": "markdown",
      "metadata": {
        "id": "zpBBqpWayiKc"
      },
      "source": [
        "##แบบที่1 > square brackets"
      ]
    },
    {
      "cell_type": "code",
      "metadata": {
        "id": "9aqWSNvlyheB",
        "colab": {
          "base_uri": "https://localhost:8080/"
        },
        "outputId": "e223eefd-1948-44dd-ede3-e4175cfdbf21"
      },
      "source": [
        "list_a = []\r\n",
        "print(list_a)"
      ],
      "execution_count": null,
      "outputs": [
        {
          "output_type": "stream",
          "text": [
            "[]\n"
          ],
          "name": "stdout"
        }
      ]
    },
    {
      "cell_type": "code",
      "metadata": {
        "id": "ezGZnVfPyTxi",
        "colab": {
          "base_uri": "https://localhost:8080/"
        },
        "outputId": "c7d4a0cd-107a-4dbd-9aa7-70af962d52e7"
      },
      "source": [
        "list_b = [1,5,'v']\r\n",
        "list_b"
      ],
      "execution_count": null,
      "outputs": [
        {
          "output_type": "execute_result",
          "data": {
            "text/plain": [
              "[1, 5, 'v']"
            ]
          },
          "metadata": {
            "tags": []
          },
          "execution_count": 20
        }
      ]
    },
    {
      "cell_type": "markdown",
      "metadata": {
        "id": "hQcuXbcby7_w"
      },
      "source": [
        "#ลำดับที่อยู่ใน list มีความสำคัญ (ลำดับในlist เริ่มจาก 0,1,2,3,....)"
      ]
    },
    {
      "cell_type": "code",
      "metadata": {
        "id": "1BlBvazAy7RI",
        "colab": {
          "base_uri": "https://localhost:8080/"
        },
        "outputId": "54814626-595c-4069-c2d2-b5f0659e0f74"
      },
      "source": [
        "list_b[1]"
      ],
      "execution_count": null,
      "outputs": [
        {
          "output_type": "execute_result",
          "data": {
            "text/plain": [
              "5"
            ]
          },
          "metadata": {
            "tags": []
          },
          "execution_count": 21
        }
      ]
    },
    {
      "cell_type": "markdown",
      "metadata": {
        "id": "xbpoIcqizH_a"
      },
      "source": [
        "#แบบที่2"
      ]
    },
    {
      "cell_type": "code",
      "metadata": {
        "id": "BvMXAisVzJoD",
        "colab": {
          "base_uri": "https://localhost:8080/"
        },
        "outputId": "8f7b5691-56f6-4b35-e619-4dc5ce26d6b4"
      },
      "source": [
        "list_c = list()\r\n",
        "print(list_c)"
      ],
      "execution_count": null,
      "outputs": [
        {
          "output_type": "stream",
          "text": [
            "[]\n"
          ],
          "name": "stdout"
        }
      ]
    },
    {
      "cell_type": "markdown",
      "metadata": {
        "id": "JOMI4LV2zWjN"
      },
      "source": [
        "###append() เพิ่มสมาชิกใน list"
      ]
    },
    {
      "cell_type": "code",
      "metadata": {
        "id": "u3AbL2cEzJt0",
        "colab": {
          "base_uri": "https://localhost:8080/"
        },
        "outputId": "b99c6a7b-b792-4e5d-d8a7-576ebcd9670b"
      },
      "source": [
        "list_b.append('u')\r\n",
        "print(list_b)"
      ],
      "execution_count": null,
      "outputs": [
        {
          "output_type": "stream",
          "text": [
            "[1, 5, 'v', 'u']\n"
          ],
          "name": "stdout"
        }
      ]
    },
    {
      "cell_type": "code",
      "metadata": {
        "id": "DKq38lCMzg9j",
        "colab": {
          "base_uri": "https://localhost:8080/",
          "height": 34
        },
        "outputId": "a323b6f8-78a3-4c97-c4a4-c80119050406"
      },
      "source": [
        "list_b.pop() # คำสั่ง .pop ดึงสมาชิกสุดท้ายออกจาก list"
      ],
      "execution_count": null,
      "outputs": [
        {
          "output_type": "execute_result",
          "data": {
            "application/vnd.google.colaboratory.intrinsic+json": {
              "type": "string"
            },
            "text/plain": [
              "'u'"
            ]
          },
          "metadata": {
            "tags": []
          },
          "execution_count": 25
        }
      ]
    },
    {
      "cell_type": "code",
      "metadata": {
        "id": "Qdp6JNf0zhMh",
        "colab": {
          "base_uri": "https://localhost:8080/"
        },
        "outputId": "4cdd05cf-f122-48ed-cfbd-7db1b78b558e"
      },
      "source": [
        "list_b"
      ],
      "execution_count": null,
      "outputs": [
        {
          "output_type": "execute_result",
          "data": {
            "text/plain": [
              "[1, 5, 'v']"
            ]
          },
          "metadata": {
            "tags": []
          },
          "execution_count": 26
        }
      ]
    },
    {
      "cell_type": "code",
      "metadata": {
        "id": "ipyOFW2kz4TY",
        "colab": {
          "base_uri": "https://localhost:8080/"
        },
        "outputId": "cfe4b048-1ebb-42cc-86a2-ef7201423975"
      },
      "source": [
        "list_b.append(list_a)\r\n",
        "print(list_b)"
      ],
      "execution_count": null,
      "outputs": [
        {
          "output_type": "stream",
          "text": [
            "[1, 5, 'v', []]\n"
          ],
          "name": "stdout"
        }
      ]
    },
    {
      "cell_type": "markdown",
      "metadata": {
        "id": "WsttDz1y0Dmw"
      },
      "source": [
        "##String > list of characters"
      ]
    },
    {
      "cell_type": "code",
      "metadata": {
        "id": "1XKM1_jg0AHd",
        "colab": {
          "base_uri": "https://localhost:8080/"
        },
        "outputId": "6ad52577-5b10-425f-d494-bf6d98c6f8dc"
      },
      "source": [
        "len(list_b) # len คือคำสั่งตรวจสอบความยาวของ list (จำนวนสมาชิก)"
      ],
      "execution_count": null,
      "outputs": [
        {
          "output_type": "execute_result",
          "data": {
            "text/plain": [
              "4"
            ]
          },
          "metadata": {
            "tags": []
          },
          "execution_count": 28
        }
      ]
    },
    {
      "cell_type": "code",
      "metadata": {
        "id": "zUHqQL5_0J4J",
        "colab": {
          "base_uri": "https://localhost:8080/",
          "height": 34
        },
        "outputId": "ed14d70b-8ccc-4e25-c984-00f19f142ba5"
      },
      "source": [
        "t = 'python is easy'\r\n",
        "t"
      ],
      "execution_count": null,
      "outputs": [
        {
          "output_type": "execute_result",
          "data": {
            "application/vnd.google.colaboratory.intrinsic+json": {
              "type": "string"
            },
            "text/plain": [
              "'python is easy'"
            ]
          },
          "metadata": {
            "tags": []
          },
          "execution_count": 29
        }
      ]
    },
    {
      "cell_type": "code",
      "metadata": {
        "id": "OMgySQW30KEv",
        "colab": {
          "base_uri": "https://localhost:8080/"
        },
        "outputId": "7306e4b0-b2f3-4a8b-c8da-7523cf7b16d2"
      },
      "source": [
        "len(t)"
      ],
      "execution_count": null,
      "outputs": [
        {
          "output_type": "execute_result",
          "data": {
            "text/plain": [
              "14"
            ]
          },
          "metadata": {
            "tags": []
          },
          "execution_count": 30
        }
      ]
    },
    {
      "cell_type": "markdown",
      "metadata": {
        "id": "r6UFjcLL0hkZ"
      },
      "source": [
        "##access a member of a list (list&string) โดยเริ่มนับจาก0 \r\n",
        "\r\n",
        "0คือสามชิกตัวแรก,   -1 คือสมาชิกตัวสุดท้าย"
      ]
    },
    {
      "cell_type": "code",
      "metadata": {
        "id": "nMmLHH0w0jHq",
        "colab": {
          "base_uri": "https://localhost:8080/",
          "height": 34
        },
        "outputId": "733a892d-a6ff-498e-bbfa-9d60dd6c72a1"
      },
      "source": [
        "t[-3]"
      ],
      "execution_count": null,
      "outputs": [
        {
          "output_type": "execute_result",
          "data": {
            "application/vnd.google.colaboratory.intrinsic+json": {
              "type": "string"
            },
            "text/plain": [
              "'a'"
            ]
          },
          "metadata": {
            "tags": []
          },
          "execution_count": 31
        }
      ]
    },
    {
      "cell_type": "markdown",
      "metadata": {
        "id": "D9yg6sK401gb"
      },
      "source": [
        "##ตัวที่อยู่ข้างใน [ ] เราเรียกว่า index(ตัวชี้)\r\n",
        "\r\n",
        "List slicing\r\n",
        "\r\n",
        "[a:b] -> [a,b)"
      ]
    },
    {
      "cell_type": "code",
      "metadata": {
        "id": "klBDIOw21AO2",
        "colab": {
          "base_uri": "https://localhost:8080/"
        },
        "outputId": "7d5d34bc-4b44-408c-a760-1ce44d70aa78"
      },
      "source": [
        "print(t)\r\n",
        "print(t[7:9])"
      ],
      "execution_count": null,
      "outputs": [
        {
          "output_type": "stream",
          "text": [
            "python is easy\n",
            "is\n"
          ],
          "name": "stdout"
        }
      ]
    },
    {
      "cell_type": "markdown",
      "metadata": {
        "id": "N7yFFBLZ1lVB"
      },
      "source": [
        "##ถ้าเว้นว่างหน้า : หมายความว่า เริ่มตั้งแต่ตัวแรก ถ้าเว้นว่างหลัง : หมายความว่า ไปจนถึงตัวสุดท้าย"
      ]
    },
    {
      "cell_type": "code",
      "metadata": {
        "id": "swK7xvuB1AX_",
        "colab": {
          "base_uri": "https://localhost:8080/"
        },
        "outputId": "82e50b24-0ef8-4b91-9ecb-c27071843281"
      },
      "source": [
        "print(t)\r\n",
        "print(t[:6])\r\n",
        "print(t[10:])\r\n",
        "print(t[-4:])\r\n",
        "print(t[:])"
      ],
      "execution_count": null,
      "outputs": [
        {
          "output_type": "stream",
          "text": [
            "python is easy\n",
            "python\n",
            "easy\n",
            "easy\n",
            "python is easy\n"
          ],
          "name": "stdout"
        }
      ]
    },
    {
      "cell_type": "markdown",
      "metadata": {
        "id": "lMZfT1Ut0_fQ"
      },
      "source": [
        "##เราสามารถเอา list มาต่อกันได้ด้วย +"
      ]
    },
    {
      "cell_type": "code",
      "metadata": {
        "id": "rigQDdao2Mc0",
        "colab": {
          "base_uri": "https://localhost:8080/",
          "height": 34
        },
        "outputId": "baaca1a8-f6ad-487d-88b4-e11d5725ef1e"
      },
      "source": [
        "t + '??'"
      ],
      "execution_count": null,
      "outputs": [
        {
          "output_type": "execute_result",
          "data": {
            "application/vnd.google.colaboratory.intrinsic+json": {
              "type": "string"
            },
            "text/plain": [
              "'python is easy??'"
            ]
          },
          "metadata": {
            "tags": []
          },
          "execution_count": 34
        }
      ]
    },
    {
      "cell_type": "code",
      "metadata": {
        "id": "URRVdbdV2PNw",
        "colab": {
          "base_uri": "https://localhost:8080/",
          "height": 162
        },
        "outputId": "ea3c2c9a-7c65-47fd-b6d6-7c119f495e99"
      },
      "source": [
        "t + list_b #ไม่สามารถเอาlistมาต่อกับ string ได้"
      ],
      "execution_count": null,
      "outputs": [
        {
          "output_type": "error",
          "ename": "TypeError",
          "evalue": "ignored",
          "traceback": [
            "\u001b[0;31m---------------------------------------------------------------------------\u001b[0m",
            "\u001b[0;31mTypeError\u001b[0m                                 Traceback (most recent call last)",
            "\u001b[0;32m<ipython-input-35-4df489e6ddf4>\u001b[0m in \u001b[0;36m<module>\u001b[0;34m()\u001b[0m\n\u001b[0;32m----> 1\u001b[0;31m \u001b[0mt\u001b[0m \u001b[0;34m+\u001b[0m \u001b[0mlist_b\u001b[0m \u001b[0;31m#ไม่สามารถเอาlistมาต่อกับ string ได้\u001b[0m\u001b[0;34m\u001b[0m\u001b[0;34m\u001b[0m\u001b[0m\n\u001b[0m",
            "\u001b[0;31mTypeError\u001b[0m: must be str, not list"
          ]
        }
      ]
    },
    {
      "cell_type": "code",
      "metadata": {
        "id": "KffMa2u-2PYx",
        "colab": {
          "base_uri": "https://localhost:8080/"
        },
        "outputId": "0a52eac2-83b5-4594-b850-4b9f59741d97"
      },
      "source": [
        "list_b + list_b"
      ],
      "execution_count": null,
      "outputs": [
        {
          "output_type": "execute_result",
          "data": {
            "text/plain": [
              "[1, 5, 'v', [], 1, 5, 'v', []]"
            ]
          },
          "metadata": {
            "tags": []
          },
          "execution_count": 36
        }
      ]
    },
    {
      "cell_type": "markdown",
      "metadata": {
        "id": "WG3SvHwd2e8C"
      },
      "source": [
        "##การแบ่ง string ตามสัญลักษณ์ที่กำหนด ->split string"
      ]
    },
    {
      "cell_type": "code",
      "metadata": {
        "id": "7BhhSGss2j9c",
        "colab": {
          "base_uri": "https://localhost:8080/"
        },
        "outputId": "e6897a96-51db-47db-d9d4-8532d7f7d5cc"
      },
      "source": [
        "t.split(' ')"
      ],
      "execution_count": null,
      "outputs": [
        {
          "output_type": "execute_result",
          "data": {
            "text/plain": [
              "['python', 'is', 'easy']"
            ]
          },
          "metadata": {
            "tags": []
          },
          "execution_count": 37
        }
      ]
    },
    {
      "cell_type": "code",
      "metadata": {
        "id": "ZoGNu-2C2kG7",
        "colab": {
          "base_uri": "https://localhost:8080/"
        },
        "outputId": "db4c52cf-8acc-4c9e-8a1a-a2e5d3dc9e4a"
      },
      "source": [
        "t_sp = t.split(' ')\r\n",
        "print(t_sp)\r\n",
        "#วิธีรวมกลับ\r\n",
        "print(':'.join(t_sp))"
      ],
      "execution_count": null,
      "outputs": [
        {
          "output_type": "stream",
          "text": [
            "['python', 'is', 'easy']\n",
            "python:is:easy\n"
          ],
          "name": "stdout"
        }
      ]
    },
    {
      "cell_type": "code",
      "metadata": {
        "id": "EsQra6nN241w"
      },
      "source": [
        "time = '12:30:15'"
      ],
      "execution_count": null,
      "outputs": []
    },
    {
      "cell_type": "code",
      "metadata": {
        "id": "QYFtiC2024_Z",
        "colab": {
          "base_uri": "https://localhost:8080/"
        },
        "outputId": "56d95583-dca1-4001-beba-953684b64be2"
      },
      "source": [
        "time.split(':')"
      ],
      "execution_count": null,
      "outputs": [
        {
          "output_type": "execute_result",
          "data": {
            "text/plain": [
              "['12', '30', '15']"
            ]
          },
          "metadata": {
            "tags": []
          },
          "execution_count": 40
        }
      ]
    },
    {
      "cell_type": "markdown",
      "metadata": {
        "id": "O5mBr-j9klHZ"
      },
      "source": [
        "##HWคำนวณเวลาเป็นวินาทีของเวลาต่อไปนี้โดยใช้คำสั่ง split ช่วย(print ออกมาให้สวยงาม)\r\n",
        "12:30:15\r\n",
        "\r\n",
        "13:41:07\r\n",
        "\r\n",
        "12:53:15\r\n",
        "\r\n",
        "00:59:25\r\n",
        "\r\n",
        "11:11:11\r\n",
        "\r\n",
        "16:06:09"
      ]
    },
    {
      "cell_type": "code",
      "metadata": {
        "id": "yjLJUtqb3RLC",
        "colab": {
          "base_uri": "https://localhost:8080/"
        },
        "outputId": "83c8cbcf-267e-45cd-8c94-479e123f9e73"
      },
      "source": [
        "#12:30:15\r\n",
        "t1 = '12:30:15' \r\n",
        "list1 = t1.split(':') \r\n",
        "h1=list1[0]\r\n",
        "H1=int(h1)*3600\r\n",
        "m1=list1[1]\r\n",
        "M1=int(m1)*60\r\n",
        "s1=list1[2]\r\n",
        "S1=int(s1)\r\n",
        "print(f'12:30:15 สามารถคำนวณเวลาให้เป็นวินาทีได้เท่ากับ {H1+M1+S1} วินาที')"
      ],
      "execution_count": null,
      "outputs": [
        {
          "output_type": "stream",
          "text": [
            "12:30:15 สามารถคำนวณเวลาให้เป็นวินาทีได้เท่ากับ 45015 วินาที\n"
          ],
          "name": "stdout"
        }
      ]
    },
    {
      "cell_type": "code",
      "metadata": {
        "id": "D1NbqgWx3RYK",
        "colab": {
          "base_uri": "https://localhost:8080/"
        },
        "outputId": "2381d7ed-e808-49fd-a765-27849dd45f8f"
      },
      "source": [
        "#13:41:07\r\n",
        "t1 = '13:41:07' \r\n",
        "list1 = t1.split(':') \r\n",
        "h1=list1[0]\r\n",
        "H1=int(h1)*3600\r\n",
        "m1=list1[1]\r\n",
        "M1=int(m1)*60\r\n",
        "s1=list1[2]\r\n",
        "S1=int(s1)\r\n",
        "print(f'13:41:07 สามารถคำนวณเวลาให้เป็นวินาทีได้เท่ากับ {H1+M1+S1} วินาที')"
      ],
      "execution_count": null,
      "outputs": [
        {
          "output_type": "stream",
          "text": [
            "13:41:07 สามารถคำนวณเวลาให้เป็นวินาทีได้เท่ากับ 49267 วินาที\n"
          ],
          "name": "stdout"
        }
      ]
    },
    {
      "cell_type": "code",
      "metadata": {
        "id": "ngIbsKiy3RoB",
        "colab": {
          "base_uri": "https://localhost:8080/"
        },
        "outputId": "c9f7d755-d9b5-4707-a16f-1983dce76d1d"
      },
      "source": [
        "#12:53:15\r\n",
        "t1 = '12:53:15' \r\n",
        "list1 = t1.split(':') \r\n",
        "h1=list1[0]\r\n",
        "H1=int(h1)*3600\r\n",
        "m1=list1[1]\r\n",
        "M1=int(m1)*60\r\n",
        "s1=list1[2]\r\n",
        "S1=int(s1)\r\n",
        "print(f'12:53:15 สามารถคำนวณเวลาให้เป็นวินาทีได้เท่ากับ {H1+M1+S1} วินาที')"
      ],
      "execution_count": null,
      "outputs": [
        {
          "output_type": "stream",
          "text": [
            "12:53:15 สามารถคำนวณเวลาให้เป็นวินาทีได้เท่ากับ 46395 วินาที\n"
          ],
          "name": "stdout"
        }
      ]
    },
    {
      "cell_type": "code",
      "metadata": {
        "id": "kM4xeiFG3Ryb",
        "colab": {
          "base_uri": "https://localhost:8080/"
        },
        "outputId": "fabf4a82-069a-4714-d430-95b007c8d38f"
      },
      "source": [
        "#00:59:25\r\n",
        "t1 = '00:59:25' \r\n",
        "list1 = t1.split(':') \r\n",
        "h1=list1[0]\r\n",
        "H1=int(h1)*3600\r\n",
        "m1=list1[1]\r\n",
        "M1=int(m1)*60\r\n",
        "s1=list1[2]\r\n",
        "S1=int(s1)\r\n",
        "print(f'00:59:25 สามารถคำนวณเวลาให้เป็นวินาทีได้เท่ากับ {H1+M1+S1} วินาที')"
      ],
      "execution_count": null,
      "outputs": [
        {
          "output_type": "stream",
          "text": [
            "00:59:25 สามารถคำนวณเวลาให้เป็นวินาทีได้เท่ากับ 3565 วินาที\n"
          ],
          "name": "stdout"
        }
      ]
    },
    {
      "cell_type": "code",
      "metadata": {
        "id": "65RAFJxj7NSE",
        "colab": {
          "base_uri": "https://localhost:8080/"
        },
        "outputId": "24828224-6cb1-477f-d527-ddccea3ea32c"
      },
      "source": [
        "#11:11:11\r\n",
        "t1 = '11:11:11' \r\n",
        "list1 = t1.split(':') \r\n",
        "h1=list1[0]\r\n",
        "H1=int(h1)*3600\r\n",
        "m1=list1[1]\r\n",
        "M1=int(m1)*60\r\n",
        "s1=list1[2]\r\n",
        "S1=int(s1)\r\n",
        "print(f'11:11:11 สามารถคำนวณเวลาให้เป็นวินาทีได้เท่ากับ {H1+M1+S1} วินาที')"
      ],
      "execution_count": null,
      "outputs": [
        {
          "output_type": "stream",
          "text": [
            "11:11:11 สามารถคำนวณเวลาให้เป็นวินาทีได้เท่ากับ 40271 วินาที\n"
          ],
          "name": "stdout"
        }
      ]
    },
    {
      "cell_type": "code",
      "metadata": {
        "id": "g8rTuR2v7NcE",
        "colab": {
          "base_uri": "https://localhost:8080/"
        },
        "outputId": "7e1037be-5ccf-41e0-e62c-61c16dca800b"
      },
      "source": [
        "#16:06:09\r\n",
        "t1 = '16:06:09' \r\n",
        "list1 = t1.split(':') \r\n",
        "h1=list1[0]\r\n",
        "H1=int(h1)*3600\r\n",
        "m1=list1[1]\r\n",
        "M1=int(m1)*60\r\n",
        "s1=list1[2]\r\n",
        "S1=int(s1)\r\n",
        "print(f'16:06:09 สามารถคำนวณเวลาให้เป็นวินาทีได้เท่ากับ {H1+M1+S1} วินาที')"
      ],
      "execution_count": null,
      "outputs": [
        {
          "output_type": "stream",
          "text": [
            "16:06:09 สามารถคำนวณเวลาให้เป็นวินาทีได้เท่ากับ 57969 วินาที\n"
          ],
          "name": "stdout"
        }
      ]
    },
    {
      "cell_type": "code",
      "metadata": {
        "id": "xGCOrz_R7vN1",
        "colab": {
          "base_uri": "https://localhost:8080/"
        },
        "outputId": "94b922db-735b-4b99-bc85-667e26c786df"
      },
      "source": [
        "#24:00:00\r\n",
        "t1 = '24:00:00' \r\n",
        "list1 = t1.split(':') \r\n",
        "h1=list1[0]\r\n",
        "H1=int(h1)*3600\r\n",
        "m1=list1[1]\r\n",
        "M1=int(m1)*60\r\n",
        "s1=list1[2]\r\n",
        "S1=int(s1)\r\n",
        "print(f'24:00:00 สามารถคำนวณเวลาให้เป็นวินาทีได้เท่ากับ {H1+M1+S1} วินาที')\r\n"
      ],
      "execution_count": null,
      "outputs": [
        {
          "output_type": "stream",
          "text": [
            "24:00:00 สามารถคำนวณเวลาให้เป็นวินาทีได้เท่ากับ 86400 วินาที\n"
          ],
          "name": "stdout"
        }
      ]
    },
    {
      "cell_type": "markdown",
      "metadata": {
        "id": "dZ58_OUYmgS9"
      },
      "source": [
        "#Fuction\r\n",
        "\r\n",
        "##ทำหน้าที่รับ inpu มาประมวณผลออกมาเป็น output"
      ]
    },
    {
      "cell_type": "markdown",
      "metadata": {
        "id": "bp5MFF1Imghp"
      },
      "source": [
        "#def คือการกำหนดฟังก์ชั่น"
      ]
    },
    {
      "cell_type": "markdown",
      "metadata": {
        "id": "nKTl4tIkm2PS"
      },
      "source": [
        "fuction  มีส่วนสำคํญ  4 ส่วน\r\n",
        "\r\n",
        "1. บอก pythoon "
      ]
    },
    {
      "cell_type": "code",
      "metadata": {
        "id": "20X67s37mctw"
      },
      "source": [
        "python\r\n",
        "   def fuction_name(_Input_) :\r\n",
        "    do_something wit _Input_ to get _Output_ #ว่าจะประมวลผลอะไร\r\n",
        "    return _Output_"
      ],
      "execution_count": null,
      "outputs": []
    },
    {
      "cell_type": "markdown",
      "metadata": {
        "id": "nZPa2lALpWWg"
      },
      "source": [
        "เราใช้ เว้นวรรค (indent) เพื่อบอกขอบเขตโปรแกรม"
      ]
    },
    {
      "cell_type": "markdown",
      "metadata": {
        "id": "KZ2TI1omq8GW"
      },
      "source": [
        "fuction ไม่จำเป็นต้องมี output"
      ]
    },
    {
      "cell_type": "code",
      "metadata": {
        "id": "J6dgDiFzoNv7"
      },
      "source": [
        "def print_name2(name,surname,ID) :\r\n",
        "      st = f'"
      ],
      "execution_count": null,
      "outputs": []
    },
    {
      "cell_type": "markdown",
      "metadata": {
        "id": "0KR_QQB6rF9Y"
      },
      "source": [
        "fuction ไม่จำเป็นต้องมี intput"
      ]
    },
    {
      "cell_type": "code",
      "metadata": {
        "id": "Wi4wx2YlrXpu"
      },
      "source": [
        "def Pi() :\r\n",
        "      "
      ],
      "execution_count": null,
      "outputs": []
    },
    {
      "cell_type": "code",
      "metadata": {
        "id": "K3Fs2t-lrnsh"
      },
      "source": [
        ""
      ],
      "execution_count": null,
      "outputs": []
    },
    {
      "cell_type": "markdown",
      "metadata": {
        "id": "xZ74r0Herop9"
      },
      "source": [
        "##เราสามารถำหนดค่า default ให้กับฟังก์ชั่นได้\r\n",
        "\r\n",
        "###default คือ ค่าที่ไม่ต้องพิมพ์ เช่น ไม่ได้ระบุ grade ค่าก็จะออกมาตาม input ที่ตั้งไว้"
      ]
    },
    {
      "cell_type": "markdown",
      "metadata": {
        "id": "Y8GsZHrdta4L"
      },
      "source": [
        "#ให้สร้าง fuction  คำนวณเวลาเป็นวินาทีของเวลาใดๆ ที่จะ input เข้ามา และ print ให้สวยงาม"
      ]
    },
    {
      "cell_type": "code",
      "metadata": {
        "id": "GmdBsdkOt3Pj"
      },
      "source": [
        "def print_t(t) :\r\n",
        "      list = t.split(':') \r\n",
        "      h1=(int(list[0])*36000)\r\n",
        "      m1=(int(list[1])*60)\r\n",
        "      s1=(int(list[2]))\r\n",
        "      print_t=f'{t} สามารถคำนวณเวลาให้เป็นวินาทีได้เท่ากับ {h1+m1+s1} วินาที'\r\n",
        "      print(print_t)\r\n",
        "\r\n",
        "     "
      ],
      "execution_count": 20,
      "outputs": []
    },
    {
      "cell_type": "code",
      "metadata": {
        "colab": {
          "base_uri": "https://localhost:8080/"
        },
        "id": "ZFfjn3T10tOV",
        "outputId": "16166648-f2d9-4030-bc64-955d3dd2c97c"
      },
      "source": [
        "print_t('12:30:15')"
      ],
      "execution_count": 21,
      "outputs": [
        {
          "output_type": "stream",
          "text": [
            "12:30:15 สามารถคำนวณเวลาให้เป็นวินาทีได้เท่ากับ 433815 วินาที\n"
          ],
          "name": "stdout"
        }
      ]
    },
    {
      "cell_type": "code",
      "metadata": {
        "colab": {
          "base_uri": "https://localhost:8080/"
        },
        "id": "ppQFFRt-zfw6",
        "outputId": "8b5f6ae8-a74b-40d4-a543-5b6786cc43d5"
      },
      "source": [
        "print_t('12:30:15')\r\n",
        "\r\n",
        "print_t('13:41:07')\r\n",
        "\r\n",
        "print_t('12:53:15')\r\n",
        "\r\n",
        "print_t('10:59:25')\r\n",
        "\r\n",
        "print_t('11:11:11')\r\n",
        "\r\n",
        "print_t('16:06:09')\r\n"
      ],
      "execution_count": 22,
      "outputs": [
        {
          "output_type": "stream",
          "text": [
            "12:30:15 สามารถคำนวณเวลาให้เป็นวินาทีได้เท่ากับ 433815 วินาที\n",
            "13:41:07 สามารถคำนวณเวลาให้เป็นวินาทีได้เท่ากับ 470467 วินาที\n",
            "12:53:15 สามารถคำนวณเวลาให้เป็นวินาทีได้เท่ากับ 435195 วินาที\n",
            "10:59:25 สามารถคำนวณเวลาให้เป็นวินาทีได้เท่ากับ 363565 วินาที\n",
            "11:11:11 สามารถคำนวณเวลาให้เป็นวินาทีได้เท่ากับ 396671 วินาที\n",
            "16:06:09 สามารถคำนวณเวลาให้เป็นวินาทีได้เท่ากับ 576369 วินาที\n"
          ],
          "name": "stdout"
        }
      ]
    },
    {
      "cell_type": "markdown",
      "metadata": {
        "id": "LRJVPsTN2zjG"
      },
      "source": [
        "## HW ให้สร้าง list ของเวลา [12:30:15, 13:41:07, 12:53:15....] แล้ววนลูปฟังก์ชั่นคำนวณเป็น วินาที\r\n",
        "\r\n",
        " 'commit ว่า HW3'"
      ]
    }
  ]
}