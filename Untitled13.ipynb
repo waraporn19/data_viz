{
  "nbformat": 4,
  "nbformat_minor": 0,
  "metadata": {
    "colab": {
      "name": "Untitled13.ipynb",
      "provenance": [],
      "authorship_tag": "ABX9TyMjxw6Lp6DzNgLrZIqOOZ2V",
      "include_colab_link": true
    },
    "kernelspec": {
      "name": "python3",
      "display_name": "Python 3"
    }
  },
  "cells": [
    {
      "cell_type": "markdown",
      "metadata": {
        "id": "view-in-github",
        "colab_type": "text"
      },
      "source": [
        "<a href=\"https://colab.research.google.com/github/waraporn19/data_viz/blob/main/Untitled13.ipynb\" target=\"_parent\"><img src=\"https://colab.research.google.com/assets/colab-badge.svg\" alt=\"Open In Colab\"/></a>"
      ]
    },
    {
      "cell_type": "code",
      "metadata": {
        "id": "0Aj3jXiBYtR2"
      },
      "source": [
        "\r\n",
        "import pandas as pd\r\n",
        "import os\r\n",
        "from scipy import stats"
      ],
      "execution_count": null,
      "outputs": []
    },
    {
      "cell_type": "code",
      "metadata": {
        "id": "PwxigHQ2Y0mU"
      },
      "source": [
        "from google.colab import drive\r\n",
        "drive.mount('/content/drive')"
      ],
      "execution_count": null,
      "outputs": []
    },
    {
      "cell_type": "code",
      "metadata": {
        "id": "T47UcXlUY0wd"
      },
      "source": [
        "path = '/content/drive/My Drive/data_viz'\r\n",
        "example = os.path.join(path,'Example.csv')"
      ],
      "execution_count": null,
      "outputs": []
    },
    {
      "cell_type": "code",
      "metadata": {
        "id": "0-ZILyfRY0xt"
      },
      "source": [
        "grading = pd.read_csv(example) \r\n",
        "grading.head()"
      ],
      "execution_count": null,
      "outputs": []
    },
    {
      "cell_type": "code",
      "metadata": {
        "id": "oVjBzegOY9Yl"
      },
      "source": [
        "total_sc = grading[['ชื่อ','คะแนนรวม']]\r\n",
        "total_sc.head()"
      ],
      "execution_count": null,
      "outputs": []
    },
    {
      "cell_type": "code",
      "metadata": {
        "id": "2eqiy18rY00p"
      },
      "source": [
        "score = list(total_sc['คะแนนรวม'])"
      ],
      "execution_count": null,
      "outputs": []
    },
    {
      "cell_type": "code",
      "metadata": {
        "id": "O1RelgZjY04F"
      },
      "source": [
        "\r\n",
        "def GPA(score) : #วนลูปตัดเกรด\r\n",
        "    if score > 100 :\r\n",
        "       print(f'Error')\r\n",
        "    elif 80 <= score < 101 :\r\n",
        "       print('A')\r\n",
        "       return 'A'\r\n",
        "    elif 75 <= score < 80  :\r\n",
        "       print('B+')\r\n",
        "       return 'B+'\r\n",
        "    elif 70 <= score < 75  :\r\n",
        "       print('B')\r\n",
        "       return 'B'\r\n",
        "    elif 65 <= score < 70 :\r\n",
        "       print('C+')\r\n",
        "       return 'C+'\r\n",
        "    elif 60 <= score < 65 :\r\n",
        "       print('C')\r\n",
        "       return 'C'\r\n",
        "    elif 55 <= score < 60 :\r\n",
        "       print('D+')\r\n",
        "       return 'D+'\r\n",
        "    elif 50 <= score < 55 :\r\n",
        "       print('D')\r\n",
        "       return 'D'\r\n",
        "    elif 0 <= score < 50 :\r\n",
        "       print('F')\r\n",
        "       return 'F'\r\n",
        "    elif score < 0 :\r\n",
        "       print(f'Error')"
      ],
      "execution_count": null,
      "outputs": []
    },
    {
      "cell_type": "code",
      "metadata": {
        "id": "ndcNpKMfZJnv"
      },
      "source": [
        "listA = []#ปริ้น เกรดที่ได้\r\n",
        "for i in score:\r\n",
        "    aaa = GPA(i)\r\n",
        "    listA.append(aaa)\r\n",
        "print(listA)"
      ],
      "execution_count": null,
      "outputs": []
    },
    {
      "cell_type": "code",
      "metadata": {
        "id": "6P7g55X4ZMlg"
      },
      "source": [
        "grading['Grade'] = pd.DataFrame(listA) #ตาารางใหม่  เพิ่ม colum GPA\r\n",
        "grading"
      ],
      "execution_count": null,
      "outputs": []
    },
    {
      "cell_type": "code",
      "metadata": {
        "id": "zcvI9LASypb-"
      },
      "source": [
        ""
      ],
      "execution_count": null,
      "outputs": []
    },
    {
      "cell_type": "code",
      "metadata": {
        "id": "8DtjoL_hZQZK"
      },
      "source": [
        "z_sc = stats.zscore(score)"
      ],
      "execution_count": null,
      "outputs": []
    },
    {
      "cell_type": "code",
      "metadata": {
        "id": "2EUj8CpHZZW7"
      },
      "source": [
        "grading['Z_score'] = pd.DataFrame(z_sc) #เฉลี่ยคะแนน\r\n",
        "grading"
      ],
      "execution_count": null,
      "outputs": []
    }
  ]
}