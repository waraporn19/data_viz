{
  "nbformat": 4,
  "nbformat_minor": 0,
  "metadata": {
    "colab": {
      "name": "More advanced data stucture.ipynb",
      "provenance": [],
      "authorship_tag": "ABX9TyMVyiHvRU7kgsIAIUZRRQyJ",
      "include_colab_link": true
    },
    "kernelspec": {
      "name": "python3",
      "display_name": "Python 3"
    }
  },
  "cells": [
    {
      "cell_type": "markdown",
      "metadata": {
        "id": "view-in-github",
        "colab_type": "text"
      },
      "source": [
        "<a href=\"https://colab.research.google.com/github/waraporn19/data_viz/blob/main/More_advanced_data_stucture.ipynb\" target=\"_parent\"><img src=\"https://colab.research.google.com/assets/colab-badge.svg\" alt=\"Open In Colab\"/></a>"
      ]
    },
    {
      "cell_type": "markdown",
      "metadata": {
        "id": "Y2s_cq-Vm-5x"
      },
      "source": [
        "#####list เก็บอะไรก็ได้ที่อยากจะเก็บ  เช่น  data stucture"
      ]
    },
    {
      "cell_type": "markdown",
      "metadata": {
        "id": "Veiqm6qhocCU"
      },
      "source": [
        "#Dictionary"
      ]
    },
    {
      "cell_type": "markdown",
      "metadata": {
        "id": "yN5Y0A6SoiTv"
      },
      "source": [
        "###สามารถ index ด้วยอะไรก็ได้ แต่ลำดับจะหายไป"
      ]
    },
    {
      "cell_type": "code",
      "metadata": {
        "id": "ys9GtvN0qB4y"
      },
      "source": [
        "ex_dict = {'a':10, '1':1, 'stat':5} # {} curry การสร้าง dict\r\n",
        "                                            #  หน้า : คือ index ที่ชี้"
      ],
      "execution_count": 1,
      "outputs": []
    },
    {
      "cell_type": "code",
      "metadata": {
        "colab": {
          "base_uri": "https://localhost:8080/",
          "height": 164
        },
        "id": "PP7TPcj0rXWU",
        "outputId": "8e8b2cbc-cfa4-446c-aa15-24ac2fb1ffec"
      },
      "source": [
        "ex_dict['stat']"
      ],
      "execution_count": 7,
      "outputs": [
        {
          "output_type": "error",
          "ename": "TypeError",
          "evalue": "ignored",
          "traceback": [
            "\u001b[0;31m---------------------------------------------------------------------------\u001b[0m",
            "\u001b[0;31mTypeError\u001b[0m                                 Traceback (most recent call last)",
            "\u001b[0;32m<ipython-input-7-a411789f4c58>\u001b[0m in \u001b[0;36m<module>\u001b[0;34m()\u001b[0m\n\u001b[0;32m----> 1\u001b[0;31m \u001b[0mex_dict\u001b[0m\u001b[0;34m[\u001b[0m\u001b[0;34m'stat'\u001b[0m\u001b[0;34m]\u001b[0m\u001b[0;34m\u001b[0m\u001b[0;34m\u001b[0m\u001b[0m\n\u001b[0m",
            "\u001b[0;31mTypeError\u001b[0m: list indices must be integers or slices, not str"
          ]
        }
      ]
    },
    {
      "cell_type": "markdown",
      "metadata": {
        "id": "uKm_jNu4q25b"
      },
      "source": [
        "การเพิ่ม list"
      ]
    },
    {
      "cell_type": "code",
      "metadata": {
        "id": "8lg3ulD4q1zX"
      },
      "source": [
        ""
      ],
      "execution_count": null,
      "outputs": []
    },
    {
      "cell_type": "markdown",
      "metadata": {
        "id": "egVf7Nkdq9iS"
      },
      "source": [
        "#คำสั่ง"
      ]
    },
    {
      "cell_type": "code",
      "metadata": {
        "id": "oyk32gLcrBpA"
      },
      "source": [
        "ex2_dict.keys()"
      ],
      "execution_count": null,
      "outputs": []
    },
    {
      "cell_type": "code",
      "metadata": {
        "id": "S4IciOK4rKUm"
      },
      "source": [
        "for index in ex2_dict.keys():\r\n",
        "     print(index)"
      ],
      "execution_count": null,
      "outputs": []
    },
    {
      "cell_type": "code",
      "metadata": {
        "colab": {
          "base_uri": "https://localhost:8080/",
          "height": 164
        },
        "id": "2keNu85YrusB",
        "outputId": "dc160656-4f7e-4b41-b94f-e0cfa0af0904"
      },
      "source": [
        "ex2_dict.values()"
      ],
      "execution_count": 8,
      "outputs": [
        {
          "output_type": "error",
          "ename": "NameError",
          "evalue": "ignored",
          "traceback": [
            "\u001b[0;31m---------------------------------------------------------------------------\u001b[0m",
            "\u001b[0;31mNameError\u001b[0m                                 Traceback (most recent call last)",
            "\u001b[0;32m<ipython-input-8-945d4ac23b03>\u001b[0m in \u001b[0;36m<module>\u001b[0;34m()\u001b[0m\n\u001b[0;32m----> 1\u001b[0;31m \u001b[0mex2_dict\u001b[0m\u001b[0;34m.\u001b[0m\u001b[0mvalues\u001b[0m\u001b[0;34m(\u001b[0m\u001b[0;34m)\u001b[0m\u001b[0;34m\u001b[0m\u001b[0;34m\u001b[0m\u001b[0m\n\u001b[0m",
            "\u001b[0;31mNameError\u001b[0m: name 'ex2_dict' is not defined"
          ]
        }
      ]
    },
    {
      "cell_type": "code",
      "metadata": {
        "id": "IVvDQlqvsj7s"
      },
      "source": [
        "index"
      ],
      "execution_count": null,
      "outputs": []
    },
    {
      "cell_type": "markdown",
      "metadata": {
        "id": "RPfxeDsrsmMK"
      },
      "source": [
        "#### dict เอาไปใช้ร่วมกับ Dataframe ของ pandas"
      ]
    },
    {
      "cell_type": "markdown",
      "metadata": {
        "id": "WX3L3xzptBGg"
      },
      "source": [
        "# Numpy คือ packet ที่ทำงานเกี่ยวกับ  array  ของตัวเลข (ข้อจำกัดคือ เกี่ยวกับตัวเลข)"
      ]
    },
    {
      "cell_type": "code",
      "metadata": {
        "id": "xldgHCbxs_4v"
      },
      "source": [
        "import numpy #เรียกใช้งาน"
      ],
      "execution_count": 9,
      "outputs": []
    },
    {
      "cell_type": "code",
      "metadata": {
        "id": "EmPO9CatuYuG"
      },
      "source": [
        "ex_2d = numpy.array([[5.2,3.0,4.5],[9.1,0.1,0.3]]\r\n",
        "print(ex_2d_array)"
      ],
      "execution_count": null,
      "outputs": []
    },
    {
      "cell_type": "markdown",
      "metadata": {
        "id": "bSnbKboBvOIi"
      },
      "source": [
        "#การชึ้ค่าใน numpay"
      ]
    },
    {
      "cell_type": "code",
      "metadata": {
        "id": "kDrolBbXvNWo"
      },
      "source": [
        "ex_2d_array[1,2]"
      ],
      "execution_count": null,
      "outputs": []
    },
    {
      "cell_type": "code",
      "metadata": {
        "id": "NXUhm8YAv4w_"
      },
      "source": [
        "list "
      ],
      "execution_count": null,
      "outputs": []
    },
    {
      "cell_type": "markdown",
      "metadata": {
        "id": "6IQUX2mXx3Ah"
      },
      "source": [
        "opertions"
      ]
    },
    {
      "cell_type": "code",
      "metadata": {
        "id": "no9I6CgGyIeH"
      },
      "source": [
        "ex_2d = numpy.array([[5.2,3.0,4.5],[9.1,0.1,0.3]]\r\n",
        "print(ex_2d_array)"
      ],
      "execution_count": null,
      "outputs": []
    },
    {
      "cell_type": "markdown",
      "metadata": {
        "id": "EqY2j7ERy7qv"
      },
      "source": [
        "#HW เขียน fuction คูณ matrix \r\n",
        "\r\n",
        "แล้ว test กับ  matrix ขนาด"
      ]
    }
  ]
}