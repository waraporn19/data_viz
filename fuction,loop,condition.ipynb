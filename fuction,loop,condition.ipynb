{
  "nbformat": 4,
  "nbformat_minor": 0,
  "metadata": {
    "colab": {
      "name": "fuction,loop,condition.ipynb",
      "provenance": [],
      "authorship_tag": "ABX9TyO+trzu6yM34isqrfr62e2d",
      "include_colab_link": true
    },
    "kernelspec": {
      "name": "python3",
      "display_name": "Python 3"
    }
  },
  "cells": [
    {
      "cell_type": "markdown",
      "metadata": {
        "id": "view-in-github",
        "colab_type": "text"
      },
      "source": [
        "<a href=\"https://colab.research.google.com/github/waraporn19/data_viz/blob/main/fuction%2Cloop%2Ccondition.ipynb\" target=\"_parent\"><img src=\"https://colab.research.google.com/assets/colab-badge.svg\" alt=\"Open In Colab\"/></a>"
      ]
    },
    {
      "cell_type": "markdown",
      "metadata": {
        "id": "EVdQczDqfV0-"
      },
      "source": [
        "#Function\r\n",
        "ทำหน้าที่รับ input มาประมวลผลออกมาเป็น output f(x) = y"
      ]
    },
    {
      "cell_type": "markdown",
      "metadata": {
        "id": "1IzM0o5gfgGO"
      },
      "source": [
        "##def คือการกำหนดฟังก์ชั่น\r\n",
        "backtick (`) ==> กด ~ ค้าง, alt - 9>6 (full keyboard with number)\r\n",
        "\r\n",
        "tilde (~)\r\n",
        "\r\n",
        "curly bracket ({ })\r\n",
        "\r\n",
        "square bracket ([ ])"
      ]
    },
    {
      "cell_type": "code",
      "metadata": {
        "id": "OtvU92FHfEw4"
      },
      "source": [
        "def function_name(_input_) :\r\n",
        "                  do_something with _input_ to get _output_\r\n",
        "                  return _output_"
      ],
      "execution_count": null,
      "outputs": []
    },
    {
      "cell_type": "markdown",
      "metadata": {
        "id": "ai5nYfUyftrF"
      },
      "source": [
        "###function มีส่วนสำคัญทั้งหมด 4 ส่วน\r\n",
        "\r\n",
        "บอก python ว่าเราจะเขียนฟังก์ชัน ชื่ออะไร def function_name() : (ขาดไม่ได้)\r\n",
        "กำหนดตัวแปรที่จะเป็น input _input_ (ขาดได้)\r\n",
        "ส่วนประมวลผล do_something with _input_ to get _output_"
      ]
    },
    {
      "cell_type": "code",
      "metadata": {
        "id": "hav4Bs4PfsN3"
      },
      "source": [
        "def print_name(surname, ID, Name) :\r\n",
        "  st = f' ชื่อ {Name}  นามสกุล {surname}  รหัส  {ID} '\r\n",
        "  return st"
      ],
      "execution_count": null,
      "outputs": []
    },
    {
      "cell_type": "code",
      "metadata": {
        "id": "bKKRw1lqfqoo",
        "colab": {
          "base_uri": "https://localhost:8080/",
          "height": 34
        },
        "outputId": "bd2014be-86f5-4048-fd4c-b970d406e893"
      },
      "source": [
        "print_name('สิทธิวงษ์', 'ุ613021022-0','วราภรณ์' ) #เรียงลำดับให้ตรงตาม input"
      ],
      "execution_count": null,
      "outputs": [
        {
          "output_type": "execute_result",
          "data": {
            "application/vnd.google.colaboratory.intrinsic+json": {
              "type": "string"
            },
            "text/plain": [
              "' ชื่อ วราภรณ์  นามสกุล สิทธิวงษ์  รหัส  ุ613021022-0 '"
            ]
          },
          "metadata": {
            "tags": []
          },
          "execution_count": 3
        }
      ]
    },
    {
      "cell_type": "code",
      "metadata": {
        "id": "oaYNc-CngPu6",
        "colab": {
          "base_uri": "https://localhost:8080/"
        },
        "outputId": "ca2f69c3-a774-4438-eb0b-2b1be81b2a1f"
      },
      "source": [
        "print(print_name(surname ='สิทธิวงษ์', ID = '613021022-0', Name='วราภรณ์' ) ) # ไม่จำเป็นต้องเรียง แค่ระบุชื่อของค่านั้น ๆ "
      ],
      "execution_count": null,
      "outputs": [
        {
          "output_type": "stream",
          "text": [
            " ชื่อ วราภรณ์  นามสกุล สิทธิวงษ์  รหัส  613021022-0 \n"
          ],
          "name": "stdout"
        }
      ]
    },
    {
      "cell_type": "markdown",
      "metadata": {
        "id": "-TfXpa4Pgqmz"
      },
      "source": [
        "###ฟังก์ชั่นไม่จำเป็นต้องมี output"
      ]
    },
    {
      "cell_type": "code",
      "metadata": {
        "id": "A6bMFdzRgur9"
      },
      "source": [
        "def print_name2(surname, ID, Name):\r\n",
        "  st = f' ชื่อ {Name}  นามสกุล {surname}  รหัส  {ID} '\r\n",
        "  print(st)"
      ],
      "execution_count": null,
      "outputs": []
    },
    {
      "cell_type": "code",
      "metadata": {
        "id": "YRHCSytWgzIq",
        "colab": {
          "base_uri": "https://localhost:8080/",
          "height": 34
        },
        "outputId": "a2fbbc9c-44cd-4150-c7e7-10c6fd95b903"
      },
      "source": [
        "print_name('สิทธิวงษ์', 'ุ613021022-0','วราภรณ์' ) #เรียงลำดับให้ตรงตาม input"
      ],
      "execution_count": null,
      "outputs": [
        {
          "output_type": "execute_result",
          "data": {
            "application/vnd.google.colaboratory.intrinsic+json": {
              "type": "string"
            },
            "text/plain": [
              "' ชื่อ วราภรณ์  นามสกุล สิทธิวงษ์  รหัส  ุ613021022-0 '"
            ]
          },
          "metadata": {
            "tags": []
          },
          "execution_count": 6
        }
      ]
    },
    {
      "cell_type": "markdown",
      "metadata": {
        "id": "JwZVZAuhg5-n"
      },
      "source": [
        "###ฟังก์ชั่นไม่จำเป็นต้องมี input"
      ]
    },
    {
      "cell_type": "code",
      "metadata": {
        "id": "teo6BuYgg8Vc"
      },
      "source": [
        "def pi() :  # pi เป็นชื่อฟังก์ชั่น แต่ไม่มี input โดยให้ค่า 3.14159\r\n",
        "      return 3.14159"
      ],
      "execution_count": null,
      "outputs": []
    },
    {
      "cell_type": "code",
      "metadata": {
        "id": "kGXUH7eahDAd",
        "colab": {
          "base_uri": "https://localhost:8080/"
        },
        "outputId": "4f9ee013-8c08-4cfa-9258-3b03e31285db"
      },
      "source": [
        "pi()*(2**2)  #หาพื้นที่วงกลมที่มีรัศมีเท่ากับ pi"
      ],
      "execution_count": null,
      "outputs": [
        {
          "output_type": "execute_result",
          "data": {
            "text/plain": [
              "12.56636"
            ]
          },
          "metadata": {
            "tags": []
          },
          "execution_count": 8
        }
      ]
    },
    {
      "cell_type": "markdown",
      "metadata": {
        "id": "CIPWy6IjhOjz"
      },
      "source": [
        "##เราสามารถกำหนดค่า default ให้กับฟังก์ชั่นได้\r\n",
        "\r\n",
        "input ของ function ใน python มีสองแบบ input ที่จำเป็นต้องใส่ กับ input ที่ไม่จำเป็นต้องใส่ (มีค่า default)\r\n",
        "\r\n",
        "เราต้องเรียง input ที่จำเป็นต้องใส่ขึ้นก่อน"
      ]
    },
    {
      "cell_type": "code",
      "metadata": {
        "id": "PGyYmQqlhR1_"
      },
      "source": [
        "def print_2lines_default(Name, surname, ID, grad = 'A') :\r\n",
        "      st = f'ชื่อ {Name} นามสกุล {surname} รหัส {ID} '\r\n",
        "      print(st)\r\n",
        "      st2= f'เกรดวิชา Data Viz >>> {grad}'\r\n",
        "      print(st2)"
      ],
      "execution_count": null,
      "outputs": []
    },
    {
      "cell_type": "code",
      "metadata": {
        "id": "uhWwSHQlhaRT",
        "colab": {
          "base_uri": "https://localhost:8080/"
        },
        "outputId": "c76f9030-bc40-4373-aa9b-297b4186da23"
      },
      "source": [
        "print_2lines_default('วราภรณ์', 'สิทธิวงษ์', '613021022-0' )"
      ],
      "execution_count": null,
      "outputs": [
        {
          "output_type": "stream",
          "text": [
            "ชื่อ วราภรณ์ นามสกุล สิทธิวงษ์ รหัส 613021022-0 \n",
            "เกรดวิชา Data Viz >>> A\n"
          ],
          "name": "stdout"
        }
      ]
    },
    {
      "cell_type": "markdown",
      "metadata": {
        "id": "qEtnGM_OhoQY"
      },
      "source": [
        "#Loop\r\n",
        "\r\n",
        "##for เป็นคำที่ใช้บอก python ว่าเรากำลังเขียน loop โดย for จะวนดึงสมาชิกจาก listA มาทำ process do_something"
      ]
    },
    {
      "cell_type": "code",
      "metadata": {
        "id": "ZpTaLUMShuX5"
      },
      "source": [
        "for each_member in listA :\r\n",
        "        do_something"
      ],
      "execution_count": null,
      "outputs": []
    },
    {
      "cell_type": "markdown",
      "metadata": {
        "id": "-yw2RedOh4br"
      },
      "source": [
        "####คำสั่ง for เป็นคำสั่งวนซ้ำที่ใช้ควบคุมการทำงานซ้ำๆ ในจำนวนรอบ\r\n"
      ]
    },
    {
      "cell_type": "code",
      "metadata": {
        "id": "UWoFQSs9h3w2",
        "colab": {
          "base_uri": "https://localhost:8080/"
        },
        "outputId": "bb8876ef-ae03-4c67-fa41-076f3544f2e1"
      },
      "source": [
        "for i in [1,2,3] :\r\n",
        "    o = i**2            # (**)คือ ยกกำลัง\r\n",
        "    print (f'this member = {i} after process = {o}')"
      ],
      "execution_count": null,
      "outputs": [
        {
          "output_type": "stream",
          "text": [
            "this member = 1 after process = 1\n",
            "this member = 2 after process = 4\n",
            "this member = 3 after process = 9\n"
          ],
          "name": "stdout"
        }
      ]
    },
    {
      "cell_type": "code",
      "metadata": {
        "id": "F-pVaXMQhzrW",
        "colab": {
          "base_uri": "https://localhost:8080/"
        },
        "outputId": "39af86cb-97e2-4de8-96d0-e3107950de88"
      },
      "source": [
        "for i in 'วราภรณ์' :\r\n",
        "  print (f'{i} -> / ', end = ' ') #สั่งให้ปริ้นท์ แบบไม่เว้นบรรทัด"
      ],
      "execution_count": null,
      "outputs": [
        {
          "output_type": "stream",
          "text": [
            "ว -> /  ร -> /  า -> /  ภ -> /  ร -> /  ณ -> /  ์ -> /  "
          ],
          "name": "stdout"
        }
      ]
    },
    {
      "cell_type": "markdown",
      "metadata": {
        "id": "tS9OycRsiZm-"
      },
      "source": [
        "##สร้าง list ตัวแปรเลขแบบอัตโนมัติ range()"
      ]
    },
    {
      "cell_type": "code",
      "metadata": {
        "colab": {
          "base_uri": "https://localhost:8080/"
        },
        "id": "OjJctJY5cobI",
        "outputId": "0af3ac07-ea94-489b-f5da-043ce40690bd"
      },
      "source": [
        "rangnt_5= range(5) #สร้าง range(5) ใน list\r\n",
        "print(list(range(5)))"
      ],
      "execution_count": null,
      "outputs": [
        {
          "output_type": "stream",
          "text": [
            "[0, 1, 2, 3, 4]\n"
          ],
          "name": "stdout"
        }
      ]
    },
    {
      "cell_type": "code",
      "metadata": {
        "id": "wCgq9Ed1iloU",
        "colab": {
          "base_uri": "https://localhost:8080/"
        },
        "outputId": "af4d2806-a3d6-4d9d-8e0e-96cb02f6daf0"
      },
      "source": [
        "for i in range(100) :\r\n",
        "  print(f' งง', end = '  ')"
      ],
      "execution_count": null,
      "outputs": [
        {
          "output_type": "stream",
          "text": [
            " งง   งง   งง   งง   งง   งง   งง   งง   งง   งง   งง   งง   งง   งง   งง   งง   งง   งง   งง   งง   งง   งง   งง   งง   งง   งง   งง   งง   งง   งง   งง   งง   งง   งง   งง   งง   งง   งง   งง   งง   งง   งง   งง   งง   งง   งง   งง   งง   งง   งง   งง   งง   งง   งง   งง   งง   งง   งง   งง   งง   งง   งง   งง   งง   งง   งง   งง   งง   งง   งง   งง   งง   งง   งง   งง   งง   งง   งง   งง   งง   งง   งง   งง   งง   งง   งง   งง   งง   งง   งง   งง   งง   งง   งง   งง   งง   งง   งง   งง   งง  "
          ],
          "name": "stdout"
        }
      ]
    },
    {
      "cell_type": "code",
      "metadata": {
        "id": "mkbxUJwFi-bK",
        "colab": {
          "base_uri": "https://localhost:8080/"
        },
        "outputId": "4d0b0a8b-b00e-4a2d-b690-cc33bb62897f"
      },
      "source": [
        "list(range(1,11))  # เริ่มต้นเป็นวงกลม จบเป็นวงกลมโปร่ง เริ่มจากเลข 1-10"
      ],
      "execution_count": null,
      "outputs": [
        {
          "output_type": "execute_result",
          "data": {
            "text/plain": [
              "[1, 2, 3, 4, 5, 6, 7, 8, 9, 10]"
            ]
          },
          "metadata": {
            "tags": []
          },
          "execution_count": 15
        }
      ]
    },
    {
      "cell_type": "code",
      "metadata": {
        "id": "9fvXJ8FtjCEs",
        "colab": {
          "base_uri": "https://localhost:8080/"
        },
        "outputId": "56542229-228b-4ec7-cb9e-0eb0319a0aa2"
      },
      "source": [
        "list(range(-3,20,4)) #เริ่มจาก -3 ไปจนถึงไม่เกิน 20 บวกไปทีละ 4 step"
      ],
      "execution_count": null,
      "outputs": [
        {
          "output_type": "execute_result",
          "data": {
            "text/plain": [
              "[-3, 1, 5, 9, 13, 17]"
            ]
          },
          "metadata": {
            "tags": []
          },
          "execution_count": 16
        }
      ]
    },
    {
      "cell_type": "markdown",
      "metadata": {
        "id": "BtqqgyFqc6lC"
      },
      "source": [
        "# loop in loop "
      ]
    },
    {
      "cell_type": "markdown",
      "metadata": {
        "id": "TNbr3PEtjR_S"
      },
      "source": [
        "####สามารถใช้ for loop ซ้อนกันสองรอบได้"
      ]
    },
    {
      "cell_type": "code",
      "metadata": {
        "colab": {
          "base_uri": "https://localhost:8080/"
        },
        "id": "_kZOOQRVc5Wo",
        "outputId": "00a14450-c95a-41d2-e214-0507f0be054d"
      },
      "source": [
        "for name1 in  range(2,5): #วนเริ่มจาก 2,3,4\r\n",
        "     for name2 in  range(1,13): #วนเริ่มจาก 1-12 \r\n",
        "          print(name1, ' x ',name2, ' = ',name1*name2)"
      ],
      "execution_count": null,
      "outputs": [
        {
          "output_type": "stream",
          "text": [
            "2  x  1  =  2\n",
            "2  x  2  =  4\n",
            "2  x  3  =  6\n",
            "2  x  4  =  8\n",
            "2  x  5  =  10\n",
            "2  x  6  =  12\n",
            "2  x  7  =  14\n",
            "2  x  8  =  16\n",
            "2  x  9  =  18\n",
            "2  x  10  =  20\n",
            "2  x  11  =  22\n",
            "2  x  12  =  24\n",
            "3  x  1  =  3\n",
            "3  x  2  =  6\n",
            "3  x  3  =  9\n",
            "3  x  4  =  12\n",
            "3  x  5  =  15\n",
            "3  x  6  =  18\n",
            "3  x  7  =  21\n",
            "3  x  8  =  24\n",
            "3  x  9  =  27\n",
            "3  x  10  =  30\n",
            "3  x  11  =  33\n",
            "3  x  12  =  36\n",
            "4  x  1  =  4\n",
            "4  x  2  =  8\n",
            "4  x  3  =  12\n",
            "4  x  4  =  16\n",
            "4  x  5  =  20\n",
            "4  x  6  =  24\n",
            "4  x  7  =  28\n",
            "4  x  8  =  32\n",
            "4  x  9  =  36\n",
            "4  x  10  =  40\n",
            "4  x  11  =  44\n",
            "4  x  12  =  48\n"
          ],
          "name": "stdout"
        }
      ]
    },
    {
      "cell_type": "code",
      "metadata": {
        "id": "Y07h0gj3jcsY",
        "colab": {
          "base_uri": "https://localhost:8080/"
        },
        "outputId": "f7e82d75-ea56-404d-d257-b447b8e2998c"
      },
      "source": [
        "for name1 in  range(2,5): #(2, 3, 4)\r\n",
        "    print(f'now name1 = {name1}')\r\n",
        "    for name2 in  range(1,13):\r\n",
        "        print(name1,' x ',name2,' = ',name1*name2)\r\n",
        "    print('the inner loop is end')"
      ],
      "execution_count": null,
      "outputs": [
        {
          "output_type": "stream",
          "text": [
            "now name1 = 2\n",
            "2  x  1  =  2\n",
            "2  x  2  =  4\n",
            "2  x  3  =  6\n",
            "2  x  4  =  8\n",
            "2  x  5  =  10\n",
            "2  x  6  =  12\n",
            "2  x  7  =  14\n",
            "2  x  8  =  16\n",
            "2  x  9  =  18\n",
            "2  x  10  =  20\n",
            "2  x  11  =  22\n",
            "2  x  12  =  24\n",
            "the inner loop is end\n",
            "now name1 = 3\n",
            "3  x  1  =  3\n",
            "3  x  2  =  6\n",
            "3  x  3  =  9\n",
            "3  x  4  =  12\n",
            "3  x  5  =  15\n",
            "3  x  6  =  18\n",
            "3  x  7  =  21\n",
            "3  x  8  =  24\n",
            "3  x  9  =  27\n",
            "3  x  10  =  30\n",
            "3  x  11  =  33\n",
            "3  x  12  =  36\n",
            "the inner loop is end\n",
            "now name1 = 4\n",
            "4  x  1  =  4\n",
            "4  x  2  =  8\n",
            "4  x  3  =  12\n",
            "4  x  4  =  16\n",
            "4  x  5  =  20\n",
            "4  x  6  =  24\n",
            "4  x  7  =  28\n",
            "4  x  8  =  32\n",
            "4  x  9  =  36\n",
            "4  x  10  =  40\n",
            "4  x  11  =  44\n",
            "4  x  12  =  48\n",
            "the inner loop is end\n"
          ],
          "name": "stdout"
        }
      ]
    },
    {
      "cell_type": "markdown",
      "metadata": {
        "id": "px3jo34ae61x"
      },
      "source": [
        "# loop in fuction"
      ]
    },
    {
      "cell_type": "code",
      "metadata": {
        "id": "Q0jy4kzVfC1H"
      },
      "source": [
        "list_friends = ['ปอนด์' , 'กิ๋ง' , 'ปลายฟ้า' , 'โอ๋' , 'แป้ง' ]"
      ],
      "execution_count": null,
      "outputs": []
    },
    {
      "cell_type": "code",
      "metadata": {
        "id": "OOxRqpxPjyb1"
      },
      "source": [
        "def print_feelings(I,friendS,feeling = 'คิดถึง'):\r\n",
        "    for friend in friendS:# ให้วนทุกค่าใน friendS\r\n",
        "        print(f'{I} {feeling} {friend}')"
      ],
      "execution_count": null,
      "outputs": []
    },
    {
      "cell_type": "code",
      "metadata": {
        "id": "976oP8zTj3vX",
        "colab": {
          "base_uri": "https://localhost:8080/"
        },
        "outputId": "55283912-1db6-4128-cce9-225238fccb91"
      },
      "source": [
        "print_feelings('กิ๋ง',list_friends)"
      ],
      "execution_count": null,
      "outputs": [
        {
          "output_type": "stream",
          "text": [
            "กิ๋ง คิดถึง ปอนด์\n",
            "กิ๋ง คิดถึง กิ๋ง\n",
            "กิ๋ง คิดถึง ปลายฟ้า\n",
            "กิ๋ง คิดถึง โอ๋\n",
            "กิ๋ง คิดถึง แป้ง\n"
          ],
          "name": "stdout"
        }
      ]
    },
    {
      "cell_type": "code",
      "metadata": {
        "id": "uMz-tTeIkVsE",
        "colab": {
          "base_uri": "https://localhost:8080/"
        },
        "outputId": "049b0449-d8d2-44d8-8128-94970f282153"
      },
      "source": [
        "print_feelings('กิ๋ง',list_friends,'รัก')"
      ],
      "execution_count": null,
      "outputs": [
        {
          "output_type": "stream",
          "text": [
            " กิ๋ง รัก ปอนด์ \n",
            " กิ๋ง รัก กิ๋ง \n",
            " กิ๋ง รัก ปลายฟ้า \n",
            " กิ๋ง รัก โอ๋ \n",
            " กิ๋ง รัก แป้ง \n"
          ],
          "name": "stdout"
        }
      ]
    },
    {
      "cell_type": "markdown",
      "metadata": {
        "id": "LKWhzHRrkch1"
      },
      "source": [
        "##looping in dict\r\n",
        "ทำการวนลูปในค่า dict โดยที่เรากำหนดตัว key และvalueขึ้นมา ได้ดังนี้"
      ]
    },
    {
      "cell_type": "code",
      "metadata": {
        "id": "s-pPuOeNkymp",
        "colab": {
          "base_uri": "https://localhost:8080/"
        },
        "outputId": "1c15afec-3e6a-4439-ec64-46e1cddaf80d"
      },
      "source": [
        "name_grade = {'พรพัท' : 'B','ศิตรางศ์' : 'C','ปนัด' : 'A','อิงอร' : 'F'}\r\n",
        "name_grade"
      ],
      "execution_count": null,
      "outputs": [
        {
          "output_type": "execute_result",
          "data": {
            "text/plain": [
              "{'ปนัด': 'A', 'พรพัท': 'B', 'ศิตรางศ์': 'C', 'อิงอร': 'F'}"
            ]
          },
          "metadata": {
            "tags": []
          },
          "execution_count": 25
        }
      ]
    },
    {
      "cell_type": "code",
      "metadata": {
        "id": "1RsJ1J-2lVym",
        "colab": {
          "base_uri": "https://localhost:8080/",
          "height": 34
        },
        "outputId": "9fd8fd1a-ebc1-4d11-a432-826bcab6f22f"
      },
      "source": [
        "name_grade['ปนัด']"
      ],
      "execution_count": null,
      "outputs": [
        {
          "output_type": "execute_result",
          "data": {
            "application/vnd.google.colaboratory.intrinsic+json": {
              "type": "string"
            },
            "text/plain": [
              "'A'"
            ]
          },
          "metadata": {
            "tags": []
          },
          "execution_count": 26
        }
      ]
    },
    {
      "cell_type": "code",
      "metadata": {
        "id": "xjUkthiIldNS",
        "colab": {
          "base_uri": "https://localhost:8080/"
        },
        "outputId": "4467ebd5-a521-4b4b-baac-0266f08ba652"
      },
      "source": [
        "for i in name_grade.keys():\r\n",
        "    print(i)"
      ],
      "execution_count": null,
      "outputs": [
        {
          "output_type": "stream",
          "text": [
            "พรพัท\n",
            "ศิตรางศ์\n",
            "ปนัด\n",
            "อิงอร\n"
          ],
          "name": "stdout"
        }
      ]
    },
    {
      "cell_type": "code",
      "metadata": {
        "id": "8suvGvaNlmM3",
        "colab": {
          "base_uri": "https://localhost:8080/"
        },
        "outputId": "d3aefe51-1d5e-4475-d37d-cbee5f57ddb9"
      },
      "source": [
        "name_grade.keys()"
      ],
      "execution_count": null,
      "outputs": [
        {
          "output_type": "execute_result",
          "data": {
            "text/plain": [
              "dict_keys(['พรพัท', 'ศิตรางศ์', 'ปนัด', 'อิงอร'])"
            ]
          },
          "metadata": {
            "tags": []
          },
          "execution_count": 28
        }
      ]
    },
    {
      "cell_type": "code",
      "metadata": {
        "id": "BHxMHhLDlrv7",
        "colab": {
          "base_uri": "https://localhost:8080/"
        },
        "outputId": "6b4fe885-7a1d-4016-ade5-c73cfbeb4dfe"
      },
      "source": [
        "for i in name_grade.keys():\r\n",
        "    print(f'{i} ได้เกรด {name_grade[i]}')"
      ],
      "execution_count": null,
      "outputs": [
        {
          "output_type": "stream",
          "text": [
            "พรพัท ได้เกรด B\n",
            "ศิตรางศ์ ได้เกรด C\n",
            "ปนัด ได้เกรด A\n",
            "อิงอร ได้เกรด F\n"
          ],
          "name": "stdout"
        }
      ]
    },
    {
      "cell_type": "markdown",
      "metadata": {
        "id": "8lbcHADOkclA"
      },
      "source": [
        "#conditional คือ เงื่อนไข /ประโยคเงื่อนไข"
      ]
    },
    {
      "cell_type": "markdown",
      "metadata": {
        "id": "S1bDXIkBl10x"
      },
      "source": [
        "####True / False"
      ]
    },
    {
      "cell_type": "markdown",
      "metadata": {
        "id": "SDnyAaXTl3Xd"
      },
      "source": [
        "การวนลูปโดยมีเงื่อนไขต่างๆมาเกี่ยวข้อง โดยมี pattern ดังนี้"
      ]
    },
    {
      "cell_type": "code",
      "metadata": {
        "id": "Co93Bhk1l8Gg"
      },
      "source": [
        "if condition1 :\r\n",
        "    do something\r\n",
        "elif condition2 :  #elif คือ else if\r\n",
        "    do another thing\r\n",
        "else:\r\n",
        "    do ..."
      ],
      "execution_count": null,
      "outputs": []
    },
    {
      "cell_type": "code",
      "metadata": {
        "id": "GIliOJTol-6I",
        "colab": {
          "base_uri": "https://localhost:8080/"
        },
        "outputId": "8ca17e33-2e28-4193-c2fa-1e096bbddc27"
      },
      "source": [
        "print(list_friends)"
      ],
      "execution_count": null,
      "outputs": [
        {
          "output_type": "stream",
          "text": [
            "['ปอนด์', 'กิ๋ง', 'ปลายฟ้า', 'โอ๋', 'แป้ง']\n"
          ],
          "name": "stdout"
        }
      ]
    },
    {
      "cell_type": "code",
      "metadata": {
        "id": "tUWj8KqomET2",
        "colab": {
          "base_uri": "https://localhost:8080/"
        },
        "outputId": "f955fb44-4bf8-413a-9d75-5998936ef02d"
      },
      "source": [
        "\r\n",
        "for name1 in list_friends :\r\n",
        "    for name2 in list_friends :\r\n",
        "            print(name1,'รัก',name2)\r\n"
      ],
      "execution_count": null,
      "outputs": [
        {
          "output_type": "stream",
          "text": [
            "ปอนด์ รัก ปอนด์\n",
            "ปอนด์ รัก กิ๋ง\n",
            "ปอนด์ รัก ปลายฟ้า\n",
            "ปอนด์ รัก โอ๋\n",
            "ปอนด์ รัก แป้ง\n",
            "กิ๋ง รัก ปอนด์\n",
            "กิ๋ง รัก กิ๋ง\n",
            "กิ๋ง รัก ปลายฟ้า\n",
            "กิ๋ง รัก โอ๋\n",
            "กิ๋ง รัก แป้ง\n",
            "ปลายฟ้า รัก ปอนด์\n",
            "ปลายฟ้า รัก กิ๋ง\n",
            "ปลายฟ้า รัก ปลายฟ้า\n",
            "ปลายฟ้า รัก โอ๋\n",
            "ปลายฟ้า รัก แป้ง\n",
            "โอ๋ รัก ปอนด์\n",
            "โอ๋ รัก กิ๋ง\n",
            "โอ๋ รัก ปลายฟ้า\n",
            "โอ๋ รัก โอ๋\n",
            "โอ๋ รัก แป้ง\n",
            "แป้ง รัก ปอนด์\n",
            "แป้ง รัก กิ๋ง\n",
            "แป้ง รัก ปลายฟ้า\n",
            "แป้ง รัก โอ๋\n",
            "แป้ง รัก แป้ง\n"
          ],
          "name": "stdout"
        }
      ]
    },
    {
      "cell_type": "code",
      "metadata": {
        "id": "OW1K_gUfmR5n",
        "colab": {
          "base_uri": "https://localhost:8080/"
        },
        "outputId": "dccc16bb-6921-4664-82fc-ffd6748bf2c7"
      },
      "source": [
        "for name1 in list_friends:\r\n",
        "    for name2 in list_friends:\r\n",
        "        if name1 != name2: #ไม่ปริ้นชื่อคนเดียวกันซ้ำ\r\n",
        "            print(name1,'รัก',name2)"
      ],
      "execution_count": null,
      "outputs": [
        {
          "output_type": "stream",
          "text": [
            "ปอนด์ รัก กิ๋ง\n",
            "ปอนด์ รัก ปลายฟ้า\n",
            "ปอนด์ รัก โอ๋\n",
            "ปอนด์ รัก แป้ง\n",
            "กิ๋ง รัก ปอนด์\n",
            "กิ๋ง รัก ปลายฟ้า\n",
            "กิ๋ง รัก โอ๋\n",
            "กิ๋ง รัก แป้ง\n",
            "ปลายฟ้า รัก ปอนด์\n",
            "ปลายฟ้า รัก กิ๋ง\n",
            "ปลายฟ้า รัก โอ๋\n",
            "ปลายฟ้า รัก แป้ง\n",
            "โอ๋ รัก ปอนด์\n",
            "โอ๋ รัก กิ๋ง\n",
            "โอ๋ รัก ปลายฟ้า\n",
            "โอ๋ รัก แป้ง\n",
            "แป้ง รัก ปอนด์\n",
            "แป้ง รัก กิ๋ง\n",
            "แป้ง รัก ปลายฟ้า\n",
            "แป้ง รัก โอ๋\n"
          ],
          "name": "stdout"
        }
      ]
    },
    {
      "cell_type": "code",
      "metadata": {
        "id": "D0eLq2yRmaA_",
        "colab": {
          "base_uri": "https://localhost:8080/"
        },
        "outputId": "ae22e750-00de-4b31-d7b3-d11c1f2a7ac6"
      },
      "source": [
        "for name1 in list_friends:\r\n",
        "    for name2 in list_friends:\r\n",
        "        if name1 == name2: #ปริ้นชื่อคนเดียวกันซ้ำ\r\n",
        "            print(name1,'รัก',name2)"
      ],
      "execution_count": null,
      "outputs": [
        {
          "output_type": "stream",
          "text": [
            "ปอนด์ รัก ปอนด์\n",
            "กิ๋ง รัก กิ๋ง\n",
            "ปลายฟ้า รัก ปลายฟ้า\n",
            "โอ๋ รัก โอ๋\n",
            "แป้ง รัก แป้ง\n"
          ],
          "name": "stdout"
        }
      ]
    },
    {
      "cell_type": "code",
      "metadata": {
        "id": "gOfHbAvjmhav",
        "colab": {
          "base_uri": "https://localhost:8080/"
        },
        "outputId": "d0f54630-0e25-4563-ae91-0c6601b1157d"
      },
      "source": [
        "for name1 in list_friends:\r\n",
        "    for name2 in list_friends:\r\n",
        "        if name1 == name2: \r\n",
        "            'do nothing'\r\n",
        "        else:\r\n",
        "            print(name1,'รัก',name2)"
      ],
      "execution_count": null,
      "outputs": [
        {
          "output_type": "stream",
          "text": [
            "ปอนด์ รัก กิ๋ง\n",
            "ปอนด์ รัก ปลายฟ้า\n",
            "ปอนด์ รัก โอ๋\n",
            "ปอนด์ รัก แป้ง\n",
            "กิ๋ง รัก ปอนด์\n",
            "กิ๋ง รัก ปลายฟ้า\n",
            "กิ๋ง รัก โอ๋\n",
            "กิ๋ง รัก แป้ง\n",
            "ปลายฟ้า รัก ปอนด์\n",
            "ปลายฟ้า รัก กิ๋ง\n",
            "ปลายฟ้า รัก โอ๋\n",
            "ปลายฟ้า รัก แป้ง\n",
            "โอ๋ รัก ปอนด์\n",
            "โอ๋ รัก กิ๋ง\n",
            "โอ๋ รัก ปลายฟ้า\n",
            "โอ๋ รัก แป้ง\n",
            "แป้ง รัก ปอนด์\n",
            "แป้ง รัก กิ๋ง\n",
            "แป้ง รัก ปลายฟ้า\n",
            "แป้ง รัก โอ๋\n"
          ],
          "name": "stdout"
        }
      ]
    },
    {
      "cell_type": "markdown",
      "metadata": {
        "id": "P1x8qNsummri"
      },
      "source": [
        "เครื่องหมาย ==, !=,>=,<=,<,>"
      ]
    },
    {
      "cell_type": "code",
      "metadata": {
        "id": "ZlH7CjSjmpp8",
        "colab": {
          "base_uri": "https://localhost:8080/"
        },
        "outputId": "32277afe-b51e-4e30-9e4b-1ad1e0c0e29b"
      },
      "source": [
        "'กิ๋ง' == 'กิ๋ง'"
      ],
      "execution_count": null,
      "outputs": [
        {
          "output_type": "execute_result",
          "data": {
            "text/plain": [
              "True"
            ]
          },
          "metadata": {
            "tags": []
          },
          "execution_count": 35
        }
      ]
    },
    {
      "cell_type": "code",
      "metadata": {
        "id": "lF2Gq111mtoV",
        "colab": {
          "base_uri": "https://localhost:8080/"
        },
        "outputId": "29e8f505-6642-414f-f163-0d10b8cfff48"
      },
      "source": [
        "\r\n",
        "'กิ๋ง' != 'กิ๋ง'"
      ],
      "execution_count": null,
      "outputs": [
        {
          "output_type": "execute_result",
          "data": {
            "text/plain": [
              "False"
            ]
          },
          "metadata": {
            "tags": []
          },
          "execution_count": 36
        }
      ]
    },
    {
      "cell_type": "markdown",
      "metadata": {
        "id": "P9B_d4rWm_JO"
      },
      "source": [
        "หากหลังเงื่อนไข True ถูกต้องจะทำการ print ข้อความออกมาว่า Yes"
      ]
    },
    {
      "cell_type": "code",
      "metadata": {
        "id": "9GEjnfKpm9e0",
        "colab": {
          "base_uri": "https://localhost:8080/"
        },
        "outputId": "f9bfcd63-f9a9-4e98-9f60-8ca34e9f55d6"
      },
      "source": [
        "if True:\r\n",
        "    print('Yes')"
      ],
      "execution_count": null,
      "outputs": [
        {
          "output_type": "stream",
          "text": [
            "Yes\n"
          ],
          "name": "stdout"
        }
      ]
    },
    {
      "cell_type": "code",
      "metadata": {
        "id": "YHBJCx7onFWh"
      },
      "source": [
        "if False:\r\n",
        "    print('No')"
      ],
      "execution_count": null,
      "outputs": []
    },
    {
      "cell_type": "markdown",
      "metadata": {
        "id": "E-3muukZnK8p"
      },
      "source": [
        "หากหลังเงื่อนไข False ไม่ถูกต้องจะไม่ปริ้นข้อความใดๆออกมา\r\n",
        "ซึ่งจะต้องใช้เงื่อนไขนี้ จึงจะได้ปริ้นค่าเงื่อนไขนั้นออกมา ดังนี้"
      ]
    },
    {
      "cell_type": "code",
      "metadata": {
        "id": "xZ1cHKvcnKM_",
        "colab": {
          "base_uri": "https://localhost:8080/"
        },
        "outputId": "bae02067-36b5-427f-93ab-771c106f34f7"
      },
      "source": [
        "if False:\r\n",
        "    print('Yes')\r\n",
        "else:\r\n",
        "    print('No')"
      ],
      "execution_count": null,
      "outputs": [
        {
          "output_type": "stream",
          "text": [
            "No\n"
          ],
          "name": "stdout"
        }
      ]
    },
    {
      "cell_type": "code",
      "metadata": {
        "id": "2yXo6241nSOi"
      },
      "source": [
        ""
      ],
      "execution_count": null,
      "outputs": []
    },
    {
      "cell_type": "markdown",
      "metadata": {
        "id": "G7PxPGn7oaON"
      },
      "source": [
        "#HW\r\n",
        "เขียน function ตัดเกรด โดยที่ input เป็นคะแนน(0-100) , output เป็นเกรด (F-A)\r\n",
        "วนลูปตัดเกรด input = [1,50,65,90,101,-5,49]\r\n",
        "\r\n",
        "กำหนด\r\n",
        "\r\n",
        "  ถ้าคะแนนอยู่ระหว่างมากกว่าหรือเท่ากับ  0  แต่น้อยกว่า 50 จะได้เกรด F\r\n",
        "\r\n",
        "  ถ้าคะแนนอยู่ระหว่างมากกว่าหรือเท่ากับ 50 แต่น้อยกว่า 55 จะได้เกรด D\r\n",
        "  \r\n",
        "  ถ้าคะแนนอยู่ระหว่างมากกว่าหรือเท่ากับ 55 แต่น้อยกว่า 60 จะได้เกรด D+\r\n",
        "  \r\n",
        "  ถ้าคะแนนอยู่ระหว่างมากกว่าหรือเท่ากับ 60 แต่น้อยกว่า 65 จะได้เกรด C\r\n",
        "  \r\n",
        "  ถ้าคะแนนอยู่ระหว่างมากกว่าหรือเท่ากับ 65 แต่น้อยกว่า 70 จะได้เกรด C+\r\n",
        "  \r\n",
        "  ถ้าคะแนนอยู่ระหว่างมากกว่าหรือเท่ากับ 70 แต่น้อยกว่า 75 จะได้เกรด B\r\n",
        "  \r\n",
        "  ถ้าคะแนนอยู่ระหว่างมากกว่าหรือเท่ากับ 75 แต่น้อยกว่า 80 จะได้เกรด B+\r\n",
        "  \r\n",
        "  ถ้าคะแนนอยู่ระหว่างมากกว่าหรือเท่ากับ 80  จะได้เกรด A\r\n",
        "  \r\n",
        "  แต่ว่าค่าคะแนนจะต้องไม่ต่ำกว่า 0 และมากกว่า 100 ไม่งั้นจะเกิด error"
      ]
    },
    {
      "cell_type": "code",
      "metadata": {
        "id": "6dk_QAS-nb0P"
      },
      "source": [
        "list_GPA = [1,50,65,90,101,-5,49]"
      ],
      "execution_count": 2,
      "outputs": []
    },
    {
      "cell_type": "code",
      "metadata": {
        "id": "wBReK_8IcAQe"
      },
      "source": [
        "def name_GPA(score) :\r\n",
        "    if score > 100 :\r\n",
        "       print(f'error')\r\n",
        "    elif score > 79 :\r\n",
        "       print(f'คะแนนที่ได้คือ {score} ได้เกรด A')\r\n",
        "    elif 74 < score < 80  :\r\n",
        "       print(f'คะแนนที่ได้คือ {score} ได้เกรด B+')\r\n",
        "    elif 69 < score < 75  :\r\n",
        "       print(f'คะแนนที่ได้คือ {score} ได้เกรด B')\r\n",
        "    elif 64 < score < 70 :\r\n",
        "       print(f'คะแนนที่ได้คือ {score} ได้เกรด C+')\r\n",
        "    elif 59 < score < 65 :\r\n",
        "       print(f'คะแนนที่ได้คือ {score} ได้เกรด C')\r\n",
        "    elif 54 < score < 60 :\r\n",
        "       print(f'คะแนนที่ได้คือ {score} ได้เกรด D+')\r\n",
        "    elif 49 < score < 55 :\r\n",
        "       print(f'คะแนนที่ได้คือ {score} ได้เกรด D')\r\n",
        "    elif 0 < score < 50 :\r\n",
        "       print(f'คะแนนที่ได้คือ {score} ได้เกรด F')\r\n",
        "    elif score < 0 :\r\n",
        "       print(f'error')"
      ],
      "execution_count": 49,
      "outputs": []
    },
    {
      "cell_type": "code",
      "metadata": {
        "id": "vws6qUy0fYxH",
        "outputId": "d3925a82-d927-47c6-85c7-24bc04ba2c4b",
        "colab": {
          "base_uri": "https://localhost:8080/"
        }
      },
      "source": [
        "for i in list_GPA :\r\n",
        "     (name_GPA(i))\r\n",
        "  "
      ],
      "execution_count": 51,
      "outputs": [
        {
          "output_type": "stream",
          "text": [
            "คะแนนที่ได้คือ 1 ได้เกรด F\n",
            "คะแนนที่ได้คือ 50 ได้เกรด D\n",
            "คะแนนที่ได้คือ 65 ได้เกรด C+\n",
            "คะแนนที่ได้คือ 90 ได้เกรด A\n",
            "error\n",
            "error\n",
            "คะแนนที่ได้คือ 49 ได้เกรด F\n"
          ],
          "name": "stdout"
        }
      ]
    },
    {
      "cell_type": "code",
      "metadata": {
        "id": "gm_lOlv5wYA_"
      },
      "source": [
        ""
      ],
      "execution_count": null,
      "outputs": []
    },
    {
      "cell_type": "code",
      "metadata": {
        "id": "tpdl24LSvzb0"
      },
      "source": [
        ""
      ],
      "execution_count": null,
      "outputs": []
    }
  ]
}