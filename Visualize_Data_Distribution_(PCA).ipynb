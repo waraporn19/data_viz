{
  "nbformat": 4,
  "nbformat_minor": 0,
  "metadata": {
    "colab": {
      "name": "Visualize Data Distribution (PCA).ipynb",
      "provenance": [],
      "authorship_tag": "ABX9TyPyEVZ7oQ4fqC5vHnw8V3fC",
      "include_colab_link": true
    },
    "kernelspec": {
      "name": "python3",
      "display_name": "Python 3"
    },
    "language_info": {
      "name": "python"
    }
  },
  "cells": [
    {
      "cell_type": "markdown",
      "metadata": {
        "id": "view-in-github",
        "colab_type": "text"
      },
      "source": [
        "<a href=\"https://colab.research.google.com/github/waraporn19/data_viz/blob/main/Visualize_Data_Distribution_(PCA).ipynb\" target=\"_parent\"><img src=\"https://colab.research.google.com/assets/colab-badge.svg\" alt=\"Open In Colab\"/></a>"
      ]
    },
    {
      "cell_type": "markdown",
      "metadata": {
        "id": "v5mCjKQ8BBPX"
      },
      "source": [
        "#เื่อเรามีตัวแปรมากกว่า"
      ]
    },
    {
      "cell_type": "code",
      "metadata": {
        "id": "Aien0fyg_inu"
      },
      "source": [
        "#Projetion คือการกระจายแสงไปตามแกน \n",
        "#PCA การลดตัวแปร หรือ หาแกนใหม่ที่อธิบาย การกระจาย data ดีที่สุด หมุนดูตามแกนโดย  Projetion  ฉายแสง"
      ],
      "execution_count": 1,
      "outputs": []
    },
    {
      "cell_type": "code",
      "metadata": {
        "id": "xU49szxgKxu5"
      },
      "source": [
        ""
      ],
      "execution_count": null,
      "outputs": []
    },
    {
      "cell_type": "code",
      "metadata": {
        "id": "iCLhaBM7K5kt"
      },
      "source": [
        ""
      ],
      "execution_count": null,
      "outputs": []
    },
    {
      "cell_type": "code",
      "metadata": {
        "id": "XnIv4g_gAulf"
      },
      "source": [
        "ดูการกระจายการจับคู่  รูป"
      ],
      "execution_count": null,
      "outputs": []
    },
    {
      "cell_type": "code",
      "metadata": {
        "id": "FWCC9kP2Auod"
      },
      "source": [
        "เรียกใช่ ฟังชั่น pca"
      ],
      "execution_count": null,
      "outputs": []
    },
    {
      "cell_type": "code",
      "metadata": {
        "id": "yjumQBoLCrG5"
      },
      "source": [
        "pca จะกำหนดอะไรบ้าง"
      ],
      "execution_count": null,
      "outputs": []
    },
    {
      "cell_type": "code",
      "metadata": {
        "id": "0Ex1NNWxFova"
      },
      "source": [
        "ตัดแถวสุดท้ายออก เพราะเป็นชื่อ"
      ],
      "execution_count": null,
      "outputs": []
    },
    {
      "cell_type": "code",
      "metadata": {
        "id": "-eq0wQNCHEQI"
      },
      "source": [
        "เวเรียน ดูไอเกรนเวรูล แลวเอาไป พรอตสคีพรอต  "
      ],
      "execution_count": null,
      "outputs": []
    }
  ]
}