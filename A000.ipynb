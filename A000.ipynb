{
  "nbformat": 4,
  "nbformat_minor": 0,
  "metadata": {
    "colab": {
      "name": "A000.ipynb",
      "provenance": [],
      "include_colab_link": true
    },
    "kernelspec": {
      "name": "python3",
      "display_name": "Python 3"
    },
    "language_info": {
      "name": "python"
    }
  },
  "cells": [
    {
      "cell_type": "markdown",
      "metadata": {
        "id": "view-in-github",
        "colab_type": "text"
      },
      "source": [
        "<a href=\"https://colab.research.google.com/github/waraporn19/data_viz/blob/main/A000.ipynb\" target=\"_parent\"><img src=\"https://colab.research.google.com/assets/colab-badge.svg\" alt=\"Open In Colab\"/></a>"
      ]
    },
    {
      "cell_type": "code",
      "metadata": {
        "id": "drOKqbUE2PnQ"
      },
      "source": [
        "import pandas as pd"
      ],
      "execution_count": null,
      "outputs": []
    },
    {
      "cell_type": "code",
      "metadata": {
        "id": "O7x0j_3c2Pjr",
        "colab": {
          "base_uri": "https://localhost:8080/"
        },
        "outputId": "9132acd0-e33a-4f95-b116-1b7581811457"
      },
      "source": [
        "from google.colab import drive \n",
        "drive.mount('/content/drive')"
      ],
      "execution_count": null,
      "outputs": [
        {
          "output_type": "stream",
          "name": "stdout",
          "text": [
            "Mounted at /content/drive\n"
          ]
        }
      ]
    },
    {
      "cell_type": "code",
      "metadata": {
        "id": "lsGPiAcg2Pa7"
      },
      "source": [
        "import os"
      ],
      "execution_count": null,
      "outputs": []
    },
    {
      "cell_type": "code",
      "metadata": {
        "id": "xGv3Ax6o251w"
      },
      "source": [
        "path = '/content/drive/My Drive/shadeimg'"
      ],
      "execution_count": null,
      "outputs": []
    },
    {
      "cell_type": "code",
      "metadata": {
        "id": "DK3-qllN3Huu",
        "colab": {
          "base_uri": "https://localhost:8080/"
        },
        "outputId": "a9c52723-70eb-41d6-a006-2eacf1f97b1a"
      },
      "source": [
        "os.listdir(path)"
      ],
      "execution_count": null,
      "outputs": [
        {
          "output_type": "execute_result",
          "data": {
            "text/plain": [
              "['รูปฟัน07',\n",
              " '9-10 7 2021',\n",
              " '11 7 2021',\n",
              " 'ฟันสักอย่างจำวันไม่ได้',\n",
              " '1 teeth .gsheet',\n",
              " '16 8 2021',\n",
              " '17 8 2021',\n",
              " '1 teeth .xlsx',\n",
              " '2 teeth .xlsx',\n",
              " '2 teeth.gsheet',\n",
              " 'All shade',\n",
              " 'A1set1.xlsx']"
            ]
          },
          "metadata": {},
          "execution_count": 5
        }
      ]
    },
    {
      "cell_type": "code",
      "metadata": {
        "id": "qnyateeBbpSP",
        "colab": {
          "base_uri": "https://localhost:8080/"
        },
        "outputId": "604ce5d5-e5df-41c3-dc22-70b466be3bcb"
      },
      "source": [
        "!pip install azure-storage-blob==2.1.0"
      ],
      "execution_count": null,
      "outputs": [
        {
          "output_type": "stream",
          "name": "stdout",
          "text": [
            "Collecting azure-storage-blob==2.1.0\n",
            "  Downloading azure_storage_blob-2.1.0-py2.py3-none-any.whl (88 kB)\n",
            "\u001b[K     |████████████████████████████████| 88 kB 3.2 MB/s \n",
            "\u001b[?25hCollecting azure-common>=1.1.5\n",
            "  Downloading azure_common-1.1.27-py2.py3-none-any.whl (12 kB)\n",
            "Collecting azure-storage-common~=2.1\n",
            "  Downloading azure_storage_common-2.1.0-py2.py3-none-any.whl (47 kB)\n",
            "\u001b[K     |████████████████████████████████| 47 kB 4.2 MB/s \n",
            "\u001b[?25hRequirement already satisfied: python-dateutil in /usr/local/lib/python3.7/dist-packages (from azure-storage-common~=2.1->azure-storage-blob==2.1.0) (2.8.2)\n",
            "Requirement already satisfied: requests in /usr/local/lib/python3.7/dist-packages (from azure-storage-common~=2.1->azure-storage-blob==2.1.0) (2.23.0)\n",
            "Collecting cryptography\n",
            "  Downloading cryptography-36.0.0-cp36-abi3-manylinux_2_24_x86_64.whl (3.6 MB)\n",
            "\u001b[K     |████████████████████████████████| 3.6 MB 29.4 MB/s \n",
            "\u001b[?25hRequirement already satisfied: cffi>=1.12 in /usr/local/lib/python3.7/dist-packages (from cryptography->azure-storage-common~=2.1->azure-storage-blob==2.1.0) (1.15.0)\n",
            "Requirement already satisfied: pycparser in /usr/local/lib/python3.7/dist-packages (from cffi>=1.12->cryptography->azure-storage-common~=2.1->azure-storage-blob==2.1.0) (2.21)\n",
            "Requirement already satisfied: six>=1.5 in /usr/local/lib/python3.7/dist-packages (from python-dateutil->azure-storage-common~=2.1->azure-storage-blob==2.1.0) (1.15.0)\n",
            "Requirement already satisfied: certifi>=2017.4.17 in /usr/local/lib/python3.7/dist-packages (from requests->azure-storage-common~=2.1->azure-storage-blob==2.1.0) (2021.10.8)\n",
            "Requirement already satisfied: urllib3!=1.25.0,!=1.25.1,<1.26,>=1.21.1 in /usr/local/lib/python3.7/dist-packages (from requests->azure-storage-common~=2.1->azure-storage-blob==2.1.0) (1.24.3)\n",
            "Requirement already satisfied: idna<3,>=2.5 in /usr/local/lib/python3.7/dist-packages (from requests->azure-storage-common~=2.1->azure-storage-blob==2.1.0) (2.10)\n",
            "Requirement already satisfied: chardet<4,>=3.0.2 in /usr/local/lib/python3.7/dist-packages (from requests->azure-storage-common~=2.1->azure-storage-blob==2.1.0) (3.0.4)\n",
            "Installing collected packages: cryptography, azure-common, azure-storage-common, azure-storage-blob\n",
            "Successfully installed azure-common-1.1.27 azure-storage-blob-2.1.0 azure-storage-common-2.1.0 cryptography-36.0.0\n"
          ]
        }
      ]
    },
    {
      "cell_type": "code",
      "metadata": {
        "id": "uZRZcO80cxBH"
      },
      "source": [
        "from azure.storage.blob import BlockBlobService\n",
        "import os"
      ],
      "execution_count": null,
      "outputs": []
    },
    {
      "cell_type": "code",
      "metadata": {
        "id": "tJVMV5DMcyJT"
      },
      "source": [
        "blob_service_client = BlockBlobService(account_name='dent01', account_key='CuShY0B4TZJ84TjzPpaHxyrHOpO73aGXeCpdVq7x26OjIlQ1HOz+3DVc9pDEj9BdcEL8odFuTRF0mOAE+aCgiw==')"
      ],
      "execution_count": null,
      "outputs": []
    },
    {
      "cell_type": "markdown",
      "metadata": {
        "id": "nNqTWrPIc2qX"
      },
      "source": [
        "#1.สร้างตัวแปรเฉดไกด์"
      ]
    },
    {
      "cell_type": "markdown",
      "metadata": {
        "id": "Gx-nvNvXdCDu"
      },
      "source": [
        "##Set1"
      ]
    },
    {
      "cell_type": "code",
      "metadata": {
        "id": "PvY9HB-hc96t"
      },
      "source": [
        "S1_doubleA1A1_1 =\n",
        "S1_doubleA1A2_1 =\n",
        "S1_doubleA1A3_1 = \n",
        "S1_doubleA1A3_51 =\n",
        "S1_doubleA1A4_1 = \n",
        "S1_doubleA1B1_1 =\n",
        "S1_doubleA1B2_1 =\n",
        "S1_doubleA1B3_1 =\n",
        "S1_doubleA1B4_1 =\n",
        "S1_doubleA1C1_1 =\n",
        "S1_doubleA1C2_1 =\n",
        "S1_doubleA1C3_1 =\n",
        "S1_doubleA1D2_1 = \n",
        "S1_doubleA1D3_1 =\n",
        "S1_doubleA1D4_1 ="
      ],
      "execution_count": null,
      "outputs": []
    },
    {
      "cell_type": "code",
      "metadata": {
        "id": "6ZVJz-4f2UeX"
      },
      "source": [
        "S1_doubleA1A1_2 = \n",
        "S1_doubleA1A2_2 =\n",
        "S1_doubleA1A3_2  =\n",
        "S1_doubleA1A3_52  = \n",
        "S1_doubleA1A4_2  =\n",
        "S1_doubleA1B1_2  =\n",
        "S1_doubleA1B2_2  =\n",
        "S1_doubleA1B3_2  =\n",
        "S1_doubleA1B4_2  =\n",
        "S1_doubleA1C1_2  =\n",
        "S1_doubleA1C2_2  =\n",
        "S1_doubleA1C3_2  =\n",
        "S1_doubleA1C4_2  =\n",
        "S1_doubleA1D2_2  = \n",
        "S1_doubleA1D3_2  =\n",
        "S1_doubleA1D4_2  ="
      ],
      "execution_count": null,
      "outputs": []
    },
    {
      "cell_type": "code",
      "metadata": {
        "id": "BYPZYpEg2UpJ"
      },
      "source": [
        "S1_doubleA1A1_3 =\n",
        "S1_doubleA1A2_3 =\n",
        "S1_doubleA1A3_3 = \n",
        "S1_doubleA1A3_53 = \n",
        "S1_doubleA1A4_3= \n",
        "S1_doubleA1B1_3 =\n",
        "S1_doubleA1B2_3 =\n",
        "S1_doubleA1B3_3 =\n",
        "S1_doubleA1B4_3 = \n",
        "S1_doubleA1C1_3 = \n",
        "S1_doubleA1C2_3 =\n",
        "S1_doubleA1C3_3 =\n",
        "S1_doubleA1C4_3 =\n",
        "S1_doubleA1D2_3 =\n",
        "S1_doubleA1D3_3 =\n",
        "S1_doubleA1D4_3 = "
      ],
      "execution_count": null,
      "outputs": []
    },
    {
      "cell_type": "code",
      "metadata": {
        "id": "uDZ9Na7R2Ux6"
      },
      "source": [
        "S1_doubleA1A1_4 =\n",
        "S1_doubleA1A2_4 =\n",
        "S1_doubleA1A3_4 = \n",
        "S1_doubleA1A3_54 = \n",
        "S1_doubleA1A4_4 =\n",
        "S1_doubleA1B1_4 =\n",
        "S1_doubleA1B2_4 = \n",
        "S1_doubleA1B3_4 =\n",
        "S1_doubleA1B4_4 =\n",
        "S1_doubleA1C1_4 =\n",
        "S1_doubleA1C2_4 =\n",
        "S1_doubleA1C3_4 =\n",
        "S1_doubleA1C4_4 =\n",
        "S1_doubleA1B4_4 =\n",
        "S1_doubleA1C1_4 =\n",
        "S1_doubleA1C2_4 =\n",
        "S1_doubleA1C3_4 =\n",
        "S1_doubleA1C4_4 =\n",
        "S1_doubleA1D2_4 =\n",
        "S1_doubleA1D3_4 =\n",
        "S1_doubleA1D4_4 = "
      ],
      "execution_count": null,
      "outputs": []
    },
    {
      "cell_type": "code",
      "metadata": {
        "id": "aN9sMdoP2U2h"
      },
      "source": [
        "S1_doubleA1A1_5 = \n",
        "S1_doubleA1A2_5 = \n",
        "S1_doubleA1A3_5 =  \n",
        "S1_doubleA1A3_55 = \n",
        "S1_doubleA1A4_5 =\n",
        "S1_doubleA1B1_5 =\n",
        "S1_doubleA1B2_5 =\n",
        "S1_doubleA1B3_5 = \n",
        "S1_doubleA1B4_5 = \n",
        "S1_doubleA1C1_5 =\n",
        "S1_doubleA1C2_5 =\n",
        "S1_doubleA1C3_5 =\n",
        "S1_doubleA1C4_5 = \n",
        "S1_doubleA1D2_5 = \n",
        "S1_doubleA1D3_5 =\n",
        "S1_doubleA1D4_5 ="
      ],
      "execution_count": null,
      "outputs": []
    },
    {
      "cell_type": "markdown",
      "metadata": {
        "id": "Taw1dl5xglaj"
      },
      "source": [
        "#2. ดึงรูป"
      ]
    },
    {
      "cell_type": "code",
      "metadata": {
        "id": "jPe2WlLY4J0n"
      },
      "source": [
        "import cv2\n",
        "from matplotlib import pyplot as plt #การเรียกใช้คำสั่ง matplotlib เพื่อวาดกราฟ โดยแทนชื่อ matplotlib ด้วย plt\n",
        "import matplotlib"
      ],
      "execution_count": null,
      "outputs": []
    },
    {
      "cell_type": "markdown",
      "metadata": {
        "id": "7Gl_H8idgnRf"
      },
      "source": [
        "##Set1"
      ]
    },
    {
      "cell_type": "code",
      "metadata": {
        "id": "s7mF6eEHiQ19",
        "colab": {
          "base_uri": "https://localhost:8080/"
        },
        "outputId": "760e2966-e499-40be-f78e-f30becf3799a"
      },
      "source": [
        "full_path_to_file2 = os.path.join(S1_doubleA1A1_1) \n",
        "blob_service_client.get_blob_to_path('shadeimg', full_path_to_file2, full_path_to_file2)"
      ],
      "execution_count": null,
      "outputs": [
        {
          "output_type": "execute_result",
          "data": {
            "text/plain": [
              "<azure.storage.blob.models.Blob at 0x7f6865b30390>"
            ]
          },
          "metadata": {},
          "execution_count": 15
        }
      ]
    },
    {
      "cell_type": "code",
      "metadata": {
        "id": "kzMKB_OniZY1",
        "colab": {
          "base_uri": "https://localhost:8080/"
        },
        "outputId": "85388436-0244-48f9-8d7f-b9eaeea74acd"
      },
      "source": [
        "full_path_to_file2 = os.path.join(S1_doubleA1A2_1) \n",
        "blob_service_client.get_blob_to_path('shadeimg', full_path_to_file2, full_path_to_file2)"
      ],
      "execution_count": null,
      "outputs": [
        {
          "output_type": "execute_result",
          "data": {
            "text/plain": [
              "<azure.storage.blob.models.Blob at 0x7f6875e6d550>"
            ]
          },
          "metadata": {},
          "execution_count": 16
        }
      ]
    },
    {
      "cell_type": "code",
      "metadata": {
        "id": "IkeC-Fivih3w",
        "colab": {
          "base_uri": "https://localhost:8080/"
        },
        "outputId": "1a104b15-f06c-4b23-8acf-ae2d73d863fd"
      },
      "source": [
        "full_path_to_file2 = os.path.join(S1_doubleA1A3_1) \n",
        "blob_service_client.get_blob_to_path('shadeimg', full_path_to_file2, full_path_to_file2)"
      ],
      "execution_count": null,
      "outputs": [
        {
          "output_type": "execute_result",
          "data": {
            "text/plain": [
              "<azure.storage.blob.models.Blob at 0x7f6865699690>"
            ]
          },
          "metadata": {},
          "execution_count": 17
        }
      ]
    },
    {
      "cell_type": "code",
      "metadata": {
        "id": "3Y9aMJj6ij5n",
        "colab": {
          "base_uri": "https://localhost:8080/"
        },
        "outputId": "1c18c522-5c50-4e00-a0f0-018cdc3d32e7"
      },
      "source": [
        "full_path_to_file2 = os.path.join(S1_doubleA1A3_51) \n",
        "blob_service_client.get_blob_to_path('shadeimg', full_path_to_file2, full_path_to_file2)"
      ],
      "execution_count": null,
      "outputs": [
        {
          "output_type": "execute_result",
          "data": {
            "text/plain": [
              "<azure.storage.blob.models.Blob at 0x7f68656b2250>"
            ]
          },
          "metadata": {},
          "execution_count": 18
        }
      ]
    },
    {
      "cell_type": "code",
      "metadata": {
        "id": "yrJq8907iuoY",
        "colab": {
          "base_uri": "https://localhost:8080/"
        },
        "outputId": "a5857636-d96d-40c8-9c1d-12b2323437d8"
      },
      "source": [
        "full_path_to_file2 = os.path.join(S1_doubleA1A4_1) \n",
        "blob_service_client.get_blob_to_path('shadeimg', full_path_to_file2, full_path_to_file2)"
      ],
      "execution_count": null,
      "outputs": [
        {
          "output_type": "execute_result",
          "data": {
            "text/plain": [
              "<azure.storage.blob.models.Blob at 0x7f68656b2bd0>"
            ]
          },
          "metadata": {},
          "execution_count": 19
        }
      ]
    },
    {
      "cell_type": "code",
      "metadata": {
        "id": "0VJcKHW2i0Ac",
        "colab": {
          "base_uri": "https://localhost:8080/"
        },
        "outputId": "41d7fa8a-e8db-4814-9194-c596c3abf1c4"
      },
      "source": [
        "full_path_to_file2 = os.path.join(S1_doubleA1B1_1) \n",
        "blob_service_client.get_blob_to_path('shadeimg', full_path_to_file2, full_path_to_file2)"
      ],
      "execution_count": null,
      "outputs": [
        {
          "output_type": "execute_result",
          "data": {
            "text/plain": [
              "<azure.storage.blob.models.Blob at 0x7f6865699dd0>"
            ]
          },
          "metadata": {},
          "execution_count": 20
        }
      ]
    },
    {
      "cell_type": "code",
      "metadata": {
        "id": "hY3AI9RFi0Ad",
        "colab": {
          "base_uri": "https://localhost:8080/"
        },
        "outputId": "d62e15e8-2a5b-478f-eaec-cecc7c21370b"
      },
      "source": [
        "full_path_to_file2 = os.path.join(S1_doubleA1B2_1) \n",
        "blob_service_client.get_blob_to_path('shadeimg', full_path_to_file2, full_path_to_file2)"
      ],
      "execution_count": null,
      "outputs": [
        {
          "output_type": "execute_result",
          "data": {
            "text/plain": [
              "<azure.storage.blob.models.Blob at 0x7f686ed36e90>"
            ]
          },
          "metadata": {},
          "execution_count": 21
        }
      ]
    },
    {
      "cell_type": "code",
      "metadata": {
        "id": "GApmsAnKi0Ad",
        "colab": {
          "base_uri": "https://localhost:8080/"
        },
        "outputId": "74ed1bbf-fb39-4bd5-ae11-ee9a44a8b37d"
      },
      "source": [
        "full_path_to_file2 = os.path.join(S1_doubleA1B3_1) \n",
        "blob_service_client.get_blob_to_path('shadeimg', full_path_to_file2, full_path_to_file2)"
      ],
      "execution_count": null,
      "outputs": [
        {
          "output_type": "execute_result",
          "data": {
            "text/plain": [
              "<azure.storage.blob.models.Blob at 0x7f68656b80d0>"
            ]
          },
          "metadata": {},
          "execution_count": 22
        }
      ]
    },
    {
      "cell_type": "code",
      "metadata": {
        "id": "O1h96HYqi7cu",
        "colab": {
          "base_uri": "https://localhost:8080/"
        },
        "outputId": "35f3cf3d-338c-49ea-fd4a-2bc846e09b89"
      },
      "source": [
        "full_path_to_file2 = os.path.join(S1_doubleA1B4_1) \n",
        "blob_service_client.get_blob_to_path('shadeimg', full_path_to_file2, full_path_to_file2)"
      ],
      "execution_count": null,
      "outputs": [
        {
          "output_type": "execute_result",
          "data": {
            "text/plain": [
              "<azure.storage.blob.models.Blob at 0x7f6865b27410>"
            ]
          },
          "metadata": {},
          "execution_count": 23
        }
      ]
    },
    {
      "cell_type": "code",
      "metadata": {
        "id": "RsMHbknqi_fT",
        "colab": {
          "base_uri": "https://localhost:8080/"
        },
        "outputId": "c2a2297d-81cd-4a6f-ea02-384a8599a55a"
      },
      "source": [
        "full_path_to_file2 = os.path.join(S1_doubleA1C1_1) \n",
        "blob_service_client.get_blob_to_path('shadeimg', full_path_to_file2, full_path_to_file2)"
      ],
      "execution_count": null,
      "outputs": [
        {
          "output_type": "execute_result",
          "data": {
            "text/plain": [
              "<azure.storage.blob.models.Blob at 0x7f68656b8750>"
            ]
          },
          "metadata": {},
          "execution_count": 24
        }
      ]
    },
    {
      "cell_type": "code",
      "metadata": {
        "id": "wI0oZemgi_fT",
        "colab": {
          "base_uri": "https://localhost:8080/"
        },
        "outputId": "d0c5f321-b007-47de-a6c9-a37a2aa2da5a"
      },
      "source": [
        "full_path_to_file2 = os.path.join(S1_doubleA1C2_1) \n",
        "blob_service_client.get_blob_to_path('shadeimg', full_path_to_file2, full_path_to_file2)"
      ],
      "execution_count": null,
      "outputs": [
        {
          "output_type": "execute_result",
          "data": {
            "text/plain": [
              "<azure.storage.blob.models.Blob at 0x7f68656c7910>"
            ]
          },
          "metadata": {},
          "execution_count": 25
        }
      ]
    },
    {
      "cell_type": "code",
      "metadata": {
        "id": "6ga7nGGti_fT",
        "colab": {
          "base_uri": "https://localhost:8080/"
        },
        "outputId": "ddc2d924-f0d4-4b2f-fa37-eae16107f2a6"
      },
      "source": [
        "full_path_to_file2 = os.path.join(S1_doubleA1C3_1) \n",
        "blob_service_client.get_blob_to_path('shadeimg', full_path_to_file2, full_path_to_file2)"
      ],
      "execution_count": null,
      "outputs": [
        {
          "output_type": "execute_result",
          "data": {
            "text/plain": [
              "<azure.storage.blob.models.Blob at 0x7f68656c7a50>"
            ]
          },
          "metadata": {},
          "execution_count": 26
        }
      ]
    },
    {
      "cell_type": "code",
      "metadata": {
        "id": "nsiPutfEi_fU",
        "colab": {
          "base_uri": "https://localhost:8080/"
        },
        "outputId": "42d96d6b-af29-40ac-e89a-43d145f30fb9"
      },
      "source": [
        "full_path_to_file2 = os.path.join(S1_doubleA1C4_1) \n",
        "blob_service_client.get_blob_to_path('shadeimg', full_path_to_file2, full_path_to_file2)"
      ],
      "execution_count": null,
      "outputs": [
        {
          "output_type": "execute_result",
          "data": {
            "text/plain": [
              "<azure.storage.blob.models.Blob at 0x7f6865b27850>"
            ]
          },
          "metadata": {},
          "execution_count": 27
        }
      ]
    },
    {
      "cell_type": "code",
      "metadata": {
        "id": "IlqllUIljGVj",
        "colab": {
          "base_uri": "https://localhost:8080/"
        },
        "outputId": "d7d86404-e311-4f62-d8c4-40cc03495dbe"
      },
      "source": [
        "full_path_to_file2 = os.path.join(S1_doubleA1D2_1) \n",
        "blob_service_client.get_blob_to_path('shadeimg', full_path_to_file2, full_path_to_file2)"
      ],
      "execution_count": null,
      "outputs": [
        {
          "output_type": "execute_result",
          "data": {
            "text/plain": [
              "<azure.storage.blob.models.Blob at 0x7f6865699fd0>"
            ]
          },
          "metadata": {},
          "execution_count": 28
        }
      ]
    },
    {
      "cell_type": "code",
      "metadata": {
        "id": "jXXF16lsjGVj",
        "colab": {
          "base_uri": "https://localhost:8080/"
        },
        "outputId": "ece59769-0737-4a94-821f-b30832780de4"
      },
      "source": [
        "full_path_to_file2 = os.path.join(S1_doubleA1D3_1) \n",
        "blob_service_client.get_blob_to_path('shadeimg', full_path_to_file2, full_path_to_file2)"
      ],
      "execution_count": null,
      "outputs": [
        {
          "output_type": "execute_result",
          "data": {
            "text/plain": [
              "<azure.storage.blob.models.Blob at 0x7f68656c7ad0>"
            ]
          },
          "metadata": {},
          "execution_count": 29
        }
      ]
    },
    {
      "cell_type": "code",
      "metadata": {
        "id": "xRA_M-1PjGVj",
        "colab": {
          "base_uri": "https://localhost:8080/"
        },
        "outputId": "6190981b-d0cd-4957-d2ad-c99178615924"
      },
      "source": [
        "full_path_to_file2 = os.path.join(S1_doubleA1D4_1) \n",
        "blob_service_client.get_blob_to_path('shadeimg', full_path_to_file2, full_path_to_file2)"
      ],
      "execution_count": null,
      "outputs": [
        {
          "output_type": "execute_result",
          "data": {
            "text/plain": [
              "<azure.storage.blob.models.Blob at 0x7f68656c5910>"
            ]
          },
          "metadata": {},
          "execution_count": 30
        }
      ]
    },
    {
      "cell_type": "markdown",
      "metadata": {
        "id": "ctZILUENZxNJ"
      },
      "source": [
        "###Img 2"
      ]
    },
    {
      "cell_type": "code",
      "metadata": {
        "id": "IS9B9yPkarl_",
        "colab": {
          "base_uri": "https://localhost:8080/"
        },
        "outputId": "a79c1d62-371e-4671-fe04-bbc3560d01db"
      },
      "source": [
        "full_path_to_file2 = os.path.join(S1_doubleA1A1_2) \n",
        "blob_service_client.get_blob_to_path('shadeimg', full_path_to_file2, full_path_to_file2)"
      ],
      "execution_count": null,
      "outputs": [
        {
          "output_type": "execute_result",
          "data": {
            "text/plain": [
              "<azure.storage.blob.models.Blob at 0x7f68656b8b10>"
            ]
          },
          "metadata": {},
          "execution_count": 31
        }
      ]
    },
    {
      "cell_type": "code",
      "metadata": {
        "id": "BllPAVuWarmA",
        "colab": {
          "base_uri": "https://localhost:8080/"
        },
        "outputId": "97bd49d0-9541-4565-d8a3-9b9d92b90f05"
      },
      "source": [
        "full_path_to_file2 = os.path.join(S1_doubleA1A2_2) \n",
        "blob_service_client.get_blob_to_path('shadeimg', full_path_to_file2, full_path_to_file2)"
      ],
      "execution_count": null,
      "outputs": [
        {
          "output_type": "execute_result",
          "data": {
            "text/plain": [
              "<azure.storage.blob.models.Blob at 0x7f68656c70d0>"
            ]
          },
          "metadata": {},
          "execution_count": 32
        }
      ]
    },
    {
      "cell_type": "code",
      "metadata": {
        "id": "-4kUfX6varmB",
        "colab": {
          "base_uri": "https://localhost:8080/"
        },
        "outputId": "b82244d9-670a-4206-a5a4-22d0c1e7d4af"
      },
      "source": [
        "full_path_to_file2 = os.path.join(S1_doubleA1A3_2) \n",
        "blob_service_client.get_blob_to_path('shadeimg', full_path_to_file2, full_path_to_file2)"
      ],
      "execution_count": null,
      "outputs": [
        {
          "output_type": "execute_result",
          "data": {
            "text/plain": [
              "<azure.storage.blob.models.Blob at 0x7f6865659650>"
            ]
          },
          "metadata": {},
          "execution_count": 33
        }
      ]
    },
    {
      "cell_type": "code",
      "metadata": {
        "id": "LArO_C_OarmC",
        "colab": {
          "base_uri": "https://localhost:8080/"
        },
        "outputId": "3a62f4ff-510c-450e-b66e-0bf5b02d6d8d"
      },
      "source": [
        "full_path_to_file2 = os.path.join(S1_doubleA1A3_52) \n",
        "blob_service_client.get_blob_to_path('shadeimg', full_path_to_file2, full_path_to_file2)"
      ],
      "execution_count": null,
      "outputs": [
        {
          "output_type": "execute_result",
          "data": {
            "text/plain": [
              "<azure.storage.blob.models.Blob at 0x7f6865659b90>"
            ]
          },
          "metadata": {},
          "execution_count": 34
        }
      ]
    },
    {
      "cell_type": "code",
      "metadata": {
        "id": "jY7gzT96armC",
        "colab": {
          "base_uri": "https://localhost:8080/"
        },
        "outputId": "092d547f-8c6b-42ae-dadf-dc94a3f3f2da"
      },
      "source": [
        "full_path_to_file2 = os.path.join(S1_doubleA1A4_2) \n",
        "blob_service_client.get_blob_to_path('shadeimg', full_path_to_file2, full_path_to_file2)"
      ],
      "execution_count": null,
      "outputs": [
        {
          "output_type": "execute_result",
          "data": {
            "text/plain": [
              "<azure.storage.blob.models.Blob at 0x7f6865663e10>"
            ]
          },
          "metadata": {},
          "execution_count": 35
        }
      ]
    },
    {
      "cell_type": "code",
      "metadata": {
        "id": "r_tN80ViarmD",
        "colab": {
          "base_uri": "https://localhost:8080/"
        },
        "outputId": "40dc75db-ce61-4494-86b5-bc69fb21ac94"
      },
      "source": [
        "full_path_to_file2 = os.path.join(S1_doubleA1B1_2) \n",
        "blob_service_client.get_blob_to_path('shadeimg', full_path_to_file2, full_path_to_file2)"
      ],
      "execution_count": null,
      "outputs": [
        {
          "output_type": "execute_result",
          "data": {
            "text/plain": [
              "<azure.storage.blob.models.Blob at 0x7f68656c7d90>"
            ]
          },
          "metadata": {},
          "execution_count": 36
        }
      ]
    },
    {
      "cell_type": "code",
      "metadata": {
        "id": "7k1IhFJHarmD",
        "colab": {
          "base_uri": "https://localhost:8080/"
        },
        "outputId": "0d37d49a-f69d-4168-dedd-124c06be59e6"
      },
      "source": [
        "full_path_to_file2 = os.path.join(S1_doubleA1B2_2) \n",
        "blob_service_client.get_blob_to_path('shadeimg', full_path_to_file2, full_path_to_file2)"
      ],
      "execution_count": null,
      "outputs": [
        {
          "output_type": "execute_result",
          "data": {
            "text/plain": [
              "<azure.storage.blob.models.Blob at 0x7f6865b272d0>"
            ]
          },
          "metadata": {},
          "execution_count": 37
        }
      ]
    },
    {
      "cell_type": "code",
      "metadata": {
        "id": "oU7FiinGarmE",
        "colab": {
          "base_uri": "https://localhost:8080/"
        },
        "outputId": "493b25f7-395a-45e0-c67e-1481ac74ee04"
      },
      "source": [
        "full_path_to_file2 = os.path.join(S1_doubleA1B3_2) \n",
        "blob_service_client.get_blob_to_path('shadeimg', full_path_to_file2, full_path_to_file2)"
      ],
      "execution_count": null,
      "outputs": [
        {
          "output_type": "execute_result",
          "data": {
            "text/plain": [
              "<azure.storage.blob.models.Blob at 0x7f686ed36490>"
            ]
          },
          "metadata": {},
          "execution_count": 38
        }
      ]
    },
    {
      "cell_type": "code",
      "metadata": {
        "id": "eOKs2zHbarmE",
        "colab": {
          "base_uri": "https://localhost:8080/"
        },
        "outputId": "6793b963-94f7-44a2-fece-26c03cee19c8"
      },
      "source": [
        "full_path_to_file2 = os.path.join(S1_doubleA1B4_2) \n",
        "blob_service_client.get_blob_to_path('shadeimg', full_path_to_file2, full_path_to_file2)"
      ],
      "execution_count": null,
      "outputs": [
        {
          "output_type": "execute_result",
          "data": {
            "text/plain": [
              "<azure.storage.blob.models.Blob at 0x7f6865699f10>"
            ]
          },
          "metadata": {},
          "execution_count": 39
        }
      ]
    },
    {
      "cell_type": "code",
      "metadata": {
        "id": "U7SiS2N6armF",
        "colab": {
          "base_uri": "https://localhost:8080/"
        },
        "outputId": "7de525f1-b618-44fa-f0d2-da324bb48620"
      },
      "source": [
        "full_path_to_file2 = os.path.join(S1_doubleA1C1_2) \n",
        "blob_service_client.get_blob_to_path('shadeimg', full_path_to_file2, full_path_to_file2)"
      ],
      "execution_count": null,
      "outputs": [
        {
          "output_type": "execute_result",
          "data": {
            "text/plain": [
              "<azure.storage.blob.models.Blob at 0x7f68656c7610>"
            ]
          },
          "metadata": {},
          "execution_count": 40
        }
      ]
    },
    {
      "cell_type": "code",
      "metadata": {
        "id": "KcpzEnu9armG",
        "colab": {
          "base_uri": "https://localhost:8080/"
        },
        "outputId": "efa380ca-1388-42fc-9ba7-d0d4aec10afa"
      },
      "source": [
        "full_path_to_file2 = os.path.join(S1_doubleA1C2_2) \n",
        "blob_service_client.get_blob_to_path('shadeimg', full_path_to_file2, full_path_to_file2)"
      ],
      "execution_count": null,
      "outputs": [
        {
          "output_type": "execute_result",
          "data": {
            "text/plain": [
              "<azure.storage.blob.models.Blob at 0x7f686565b5d0>"
            ]
          },
          "metadata": {},
          "execution_count": 41
        }
      ]
    },
    {
      "cell_type": "code",
      "metadata": {
        "id": "hazhbOumarmG",
        "colab": {
          "base_uri": "https://localhost:8080/"
        },
        "outputId": "6a56f906-6b57-42a0-f63b-4148565180a3"
      },
      "source": [
        "full_path_to_file2 = os.path.join(S1_doubleA1C3_2) \n",
        "blob_service_client.get_blob_to_path('shadeimg', full_path_to_file2, full_path_to_file2)"
      ],
      "execution_count": null,
      "outputs": [
        {
          "output_type": "execute_result",
          "data": {
            "text/plain": [
              "<azure.storage.blob.models.Blob at 0x7f686565bdd0>"
            ]
          },
          "metadata": {},
          "execution_count": 42
        }
      ]
    },
    {
      "cell_type": "code",
      "metadata": {
        "id": "U-OoUWhNarmH",
        "colab": {
          "base_uri": "https://localhost:8080/"
        },
        "outputId": "3962ad53-7840-4d85-c905-6f451c0ca36f"
      },
      "source": [
        "full_path_to_file2 = os.path.join(S1_doubleA1C4_2) \n",
        "blob_service_client.get_blob_to_path('shadeimg', full_path_to_file2, full_path_to_file2)"
      ],
      "execution_count": null,
      "outputs": [
        {
          "output_type": "execute_result",
          "data": {
            "text/plain": [
              "<azure.storage.blob.models.Blob at 0x7f68656d66d0>"
            ]
          },
          "metadata": {},
          "execution_count": 43
        }
      ]
    },
    {
      "cell_type": "code",
      "metadata": {
        "id": "_xD-Hj7karmH",
        "colab": {
          "base_uri": "https://localhost:8080/"
        },
        "outputId": "d3c21f58-ddaa-42c7-a92c-b128f9316c79"
      },
      "source": [
        "full_path_to_file2 = os.path.join(S1_doubleA1D2_2) \n",
        "blob_service_client.get_blob_to_path('shadeimg', full_path_to_file2, full_path_to_file2)"
      ],
      "execution_count": null,
      "outputs": [
        {
          "output_type": "execute_result",
          "data": {
            "text/plain": [
              "<azure.storage.blob.models.Blob at 0x7f68656c5390>"
            ]
          },
          "metadata": {},
          "execution_count": 44
        }
      ]
    },
    {
      "cell_type": "code",
      "metadata": {
        "id": "bUEqUL2marmI",
        "colab": {
          "base_uri": "https://localhost:8080/"
        },
        "outputId": "ea6c1fbc-17b2-415a-d723-f8caeb183416"
      },
      "source": [
        "full_path_to_file2 = os.path.join(S1_doubleA1D3_2) \n",
        "blob_service_client.get_blob_to_path('shadeimg', full_path_to_file2, full_path_to_file2)"
      ],
      "execution_count": null,
      "outputs": [
        {
          "output_type": "execute_result",
          "data": {
            "text/plain": [
              "<azure.storage.blob.models.Blob at 0x7f68656b2190>"
            ]
          },
          "metadata": {},
          "execution_count": 45
        }
      ]
    },
    {
      "cell_type": "code",
      "metadata": {
        "id": "RSL36p-5armJ",
        "colab": {
          "base_uri": "https://localhost:8080/"
        },
        "outputId": "bb0b1d88-ce7e-4308-b542-7bed7186aa9c"
      },
      "source": [
        "full_path_to_file2 = os.path.join(S1_doubleA1D4_2) \n",
        "blob_service_client.get_blob_to_path('shadeimg', full_path_to_file2, full_path_to_file2)"
      ],
      "execution_count": null,
      "outputs": [
        {
          "output_type": "execute_result",
          "data": {
            "text/plain": [
              "<azure.storage.blob.models.Blob at 0x7f6865663090>"
            ]
          },
          "metadata": {},
          "execution_count": 46
        }
      ]
    },
    {
      "cell_type": "markdown",
      "metadata": {
        "id": "JTzZp40yarmJ"
      },
      "source": [
        "###Img 3"
      ]
    },
    {
      "cell_type": "code",
      "metadata": {
        "id": "S2_pomstbD0S",
        "colab": {
          "base_uri": "https://localhost:8080/"
        },
        "outputId": "f887885e-1fab-4dca-9503-b0869142c78c"
      },
      "source": [
        "full_path_to_file2 = os.path.join(S1_doubleA1A1_3) \n",
        "blob_service_client.get_blob_to_path('shadeimg', full_path_to_file2, full_path_to_file2)"
      ],
      "execution_count": null,
      "outputs": [
        {
          "output_type": "execute_result",
          "data": {
            "text/plain": [
              "<azure.storage.blob.models.Blob at 0x7f686565b790>"
            ]
          },
          "metadata": {},
          "execution_count": 47
        }
      ]
    },
    {
      "cell_type": "code",
      "metadata": {
        "id": "KxZTnAD9bD0T",
        "colab": {
          "base_uri": "https://localhost:8080/"
        },
        "outputId": "2520773c-1925-4c3d-cea6-ac327a462598"
      },
      "source": [
        "full_path_to_file2 = os.path.join(S1_doubleA1A2_3) \n",
        "blob_service_client.get_blob_to_path('shadeimg', full_path_to_file2, full_path_to_file2)"
      ],
      "execution_count": null,
      "outputs": [
        {
          "output_type": "execute_result",
          "data": {
            "text/plain": [
              "<azure.storage.blob.models.Blob at 0x7f686565bc10>"
            ]
          },
          "metadata": {},
          "execution_count": 48
        }
      ]
    },
    {
      "cell_type": "code",
      "metadata": {
        "id": "7Cy2jzEQbD0U",
        "colab": {
          "base_uri": "https://localhost:8080/"
        },
        "outputId": "0f19e4d8-0c64-41f9-b8a0-61bda2299b85"
      },
      "source": [
        "full_path_to_file2 = os.path.join(S1_doubleA1A3_3) \n",
        "blob_service_client.get_blob_to_path('shadeimg', full_path_to_file2, full_path_to_file2)"
      ],
      "execution_count": null,
      "outputs": [
        {
          "output_type": "execute_result",
          "data": {
            "text/plain": [
              "<azure.storage.blob.models.Blob at 0x7f6865672d50>"
            ]
          },
          "metadata": {},
          "execution_count": 49
        }
      ]
    },
    {
      "cell_type": "code",
      "metadata": {
        "id": "jMyXyjCebD0V",
        "colab": {
          "base_uri": "https://localhost:8080/"
        },
        "outputId": "f7a2ae53-b038-4c31-fad7-1b221ba744cc"
      },
      "source": [
        "full_path_to_file2 = os.path.join(S1_doubleA1A3_53) \n",
        "blob_service_client.get_blob_to_path('shadeimg', full_path_to_file2, full_path_to_file2)"
      ],
      "execution_count": null,
      "outputs": [
        {
          "output_type": "execute_result",
          "data": {
            "text/plain": [
              "<azure.storage.blob.models.Blob at 0x7f6865672e10>"
            ]
          },
          "metadata": {},
          "execution_count": 50
        }
      ]
    },
    {
      "cell_type": "code",
      "metadata": {
        "id": "Xhr__6lWbD0V",
        "colab": {
          "base_uri": "https://localhost:8080/"
        },
        "outputId": "e708a908-e709-4dec-f23e-06972e22d1fa"
      },
      "source": [
        "full_path_to_file2 = os.path.join(S1_doubleA1A4_3) \n",
        "blob_service_client.get_blob_to_path('shadeimg', full_path_to_file2, full_path_to_file2)"
      ],
      "execution_count": null,
      "outputs": [
        {
          "output_type": "execute_result",
          "data": {
            "text/plain": [
              "<azure.storage.blob.models.Blob at 0x7f6865681d90>"
            ]
          },
          "metadata": {},
          "execution_count": 51
        }
      ]
    },
    {
      "cell_type": "code",
      "metadata": {
        "id": "aIWAdCp9bD0X",
        "colab": {
          "base_uri": "https://localhost:8080/"
        },
        "outputId": "b74a107c-46be-4745-8608-ab66f0366869"
      },
      "source": [
        "full_path_to_file2 = os.path.join(S1_doubleA1B1_3) \n",
        "blob_service_client.get_blob_to_path('shadeimg', full_path_to_file2, full_path_to_file2)"
      ],
      "execution_count": null,
      "outputs": [
        {
          "output_type": "execute_result",
          "data": {
            "text/plain": [
              "<azure.storage.blob.models.Blob at 0x7f6865681250>"
            ]
          },
          "metadata": {},
          "execution_count": 52
        }
      ]
    },
    {
      "cell_type": "code",
      "metadata": {
        "id": "Wyyw5WjWbD0X",
        "colab": {
          "base_uri": "https://localhost:8080/"
        },
        "outputId": "503094f3-70ad-46a4-8245-9530fbfecdab"
      },
      "source": [
        "full_path_to_file2 = os.path.join(S1_doubleA1B2_3) \n",
        "blob_service_client.get_blob_to_path('shadeimg', full_path_to_file2, full_path_to_file2)"
      ],
      "execution_count": null,
      "outputs": [
        {
          "output_type": "execute_result",
          "data": {
            "text/plain": [
              "<azure.storage.blob.models.Blob at 0x7f68656591d0>"
            ]
          },
          "metadata": {},
          "execution_count": 53
        }
      ]
    },
    {
      "cell_type": "code",
      "metadata": {
        "id": "UBD9688ObD0Y",
        "colab": {
          "base_uri": "https://localhost:8080/"
        },
        "outputId": "dfb84de1-e240-40b2-e6bc-e53968ef4f60"
      },
      "source": [
        "full_path_to_file2 = os.path.join(S1_doubleA1B3_3) \n",
        "blob_service_client.get_blob_to_path('shadeimg', full_path_to_file2, full_path_to_file2)"
      ],
      "execution_count": null,
      "outputs": [
        {
          "output_type": "execute_result",
          "data": {
            "text/plain": [
              "<azure.storage.blob.models.Blob at 0x7f6865659ad0>"
            ]
          },
          "metadata": {},
          "execution_count": 54
        }
      ]
    },
    {
      "cell_type": "code",
      "metadata": {
        "id": "tgC5B66ObD0Z",
        "colab": {
          "base_uri": "https://localhost:8080/"
        },
        "outputId": "db88cde2-a25e-49a6-a7c7-a5361bd6ed0f"
      },
      "source": [
        "full_path_to_file2 = os.path.join(S1_doubleA1B4_3) \n",
        "blob_service_client.get_blob_to_path('shadeimg', full_path_to_file2, full_path_to_file2)"
      ],
      "execution_count": null,
      "outputs": [
        {
          "output_type": "execute_result",
          "data": {
            "text/plain": [
              "<azure.storage.blob.models.Blob at 0x7f68656c7850>"
            ]
          },
          "metadata": {},
          "execution_count": 55
        }
      ]
    },
    {
      "cell_type": "code",
      "metadata": {
        "id": "VsCusr4EbD0Z",
        "colab": {
          "base_uri": "https://localhost:8080/"
        },
        "outputId": "b34dccc4-4ccd-4f50-adae-ac36bbeed702"
      },
      "source": [
        "full_path_to_file2 = os.path.join(S1_doubleA1C1_3) \n",
        "blob_service_client.get_blob_to_path('shadeimg', full_path_to_file2, full_path_to_file2)"
      ],
      "execution_count": null,
      "outputs": [
        {
          "output_type": "execute_result",
          "data": {
            "text/plain": [
              "<azure.storage.blob.models.Blob at 0x7f68656721d0>"
            ]
          },
          "metadata": {},
          "execution_count": 56
        }
      ]
    },
    {
      "cell_type": "code",
      "metadata": {
        "id": "FzHMbp8JbD0a",
        "colab": {
          "base_uri": "https://localhost:8080/"
        },
        "outputId": "c9046b24-7135-4fd2-f1c7-3cf5210e54f4"
      },
      "source": [
        "full_path_to_file2 = os.path.join(S1_doubleA1C2_3) \n",
        "blob_service_client.get_blob_to_path('shadeimg', full_path_to_file2, full_path_to_file2)"
      ],
      "execution_count": null,
      "outputs": [
        {
          "output_type": "execute_result",
          "data": {
            "text/plain": [
              "<azure.storage.blob.models.Blob at 0x7f6865672910>"
            ]
          },
          "metadata": {},
          "execution_count": 57
        }
      ]
    },
    {
      "cell_type": "code",
      "metadata": {
        "id": "SukxYOEObD0a",
        "colab": {
          "base_uri": "https://localhost:8080/"
        },
        "outputId": "fbf12d69-6906-4b39-8431-15fdc5b7ed85"
      },
      "source": [
        "full_path_to_file2 = os.path.join(S1_doubleA1C3_3) \n",
        "blob_service_client.get_blob_to_path('shadeimg', full_path_to_file2, full_path_to_file2)"
      ],
      "execution_count": null,
      "outputs": [
        {
          "output_type": "execute_result",
          "data": {
            "text/plain": [
              "<azure.storage.blob.models.Blob at 0x7f686567e990>"
            ]
          },
          "metadata": {},
          "execution_count": 58
        }
      ]
    },
    {
      "cell_type": "code",
      "metadata": {
        "id": "Tv1u3tYmbD0d",
        "colab": {
          "base_uri": "https://localhost:8080/"
        },
        "outputId": "61968733-3234-4eea-ad54-30c4d6a51100"
      },
      "source": [
        "full_path_to_file2 = os.path.join(S1_doubleA1C4_3) \n",
        "blob_service_client.get_blob_to_path('shadeimg', full_path_to_file2, full_path_to_file2)"
      ],
      "execution_count": null,
      "outputs": [
        {
          "output_type": "execute_result",
          "data": {
            "text/plain": [
              "<azure.storage.blob.models.Blob at 0x7f686565b0d0>"
            ]
          },
          "metadata": {},
          "execution_count": 59
        }
      ]
    },
    {
      "cell_type": "code",
      "metadata": {
        "id": "6h7uJ_3NbD0e",
        "colab": {
          "base_uri": "https://localhost:8080/"
        },
        "outputId": "6cb32907-85dc-4b9b-bba1-d6d27fe9082e"
      },
      "source": [
        "full_path_to_file2 = os.path.join(S1_doubleA1D2_3) \n",
        "blob_service_client.get_blob_to_path('shadeimg', full_path_to_file2, full_path_to_file2)"
      ],
      "execution_count": null,
      "outputs": [
        {
          "output_type": "execute_result",
          "data": {
            "text/plain": [
              "<azure.storage.blob.models.Blob at 0x7f68656aed90>"
            ]
          },
          "metadata": {},
          "execution_count": 60
        }
      ]
    },
    {
      "cell_type": "code",
      "metadata": {
        "id": "XG429HjrbD0e",
        "colab": {
          "base_uri": "https://localhost:8080/"
        },
        "outputId": "3835c611-945b-4ce2-f3e6-b937300fec70"
      },
      "source": [
        "full_path_to_file2 = os.path.join(S1_doubleA1D3_3) \n",
        "blob_service_client.get_blob_to_path('shadeimg', full_path_to_file2, full_path_to_file2)"
      ],
      "execution_count": null,
      "outputs": [
        {
          "output_type": "execute_result",
          "data": {
            "text/plain": [
              "<azure.storage.blob.models.Blob at 0x7f6865672750>"
            ]
          },
          "metadata": {},
          "execution_count": 61
        }
      ]
    },
    {
      "cell_type": "code",
      "metadata": {
        "id": "t7KeVGgcbD0f",
        "colab": {
          "base_uri": "https://localhost:8080/"
        },
        "outputId": "2842fd01-05a7-400c-f0a7-92d8e70436ed"
      },
      "source": [
        "full_path_to_file2 = os.path.join(S1_doubleA1D4_3) \n",
        "blob_service_client.get_blob_to_path('shadeimg', full_path_to_file2, full_path_to_file2)"
      ],
      "execution_count": null,
      "outputs": [
        {
          "output_type": "execute_result",
          "data": {
            "text/plain": [
              "<azure.storage.blob.models.Blob at 0x7f68656c5210>"
            ]
          },
          "metadata": {},
          "execution_count": 62
        }
      ]
    },
    {
      "cell_type": "markdown",
      "metadata": {
        "id": "DwwnKHqXbD0f"
      },
      "source": [
        "###Img 4"
      ]
    },
    {
      "cell_type": "code",
      "metadata": {
        "id": "DMRu4-1FbWeJ",
        "colab": {
          "base_uri": "https://localhost:8080/"
        },
        "outputId": "74a14bf0-c148-4369-f926-95fb6456f0ea"
      },
      "source": [
        "full_path_to_file2 = os.path.join(S1_doubleA1A1_4) \n",
        "blob_service_client.get_blob_to_path('shadeimg', full_path_to_file2, full_path_to_file2)"
      ],
      "execution_count": null,
      "outputs": [
        {
          "output_type": "execute_result",
          "data": {
            "text/plain": [
              "<azure.storage.blob.models.Blob at 0x7f68656ae690>"
            ]
          },
          "metadata": {},
          "execution_count": 63
        }
      ]
    },
    {
      "cell_type": "code",
      "metadata": {
        "id": "zRYyKFZ9bWeK",
        "colab": {
          "base_uri": "https://localhost:8080/"
        },
        "outputId": "df216765-4d39-45f2-87dd-39de9af58d27"
      },
      "source": [
        "full_path_to_file2 = os.path.join(S1_doubleA1A2_4) \n",
        "blob_service_client.get_blob_to_path('shadeimg', full_path_to_file2, full_path_to_file2)"
      ],
      "execution_count": null,
      "outputs": [
        {
          "output_type": "execute_result",
          "data": {
            "text/plain": [
              "<azure.storage.blob.models.Blob at 0x7f68656d6750>"
            ]
          },
          "metadata": {},
          "execution_count": 64
        }
      ]
    },
    {
      "cell_type": "code",
      "metadata": {
        "id": "lidWpo37bWeK",
        "colab": {
          "base_uri": "https://localhost:8080/"
        },
        "outputId": "9032328b-03a8-48db-895e-e62fbd8c3950"
      },
      "source": [
        "full_path_to_file2 = os.path.join(S1_doubleA1A3_4) \n",
        "blob_service_client.get_blob_to_path('shadeimg', full_path_to_file2, full_path_to_file2)"
      ],
      "execution_count": null,
      "outputs": [
        {
          "output_type": "execute_result",
          "data": {
            "text/plain": [
              "<azure.storage.blob.models.Blob at 0x7f68656d69d0>"
            ]
          },
          "metadata": {},
          "execution_count": 65
        }
      ]
    },
    {
      "cell_type": "code",
      "metadata": {
        "id": "kgHPzfDYbWeL",
        "colab": {
          "base_uri": "https://localhost:8080/"
        },
        "outputId": "39f15b0d-3973-4674-9d48-8ead8a90ee97"
      },
      "source": [
        "full_path_to_file2 = os.path.join(S1_doubleA1A3_54) \n",
        "blob_service_client.get_blob_to_path('shadeimg', full_path_to_file2, full_path_to_file2)"
      ],
      "execution_count": null,
      "outputs": [
        {
          "output_type": "execute_result",
          "data": {
            "text/plain": [
              "<azure.storage.blob.models.Blob at 0x7f686567e410>"
            ]
          },
          "metadata": {},
          "execution_count": 66
        }
      ]
    },
    {
      "cell_type": "code",
      "metadata": {
        "id": "2m-rE5xdbWeL",
        "colab": {
          "base_uri": "https://localhost:8080/"
        },
        "outputId": "fcbfe5f2-d35d-47a6-aad4-f6c1dd6d0c26"
      },
      "source": [
        "full_path_to_file2 = os.path.join(S1_doubleA1A4_4) \n",
        "blob_service_client.get_blob_to_path('shadeimg', full_path_to_file2, full_path_to_file2)"
      ],
      "execution_count": null,
      "outputs": [
        {
          "output_type": "execute_result",
          "data": {
            "text/plain": [
              "<azure.storage.blob.models.Blob at 0x7f6865681c50>"
            ]
          },
          "metadata": {},
          "execution_count": 67
        }
      ]
    },
    {
      "cell_type": "code",
      "metadata": {
        "id": "P35XEE-8bWeL",
        "colab": {
          "base_uri": "https://localhost:8080/"
        },
        "outputId": "743fd4b0-9970-48ad-dfdc-c70815393729"
      },
      "source": [
        "full_path_to_file2 = os.path.join(S1_doubleA1B1_4) \n",
        "blob_service_client.get_blob_to_path('shadeimg', full_path_to_file2, full_path_to_file2)"
      ],
      "execution_count": null,
      "outputs": [
        {
          "output_type": "execute_result",
          "data": {
            "text/plain": [
              "<azure.storage.blob.models.Blob at 0x7f686568c7d0>"
            ]
          },
          "metadata": {},
          "execution_count": 68
        }
      ]
    },
    {
      "cell_type": "code",
      "metadata": {
        "id": "YYRlNsp1bWeM",
        "colab": {
          "base_uri": "https://localhost:8080/"
        },
        "outputId": "beeab7a0-0187-45b1-b7bd-5a526e9750db"
      },
      "source": [
        "full_path_to_file2 = os.path.join(S1_doubleA1B2_4) \n",
        "blob_service_client.get_blob_to_path('shadeimg', full_path_to_file2, full_path_to_file2)"
      ],
      "execution_count": null,
      "outputs": [
        {
          "output_type": "execute_result",
          "data": {
            "text/plain": [
              "<azure.storage.blob.models.Blob at 0x7f686568ca10>"
            ]
          },
          "metadata": {},
          "execution_count": 69
        }
      ]
    },
    {
      "cell_type": "code",
      "metadata": {
        "id": "OKicpqWtbWeM",
        "colab": {
          "base_uri": "https://localhost:8080/"
        },
        "outputId": "043aa10c-8420-489a-a0c5-20699ca6fe3e"
      },
      "source": [
        "full_path_to_file2 = os.path.join(S1_doubleA1B3_4) \n",
        "blob_service_client.get_blob_to_path('shadeimg', full_path_to_file2, full_path_to_file2)"
      ],
      "execution_count": null,
      "outputs": [
        {
          "output_type": "execute_result",
          "data": {
            "text/plain": [
              "<azure.storage.blob.models.Blob at 0x7f6865b279d0>"
            ]
          },
          "metadata": {},
          "execution_count": 70
        }
      ]
    },
    {
      "cell_type": "code",
      "metadata": {
        "id": "336FOeuDbWeM",
        "colab": {
          "base_uri": "https://localhost:8080/"
        },
        "outputId": "1d474dc4-7c8a-4ef0-8af4-69ea42f0be7c"
      },
      "source": [
        "full_path_to_file2 = os.path.join(S1_doubleA1B4_4) \n",
        "blob_service_client.get_blob_to_path('shadeimg', full_path_to_file2, full_path_to_file2)"
      ],
      "execution_count": null,
      "outputs": [
        {
          "output_type": "execute_result",
          "data": {
            "text/plain": [
              "<azure.storage.blob.models.Blob at 0x7f68656ae1d0>"
            ]
          },
          "metadata": {},
          "execution_count": 71
        }
      ]
    },
    {
      "cell_type": "code",
      "metadata": {
        "id": "Wy_IaQoDbWeN",
        "colab": {
          "base_uri": "https://localhost:8080/"
        },
        "outputId": "009a1c7a-f36a-4e8e-e5a1-8bc83be06684"
      },
      "source": [
        "full_path_to_file2 = os.path.join(S1_doubleA1C1_4) \n",
        "blob_service_client.get_blob_to_path('shadeimg', full_path_to_file2, full_path_to_file2)"
      ],
      "execution_count": null,
      "outputs": [
        {
          "output_type": "execute_result",
          "data": {
            "text/plain": [
              "<azure.storage.blob.models.Blob at 0x7f6865663310>"
            ]
          },
          "metadata": {},
          "execution_count": 72
        }
      ]
    },
    {
      "cell_type": "code",
      "metadata": {
        "id": "3FHNrdWqbWeN",
        "colab": {
          "base_uri": "https://localhost:8080/"
        },
        "outputId": "d6c4655c-4b1b-4ad0-fefa-55a6d562590d"
      },
      "source": [
        "full_path_to_file2 = os.path.join(S1_doubleA1C2_4) \n",
        "blob_service_client.get_blob_to_path('shadeimg', full_path_to_file2, full_path_to_file2)"
      ],
      "execution_count": null,
      "outputs": [
        {
          "output_type": "execute_result",
          "data": {
            "text/plain": [
              "<azure.storage.blob.models.Blob at 0x7f6865678490>"
            ]
          },
          "metadata": {},
          "execution_count": 73
        }
      ]
    },
    {
      "cell_type": "code",
      "metadata": {
        "id": "13rum4dNbWeN",
        "colab": {
          "base_uri": "https://localhost:8080/"
        },
        "outputId": "8e5c3287-427a-447d-87d2-dc3686e071d3"
      },
      "source": [
        "full_path_to_file2 = os.path.join(S1_doubleA1C3_4) \n",
        "blob_service_client.get_blob_to_path('shadeimg', full_path_to_file2, full_path_to_file2)"
      ],
      "execution_count": null,
      "outputs": [
        {
          "output_type": "execute_result",
          "data": {
            "text/plain": [
              "<azure.storage.blob.models.Blob at 0x7f686561c710>"
            ]
          },
          "metadata": {},
          "execution_count": 74
        }
      ]
    },
    {
      "cell_type": "code",
      "metadata": {
        "id": "Kw4IEitEbWeR",
        "colab": {
          "base_uri": "https://localhost:8080/"
        },
        "outputId": "7ae216b3-96c3-4c37-b288-d29b64f90594"
      },
      "source": [
        "full_path_to_file2 = os.path.join(S1_doubleA1C4_4) \n",
        "blob_service_client.get_blob_to_path('shadeimg', full_path_to_file2, full_path_to_file2)"
      ],
      "execution_count": null,
      "outputs": [
        {
          "output_type": "execute_result",
          "data": {
            "text/plain": [
              "<azure.storage.blob.models.Blob at 0x7f686561c390>"
            ]
          },
          "metadata": {},
          "execution_count": 75
        }
      ]
    },
    {
      "cell_type": "code",
      "metadata": {
        "id": "Qmgtor9LbWeS",
        "colab": {
          "base_uri": "https://localhost:8080/"
        },
        "outputId": "6243dd7c-d9ac-4d01-90ca-cf1337e95504"
      },
      "source": [
        "full_path_to_file2 = os.path.join(S1_doubleA1D2_4) \n",
        "blob_service_client.get_blob_to_path('shadeimg', full_path_to_file2, full_path_to_file2)"
      ],
      "execution_count": null,
      "outputs": [
        {
          "output_type": "execute_result",
          "data": {
            "text/plain": [
              "<azure.storage.blob.models.Blob at 0x7f6865678090>"
            ]
          },
          "metadata": {},
          "execution_count": 76
        }
      ]
    },
    {
      "cell_type": "code",
      "metadata": {
        "id": "2JHIpGlebWeS",
        "colab": {
          "base_uri": "https://localhost:8080/"
        },
        "outputId": "25ca1205-351e-432d-a2c2-ffd9ac28aa06"
      },
      "source": [
        "full_path_to_file2 = os.path.join(S1_doubleA1D3_4) \n",
        "blob_service_client.get_blob_to_path('shadeimg', full_path_to_file2, full_path_to_file2)"
      ],
      "execution_count": null,
      "outputs": [
        {
          "output_type": "execute_result",
          "data": {
            "text/plain": [
              "<azure.storage.blob.models.Blob at 0x7f6865620210>"
            ]
          },
          "metadata": {},
          "execution_count": 77
        }
      ]
    },
    {
      "cell_type": "code",
      "metadata": {
        "id": "EQcWyvujbWeS",
        "colab": {
          "base_uri": "https://localhost:8080/"
        },
        "outputId": "cc5a1dfd-a620-4670-800a-cc6dfd95ff85"
      },
      "source": [
        "full_path_to_file2 = os.path.join(S1_doubleA1D4_4) \n",
        "blob_service_client.get_blob_to_path('shadeimg', full_path_to_file2, full_path_to_file2)"
      ],
      "execution_count": null,
      "outputs": [
        {
          "output_type": "execute_result",
          "data": {
            "text/plain": [
              "<azure.storage.blob.models.Blob at 0x7f68656cad90>"
            ]
          },
          "metadata": {},
          "execution_count": 78
        }
      ]
    },
    {
      "cell_type": "markdown",
      "metadata": {
        "id": "ezvfgEdqbWeT"
      },
      "source": [
        "###Img 5"
      ]
    },
    {
      "cell_type": "code",
      "metadata": {
        "id": "yoR9sgpTbmP7",
        "colab": {
          "base_uri": "https://localhost:8080/"
        },
        "outputId": "91e30f97-dbdf-4c8a-c846-cb79350b6a41"
      },
      "source": [
        "full_path_to_file2 = os.path.join(S1_doubleA1A1_5) \n",
        "blob_service_client.get_blob_to_path('shadeimg', full_path_to_file2, full_path_to_file2)"
      ],
      "execution_count": null,
      "outputs": [
        {
          "output_type": "execute_result",
          "data": {
            "text/plain": [
              "<azure.storage.blob.models.Blob at 0x7f686567e490>"
            ]
          },
          "metadata": {},
          "execution_count": 79
        }
      ]
    },
    {
      "cell_type": "code",
      "metadata": {
        "id": "qQ4h1WnhbmP8",
        "colab": {
          "base_uri": "https://localhost:8080/"
        },
        "outputId": "259b4748-3462-4d7f-b7a9-b21d74f379da"
      },
      "source": [
        "full_path_to_file2 = os.path.join(S1_doubleA1A2_5) \n",
        "blob_service_client.get_blob_to_path('shadeimg', full_path_to_file2, full_path_to_file2)"
      ],
      "execution_count": null,
      "outputs": [
        {
          "output_type": "execute_result",
          "data": {
            "text/plain": [
              "<azure.storage.blob.models.Blob at 0x7f686561ca50>"
            ]
          },
          "metadata": {},
          "execution_count": 80
        }
      ]
    },
    {
      "cell_type": "code",
      "metadata": {
        "id": "x_iwy9albmP8",
        "colab": {
          "base_uri": "https://localhost:8080/"
        },
        "outputId": "a89f0bfb-1079-4f8a-901e-f4bf0239bcff"
      },
      "source": [
        "full_path_to_file2 = os.path.join(S1_doubleA1A3_5) \n",
        "blob_service_client.get_blob_to_path('shadeimg', full_path_to_file2, full_path_to_file2)"
      ],
      "execution_count": null,
      "outputs": [
        {
          "output_type": "execute_result",
          "data": {
            "text/plain": [
              "<azure.storage.blob.models.Blob at 0x7f686561c6d0>"
            ]
          },
          "metadata": {},
          "execution_count": 81
        }
      ]
    },
    {
      "cell_type": "code",
      "metadata": {
        "id": "49xnybwnbmP9",
        "colab": {
          "base_uri": "https://localhost:8080/"
        },
        "outputId": "b5a7167e-df3d-46dd-b2c4-dd7a1a1dea15"
      },
      "source": [
        "full_path_to_file2 = os.path.join(S1_doubleA1A3_55) \n",
        "blob_service_client.get_blob_to_path('shadeimg', full_path_to_file2, full_path_to_file2)"
      ],
      "execution_count": null,
      "outputs": [
        {
          "output_type": "execute_result",
          "data": {
            "text/plain": [
              "<azure.storage.blob.models.Blob at 0x7f6865629390>"
            ]
          },
          "metadata": {},
          "execution_count": 82
        }
      ]
    },
    {
      "cell_type": "code",
      "metadata": {
        "id": "2qPaEWIHbmP9",
        "colab": {
          "base_uri": "https://localhost:8080/"
        },
        "outputId": "40aea138-0b0a-4d08-89f8-193ddbc0ca24"
      },
      "source": [
        "full_path_to_file2 = os.path.join(S1_doubleA1A4_5) \n",
        "blob_service_client.get_blob_to_path('shadeimg', full_path_to_file2, full_path_to_file2)"
      ],
      "execution_count": null,
      "outputs": [
        {
          "output_type": "execute_result",
          "data": {
            "text/plain": [
              "<azure.storage.blob.models.Blob at 0x7f6865b27750>"
            ]
          },
          "metadata": {},
          "execution_count": 83
        }
      ]
    },
    {
      "cell_type": "code",
      "metadata": {
        "id": "NCLFk_7-bmP-",
        "colab": {
          "base_uri": "https://localhost:8080/"
        },
        "outputId": "b4c30873-d60f-474d-d841-d537a653f9f2"
      },
      "source": [
        "full_path_to_file2 = os.path.join(S1_doubleA1B1_5) \n",
        "blob_service_client.get_blob_to_path('shadeimg', full_path_to_file2, full_path_to_file2)"
      ],
      "execution_count": null,
      "outputs": [
        {
          "output_type": "execute_result",
          "data": {
            "text/plain": [
              "<azure.storage.blob.models.Blob at 0x7f6865628e90>"
            ]
          },
          "metadata": {},
          "execution_count": 84
        }
      ]
    },
    {
      "cell_type": "code",
      "metadata": {
        "id": "7q2YWqaibmP_",
        "colab": {
          "base_uri": "https://localhost:8080/"
        },
        "outputId": "2262ba83-d91f-401c-9b2e-a8fc664f541e"
      },
      "source": [
        "full_path_to_file2 = os.path.join(S1_doubleA1B2_5) \n",
        "blob_service_client.get_blob_to_path('shadeimg', full_path_to_file2, full_path_to_file2)"
      ],
      "execution_count": null,
      "outputs": [
        {
          "output_type": "execute_result",
          "data": {
            "text/plain": [
              "<azure.storage.blob.models.Blob at 0x7f6865635310>"
            ]
          },
          "metadata": {},
          "execution_count": 85
        }
      ]
    },
    {
      "cell_type": "code",
      "metadata": {
        "id": "_5O9dHpobmQA",
        "colab": {
          "base_uri": "https://localhost:8080/"
        },
        "outputId": "cb4b8a66-bfee-44fd-94d9-68de1a750597"
      },
      "source": [
        "full_path_to_file2 = os.path.join(S1_doubleA1B3_5) \n",
        "blob_service_client.get_blob_to_path('shadeimg', full_path_to_file2, full_path_to_file2)"
      ],
      "execution_count": null,
      "outputs": [
        {
          "output_type": "execute_result",
          "data": {
            "text/plain": [
              "<azure.storage.blob.models.Blob at 0x7f68656599d0>"
            ]
          },
          "metadata": {},
          "execution_count": 86
        }
      ]
    },
    {
      "cell_type": "code",
      "metadata": {
        "id": "JSI7Q1QibmQB",
        "colab": {
          "base_uri": "https://localhost:8080/"
        },
        "outputId": "b8c17de5-6442-476c-de26-b161e6d70ce9"
      },
      "source": [
        "full_path_to_file2 = os.path.join(S1_doubleA1B4_5) \n",
        "blob_service_client.get_blob_to_path('shadeimg', full_path_to_file2, full_path_to_file2)"
      ],
      "execution_count": null,
      "outputs": [
        {
          "output_type": "execute_result",
          "data": {
            "text/plain": [
              "<azure.storage.blob.models.Blob at 0x7f68656aeed0>"
            ]
          },
          "metadata": {},
          "execution_count": 87
        }
      ]
    },
    {
      "cell_type": "code",
      "metadata": {
        "id": "gkbg-IqBbmQD",
        "colab": {
          "base_uri": "https://localhost:8080/"
        },
        "outputId": "afbe3f97-dd6f-470c-feef-6d702a5838d9"
      },
      "source": [
        "full_path_to_file2 = os.path.join(S1_doubleA1C1_5) \n",
        "blob_service_client.get_blob_to_path('shadeimg', full_path_to_file2, full_path_to_file2)"
      ],
      "execution_count": null,
      "outputs": [
        {
          "output_type": "execute_result",
          "data": {
            "text/plain": [
              "<azure.storage.blob.models.Blob at 0x7f6865628890>"
            ]
          },
          "metadata": {},
          "execution_count": 88
        }
      ]
    },
    {
      "cell_type": "code",
      "metadata": {
        "id": "2NX90r4EbmQD",
        "colab": {
          "base_uri": "https://localhost:8080/"
        },
        "outputId": "f16511fd-a6a8-4bfa-bc55-ddcb9aef1b7e"
      },
      "source": [
        "full_path_to_file2 = os.path.join(S1_doubleA1C2_5) \n",
        "blob_service_client.get_blob_to_path('shadeimg', full_path_to_file2, full_path_to_file2)"
      ],
      "execution_count": null,
      "outputs": [
        {
          "output_type": "execute_result",
          "data": {
            "text/plain": [
              "<azure.storage.blob.models.Blob at 0x7f686567ddd0>"
            ]
          },
          "metadata": {},
          "execution_count": 89
        }
      ]
    },
    {
      "cell_type": "code",
      "metadata": {
        "id": "UoqalvodbmQE",
        "colab": {
          "base_uri": "https://localhost:8080/"
        },
        "outputId": "827a5b4d-be2f-4d9a-acde-88e49cad0d5c"
      },
      "source": [
        "full_path_to_file2 = os.path.join(S1_doubleA1C3_5) \n",
        "blob_service_client.get_blob_to_path('shadeimg', full_path_to_file2, full_path_to_file2)"
      ],
      "execution_count": null,
      "outputs": [
        {
          "output_type": "execute_result",
          "data": {
            "text/plain": [
              "<azure.storage.blob.models.Blob at 0x7f68656280d0>"
            ]
          },
          "metadata": {},
          "execution_count": 90
        }
      ]
    },
    {
      "cell_type": "code",
      "metadata": {
        "id": "96--GVnebmQE",
        "colab": {
          "base_uri": "https://localhost:8080/"
        },
        "outputId": "9cc65b93-f2c8-4beb-f6b4-c0a7f839629e"
      },
      "source": [
        "full_path_to_file2 = os.path.join(S1_doubleA1C4_5) \n",
        "blob_service_client.get_blob_to_path('shadeimg', full_path_to_file2, full_path_to_file2)"
      ],
      "execution_count": null,
      "outputs": [
        {
          "output_type": "execute_result",
          "data": {
            "text/plain": [
              "<azure.storage.blob.models.Blob at 0x7f686563f050>"
            ]
          },
          "metadata": {},
          "execution_count": 91
        }
      ]
    },
    {
      "cell_type": "code",
      "metadata": {
        "id": "4IJdoMddbmQF",
        "colab": {
          "base_uri": "https://localhost:8080/"
        },
        "outputId": "e464ddcd-e6fd-4543-c728-40a333c65a26"
      },
      "source": [
        "full_path_to_file2 = os.path.join(S1_doubleA1D2_5) \n",
        "blob_service_client.get_blob_to_path('shadeimg', full_path_to_file2, full_path_to_file2)"
      ],
      "execution_count": null,
      "outputs": [
        {
          "output_type": "execute_result",
          "data": {
            "text/plain": [
              "<azure.storage.blob.models.Blob at 0x7f686563fad0>"
            ]
          },
          "metadata": {},
          "execution_count": 92
        }
      ]
    },
    {
      "cell_type": "code",
      "metadata": {
        "id": "YZzMUE6DbmQF",
        "colab": {
          "base_uri": "https://localhost:8080/"
        },
        "outputId": "ae3ae54b-4af3-4719-9979-e05e3b4f5f0f"
      },
      "source": [
        "full_path_to_file2 = os.path.join(S1_doubleA1D3_5) \n",
        "blob_service_client.get_blob_to_path('shadeimg', full_path_to_file2, full_path_to_file2)"
      ],
      "execution_count": null,
      "outputs": [
        {
          "output_type": "execute_result",
          "data": {
            "text/plain": [
              "<azure.storage.blob.models.Blob at 0x7f6865643550>"
            ]
          },
          "metadata": {},
          "execution_count": 93
        }
      ]
    },
    {
      "cell_type": "code",
      "metadata": {
        "id": "OoBgpK07bmQG",
        "colab": {
          "base_uri": "https://localhost:8080/"
        },
        "outputId": "0eed6b2e-097b-4cac-9cad-4c195be7853c"
      },
      "source": [
        "full_path_to_file2 = os.path.join(S1_doubleA1D4_5) \n",
        "blob_service_client.get_blob_to_path('shadeimg', full_path_to_file2, full_path_to_file2)"
      ],
      "execution_count": null,
      "outputs": [
        {
          "output_type": "execute_result",
          "data": {
            "text/plain": [
              "<azure.storage.blob.models.Blob at 0x7f6865629b50>"
            ]
          },
          "metadata": {},
          "execution_count": 94
        }
      ]
    },
    {
      "cell_type": "markdown",
      "metadata": {
        "id": "MtmXOojtqN4x"
      },
      "source": [
        "#3. BGR to RGB"
      ]
    },
    {
      "cell_type": "code",
      "metadata": {
        "id": "s8SS5YJfrpRC"
      },
      "source": [
        "import cv2\n",
        "from matplotlib import pyplot as plt #การเรียกใช้คำสั่ง matplotlib เพื่อวาดกราฟ โดยแทนชื่อ matplotlib ด้วย plt\n",
        "import matplotlib"
      ],
      "execution_count": null,
      "outputs": []
    },
    {
      "cell_type": "markdown",
      "metadata": {
        "id": "tngQqkwA41EB"
      },
      "source": [
        "##Set1"
      ]
    },
    {
      "cell_type": "code",
      "metadata": {
        "id": "pjV8Jh9u4VyJ"
      },
      "source": [
        "imgS1_A1A1_1  = cv2.imread(S1_doubleA1A1_1)\n",
        "S1RGB_imgA1A1_1= cv2.cvtColor(imgS1_A1A1_1, cv2.COLOR_BGR2RGB)"
      ],
      "execution_count": null,
      "outputs": []
    },
    {
      "cell_type": "code",
      "metadata": {
        "id": "Ixg-SNyU46Lp"
      },
      "source": [
        "imgS1_A1A2_1  = cv2.imread(S1_doubleA1A2_1)\n",
        "S1RGB_imgA1A2_1= cv2.cvtColor(imgS1_A1A2_1, cv2.COLOR_BGR2RGB)"
      ],
      "execution_count": null,
      "outputs": []
    },
    {
      "cell_type": "code",
      "metadata": {
        "id": "a4-_mkF-4-te"
      },
      "source": [
        "imgS1_A1A3_1  = cv2.imread(S1_doubleA1A3_1)\n",
        "S1RGB_imgA1A3_1= cv2.cvtColor(imgS1_A1A3_1, cv2.COLOR_BGR2RGB)"
      ],
      "execution_count": null,
      "outputs": []
    },
    {
      "cell_type": "code",
      "metadata": {
        "id": "uRs18zEK5EM3"
      },
      "source": [
        "imgS1_A1A3_51  = cv2.imread(S1_doubleA1A3_51)\n",
        "S1RGB_imgA1A3_51= cv2.cvtColor(imgS1_A1A3_51, cv2.COLOR_BGR2RGB)"
      ],
      "execution_count": null,
      "outputs": []
    },
    {
      "cell_type": "code",
      "metadata": {
        "id": "LCju5Eai5fV4"
      },
      "source": [
        "imgS1_A1A4_1  = cv2.imread(S1_doubleA1A4_1)\n",
        "S1RGB_imgA1A4_1= cv2.cvtColor(imgS1_A1A4_1, cv2.COLOR_BGR2RGB)"
      ],
      "execution_count": null,
      "outputs": []
    },
    {
      "cell_type": "code",
      "metadata": {
        "id": "sMwRM7yO5llo"
      },
      "source": [
        "imgS1_A1B1_1  = cv2.imread(S1_doubleA1B1_1)\n",
        "S1RGB_imgA1B1_1= cv2.cvtColor(imgS1_A1B1_1, cv2.COLOR_BGR2RGB)"
      ],
      "execution_count": null,
      "outputs": []
    },
    {
      "cell_type": "code",
      "metadata": {
        "id": "B8Efejup5llo"
      },
      "source": [
        "imgS1_A1B2_1  = cv2.imread(S1_doubleA1B2_1)\n",
        "S1RGB_imgA1B2_1= cv2.cvtColor(imgS1_A1B2_1, cv2.COLOR_BGR2RGB)"
      ],
      "execution_count": null,
      "outputs": []
    },
    {
      "cell_type": "code",
      "metadata": {
        "id": "j7fi0Nn95llo"
      },
      "source": [
        "imgS1_A1B3_1  = cv2.imread(S1_doubleA1A3_1)\n",
        "S1RGB_imgA1B3_1= cv2.cvtColor(imgS1_A1A3_1, cv2.COLOR_BGR2RGB)"
      ],
      "execution_count": null,
      "outputs": []
    },
    {
      "cell_type": "code",
      "metadata": {
        "id": "Hxs3fQUU5llp"
      },
      "source": [
        "imgS1_A1B4_1  = cv2.imread(S1_doubleA1B4_1)\n",
        "S1RGB_imgA1B4_1= cv2.cvtColor(imgS1_A1B4_1, cv2.COLOR_BGR2RGB)"
      ],
      "execution_count": null,
      "outputs": []
    },
    {
      "cell_type": "code",
      "metadata": {
        "id": "IaQDpBeS6Oa_"
      },
      "source": [
        "imgS1_A1C1_1  = cv2.imread(S1_doubleA1C1_1)\n",
        "S1RGB_imgA1C1_1= cv2.cvtColor(imgS1_A1C1_1, cv2.COLOR_BGR2RGB)"
      ],
      "execution_count": null,
      "outputs": []
    },
    {
      "cell_type": "code",
      "metadata": {
        "id": "wuQ_nyPB6Oa_"
      },
      "source": [
        "imgS1_A1C2_1  = cv2.imread(S1_doubleA1C2_1)\n",
        "S1RGB_imgA1C2_1= cv2.cvtColor(imgS1_A1C2_1, cv2.COLOR_BGR2RGB)"
      ],
      "execution_count": null,
      "outputs": []
    },
    {
      "cell_type": "code",
      "metadata": {
        "id": "wAdSVg_I6Oa_"
      },
      "source": [
        "imgS1_A1C3_1  = cv2.imread(S1_doubleA1C3_1)\n",
        "S1RGB_imgA1C3_1= cv2.cvtColor(imgS1_A1C3_1, cv2.COLOR_BGR2RGB)"
      ],
      "execution_count": null,
      "outputs": []
    },
    {
      "cell_type": "code",
      "metadata": {
        "id": "XeLavKSo6Oa_"
      },
      "source": [
        "imgS1_A1C4_1  = cv2.imread(S1_doubleA1C4_1)\n",
        "S1RGB_imgA1C4_1= cv2.cvtColor(imgS1_A1C4_1, cv2.COLOR_BGR2RGB)"
      ],
      "execution_count": null,
      "outputs": []
    },
    {
      "cell_type": "code",
      "metadata": {
        "id": "SP6HGOWx6hmP"
      },
      "source": [
        "imgS1_A1D2_1  = cv2.imread(S1_doubleA1D2_1)\n",
        "S1RGB_imgA1D2_1= cv2.cvtColor(imgS1_A1D2_1, cv2.COLOR_BGR2RGB)"
      ],
      "execution_count": null,
      "outputs": []
    },
    {
      "cell_type": "code",
      "metadata": {
        "id": "2d2cV-Ew6hmP"
      },
      "source": [
        "imgS1_A1D3_1  = cv2.imread(S1_doubleA1D3_1)\n",
        "S1RGB_imgA1D3_1= cv2.cvtColor(imgS1_A1D3_1, cv2.COLOR_BGR2RGB)"
      ],
      "execution_count": null,
      "outputs": []
    },
    {
      "cell_type": "code",
      "metadata": {
        "id": "doH48ypZ6hmQ"
      },
      "source": [
        "imgS1_A1D4_1  = cv2.imread(S1_doubleA1D4_1)\n",
        "S1RGB_imgA1D4_1= cv2.cvtColor(imgS1_A1D4_1, cv2.COLOR_BGR2RGB)\n"
      ],
      "execution_count": null,
      "outputs": []
    },
    {
      "cell_type": "markdown",
      "metadata": {
        "id": "4jc2tCMd3aaF"
      },
      "source": [
        "###Img 2"
      ]
    },
    {
      "cell_type": "code",
      "metadata": {
        "id": "So6yuaEr3ryQ"
      },
      "source": [
        "imgS1_A1A1_2 = cv2.imread(S1_doubleA1A1_2)\n",
        "S1RGB_imgA1A1_2= cv2.cvtColor(imgS1_A1A1_2, cv2.COLOR_BGR2RGB)"
      ],
      "execution_count": null,
      "outputs": []
    },
    {
      "cell_type": "code",
      "metadata": {
        "id": "A43KPfbl3ryR"
      },
      "source": [
        "imgS1_A1A2_2 = cv2.imread(S1_doubleA1A2_2)\n",
        "S1RGB_imgA1A2_2= cv2.cvtColor(imgS1_A1A2_2, cv2.COLOR_BGR2RGB)"
      ],
      "execution_count": null,
      "outputs": []
    },
    {
      "cell_type": "code",
      "metadata": {
        "id": "4RUkrGTu3ryR"
      },
      "source": [
        "imgS1_A1A3_2= cv2.imread(S1_doubleA1A3_2)\n",
        "S1RGB_imgA1A3_2= cv2.cvtColor(imgS1_A1A3_2, cv2.COLOR_BGR2RGB)"
      ],
      "execution_count": null,
      "outputs": []
    },
    {
      "cell_type": "code",
      "metadata": {
        "id": "ct6nUk0T3ryS"
      },
      "source": [
        "imgS1_A1A3_52  = cv2.imread(S1_doubleA1A3_52)\n",
        "S1RGB_imgA1A3_52= cv2.cvtColor(imgS1_A1A3_52, cv2.COLOR_BGR2RGB)"
      ],
      "execution_count": null,
      "outputs": []
    },
    {
      "cell_type": "code",
      "metadata": {
        "id": "q7f1CXA63ryS"
      },
      "source": [
        "imgS1_A1A4_2 = cv2.imread(S1_doubleA1A4_2)\n",
        "S1RGB_imgA1A4_2= cv2.cvtColor(imgS1_A1A4_2, cv2.COLOR_BGR2RGB)"
      ],
      "execution_count": null,
      "outputs": []
    },
    {
      "cell_type": "code",
      "metadata": {
        "id": "LOtSOlyk3ryT"
      },
      "source": [
        "imgS1_A1B1_2= cv2.imread(S1_doubleA1B1_2)\n",
        "S1RGB_imgA1B1_2= cv2.cvtColor(imgS1_A1B1_2, cv2.COLOR_BGR2RGB)"
      ],
      "execution_count": null,
      "outputs": []
    },
    {
      "cell_type": "code",
      "metadata": {
        "id": "vad5Kh6m3ryT"
      },
      "source": [
        "imgS1_A1B2_2 = cv2.imread(S1_doubleA1B2_2)\n",
        "S1RGB_imgA1B2_2= cv2.cvtColor(imgS1_A1B2_2, cv2.COLOR_BGR2RGB)"
      ],
      "execution_count": null,
      "outputs": []
    },
    {
      "cell_type": "code",
      "metadata": {
        "id": "OsPpLa_93ryU"
      },
      "source": [
        "imgS1_A1B3_2  = cv2.imread(S1_doubleA1B3_2)\n",
        "S1RGB_imgA1B3_2= cv2.cvtColor(imgS1_A1B3_2, cv2.COLOR_BGR2RGB)"
      ],
      "execution_count": null,
      "outputs": []
    },
    {
      "cell_type": "code",
      "metadata": {
        "id": "sPa30Up03ryU"
      },
      "source": [
        "imgS1_A1B4_2 = cv2.imread(S1_doubleA1B4_2)\n",
        "S1RGB_imgA1B4_2= cv2.cvtColor(imgS1_A1B4_2, cv2.COLOR_BGR2RGB)"
      ],
      "execution_count": null,
      "outputs": []
    },
    {
      "cell_type": "code",
      "metadata": {
        "id": "iL1zzD113ryU"
      },
      "source": [
        "imgS1_A1C1_2  = cv2.imread(S1_doubleA1C1_2)\n",
        "S1RGB_imgA1C1_2= cv2.cvtColor(imgS1_A1C1_2, cv2.COLOR_BGR2RGB)"
      ],
      "execution_count": null,
      "outputs": []
    },
    {
      "cell_type": "code",
      "metadata": {
        "id": "4bWsc2EG3ryU"
      },
      "source": [
        "imgS1_A1C2_2  = cv2.imread(S1_doubleA1C2_2)\n",
        "S1RGB_imgA1C2_2= cv2.cvtColor(imgS1_A1C2_2, cv2.COLOR_BGR2RGB)"
      ],
      "execution_count": null,
      "outputs": []
    },
    {
      "cell_type": "code",
      "metadata": {
        "id": "0yka-wm-3ryU"
      },
      "source": [
        "imgS1_A1C3_2  = cv2.imread(S1_doubleA1C3_2)\n",
        "S1RGB_imgA1C3_2= cv2.cvtColor(imgS1_A1C3_2, cv2.COLOR_BGR2RGB)"
      ],
      "execution_count": null,
      "outputs": []
    },
    {
      "cell_type": "code",
      "metadata": {
        "id": "iF159ThN3ryV"
      },
      "source": [
        "imgS1_A1C4_2 = cv2.imread(S1_doubleA1C4_2)\n",
        "S1RGB_imgA1C4_2= cv2.cvtColor(imgS1_A1C4_2, cv2.COLOR_BGR2RGB)"
      ],
      "execution_count": null,
      "outputs": []
    },
    {
      "cell_type": "code",
      "metadata": {
        "id": "ZlraPlFh3ryV"
      },
      "source": [
        "imgS1_A1D2_2 = cv2.imread(S1_doubleA1D2_2)\n",
        "S1RGB_imgA1D2_2= cv2.cvtColor(imgS1_A1D2_2, cv2.COLOR_BGR2RGB)"
      ],
      "execution_count": null,
      "outputs": []
    },
    {
      "cell_type": "code",
      "metadata": {
        "id": "3pkScZ_m3ryV"
      },
      "source": [
        "imgS1_A1D3_2 = cv2.imread(S1_doubleA1D3_2)\n",
        "S1RGB_imgA1D3_2= cv2.cvtColor(imgS1_A1D3_2, cv2.COLOR_BGR2RGB)"
      ],
      "execution_count": null,
      "outputs": []
    },
    {
      "cell_type": "code",
      "metadata": {
        "id": "QfZq6X_y3ryV"
      },
      "source": [
        "imgS1_A1D4_2  = cv2.imread(S1_doubleA1D4_2)\n",
        "S1RGB_imgA1D4_2= cv2.cvtColor(imgS1_A1D4_2, cv2.COLOR_BGR2RGB)"
      ],
      "execution_count": null,
      "outputs": []
    },
    {
      "cell_type": "markdown",
      "metadata": {
        "id": "tqrpB_Os47oU"
      },
      "source": [
        "###Img 3"
      ]
    },
    {
      "cell_type": "code",
      "metadata": {
        "id": "qnjaDhn4BbYi"
      },
      "source": [
        "imgS1_A1A1_3= cv2.imread(S1_doubleA1A1_3)\n",
        "S1RGB_imgA1A1_3= cv2.cvtColor(imgS1_A1A1_3, cv2.COLOR_BGR2RGB)"
      ],
      "execution_count": null,
      "outputs": []
    },
    {
      "cell_type": "code",
      "metadata": {
        "id": "mC6JpzhLBbYi"
      },
      "source": [
        "imgS1_A1A2_3 = cv2.imread(S1_doubleA1A2_3)\n",
        "S1RGB_imgA1A2_3= cv2.cvtColor(imgS1_A1A2_3, cv2.COLOR_BGR2RGB)"
      ],
      "execution_count": null,
      "outputs": []
    },
    {
      "cell_type": "code",
      "metadata": {
        "id": "pClXvqiWBbYi"
      },
      "source": [
        "imgS1_A1A3_3= cv2.imread(S1_doubleA1A3_3)\n",
        "S1RGB_imgA1A3_3= cv2.cvtColor(imgS1_A1A3_3, cv2.COLOR_BGR2RGB)"
      ],
      "execution_count": null,
      "outputs": []
    },
    {
      "cell_type": "code",
      "metadata": {
        "id": "X5f1ECCSBbYj"
      },
      "source": [
        "imgS1_A1A3_53  = cv2.imread(S1_doubleA1A3_53)\n",
        "S1RGB_imgA1A3_53= cv2.cvtColor(imgS1_A1A3_53, cv2.COLOR_BGR2RGB)"
      ],
      "execution_count": null,
      "outputs": []
    },
    {
      "cell_type": "code",
      "metadata": {
        "id": "dlH5LoyjBbYj"
      },
      "source": [
        "imgS1_A1A4_3  = cv2.imread(S1_doubleA1A4_3)\n",
        "S1RGB_imgA1A4_3= cv2.cvtColor(imgS1_A1A4_3, cv2.COLOR_BGR2RGB)"
      ],
      "execution_count": null,
      "outputs": []
    },
    {
      "cell_type": "code",
      "metadata": {
        "id": "eqyRvv91BbYj"
      },
      "source": [
        "imgS1_A1B1_3  = cv2.imread(S1_doubleA1B1_3)\n",
        "S1RGB_imgA1B1_3= cv2.cvtColor(imgS1_A1B1_3, cv2.COLOR_BGR2RGB)"
      ],
      "execution_count": null,
      "outputs": []
    },
    {
      "cell_type": "code",
      "metadata": {
        "id": "FPBJS2RvBbYj"
      },
      "source": [
        "imgS1_A1B2_3 = cv2.imread(S1_doubleA1B2_3)\n",
        "S1RGB_imgA1B2_3= cv2.cvtColor(imgS1_A1B2_3, cv2.COLOR_BGR2RGB)"
      ],
      "execution_count": null,
      "outputs": []
    },
    {
      "cell_type": "code",
      "metadata": {
        "id": "S_FCPFhpBbYk"
      },
      "source": [
        "imgS1_A1B3_3  = cv2.imread(S1_doubleA1B3_3)\n",
        "S1RGB_imgA1B3_3= cv2.cvtColor(imgS1_A1B3_3, cv2.COLOR_BGR2RGB)"
      ],
      "execution_count": null,
      "outputs": []
    },
    {
      "cell_type": "code",
      "metadata": {
        "id": "9llJohbEBbYk"
      },
      "source": [
        "imgS1_A1B4_3  = cv2.imread(S1_doubleA1B4_3)\n",
        "S1RGB_imgA1B4_3= cv2.cvtColor(imgS1_A1B4_3, cv2.COLOR_BGR2RGB)"
      ],
      "execution_count": null,
      "outputs": []
    },
    {
      "cell_type": "code",
      "metadata": {
        "id": "qwYNqoAyBbYk"
      },
      "source": [
        "imgS1_A1C1_3  = cv2.imread(S1_doubleA1C1_3)\n",
        "S1RGB_imgA1C1_3= cv2.cvtColor(imgS1_A1C1_3, cv2.COLOR_BGR2RGB)"
      ],
      "execution_count": null,
      "outputs": []
    },
    {
      "cell_type": "code",
      "metadata": {
        "id": "snEaWInQBbYk"
      },
      "source": [
        "imgS1_A1C2_3  = cv2.imread(S1_doubleA1C2_3)\n",
        "S1RGB_imgA1C2_3= cv2.cvtColor(imgS1_A1C2_3, cv2.COLOR_BGR2RGB)"
      ],
      "execution_count": null,
      "outputs": []
    },
    {
      "cell_type": "code",
      "metadata": {
        "id": "X9620UvLBbYl"
      },
      "source": [
        "imgS1_A1C3_3  = cv2.imread(S1_doubleA1C3_3)\n",
        "S1RGB_imgA1C3_3= cv2.cvtColor(imgS1_A1C3_3, cv2.COLOR_BGR2RGB)"
      ],
      "execution_count": null,
      "outputs": []
    },
    {
      "cell_type": "code",
      "metadata": {
        "id": "tgIXRH3jBbYl"
      },
      "source": [
        "imgS1_A1C4_3 = cv2.imread(S1_doubleA1C4_3)\n",
        "S1RGB_imgA1C4_3= cv2.cvtColor(imgS1_A1C4_3, cv2.COLOR_BGR2RGB)"
      ],
      "execution_count": null,
      "outputs": []
    },
    {
      "cell_type": "code",
      "metadata": {
        "id": "qG0YgksUBbYl"
      },
      "source": [
        "imgS1_A1D2_3  = cv2.imread(S1_doubleA1D2_3)\n",
        "S1RGB_imgA1D2_3= cv2.cvtColor(imgS1_A1D2_3, cv2.COLOR_BGR2RGB)"
      ],
      "execution_count": null,
      "outputs": []
    },
    {
      "cell_type": "code",
      "metadata": {
        "id": "Kd-yEV9GBbYl"
      },
      "source": [
        "imgS1_A1D3_3 = cv2.imread(S1_doubleA1D3_3)\n",
        "S1RGB_imgA1D3_3= cv2.cvtColor(imgS1_A1D3_3, cv2.COLOR_BGR2RGB)"
      ],
      "execution_count": null,
      "outputs": []
    },
    {
      "cell_type": "code",
      "metadata": {
        "id": "TaMZz1b3BbYl"
      },
      "source": [
        "imgS1_A1D4_3  = cv2.imread(S1_doubleA1D4_3)\n",
        "S1RGB_imgA1D4_3= cv2.cvtColor(imgS1_A1D4_3, cv2.COLOR_BGR2RGB)"
      ],
      "execution_count": null,
      "outputs": []
    },
    {
      "cell_type": "markdown",
      "metadata": {
        "id": "8HAr-rxC4_k1"
      },
      "source": [
        "###Img 4"
      ]
    },
    {
      "cell_type": "code",
      "metadata": {
        "id": "g4jKPr0uBcvq"
      },
      "source": [
        "imgS1_A1A1_4 = cv2.imread(S1_doubleA1A1_4)\n",
        "S1RGB_imgA1A1_4= cv2.cvtColor(imgS1_A1A1_4, cv2.COLOR_BGR2RGB)"
      ],
      "execution_count": null,
      "outputs": []
    },
    {
      "cell_type": "code",
      "metadata": {
        "id": "J1VpRs4BBcvq"
      },
      "source": [
        "imgS1_A1A2_4  = cv2.imread(S1_doubleA1A2_4)\n",
        "S1RGB_imgA1A2_4= cv2.cvtColor(imgS1_A1A2_4, cv2.COLOR_BGR2RGB)"
      ],
      "execution_count": null,
      "outputs": []
    },
    {
      "cell_type": "code",
      "metadata": {
        "id": "UC_NJfhFBcvr"
      },
      "source": [
        "imgS1_A1A3_4= cv2.imread(S1_doubleA1A3_4)\n",
        "S1RGB_imgA1A3_4= cv2.cvtColor(imgS1_A1A3_4, cv2.COLOR_BGR2RGB)"
      ],
      "execution_count": null,
      "outputs": []
    },
    {
      "cell_type": "code",
      "metadata": {
        "id": "uj3YrwWNBcvr"
      },
      "source": [
        "imgS1_A1A3_54  = cv2.imread(S1_doubleA1A3_54)\n",
        "S1RGB_imgA1A3_54= cv2.cvtColor(imgS1_A1A3_54, cv2.COLOR_BGR2RGB)"
      ],
      "execution_count": null,
      "outputs": []
    },
    {
      "cell_type": "code",
      "metadata": {
        "id": "0d76TQUvBcvr"
      },
      "source": [
        "imgS1_A1A4_4  = cv2.imread(S1_doubleA1A4_4)\n",
        "S1RGB_imgA1A4_4= cv2.cvtColor(imgS1_A1A4_4, cv2.COLOR_BGR2RGB)"
      ],
      "execution_count": null,
      "outputs": []
    },
    {
      "cell_type": "code",
      "metadata": {
        "id": "Vw6AnPuqBcvr"
      },
      "source": [
        "imgS1_A1B1_4  = cv2.imread(S1_doubleA1B1_4)\n",
        "S1RGB_imgA1B1_4= cv2.cvtColor(imgS1_A1B1_4, cv2.COLOR_BGR2RGB)"
      ],
      "execution_count": null,
      "outputs": []
    },
    {
      "cell_type": "code",
      "metadata": {
        "id": "WfZ31gymBcvs"
      },
      "source": [
        "imgS1_A1B2_4 = cv2.imread(S1_doubleA1B2_4)\n",
        "S1RGB_imgA1B2_4= cv2.cvtColor(imgS1_A1B2_4, cv2.COLOR_BGR2RGB)"
      ],
      "execution_count": null,
      "outputs": []
    },
    {
      "cell_type": "code",
      "metadata": {
        "id": "Jy1q8GkdBcvs"
      },
      "source": [
        "imgS1_A1B3_4  = cv2.imread(S1_doubleA1B3_4)\n",
        "S1RGB_imgA1B3_4= cv2.cvtColor(imgS1_A1B3_4, cv2.COLOR_BGR2RGB)"
      ],
      "execution_count": null,
      "outputs": []
    },
    {
      "cell_type": "code",
      "metadata": {
        "id": "mosWDaYTBcvs"
      },
      "source": [
        "imgS1_A1B4_4  = cv2.imread(S1_doubleA1B4_4)\n",
        "S1RGB_imgA1B4_4= cv2.cvtColor(imgS1_A1B4_4, cv2.COLOR_BGR2RGB)"
      ],
      "execution_count": null,
      "outputs": []
    },
    {
      "cell_type": "code",
      "metadata": {
        "id": "Zn6GAg7YBcvs"
      },
      "source": [
        "imgS1_A1C1_4 = cv2.imread(S1_doubleA1C1_4)\n",
        "S1RGB_imgA1C1_4= cv2.cvtColor(imgS1_A1C1_4, cv2.COLOR_BGR2RGB)"
      ],
      "execution_count": null,
      "outputs": []
    },
    {
      "cell_type": "code",
      "metadata": {
        "id": "hA89zQxlBcvs"
      },
      "source": [
        "imgS1_A1C2_4  = cv2.imread(S1_doubleA1C2_4)\n",
        "S1RGB_imgA1C2_4= cv2.cvtColor(imgS1_A1C2_4, cv2.COLOR_BGR2RGB)"
      ],
      "execution_count": null,
      "outputs": []
    },
    {
      "cell_type": "code",
      "metadata": {
        "id": "BVXfA3-rBcvt"
      },
      "source": [
        "imgS1_A1C3_4 = cv2.imread(S1_doubleA1C3_4)\n",
        "S1RGB_imgA1C3_4= cv2.cvtColor(imgS1_A1C3_4, cv2.COLOR_BGR2RGB)"
      ],
      "execution_count": null,
      "outputs": []
    },
    {
      "cell_type": "code",
      "metadata": {
        "id": "9g4GjJUYBcvt"
      },
      "source": [
        "imgS1_A1C4_4  = cv2.imread(S1_doubleA1C4_4)\n",
        "S1RGB_imgA1C4_4= cv2.cvtColor(imgS1_A1C4_4, cv2.COLOR_BGR2RGB)"
      ],
      "execution_count": null,
      "outputs": []
    },
    {
      "cell_type": "code",
      "metadata": {
        "id": "uKQr6NqZBcvt"
      },
      "source": [
        "imgS1_A1D2_4  = cv2.imread(S1_doubleA1D2_4)\n",
        "S1RGB_imgA1D2_4= cv2.cvtColor(imgS1_A1D2_4, cv2.COLOR_BGR2RGB)"
      ],
      "execution_count": null,
      "outputs": []
    },
    {
      "cell_type": "code",
      "metadata": {
        "id": "kLuX8ZnhBcvt"
      },
      "source": [
        "imgS1_A1D3_4  = cv2.imread(S1_doubleA1D3_4)\n",
        "S1RGB_imgA1D3_4= cv2.cvtColor(imgS1_A1D3_4, cv2.COLOR_BGR2RGB)"
      ],
      "execution_count": null,
      "outputs": []
    },
    {
      "cell_type": "code",
      "metadata": {
        "id": "4Wv16eSBBcvt"
      },
      "source": [
        "imgS1_A1D4_4 = cv2.imread(S1_doubleA1D4_4)\n",
        "S1RGB_imgA1D4_4= cv2.cvtColor(imgS1_A1D4_4, cv2.COLOR_BGR2RGB)"
      ],
      "execution_count": null,
      "outputs": []
    },
    {
      "cell_type": "markdown",
      "metadata": {
        "id": "X3iT_Wiz5DpR"
      },
      "source": [
        "###Img 5"
      ]
    },
    {
      "cell_type": "code",
      "metadata": {
        "id": "CjMVLKCxBeRS"
      },
      "source": [
        "imgS1_A1A1_5 = cv2.imread(S1_doubleA1A1_5)\n",
        "S1RGB_imgA1A1_5= cv2.cvtColor(imgS1_A1A1_5, cv2.COLOR_BGR2RGB)"
      ],
      "execution_count": null,
      "outputs": []
    },
    {
      "cell_type": "code",
      "metadata": {
        "id": "zdchQeWkBeRS"
      },
      "source": [
        "imgS1_A1A2_5 = cv2.imread(S1_doubleA1A2_5)\n",
        "S1RGB_imgA1A2_5= cv2.cvtColor(imgS1_A1A2_5, cv2.COLOR_BGR2RGB)"
      ],
      "execution_count": null,
      "outputs": []
    },
    {
      "cell_type": "code",
      "metadata": {
        "id": "EzpY1UnzBeRS"
      },
      "source": [
        "imgS1_A1A3_5= cv2.imread(S1_doubleA1A3_5)\n",
        "S1RGB_imgA1A3_5= cv2.cvtColor(imgS1_A1A3_5, cv2.COLOR_BGR2RGB)"
      ],
      "execution_count": null,
      "outputs": []
    },
    {
      "cell_type": "code",
      "metadata": {
        "id": "D6TUam19BeRS"
      },
      "source": [
        "imgS1_A1A3_55  = cv2.imread(S1_doubleA1A3_55)\n",
        "S1RGB_imgA1A3_55= cv2.cvtColor(imgS1_A1A3_55, cv2.COLOR_BGR2RGB)"
      ],
      "execution_count": null,
      "outputs": []
    },
    {
      "cell_type": "code",
      "metadata": {
        "id": "C0CUpNy5BeRT"
      },
      "source": [
        "imgS1_A1A4_5  = cv2.imread(S1_doubleA1A4_5)\n",
        "S1RGB_imgA1A4_5= cv2.cvtColor(imgS1_A1A4_5, cv2.COLOR_BGR2RGB)"
      ],
      "execution_count": null,
      "outputs": []
    },
    {
      "cell_type": "code",
      "metadata": {
        "id": "UnX_C87OBeRT"
      },
      "source": [
        "imgS1_A1B1_5  = cv2.imread(S1_doubleA1B1_5)\n",
        "S1RGB_imgA1B1_5= cv2.cvtColor(imgS1_A1B1_5, cv2.COLOR_BGR2RGB)"
      ],
      "execution_count": null,
      "outputs": []
    },
    {
      "cell_type": "code",
      "metadata": {
        "id": "NefKy34wBeRT"
      },
      "source": [
        "imgS1_A1B2_5  = cv2.imread(S1_doubleA1B2_5)\n",
        "S1RGB_imgA1B2_5= cv2.cvtColor(imgS1_A1B2_5, cv2.COLOR_BGR2RGB)"
      ],
      "execution_count": null,
      "outputs": []
    },
    {
      "cell_type": "code",
      "metadata": {
        "id": "cgBKD1QjBeRT"
      },
      "source": [
        "imgS1_A1B3_5  = cv2.imread(S1_doubleA1B3_5)\n",
        "S1RGB_imgA1B3_5= cv2.cvtColor(imgS1_A1B3_5, cv2.COLOR_BGR2RGB)"
      ],
      "execution_count": null,
      "outputs": []
    },
    {
      "cell_type": "code",
      "metadata": {
        "id": "LZy0yHz_BeRT"
      },
      "source": [
        "imgS1_A1B4_5  = cv2.imread(S1_doubleA1B4_5)\n",
        "S1RGB_imgA1B4_5= cv2.cvtColor(imgS1_A1B4_5, cv2.COLOR_BGR2RGB)"
      ],
      "execution_count": null,
      "outputs": []
    },
    {
      "cell_type": "code",
      "metadata": {
        "id": "AitdnaXmBeRT"
      },
      "source": [
        "imgS1_A1C1_5 = cv2.imread(S1_doubleA1C1_5)\n",
        "S1RGB_imgA1C1_5= cv2.cvtColor(imgS1_A1C1_5, cv2.COLOR_BGR2RGB)"
      ],
      "execution_count": null,
      "outputs": []
    },
    {
      "cell_type": "code",
      "metadata": {
        "id": "0T9gIsmGBeRT"
      },
      "source": [
        "imgS1_A1C2_5  = cv2.imread(S1_doubleA1C2_5)\n",
        "S1RGB_imgA1C2_5= cv2.cvtColor(imgS1_A1C2_5, cv2.COLOR_BGR2RGB)"
      ],
      "execution_count": null,
      "outputs": []
    },
    {
      "cell_type": "code",
      "metadata": {
        "id": "R_boTzJGBeRU"
      },
      "source": [
        "imgS1_A1C3_5  = cv2.imread(S1_doubleA1C3_5)\n",
        "S1RGB_imgA1C3_5= cv2.cvtColor(imgS1_A1C3_5, cv2.COLOR_BGR2RGB)"
      ],
      "execution_count": null,
      "outputs": []
    },
    {
      "cell_type": "code",
      "metadata": {
        "id": "77BGXH-zBeRU"
      },
      "source": [
        "imgS1_A1C4_5= cv2.imread(S1_doubleA1C4_5)\n",
        "S1RGB_imgA1C4_5= cv2.cvtColor(imgS1_A1C4_5, cv2.COLOR_BGR2RGB)"
      ],
      "execution_count": null,
      "outputs": []
    },
    {
      "cell_type": "code",
      "metadata": {
        "id": "YOgaE0JMBeRU"
      },
      "source": [
        "imgS1_A1D2_5 = cv2.imread(S1_doubleA1D2_5)\n",
        "S1RGB_imgA1D2_5= cv2.cvtColor(imgS1_A1D2_5, cv2.COLOR_BGR2RGB)"
      ],
      "execution_count": null,
      "outputs": []
    },
    {
      "cell_type": "code",
      "metadata": {
        "id": "2v6CAl8cBeRU"
      },
      "source": [
        "imgS1_A1D3_5  = cv2.imread(S1_doubleA1D3_5)\n",
        "S1RGB_imgA1D3_5= cv2.cvtColor(imgS1_A1D3_5, cv2.COLOR_BGR2RGB)"
      ],
      "execution_count": null,
      "outputs": []
    },
    {
      "cell_type": "code",
      "metadata": {
        "id": "hk4wNYyhBeRU"
      },
      "source": [
        "imgS1_A1D4_5  = cv2.imread(S1_doubleA1D4_5)\n",
        "S1RGB_imgA1D4_5= cv2.cvtColor(imgS1_A1D4_5, cv2.COLOR_BGR2RGB)"
      ],
      "execution_count": null,
      "outputs": []
    },
    {
      "cell_type": "markdown",
      "metadata": {
        "id": "4XyCaNz1YAzf"
      },
      "source": [
        "#4. ฺBGR TO HSV"
      ]
    },
    {
      "cell_type": "markdown",
      "metadata": {
        "id": "1H0qQCcKOTUC"
      },
      "source": [
        "##Set1"
      ]
    },
    {
      "cell_type": "code",
      "metadata": {
        "id": "V7LoW4sLYP0V",
        "colab": {
          "base_uri": "https://localhost:8080/"
        },
        "outputId": "78b6ebf3-b386-41c4-d919-fb8a054b66bd"
      },
      "source": [
        "S1_A1A1_1img  = cv2.imread(S1_doubleA1A1_1)\n",
        "S1HSV_imgA1A1_1= cv2.cvtColor(S1_A1A1_1img, cv2.COLOR_BGR2HSV)\n",
        "plt.imshow(S1HSV_imgA1A1_1)"
      ],
      "execution_count": null,
      "outputs": [
        {
          "output_type": "execute_result",
          "data": {
            "text/plain": [
              "<matplotlib.image.AxesImage at 0x7f686565bb10>"
            ]
          },
          "metadata": {},
          "execution_count": 177
        },
        {
          "output_type": "display_data",
          "data": {
            "image/png": "[encoded data removed]",
            "text/plain": [
              "<Figure size 432x288 with 1 Axes>"
            ]
          },
          "metadata": {
            "needs_background": "light"
          }
        }
      ]
    },
    {
      "cell_type": "code",
      "metadata": {
        "id": "se8UQIFwnL8I"
      },
      "source": [
        "S1_A1A2_1img  = cv2.imread(S1_doubleA1A2_1)\n",
        "S1HSV_imgA1A2_1= cv2.cvtColor(S1_A1A2_1img, cv2.COLOR_BGR2HSV)"
      ],
      "execution_count": null,
      "outputs": []
    },
    {
      "cell_type": "code",
      "metadata": {
        "id": "NlS3nnjpnMIQ"
      },
      "source": [
        "S1_A1A3_1img  = cv2.imread(S1_doubleA1A3_1)\n",
        "S1HSV_imgA1A3_1= cv2.cvtColor(S1_A1A3_1img, cv2.COLOR_BGR2HSV)"
      ],
      "execution_count": null,
      "outputs": []
    },
    {
      "cell_type": "code",
      "metadata": {
        "id": "gaiV37Atm-qM"
      },
      "source": [
        "S1_A1A3_51img  = cv2.imread(S1_doubleA1A3_51)\n",
        "S1HSV_imgA1A3_51= cv2.cvtColor(S1_A1A3_51img, cv2.COLOR_BGR2HSV)"
      ],
      "execution_count": null,
      "outputs": []
    },
    {
      "cell_type": "code",
      "metadata": {
        "id": "b3l1xgJWm-r6"
      },
      "source": [
        "S1_A1A4_1img  = cv2.imread(S1_doubleA1A4_1)\n",
        "S1HSV_imgA1A4_1= cv2.cvtColor(S1_A1A4_1img, cv2.COLOR_BGR2HSV)"
      ],
      "execution_count": null,
      "outputs": []
    },
    {
      "cell_type": "code",
      "metadata": {
        "id": "w26dE2E2m-ui"
      },
      "source": [
        "S1_A1B1_1img  = cv2.imread(S1_doubleA1B1_1)\n",
        "S1HSV_imgA1B1_1= cv2.cvtColor(S1_A1B1_1img, cv2.COLOR_BGR2HSV)"
      ],
      "execution_count": null,
      "outputs": []
    },
    {
      "cell_type": "code",
      "metadata": {
        "id": "qq4hEemVm-wd"
      },
      "source": [
        "S1_A1B2_1img  = cv2.imread(S1_doubleA1B2_1)\n",
        "S1HSV_imgA1B2_1= cv2.cvtColor(S1_A1B2_1img, cv2.COLOR_BGR2HSV)"
      ],
      "execution_count": null,
      "outputs": []
    },
    {
      "cell_type": "code",
      "metadata": {
        "id": "9TyEGSZmp7wg"
      },
      "source": [
        "S1_A1B3_1img  = cv2.imread(S1_doubleA1B3_1)\n",
        "S1HSV_imgA1B3_1= cv2.cvtColor(S1_A1B3_1img, cv2.COLOR_BGR2HSV)"
      ],
      "execution_count": null,
      "outputs": []
    },
    {
      "cell_type": "code",
      "metadata": {
        "id": "8fg70FdZm-0y"
      },
      "source": [
        "S1_A1B4_1img  = cv2.imread(S1_doubleA1B4_1)\n",
        "S1HSV_imgA1B4_1= cv2.cvtColor(S1_A1B4_1img, cv2.COLOR_BGR2HSV)"
      ],
      "execution_count": null,
      "outputs": []
    },
    {
      "cell_type": "code",
      "metadata": {
        "id": "86KJ5WjYqLAs"
      },
      "source": [
        "S1_A1C1_1img  = cv2.imread(S1_doubleA1C1_1)\n",
        "S1HSV_imgA1C1_1= cv2.cvtColor(S1_A1C1_1img, cv2.COLOR_BGR2HSV)"
      ],
      "execution_count": null,
      "outputs": []
    },
    {
      "cell_type": "code",
      "metadata": {
        "id": "4o2oKmb-qLDu"
      },
      "source": [
        "S1_A1C2_1img  = cv2.imread(S1_doubleA1C2_1)\n",
        "S1HSV_imgA1C2_1= cv2.cvtColor(S1_A1C2_1img, cv2.COLOR_BGR2HSV)"
      ],
      "execution_count": null,
      "outputs": []
    },
    {
      "cell_type": "code",
      "metadata": {
        "id": "0pGWlEU1qLHp"
      },
      "source": [
        "S1_A1C3_1img  = cv2.imread(S1_doubleA1C3_1)\n",
        "S1HSV_imgA1C3_1= cv2.cvtColor(S1_A1C3_1img, cv2.COLOR_BGR2HSV)"
      ],
      "execution_count": null,
      "outputs": []
    },
    {
      "cell_type": "code",
      "metadata": {
        "id": "IZQIfJ4iqLKb"
      },
      "source": [
        "S1_A1C4_1img  = cv2.imread(S1_doubleA1C4_1)\n",
        "S1HSV_imgA1C4_1= cv2.cvtColor(S1_A1C4_1img, cv2.COLOR_BGR2HSV)"
      ],
      "execution_count": null,
      "outputs": []
    },
    {
      "cell_type": "code",
      "metadata": {
        "id": "k_K9BBJpqLOi"
      },
      "source": [
        "S1_A1D2_1img  = cv2.imread(S1_doubleA1D2_1)\n",
        "S1HSV_imgA1D2_1= cv2.cvtColor(S1_A1D2_1img, cv2.COLOR_BGR2HSV)"
      ],
      "execution_count": null,
      "outputs": []
    },
    {
      "cell_type": "code",
      "metadata": {
        "id": "v6YEm_v5quL_"
      },
      "source": [
        "S1_A1D3_1img  = cv2.imread(S1_doubleA1D3_1)\n",
        "S1HSV_imgA1D3_1= cv2.cvtColor(S1_A1D3_1img, cv2.COLOR_BGR2HSV)"
      ],
      "execution_count": null,
      "outputs": []
    },
    {
      "cell_type": "code",
      "metadata": {
        "id": "SMvBLdQxm-3f"
      },
      "source": [
        "S1_A1D4_1img  = cv2.imread(S1_doubleA1D4_1)\n",
        "S1HSV_imgA1D4_1= cv2.cvtColor(S1_A1D4_1img, cv2.COLOR_BGR2HSV)"
      ],
      "execution_count": null,
      "outputs": []
    },
    {
      "cell_type": "markdown",
      "metadata": {
        "id": "qObWjRD83Rd-"
      },
      "source": [
        "###Img 2"
      ]
    },
    {
      "cell_type": "code",
      "metadata": {
        "id": "OoihHNQe3ReA"
      },
      "source": [
        "S1_A1A1_2img  = cv2.imread(S1_doubleA1A1_2)\n",
        "S1HSV_imgA1A1_2= cv2.cvtColor(S1_A1A1_2img, cv2.COLOR_BGR2HSV)"
      ],
      "execution_count": null,
      "outputs": []
    },
    {
      "cell_type": "code",
      "metadata": {
        "id": "F1TsjfTZ3ReC"
      },
      "source": [
        "S1_A1A2_2img  = cv2.imread(S1_doubleA1A2_2)\n",
        "S1HSV_imgA1A2_2= cv2.cvtColor(S1_A1A2_2img, cv2.COLOR_BGR2HSV)"
      ],
      "execution_count": null,
      "outputs": []
    },
    {
      "cell_type": "code",
      "metadata": {
        "id": "ZYGZB2C73ReE"
      },
      "source": [
        "S1_A1A3_2img  = cv2.imread(S1_doubleA1A3_2)\n",
        "S1HSV_imgA1A3_2= cv2.cvtColor(S1_A1A3_2img, cv2.COLOR_BGR2HSV)"
      ],
      "execution_count": null,
      "outputs": []
    },
    {
      "cell_type": "code",
      "metadata": {
        "id": "ec2o9E_D3ReF"
      },
      "source": [
        "S1_A1A3_52img  = cv2.imread(S1_doubleA1A3_52)\n",
        "S1HSV_imgA1A3_52= cv2.cvtColor(S1_A1A3_52img, cv2.COLOR_BGR2HSV)"
      ],
      "execution_count": null,
      "outputs": []
    },
    {
      "cell_type": "code",
      "metadata": {
        "id": "5B0KlpML3ReG"
      },
      "source": [
        "S1_A1A4_2img  = cv2.imread(S1_doubleA1A4_2)\n",
        "S1HSV_imgA1A4_2= cv2.cvtColor(S1_A1A4_2img, cv2.COLOR_BGR2HSV)"
      ],
      "execution_count": null,
      "outputs": []
    },
    {
      "cell_type": "code",
      "metadata": {
        "id": "VxlQM87C3ReI"
      },
      "source": [
        "S1_A1B1_2img  = cv2.imread(S1_doubleA1B1_2)\n",
        "S1HSV_imgA1B1_2= cv2.cvtColor(S1_A1B1_2img, cv2.COLOR_BGR2HSV)"
      ],
      "execution_count": null,
      "outputs": []
    },
    {
      "cell_type": "code",
      "metadata": {
        "id": "zDvA_m3D3ReJ"
      },
      "source": [
        "S1_A1B2_2img  = cv2.imread(S1_doubleA1B2_2)\n",
        "S1HSV_imgA1B2_2= cv2.cvtColor(S1_A1B2_2img, cv2.COLOR_BGR2HSV)"
      ],
      "execution_count": null,
      "outputs": []
    },
    {
      "cell_type": "code",
      "metadata": {
        "id": "HunSHsYL3ReJ"
      },
      "source": [
        "S1_A1B3_2img  = cv2.imread(S1_doubleA1B3_2)\n",
        "S1HSV_imgA1B3_2= cv2.cvtColor(S1_A1B3_2img, cv2.COLOR_BGR2HSV)"
      ],
      "execution_count": null,
      "outputs": []
    },
    {
      "cell_type": "code",
      "metadata": {
        "id": "sQ10cu6F3ReK"
      },
      "source": [
        "S1_A1B4_2img  = cv2.imread(S1_doubleA1B4_2)\n",
        "S1HSV_imgA1B4_2= cv2.cvtColor(S1_A1B4_2img, cv2.COLOR_BGR2HSV)"
      ],
      "execution_count": null,
      "outputs": []
    },
    {
      "cell_type": "code",
      "metadata": {
        "id": "0L_Ye0L53ReK"
      },
      "source": [
        "S1_A1C1_2img  = cv2.imread(S1_doubleA1C1_2)\n",
        "S1HSV_imgA1C1_2= cv2.cvtColor(S1_A1C1_2img, cv2.COLOR_BGR2HSV)"
      ],
      "execution_count": null,
      "outputs": []
    },
    {
      "cell_type": "code",
      "metadata": {
        "id": "lkkb5qPC3ReL"
      },
      "source": [
        "S1_A1C2_2img  = cv2.imread(S1_doubleA1C2_2)\n",
        "S1HSV_imgA1C2_2= cv2.cvtColor(S1_A1C2_2img, cv2.COLOR_BGR2HSV)"
      ],
      "execution_count": null,
      "outputs": []
    },
    {
      "cell_type": "code",
      "metadata": {
        "id": "5njJuwFU3ReL"
      },
      "source": [
        "S1_A1C3_2img  = cv2.imread(S1_doubleA1C3_2)\n",
        "S1HSV_imgA1C3_2= cv2.cvtColor(S1_A1C3_2img, cv2.COLOR_BGR2HSV)"
      ],
      "execution_count": null,
      "outputs": []
    },
    {
      "cell_type": "code",
      "metadata": {
        "id": "MK4Q2h7r3ReM"
      },
      "source": [
        "S1_A1C4_2img  = cv2.imread(S1_doubleA1C4_2)\n",
        "S1HSV_imgA1C4_2= cv2.cvtColor(S1_A1C4_2img, cv2.COLOR_BGR2HSV)"
      ],
      "execution_count": null,
      "outputs": []
    },
    {
      "cell_type": "code",
      "metadata": {
        "id": "NU2-pD7A3ReN"
      },
      "source": [
        "S1_A1D2_2img  = cv2.imread(S1_doubleA1D2_2)\n",
        "S1HSV_imgA1D2_2= cv2.cvtColor(S1_A1D2_2img, cv2.COLOR_BGR2HSV)"
      ],
      "execution_count": null,
      "outputs": []
    },
    {
      "cell_type": "code",
      "metadata": {
        "id": "3oqaBClV3ReO"
      },
      "source": [
        "S1_A1D3_2img  = cv2.imread(S1_doubleA1D3_2)\n",
        "S1HSV_imgA1D3_2= cv2.cvtColor(S1_A1D3_2img, cv2.COLOR_BGR2HSV)"
      ],
      "execution_count": null,
      "outputs": []
    },
    {
      "cell_type": "code",
      "metadata": {
        "id": "BMzs70573ReO"
      },
      "source": [
        "S1_A1D4_2img  = cv2.imread(S1_doubleA1D4_2)\n",
        "S1HSV_imgA1D4_2= cv2.cvtColor(S1_A1D4_2img, cv2.COLOR_BGR2HSV)"
      ],
      "execution_count": null,
      "outputs": []
    },
    {
      "cell_type": "markdown",
      "metadata": {
        "id": "bFUmz21i_tVm"
      },
      "source": [
        "###Img 3"
      ]
    },
    {
      "cell_type": "code",
      "metadata": {
        "id": "oGky0MDF_tVm"
      },
      "source": [
        "S1_A1A1_3img  = cv2.imread(S1_doubleA1A1_3)\n",
        "S1HSV_imgA1A1_3= cv2.cvtColor(S1_A1A1_3img, cv2.COLOR_BGR2HSV)"
      ],
      "execution_count": null,
      "outputs": []
    },
    {
      "cell_type": "code",
      "metadata": {
        "id": "kVW8ETpP_tVn"
      },
      "source": [
        "S1_A1A2_3img  = cv2.imread(S1_doubleA1A2_3)\n",
        "S1HSV_imgA1A2_3= cv2.cvtColor(S1_A1A2_3img, cv2.COLOR_BGR2HSV)"
      ],
      "execution_count": null,
      "outputs": []
    },
    {
      "cell_type": "code",
      "metadata": {
        "id": "_GpoJFcy_tVn"
      },
      "source": [
        "S1_A1A3_3img  = cv2.imread(S1_doubleA1A3_3)\n",
        "S1HSV_imgA1A3_3= cv2.cvtColor(S1_A1A3_3img, cv2.COLOR_BGR2HSV)"
      ],
      "execution_count": null,
      "outputs": []
    },
    {
      "cell_type": "code",
      "metadata": {
        "id": "e75LT_fq_tVo"
      },
      "source": [
        "S1_A1A3_53img  = cv2.imread(S1_doubleA1A3_53)\n",
        "S1HSV_imgA1A3_53= cv2.cvtColor(S1_A1A3_53img, cv2.COLOR_BGR2HSV)"
      ],
      "execution_count": null,
      "outputs": []
    },
    {
      "cell_type": "code",
      "metadata": {
        "id": "e0dWinlE_tVp"
      },
      "source": [
        "S1_A1A4_3img  = cv2.imread(S1_doubleA1A4_3)\n",
        "S1HSV_imgA1A4_3= cv2.cvtColor(S1_A1A4_3img, cv2.COLOR_BGR2HSV)"
      ],
      "execution_count": null,
      "outputs": []
    },
    {
      "cell_type": "code",
      "metadata": {
        "id": "1qUpWuoD_tVq"
      },
      "source": [
        "S1_A1B1_3img  = cv2.imread(S1_doubleA1B1_3)\n",
        "S1HSV_imgA1B1_3= cv2.cvtColor(S1_A1B1_3img, cv2.COLOR_BGR2HSV)"
      ],
      "execution_count": null,
      "outputs": []
    },
    {
      "cell_type": "code",
      "metadata": {
        "id": "meA5JBPl_tVq"
      },
      "source": [
        "S1_A1B2_3img  = cv2.imread(S1_doubleA1B2_3)\n",
        "S1HSV_imgA1B2_3= cv2.cvtColor(S1_A1B2_3img, cv2.COLOR_BGR2HSV)"
      ],
      "execution_count": null,
      "outputs": []
    },
    {
      "cell_type": "code",
      "metadata": {
        "id": "B_qHavHx_tVr"
      },
      "source": [
        "S1_A1B3_3img  = cv2.imread(S1_doubleA1B3_3)\n",
        "S1HSV_imgA1B3_3= cv2.cvtColor(S1_A1B3_3img, cv2.COLOR_BGR2HSV)"
      ],
      "execution_count": null,
      "outputs": []
    },
    {
      "cell_type": "code",
      "metadata": {
        "id": "EnJTqOB5_tVr"
      },
      "source": [
        "S1_A1B4_3img  = cv2.imread(S1_doubleA1B4_3)\n",
        "S1HSV_imgA1B4_3= cv2.cvtColor(S1_A1B4_3img, cv2.COLOR_BGR2HSV)"
      ],
      "execution_count": null,
      "outputs": []
    },
    {
      "cell_type": "code",
      "metadata": {
        "id": "EyglWL31_tVr"
      },
      "source": [
        "S1_A1C1_3img  = cv2.imread(S1_doubleA1C1_3)\n",
        "S1HSV_imgA1C1_3= cv2.cvtColor(S1_A1C1_3img, cv2.COLOR_BGR2HSV)"
      ],
      "execution_count": null,
      "outputs": []
    },
    {
      "cell_type": "code",
      "metadata": {
        "id": "mkeSyWjy_tVs"
      },
      "source": [
        "S1_A1C2_3img  = cv2.imread(S1_doubleA1C2_3)\n",
        "S1HSV_imgA1C2_3= cv2.cvtColor(S1_A1C2_3img, cv2.COLOR_BGR2HSV)"
      ],
      "execution_count": null,
      "outputs": []
    },
    {
      "cell_type": "code",
      "metadata": {
        "id": "H3Pcx5LX_tVs"
      },
      "source": [
        "S1_A1C3_3img  = cv2.imread(S1_doubleA1C3_3)\n",
        "S1HSV_imgA1C3_3= cv2.cvtColor(S1_A1C3_3img, cv2.COLOR_BGR2HSV)"
      ],
      "execution_count": null,
      "outputs": []
    },
    {
      "cell_type": "code",
      "metadata": {
        "id": "ArQb5moQ_tVs"
      },
      "source": [
        "S1_A1C4_3img  = cv2.imread(S1_doubleA1C4_3)\n",
        "S1HSV_imgA1C4_3= cv2.cvtColor(S1_A1C4_3img, cv2.COLOR_BGR2HSV)"
      ],
      "execution_count": null,
      "outputs": []
    },
    {
      "cell_type": "code",
      "metadata": {
        "id": "_TMKeA90_tVt"
      },
      "source": [
        "S1_A1D2_3img  = cv2.imread(S1_doubleA1D2_3)\n",
        "S1HSV_imgA1D2_3= cv2.cvtColor(S1_A1D2_3img, cv2.COLOR_BGR2HSV)"
      ],
      "execution_count": null,
      "outputs": []
    },
    {
      "cell_type": "code",
      "metadata": {
        "id": "_BwtlVjY_tVt"
      },
      "source": [
        "S1_A1D3_3img  = cv2.imread(S1_doubleA1D3_3)\n",
        "S1HSV_imgA1D3_3= cv2.cvtColor(S1_A1D3_3img, cv2.COLOR_BGR2HSV)"
      ],
      "execution_count": null,
      "outputs": []
    },
    {
      "cell_type": "code",
      "metadata": {
        "id": "edUZFY5S_tVt"
      },
      "source": [
        "S1_A1D4_3img  = cv2.imread(S1_doubleA1D4_3)\n",
        "S1HSV_imgA1D4_3= cv2.cvtColor(S1_A1D4_3img, cv2.COLOR_BGR2HSV)"
      ],
      "execution_count": null,
      "outputs": []
    },
    {
      "cell_type": "markdown",
      "metadata": {
        "id": "bCeJwUQR_zU1"
      },
      "source": [
        "###Img 4"
      ]
    },
    {
      "cell_type": "code",
      "metadata": {
        "id": "0mzTwWTX_zU2"
      },
      "source": [
        "S1_A1A1_4img  = cv2.imread(S1_doubleA1A1_4)\n",
        "S1HSV_imgA1A1_4= cv2.cvtColor(S1_A1A1_4img, cv2.COLOR_BGR2HSV)"
      ],
      "execution_count": null,
      "outputs": []
    },
    {
      "cell_type": "code",
      "metadata": {
        "id": "6blZkJm8_zU2"
      },
      "source": [
        "S1_A1A2_4img  = cv2.imread(S1_doubleA1A2_4)\n",
        "S1HSV_imgA1A2_4= cv2.cvtColor(S1_A1A2_4img, cv2.COLOR_BGR2HSV)"
      ],
      "execution_count": null,
      "outputs": []
    },
    {
      "cell_type": "code",
      "metadata": {
        "id": "zPHIaWr2_zU3"
      },
      "source": [
        "S1_A1A3_4img  = cv2.imread(S1_doubleA1A3_4)\n",
        "S1HSV_imgA1A3_4= cv2.cvtColor(S1_A1A3_4img, cv2.COLOR_BGR2HSV)"
      ],
      "execution_count": null,
      "outputs": []
    },
    {
      "cell_type": "code",
      "metadata": {
        "id": "CAwV3DKZ_zU3"
      },
      "source": [
        "S1_A1A3_54img  = cv2.imread(S1_doubleA1A3_54)\n",
        "S1HSV_imgA1A3_54= cv2.cvtColor(S1_A1A3_54img, cv2.COLOR_BGR2HSV)"
      ],
      "execution_count": null,
      "outputs": []
    },
    {
      "cell_type": "code",
      "metadata": {
        "id": "WCxIMq5D_zU3"
      },
      "source": [
        "S1_A1A4_4img  = cv2.imread(S1_doubleA1A4_4)\n",
        "S1HSV_imgA1A4_4= cv2.cvtColor(S1_A1A4_4img, cv2.COLOR_BGR2HSV)"
      ],
      "execution_count": null,
      "outputs": []
    },
    {
      "cell_type": "code",
      "metadata": {
        "id": "cb0Mhi6D_zU4"
      },
      "source": [
        "S1_A1B1_4img  = cv2.imread(S1_doubleA1B1_4)\n",
        "S1HSV_imgA1B1_4= cv2.cvtColor(S1_A1B1_4img, cv2.COLOR_BGR2HSV)"
      ],
      "execution_count": null,
      "outputs": []
    },
    {
      "cell_type": "code",
      "metadata": {
        "id": "UYkb3N_J_zU4"
      },
      "source": [
        "S1_A1B2_4img  = cv2.imread(S1_doubleA1B2_4)\n",
        "S1HSV_imgA1B2_4= cv2.cvtColor(S1_A1B2_4img, cv2.COLOR_BGR2HSV)"
      ],
      "execution_count": null,
      "outputs": []
    },
    {
      "cell_type": "code",
      "metadata": {
        "id": "PWF1Qswt_zU4"
      },
      "source": [
        "S1_A1B3_4img  = cv2.imread(S1_doubleA1B3_4)\n",
        "S1HSV_imgA1B3_4= cv2.cvtColor(S1_A1B3_4img, cv2.COLOR_BGR2HSV)"
      ],
      "execution_count": null,
      "outputs": []
    },
    {
      "cell_type": "code",
      "metadata": {
        "id": "4ZQEpdt1_zU5"
      },
      "source": [
        "S1_A1B4_4img  = cv2.imread(S1_doubleA1B4_4)\n",
        "S1HSV_imgA1B4_4= cv2.cvtColor(S1_A1B4_4img, cv2.COLOR_BGR2HSV)"
      ],
      "execution_count": null,
      "outputs": []
    },
    {
      "cell_type": "code",
      "metadata": {
        "id": "85st5FU-_zU5"
      },
      "source": [
        "S1_A1C1_4img  = cv2.imread(S1_doubleA1C1_4)\n",
        "S1HSV_imgA1C1_4= cv2.cvtColor(S1_A1C1_4img, cv2.COLOR_BGR2HSV)"
      ],
      "execution_count": null,
      "outputs": []
    },
    {
      "cell_type": "code",
      "metadata": {
        "id": "U8fukE7G_zU5"
      },
      "source": [
        "S1_A1C2_4img  = cv2.imread(S1_doubleA1C2_4)\n",
        "S1HSV_imgA1C2_4= cv2.cvtColor(S1_A1C2_4img, cv2.COLOR_BGR2HSV)"
      ],
      "execution_count": null,
      "outputs": []
    },
    {
      "cell_type": "code",
      "metadata": {
        "id": "fx2kDBf2_zU6"
      },
      "source": [
        "S1_A1C3_4img  = cv2.imread(S1_doubleA1C3_4)\n",
        "S1HSV_imgA1C3_4= cv2.cvtColor(S1_A1C3_4img, cv2.COLOR_BGR2HSV)"
      ],
      "execution_count": null,
      "outputs": []
    },
    {
      "cell_type": "code",
      "metadata": {
        "id": "WjtAiEiC_zU6"
      },
      "source": [
        "S1_A1C4_4img  = cv2.imread(S1_doubleA1C4_4)\n",
        "S1HSV_imgA1C4_4= cv2.cvtColor(S1_A1C4_4img, cv2.COLOR_BGR2HSV)"
      ],
      "execution_count": null,
      "outputs": []
    },
    {
      "cell_type": "code",
      "metadata": {
        "id": "o-VgPVUg_zU6"
      },
      "source": [
        "S1_A1D2_4img  = cv2.imread(S1_doubleA1D2_4)\n",
        "S1HSV_imgA1D2_4= cv2.cvtColor(S1_A1D2_4img, cv2.COLOR_BGR2HSV)"
      ],
      "execution_count": null,
      "outputs": []
    },
    {
      "cell_type": "code",
      "metadata": {
        "id": "4-7w5-tx_zU6"
      },
      "source": [
        "S1_A1D3_4img  = cv2.imread(S1_doubleA1D3_4)\n",
        "S1HSV_imgA1D3_4= cv2.cvtColor(S1_A1D3_4img, cv2.COLOR_BGR2HSV)"
      ],
      "execution_count": null,
      "outputs": []
    },
    {
      "cell_type": "code",
      "metadata": {
        "id": "aemCfVov_zU7"
      },
      "source": [
        "S1_A1D4_4img  = cv2.imread(S1_doubleA1D4_4)\n",
        "S1HSV_imgA1D4_4= cv2.cvtColor(S1_A1D4_4img, cv2.COLOR_BGR2HSV)"
      ],
      "execution_count": null,
      "outputs": []
    },
    {
      "cell_type": "markdown",
      "metadata": {
        "id": "JRh83G00_5TI"
      },
      "source": [
        "###Img 5"
      ]
    },
    {
      "cell_type": "code",
      "metadata": {
        "id": "EI4kO2ML_5TI"
      },
      "source": [
        "S1_A1A1_5img  = cv2.imread(S1_doubleA1A1_5)\n",
        "S1HSV_imgA1A1_5= cv2.cvtColor(S1_A1A1_5img, cv2.COLOR_BGR2HSV)"
      ],
      "execution_count": null,
      "outputs": []
    },
    {
      "cell_type": "code",
      "metadata": {
        "id": "9e_swaP-_5TJ"
      },
      "source": [
        "S1_A1A2_5img  = cv2.imread(S1_doubleA1A2_5)\n",
        "S1HSV_imgA1A2_5= cv2.cvtColor(S1_A1A2_5img, cv2.COLOR_BGR2HSV)"
      ],
      "execution_count": null,
      "outputs": []
    },
    {
      "cell_type": "code",
      "metadata": {
        "id": "PBfkKmvU_5TJ"
      },
      "source": [
        "S1_A1A3_5img  = cv2.imread(S1_doubleA1A3_5)\n",
        "S1HSV_imgA1A3_5= cv2.cvtColor(S1_A1A3_5img, cv2.COLOR_BGR2HSV)"
      ],
      "execution_count": null,
      "outputs": []
    },
    {
      "cell_type": "code",
      "metadata": {
        "id": "DfP5_2UW_5TK"
      },
      "source": [
        "S1_A1A3_55img  = cv2.imread(S1_doubleA1A3_55)\n",
        "S1HSV_imgA1A3_55= cv2.cvtColor(S1_A1A3_55img, cv2.COLOR_BGR2HSV)"
      ],
      "execution_count": null,
      "outputs": []
    },
    {
      "cell_type": "code",
      "metadata": {
        "id": "SY2Hj0OS_5TK"
      },
      "source": [
        "S1_A1A4_5img  = cv2.imread(S1_doubleA1A4_5)\n",
        "S1HSV_imgA1A4_5= cv2.cvtColor(S1_A1A4_5img, cv2.COLOR_BGR2HSV)"
      ],
      "execution_count": null,
      "outputs": []
    },
    {
      "cell_type": "code",
      "metadata": {
        "id": "bkfZsrP5_5TL"
      },
      "source": [
        "S1_A1B1_5img  = cv2.imread(S1_doubleA1B1_5)\n",
        "S1HSV_imgA1B1_5= cv2.cvtColor(S1_A1B1_5img, cv2.COLOR_BGR2HSV)"
      ],
      "execution_count": null,
      "outputs": []
    },
    {
      "cell_type": "code",
      "metadata": {
        "id": "FoTDYBTz_5TM"
      },
      "source": [
        "S1_A1B2_5img  = cv2.imread(S1_doubleA1B2_5)\n",
        "S1HSV_imgA1B2_5= cv2.cvtColor(S1_A1B2_5img, cv2.COLOR_BGR2HSV)"
      ],
      "execution_count": null,
      "outputs": []
    },
    {
      "cell_type": "code",
      "metadata": {
        "id": "QBOZ1myT_5TM"
      },
      "source": [
        "S1_A1B3_5img  = cv2.imread(S1_doubleA1B3_5)\n",
        "S1HSV_imgA1B3_5= cv2.cvtColor(S1_A1B3_5img, cv2.COLOR_BGR2HSV)"
      ],
      "execution_count": null,
      "outputs": []
    },
    {
      "cell_type": "code",
      "metadata": {
        "id": "65Ik0ZPe_5TM"
      },
      "source": [
        "S1_A1B4_5img  = cv2.imread(S1_doubleA1B4_5)\n",
        "S1HSV_imgA1B4_5= cv2.cvtColor(S1_A1B4_5img, cv2.COLOR_BGR2HSV)"
      ],
      "execution_count": null,
      "outputs": []
    },
    {
      "cell_type": "code",
      "metadata": {
        "id": "tmNDq9mH_5TN"
      },
      "source": [
        "S1_A1C1_5img  = cv2.imread(S1_doubleA1C1_5)\n",
        "S1HSV_imgA1C1_5= cv2.cvtColor(S1_A1C1_5img, cv2.COLOR_BGR2HSV)"
      ],
      "execution_count": null,
      "outputs": []
    },
    {
      "cell_type": "code",
      "metadata": {
        "id": "eZvyCP7A_5TN"
      },
      "source": [
        "S1_A1C2_5img  = cv2.imread(S1_doubleA1C2_5)\n",
        "S1HSV_imgA1C2_5= cv2.cvtColor(S1_A1C2_5img, cv2.COLOR_BGR2HSV)"
      ],
      "execution_count": null,
      "outputs": []
    },
    {
      "cell_type": "code",
      "metadata": {
        "id": "PgDtJXeJ_5TN"
      },
      "source": [
        "S1_A1C3_5img  = cv2.imread(S1_doubleA1C3_5)\n",
        "S1HSV_imgA1C3_5= cv2.cvtColor(S1_A1C3_5img, cv2.COLOR_BGR2HSV)"
      ],
      "execution_count": null,
      "outputs": []
    },
    {
      "cell_type": "code",
      "metadata": {
        "id": "0dwc60so_5TO"
      },
      "source": [
        "S1_A1C4_5img  = cv2.imread(S1_doubleA1C4_5)\n",
        "S1HSV_imgA1C4_5= cv2.cvtColor(S1_A1C4_5img, cv2.COLOR_BGR2HSV)"
      ],
      "execution_count": null,
      "outputs": []
    },
    {
      "cell_type": "code",
      "metadata": {
        "id": "9YWsk-xt_5TO"
      },
      "source": [
        "S1_A1D2_5img  = cv2.imread(S1_doubleA1D2_5)\n",
        "S1HSV_imgA1D2_5= cv2.cvtColor(S1_A1D2_5img, cv2.COLOR_BGR2HSV)"
      ],
      "execution_count": null,
      "outputs": []
    },
    {
      "cell_type": "code",
      "metadata": {
        "id": "Qplcmya4_5TO"
      },
      "source": [
        "S1_A1D3_5img  = cv2.imread(S1_doubleA1D3_5)\n",
        "S1HSV_imgA1D3_5= cv2.cvtColor(S1_A1D3_5img, cv2.COLOR_BGR2HSV)"
      ],
      "execution_count": null,
      "outputs": []
    },
    {
      "cell_type": "code",
      "metadata": {
        "id": "x6OKhhi6_5TO"
      },
      "source": [
        "S1_A1D4_5img  = cv2.imread(S1_doubleA1D4_5)\n",
        "S1HSV_imgA1D4_5= cv2.cvtColor(S1_A1D4_5img, cv2.COLOR_BGR2HSV)"
      ],
      "execution_count": null,
      "outputs": []
    },
    {
      "cell_type": "markdown",
      "metadata": {
        "id": "7KPqBEcdIXnZ"
      },
      "source": [
        "#6. หาค่า Mean"
      ]
    },
    {
      "cell_type": "code",
      "metadata": {
        "id": "tePep_ujIfg2"
      },
      "source": [
        "import numpy as np"
      ],
      "execution_count": null,
      "outputs": []
    },
    {
      "cell_type": "markdown",
      "metadata": {
        "id": "CkCYreCNIxic"
      },
      "source": [
        "##Set1"
      ]
    },
    {
      "cell_type": "markdown",
      "metadata": {
        "id": "98w4NYwsuHUG"
      },
      "source": [
        "###RGB"
      ]
    },
    {
      "cell_type": "code",
      "metadata": {
        "id": "VLEHrLHLItVX",
        "colab": {
          "base_uri": "https://localhost:8080/"
        },
        "outputId": "bbd5a672-deaa-485f-ab6d-140fb681ffe5"
      },
      "source": [
        "S1meanrefA1_1 = list()\n",
        "S1meanA1_2 = list()\n",
        "for i in range(S1RGB_imgA1A1_1.shape[0]): #ให้ i รันตาม row หรือ shape[0] คือแถว มีทั้งหมด 4032 แถว ของภาพที่ปรับขนาดมาแล้ว\n",
        "     for j in range(S1RGB_imgA1A1_1.shape[1]): #ให้ j รันตาม colum มีทั้งหมด 3024 colum เช่น แถวที่ 1 เข้ามาให้รันครบ 3024colum\n",
        "                if 1769<i<1881 and 2019<j<2131 :\n",
        "                  S1meanrefA1_1.append(S1RGB_imgA1A1_1[i][j])\n",
        "                if 1770<i<1880 and 2015<j<2145 :\n",
        "                  S1meanA1_2.append(S1RGB_imgA1A1_1[i][j])  \n",
        "S1meanrefA1_1 = np.array(S1meanrefA1_1)\n",
        "S1meanA1_2 = np.array(S1meanA1_2)\n",
        "\n",
        "S1rgbrefA1_1 = list()\n",
        "S1rgbA1_2 = list()\n",
        "for i in range(3):\n",
        "    S1rgbrefA1_1.append(S1meanrefA1_1[:,i].mean())\n",
        "    S1rgbA1_2.append(S1meanA1_2[:,i].mean())\n",
        "S1rgbrefA1_1,S1rgbA1_2 "
      ],
      "execution_count": null,
      "outputs": [
        {
          "output_type": "execute_result",
          "data": {
            "text/plain": [
              "([237.14446879311745, 225.53786218651084, 191.67080594107622],\n",
              " [237.80918853566604, 226.41682668373517, 193.19536306094872])"
            ]
          },
          "metadata": {},
          "execution_count": 258
        }
      ]
    },
    {
      "cell_type": "code",
      "metadata": {
        "id": "TPULWoc0JT9L"
      },
      "source": [
        "S1meanrefA1_3 = list()\n",
        "S1meanA2_1 = list()\n",
        "for i in range(S1RGB_imgA1A2_1.shape[0]): \n",
        "     for j in range(S1RGB_imgA1A2_1.shape[1]): \n",
        "                if 1769<i<1881 and 2019<j<2131 :\n",
        "                  S1meanrefA1_3.append(S1RGB_imgA1A2_1[i][j])\n",
        "                if 1770<i<1880 and 2015<j<2145 :\n",
        "                  S1meanA2_1.append(S1RGB_imgA1A2_1[i][j])  \n",
        "S1meanrefA1_3 = np.array(S1meanrefA1_3)\n",
        "S1meanA2_1 = np.array(S1meanA2_1)\n",
        "\n",
        "S1rgbrefA1_3 = list()\n",
        "S1rgbA2_1 = list()\n",
        "for i in range(3):\n",
        "    S1rgbrefA1_3.append(S1meanrefA1_3[:,i].mean())\n",
        "    S1rgbA2_1.append(S1meanA2_1[:,i].mean())"
      ],
      "execution_count": null,
      "outputs": []
    },
    {
      "cell_type": "code",
      "metadata": {
        "id": "jYWdd4U6Kl7f"
      },
      "source": [
        "S1meanrefA1_4 = list()\n",
        "S1meanA3_1 = list()\n",
        "for i in range(S1RGB_imgA1A3_1.shape[0]): \n",
        "     for j in range(S1RGB_imgA1A3_1.shape[1]): \n",
        "                if 1769<i<1881 and 2019<j<2131 :\n",
        "                  S1meanrefA1_4.append(S1RGB_imgA1A3_1[i][j])\n",
        "                if 1770<i<1880 and 2015<j<2145 :\n",
        "                  S1meanA3_1.append(S1RGB_imgA1A3_1[i][j])  \n",
        "S1meanrefA1_4 = np.array(S1meanrefA1_4)\n",
        "S1meanA3_1 = np.array(S1meanA3_1)\n",
        "\n",
        "S1rgbrefA1_4 = list()\n",
        "S1rgbA3_1 = list()\n",
        "for i in range(3):\n",
        "    S1rgbrefA1_4.append(S1meanrefA1_4[:,i].mean())\n",
        "    S1rgbA3_1.append(S1meanA3_1[:,i].mean())"
      ],
      "execution_count": null,
      "outputs": []
    },
    {
      "cell_type": "code",
      "metadata": {
        "id": "OU2xD0SEK14J"
      },
      "source": [
        "S1meanrefA1_5 = list()\n",
        "S1meanA3_51 = list()\n",
        "for i in range(S1RGB_imgA1A3_51.shape[0]): \n",
        "     for j in range(S1RGB_imgA1A3_51.shape[1]): \n",
        "                if 1769<i<1881 and 2019<j<2131 :\n",
        "                  S1meanrefA1_5.append(S1RGB_imgA1A3_51[i][j])\n",
        "                if 1770<i<1880 and 2015<j<2145 :\n",
        "                  S1meanA3_51.append(S1RGB_imgA1A3_51[i][j])  \n",
        "S1meanrefA1_5 = np.array(S1meanrefA1_5)\n",
        "S1meanA3_51 = np.array(S1meanA3_51)\n",
        "\n",
        "S1rgbrefA1_5 = list()\n",
        "S1rgbA3_51 = list()\n",
        "for i in range(3):\n",
        "    S1rgbrefA1_5.append(S1meanrefA1_5[:,i].mean())\n",
        "    S1rgbA3_51.append(S1meanA3_51[:,i].mean())"
      ],
      "execution_count": null,
      "outputs": []
    },
    {
      "cell_type": "code",
      "metadata": {
        "id": "vCXxutjOLEb5"
      },
      "source": [
        "S1meanrefA1_6 = list()\n",
        "S1meanA4_1 = list()\n",
        "for i in range(S1RGB_imgA1A4_1.shape[0]): \n",
        "     for j in range(S1RGB_imgA1A4_1.shape[1]): \n",
        "                if 1769<i<1881 and 2019<j<2131 :\n",
        "                  S1meanrefA1_6.append(S1RGB_imgA1A4_1[i][j])\n",
        "                if 1770<i<1880 and 2015<j<2145 :\n",
        "                  S1meanA4_1.append(S1RGB_imgA1A4_1[i][j])  \n",
        "S1meanrefA1_6 = np.array(S1meanrefA1_6)\n",
        "S1meanA4_1 = np.array(S1meanA4_1)\n",
        "\n",
        "S1rgbrefA1_6 = list()\n",
        "S1rgbA4_1 = list()\n",
        "for i in range(3):\n",
        "    S1rgbrefA1_6.append(S1meanrefA1_6[:,i].mean())\n",
        "    S1rgbA4_1.append(S1meanA4_1[:,i].mean())"
      ],
      "execution_count": null,
      "outputs": []
    },
    {
      "cell_type": "code",
      "metadata": {
        "id": "Te2hqmb4LbG7"
      },
      "source": [
        "S1meanrefA1_7 = list()\n",
        "S1meanB1_1 = list()\n",
        "for i in range(S1RGB_imgA1B1_1.shape[0]): \n",
        "     for j in range(S1RGB_imgA1B1_1.shape[1]): \n",
        "                if 1769<i<1881 and 2019<j<2131 :\n",
        "                  S1meanrefA1_7.append(S1RGB_imgA1B1_1[i][j])\n",
        "                if 1770<i<1880 and 2015<j<2145 :\n",
        "                  S1meanB1_1.append(S1RGB_imgA1B1_1[i][j])  \n",
        "S1meanrefA1_7 = np.array(S1meanrefA1_7)\n",
        "S1meanB1_1 = np.array(S1meanB1_1)\n",
        "\n",
        "S1rgbrefA1_7 = list()\n",
        "S1rgbB1_1 = list()\n",
        "for i in range(3):\n",
        "    S1rgbrefA1_7.append(S1meanrefA1_7[:,i].mean())\n",
        "    S1rgbB1_1.append(S1meanB1_1[:,i].mean())"
      ],
      "execution_count": null,
      "outputs": []
    },
    {
      "cell_type": "code",
      "metadata": {
        "id": "Q_VEx1q0LbG7"
      },
      "source": [
        "S1meanrefA1_8 = list()\n",
        "S1meanB2_1 = list()\n",
        "for i in range(S1RGB_imgA1B2_1.shape[0]): \n",
        "     for j in range(S1RGB_imgA1B2_1.shape[1]): \n",
        "                if 1769<i<1881 and 2019<j<2131 :\n",
        "                  S1meanrefA1_8.append(S1RGB_imgA1B2_1[i][j])\n",
        "                if 1770<i<1880 and 2015<j<2145 :\n",
        "                  S1meanB2_1.append(S1RGB_imgA1B2_1[i][j])  \n",
        "S1meanrefA1_8 = np.array(S1meanrefA1_8)\n",
        "S1meanB2_1 = np.array(S1meanB2_1)\n",
        "\n",
        "S1rgbrefA1_8 = list()\n",
        "S1rgbB2_1 = list()\n",
        "for i in range(3):\n",
        "    S1rgbrefA1_8.append(S1meanrefA1_8[:,i].mean())\n",
        "    S1rgbB2_1.append(S1meanB2_1[:,i].mean())"
      ],
      "execution_count": null,
      "outputs": []
    },
    {
      "cell_type": "code",
      "metadata": {
        "id": "6h5EfHY1LbG7"
      },
      "source": [
        "S1meanrefA1_9 = list()\n",
        "S1meanB3_1 = list()\n",
        "for i in range(S1RGB_imgA1B3_1.shape[0]): \n",
        "     for j in range(S1RGB_imgA1B3_1.shape[1]): \n",
        "                if 1769<i<1881 and 2019<j<2131 :\n",
        "                  S1meanrefA1_9.append(S1RGB_imgA1B3_1[i][j])\n",
        "                if 1770<i<1880 and 2015<j<2145 :\n",
        "                  S1meanB3_1.append(S1RGB_imgA1B3_1[i][j])  \n",
        "S1meanrefA1_9 = np.array(S1meanrefA1_9)\n",
        "S1meanB3_1 = np.array(S1meanB3_1)\n",
        "\n",
        "S1rgbrefA1_9 = list()\n",
        "S1rgbB3_1 = list()\n",
        "for i in range(3):\n",
        "    S1rgbrefA1_9.append(S1meanrefA1_9[:,i].mean())\n",
        "    S1rgbB3_1.append(S1meanB3_1[:,i].mean())"
      ],
      "execution_count": null,
      "outputs": []
    },
    {
      "cell_type": "code",
      "metadata": {
        "id": "TjKejQxXL9Xb"
      },
      "source": [
        "S1meanrefA1_10 = list()\n",
        "S1meanB4_1 = list()\n",
        "for i in range(S1RGB_imgA1B4_1.shape[0]): \n",
        "     for j in range(S1RGB_imgA1B4_1.shape[1]): \n",
        "                if 1769<i<1881 and 2019<j<2131 :\n",
        "                  S1meanrefA1_10.append(S1RGB_imgA1B4_1[i][j])\n",
        "                if 1770<i<1880 and 2015<j<2145 :\n",
        "                  S1meanB4_1.append(S1RGB_imgA1B4_1[i][j])  \n",
        "S1meanrefA1_10 = np.array(S1meanrefA1_10)\n",
        "S1meanB4_1 = np.array(S1meanB4_1)\n",
        "\n",
        "S1rgbrefA1_10 = list()\n",
        "S1rgbB4_1 = list()\n",
        "for i in range(3):\n",
        "    S1rgbrefA1_10.append(S1meanrefA1_10[:,i].mean())\n",
        "    S1rgbB4_1.append(S1meanB4_1[:,i].mean())"
      ],
      "execution_count": null,
      "outputs": []
    },
    {
      "cell_type": "code",
      "metadata": {
        "id": "Y8X8SmoGMihg"
      },
      "source": [
        "S1meanrefA1_11 = list()\n",
        "S1meanC1_1 = list()\n",
        "for i in range(S1RGB_imgA1C1_1.shape[0]): \n",
        "     for j in range(S1RGB_imgA1C1_1.shape[1]): \n",
        "                if 1769<i<1881 and 2019<j<2131 :\n",
        "                  S1meanrefA1_11.append(S1RGB_imgA1C1_1[i][j])\n",
        "                if 1770<i<1880 and 2015<j<2145 :\n",
        "                  S1meanC1_1.append(S1RGB_imgA1C1_1[i][j])  \n",
        "S1meanrefA1_11 = np.array(S1meanrefA1_11)\n",
        "S1meanC1_1 = np.array(S1meanC1_1)\n",
        "\n",
        "S1rgbrefA1_11 = list()\n",
        "S1rgbC1_1 = list()\n",
        "for i in range(3):\n",
        "    S1rgbrefA1_11.append(S1meanrefA1_11[:,i].mean())\n",
        "    S1rgbC1_1.append(S1meanC1_1[:,i].mean())"
      ],
      "execution_count": null,
      "outputs": []
    },
    {
      "cell_type": "code",
      "metadata": {
        "id": "Av_eHI6jMihg"
      },
      "source": [
        "S1meanrefA1_12 = list()\n",
        "S1meanC2_1 = list()\n",
        "for i in range(S1RGB_imgA1C2_1.shape[0]): \n",
        "     for j in range(S1RGB_imgA1C2_1.shape[1]): \n",
        "                if 1769<i<1881 and 2019<j<2131 :\n",
        "                  S1meanrefA1_12.append(S1RGB_imgA1C2_1[i][j])\n",
        "                if 1770<i<1880 and 2015<j<2145 :\n",
        "                  S1meanC2_1.append(S1RGB_imgA1C2_1[i][j])  \n",
        "S1meanrefA1_12 = np.array(S1meanrefA1_12)\n",
        "S1meanC2_1 = np.array(S1meanC2_1)\n",
        "\n",
        "S1rgbrefA1_12 = list()\n",
        "S1rgbC2_1 = list()\n",
        "for i in range(3):\n",
        "    S1rgbrefA1_12.append(S1meanrefA1_12[:,i].mean())\n",
        "    S1rgbC2_1.append(S1meanC2_1[:,i].mean())"
      ],
      "execution_count": null,
      "outputs": []
    },
    {
      "cell_type": "code",
      "metadata": {
        "id": "lOvykBc7Mihg"
      },
      "source": [
        "S1meanrefA1_13 = list()\n",
        "S1meanC3_1 = list()\n",
        "for i in range(S1RGB_imgA1C3_1.shape[0]): \n",
        "     for j in range(S1RGB_imgA1C3_1.shape[1]): \n",
        "                if 1769<i<1881 and 2019<j<2131 :\n",
        "                  S1meanrefA1_13.append(S1RGB_imgA1C3_1[i][j])\n",
        "                if 1770<i<1880 and 2015<j<2145 :\n",
        "                  S1meanC3_1.append(S1RGB_imgA1C3_1[i][j])  \n",
        "S1meanrefA1_13 = np.array(S1meanrefA1_13)\n",
        "S1meanC3_1 = np.array(S1meanC3_1)\n",
        "\n",
        "S1rgbrefA1_13 = list()\n",
        "S1rgbC3_1 = list()\n",
        "for i in range(3):\n",
        "    S1rgbrefA1_13.append(S1meanrefA1_13[:,i].mean())\n",
        "    S1rgbC3_1.append(S1meanC3_1[:,i].mean())"
      ],
      "execution_count": null,
      "outputs": []
    },
    {
      "cell_type": "code",
      "metadata": {
        "id": "YdNqiN2LMihg"
      },
      "source": [
        "S1meanrefA1_14 = list()\n",
        "S1meanC4_1 = list()\n",
        "for i in range(S1RGB_imgA1C4_1.shape[0]): \n",
        "     for j in range(S1RGB_imgA1C4_1.shape[1]): \n",
        "                if 1769<i<1881 and 2019<j<2131 :\n",
        "                  S1meanrefA1_14.append(S1RGB_imgA1C4_1[i][j])\n",
        "                if 1770<i<1880 and 2015<j<2145 :\n",
        "                  S1meanC4_1.append(S1RGB_imgA1C4_1[i][j])  \n",
        "S1meanrefA1_14 = np.array(S1meanrefA1_14)\n",
        "S1meanC4_1 = np.array(S1meanC4_1)\n",
        "\n",
        "S1rgbrefA1_14 = list()\n",
        "S1rgbC4_1 = list()\n",
        "for i in range(3):\n",
        "    S1rgbrefA1_14.append(S1meanrefA1_14[:,i].mean())\n",
        "    S1rgbC4_1.append(S1meanC4_1[:,i].mean())"
      ],
      "execution_count": null,
      "outputs": []
    },
    {
      "cell_type": "code",
      "metadata": {
        "id": "U1oHIKdONm_p"
      },
      "source": [
        "S1meanrefA1_15 = list()\n",
        "S1meanD2_1 = list()\n",
        "for i in range(S1RGB_imgA1D2_1.shape[0]): \n",
        "     for j in range(S1RGB_imgA1D2_1.shape[1]): \n",
        "                if 1769<i<1881 and 2019<j<2131 :\n",
        "                  S1meanrefA1_15.append(S1RGB_imgA1D2_1[i][j])\n",
        "                if 1770<i<1880 and 2015<j<2145 :\n",
        "                  S1meanD2_1.append(S1RGB_imgA1D2_1[i][j])  \n",
        "S1meanrefA1_15 = np.array(S1meanrefA1_15)\n",
        "S1meanD2_1 = np.array(S1meanD2_1)\n",
        "\n",
        "S1rgbrefA1_15 = list()\n",
        "S1rgbD2_1 = list()\n",
        "for i in range(3):\n",
        "    S1rgbrefA1_15.append(S1meanrefA1_15[:,i].mean())\n",
        "    S1rgbD2_1.append(S1meanD2_1[:,i].mean())"
      ],
      "execution_count": null,
      "outputs": []
    },
    {
      "cell_type": "code",
      "metadata": {
        "id": "_O71JLAONm_p"
      },
      "source": [
        "S1meanrefA1_16 = list()\n",
        "S1meanD3_1 = list()\n",
        "for i in range(S1RGB_imgA1D3_1.shape[0]): \n",
        "     for j in range(S1RGB_imgA1D3_1.shape[1]): \n",
        "                if 1769<i<1881 and 2019<j<2131 :\n",
        "                  S1meanrefA1_16.append(S1RGB_imgA1D3_1[i][j])\n",
        "                if 1770<i<1880 and 2015<j<2145 :\n",
        "                  S1meanD3_1.append(S1RGB_imgA1D3_1[i][j])  \n",
        "S1meanrefA1_16 = np.array(S1meanrefA1_16)\n",
        "S1meanD3_1 = np.array(S1meanD3_1)\n",
        "\n",
        "S1rgbrefA1_16 = list()\n",
        "S1rgbD3_1 = list()\n",
        "for i in range(3):\n",
        "    S1rgbrefA1_16.append(S1meanrefA1_16[:,i].mean())\n",
        "    S1rgbD3_1.append(S1meanD3_1[:,i].mean())"
      ],
      "execution_count": null,
      "outputs": []
    },
    {
      "cell_type": "code",
      "metadata": {
        "id": "U29gI1aKNm_p"
      },
      "source": [
        "S1meanrefA1_17= list()\n",
        "S1meanD4_1 = list()\n",
        "for i in range(S1RGB_imgA1D4_1.shape[0]): \n",
        "     for j in range(S1RGB_imgA1D4_1.shape[1]): \n",
        "                if 1769<i<1881 and 2019<j<2131 :\n",
        "                  S1meanrefA1_17.append(S1RGB_imgA1D4_1[i][j])\n",
        "                if 1770<i<1880 and 2015<j<2145 :\n",
        "                  S1meanD4_1.append(S1RGB_imgA1D4_1[i][j])  \n",
        "S1meanrefA1_17 = np.array(S1meanrefA1_14)\n",
        "S1meanD4_1 = np.array(S1meanD4_1)\n",
        "\n",
        "S1rgbrefA1_17 = list()\n",
        "S1rgbD4_1 = list()\n",
        "for i in range(3):\n",
        "    S1rgbrefA1_17.append(S1meanrefA1_17[:,i].mean())\n",
        "    S1rgbD4_1.append(S1meanD4_1[:,i].mean())"
      ],
      "execution_count": null,
      "outputs": []
    },
    {
      "cell_type": "markdown",
      "metadata": {
        "id": "l-EubNtx-XCR"
      },
      "source": [
        "###Img 2"
      ]
    },
    {
      "cell_type": "code",
      "metadata": {
        "id": "3D1den5K-nyt",
        "colab": {
          "base_uri": "https://localhost:8080/"
        },
        "outputId": "1b707613-07f8-4743-c540-a33efc6b5659"
      },
      "source": [
        "S1meanrefA1_102 = list()\n",
        "S1meanA1_202 = list()\n",
        "for i in range(S1RGB_imgA1A1_2.shape[0]): #ให้ i รันตาม row หรือ shape[0] คือแถว มีทั้งหมด 4032 แถว ของภาพที่ปรับขนาดมาแล้ว\n",
        "     for j in range(S1RGB_imgA1A1_2.shape[1]): #ให้ j รันตาม colum มีทั้งหมด 3024 colum เช่น แถวที่ 1 เข้ามาให้รันครบ 3024colum\n",
        "                if 1769<i<1881 and 2019<j<2131 :\n",
        "                  S1meanrefA1_102.append(S1RGB_imgA1A1_2[i][j])\n",
        "                if 1770<i<1880 and 2015<j<2145 :\n",
        "                  S1meanA1_202.append(S1RGB_imgA1A1_2[i][j])  \n",
        "S1meanrefA1_102 = np.array(S1meanrefA1_102)\n",
        "S1meanA1_202 = np.array(S1meanA1_202)\n",
        "\n",
        "S1rgbrefA1_102 = list()\n",
        "S1rgbA1_202 = list()\n",
        "for i in range(3):\n",
        "    S1rgbrefA1_102.append(S1meanrefA1_102[:,i].mean())\n",
        "    S1rgbA1_202.append(S1meanA1_202[:,i].mean())\n",
        "S1rgbrefA1_102,S1rgbA1_202"
      ],
      "execution_count": null,
      "outputs": [
        {
          "output_type": "execute_result",
          "data": {
            "text/plain": [
              "([240.2537131726321, 223.24949273597923, 178.51327002678354],\n",
              " [240.7280421022687, 223.93371737429771, 179.62819145153262])"
            ]
          },
          "metadata": {},
          "execution_count": 274
        }
      ]
    },
    {
      "cell_type": "code",
      "metadata": {
        "id": "RRnoqKs_-nyu"
      },
      "source": [
        "S1meanrefA1_302 = list()\n",
        "S1meanA2_102 = list()\n",
        "for i in range(S1RGB_imgA1A2_2.shape[0]): \n",
        "     for j in range(S1RGB_imgA1A2_2.shape[1]): \n",
        "                if 1769<i<1881 and 2019<j<2131 :\n",
        "                  S1meanrefA1_302.append(S1RGB_imgA1A2_2[i][j])\n",
        "                if 1770<i<1880 and 2015<j<2145 :\n",
        "                  S1meanA2_102.append(S1RGB_imgA1A2_2[i][j])  \n",
        "S1meanrefA1_302 = np.array(S1meanrefA1_302)\n",
        "S1meanA2_102 = np.array(S1meanA2_102)\n",
        "\n",
        "S1rgbrefA1_302 = list()\n",
        "S1rgbA2_102 = list()\n",
        "for i in range(3):\n",
        "    S1rgbrefA1_302.append(S1meanrefA1_302[:,i].mean())\n",
        "    S1rgbA2_102.append(S1meanA2_102[:,i].mean())"
      ],
      "execution_count": null,
      "outputs": []
    },
    {
      "cell_type": "code",
      "metadata": {
        "id": "-Z8Wxm76-nyv"
      },
      "source": [
        "S1meanrefA1_402 = list()\n",
        "S1meanA3_102 = list()\n",
        "for i in range(S1RGB_imgA1A3_2.shape[0]): \n",
        "     for j in range(S1RGB_imgA1A3_2.shape[1]): \n",
        "                if 1769<i<1881 and 2019<j<2131 :\n",
        "                  S1meanrefA1_402.append(S1RGB_imgA1A3_2[i][j])\n",
        "                if 1770<i<1880 and 2015<j<2145 :\n",
        "                  S1meanA3_102.append(S1RGB_imgA1A3_2[i][j])  \n",
        "S1meanrefA1_402 = np.array(S1meanrefA1_402)\n",
        "S1meanA3_102 = np.array(S1meanA3_102)\n",
        "\n",
        "S1rgbrefA1_402 = list()\n",
        "S1rgbA3_102 = list()\n",
        "for i in range(3):\n",
        "    S1rgbrefA1_402.append(S1meanrefA1_402[:,i].mean())\n",
        "    S1rgbA3_102.append(S1meanA3_102[:,i].mean())"
      ],
      "execution_count": null,
      "outputs": []
    },
    {
      "cell_type": "code",
      "metadata": {
        "id": "Wo7Z5Spk-nyw"
      },
      "source": [
        "S1meanrefA1_502 = list()\n",
        "S1meanA3_5102 = list()\n",
        "for i in range(S1RGB_imgA1A3_52.shape[0]): \n",
        "     for j in range(S1RGB_imgA1A3_52.shape[1]): \n",
        "                if 1769<i<1881 and 2019<j<2131 :\n",
        "                  S1meanrefA1_502.append(S1RGB_imgA1A3_52[i][j])\n",
        "                if 1770<i<1880 and 2015<j<2145 :\n",
        "                  S1meanA3_5102.append(S1RGB_imgA1A3_52[i][j])  \n",
        "S1meanrefA1_502 = np.array(S1meanrefA1_502)\n",
        "S1meanA3_5102 = np.array(S1meanA3_5102)\n",
        "\n",
        "S1rgbrefA1_502 = list()\n",
        "S1rgbA3_5102 = list()\n",
        "for i in range(3):\n",
        "    S1rgbrefA1_502.append(S1meanrefA1_502[:,i].mean())\n",
        "    S1rgbA3_5102.append(S1meanA3_5102[:,i].mean())"
      ],
      "execution_count": null,
      "outputs": []
    },
    {
      "cell_type": "code",
      "metadata": {
        "id": "cKjcfG9e-nyw"
      },
      "source": [
        "S1meanrefA1_602 = list()\n",
        "S1meanA4_102 = list()\n",
        "for i in range(S1RGB_imgA1A4_2.shape[0]): \n",
        "     for j in range(S1RGB_imgA1A4_2.shape[1]): \n",
        "                if 1769<i<1881 and 2019<j<2131 :\n",
        "                  S1meanrefA1_602.append(S1RGB_imgA1A4_2[i][j])\n",
        "                if 1770<i<1880 and 2015<j<2145 :\n",
        "                  S1meanA4_102.append(S1RGB_imgA1A4_2[i][j])  \n",
        "S1meanrefA1_602 = np.array(S1meanrefA1_602)\n",
        "S1meanA4_102 = np.array(S1meanA4_102)\n",
        "\n",
        "S1rgbrefA1_602 = list()\n",
        "S1rgbA4_102 = list()\n",
        "for i in range(3):\n",
        "    S1rgbrefA1_602.append(S1meanrefA1_602[:,i].mean())\n",
        "    S1rgbA4_102.append(S1meanA4_102[:,i].mean())"
      ],
      "execution_count": null,
      "outputs": []
    },
    {
      "cell_type": "code",
      "metadata": {
        "id": "yz9vpuVx-nyx"
      },
      "source": [
        "S1meanrefA1_702 = list()\n",
        "S1meanB1_102 = list()\n",
        "for i in range(S1RGB_imgA1B1_2.shape[0]): \n",
        "     for j in range(S1RGB_imgA1B1_2.shape[1]): \n",
        "                if 1769<i<1881 and 2019<j<2131 :\n",
        "                  S1meanrefA1_702.append(S1RGB_imgA1B1_2[i][j])\n",
        "                if 1770<i<1880 and 2015<j<2145 :\n",
        "                  S1meanB1_102.append(S1RGB_imgA1B1_2[i][j])  \n",
        "S1meanrefA1_702 = np.array(S1meanrefA1_702)\n",
        "S1meanB1_102 = np.array(S1meanB1_102)\n",
        "\n",
        "S1rgbrefA1_702= list()\n",
        "S1rgbB1_102 = list()\n",
        "for i in range(3):\n",
        "    S1rgbrefA1_702.append(S1meanrefA1_702[:,i].mean())\n",
        "    S1rgbB1_102.append(S1meanB1_102[:,i].mean())"
      ],
      "execution_count": null,
      "outputs": []
    },
    {
      "cell_type": "code",
      "metadata": {
        "id": "Wsk9Q3Zv-nyy"
      },
      "source": [
        "S1meanrefA1_802 = list()\n",
        "S1meanB2_102 = list()\n",
        "for i in range(S1RGB_imgA1B2_2.shape[0]): \n",
        "     for j in range(S1RGB_imgA1B2_2.shape[1]): \n",
        "                if 1769<i<1881 and 2019<j<2131 :\n",
        "                  S1meanrefA1_802.append(S1RGB_imgA1B2_2[i][j])\n",
        "                if 1770<i<1880 and 2015<j<2145 :\n",
        "                  S1meanB2_102.append(S1RGB_imgA1B2_2[i][j])  \n",
        "S1meanrefA1_802 = np.array(S1meanrefA1_802)\n",
        "S1meanB2_102 = np.array(S1meanB2_102)\n",
        "\n",
        "S1rgbrefA1_802 = list()\n",
        "S1rgbB2_102 = list()\n",
        "for i in range(3):\n",
        "    S1rgbrefA1_802.append(S1meanrefA1_802[:,i].mean())\n",
        "    S1rgbB2_102.append(S1meanB2_102[:,i].mean())"
      ],
      "execution_count": null,
      "outputs": []
    },
    {
      "cell_type": "code",
      "metadata": {
        "id": "dCKh80eN-nyy"
      },
      "source": [
        "S1meanrefA1_902 = list()\n",
        "S1meanB3_102 = list()\n",
        "for i in range(S1RGB_imgA1B3_2.shape[0]): \n",
        "     for j in range(S1RGB_imgA1B3_2.shape[1]): \n",
        "                if 1769<i<1881 and 2019<j<2131 :\n",
        "                  S1meanrefA1_902.append(S1RGB_imgA1B3_2[i][j])\n",
        "                if 1770<i<1880 and 2015<j<2145 :\n",
        "                  S1meanB3_102.append(S1RGB_imgA1B3_2[i][j])  \n",
        "S1meanrefA1_902 = np.array(S1meanrefA1_902)\n",
        "S1meanB3_102 = np.array(S1meanB3_102)\n",
        "\n",
        "S1rgbrefA1_902 = list()\n",
        "S1rgbB3_102 = list()\n",
        "for i in range(3):\n",
        "    S1rgbrefA1_902.append(S1meanrefA1_902[:,i].mean())\n",
        "    S1rgbB3_102.append(S1meanB3_102[:,i].mean())"
      ],
      "execution_count": null,
      "outputs": []
    },
    {
      "cell_type": "code",
      "metadata": {
        "id": "OY7G08cr-nyz"
      },
      "source": [
        "S1meanrefA1_1002 = list()\n",
        "S1meanB4_102 = list()\n",
        "for i in range(S1RGB_imgA1B4_2.shape[0]): \n",
        "     for j in range(S1RGB_imgA1B4_2.shape[1]): \n",
        "                if 1769<i<1881 and 2019<j<2131 :\n",
        "                  S1meanrefA1_1002.append(S1RGB_imgA1B4_2[i][j])\n",
        "                if 1770<i<1880 and 2015<j<2145 :\n",
        "                  S1meanB4_102.append(S1RGB_imgA1B4_2[i][j])  \n",
        "S1meanrefA1_1002 = np.array(S1meanrefA1_1002)\n",
        "S1meanB4_102 = np.array(S1meanB4_102)\n",
        "\n",
        "S1rgbrefA1_1002 = list()\n",
        "S1rgbB4_102 = list()\n",
        "for i in range(3):\n",
        "    S1rgbrefA1_1002.append(S1meanrefA1_1002[:,i].mean())\n",
        "    S1rgbB4_102.append(S1meanB4_102[:,i].mean())"
      ],
      "execution_count": null,
      "outputs": []
    },
    {
      "cell_type": "code",
      "metadata": {
        "id": "fwZ-xl_I-nyz"
      },
      "source": [
        "S1meanrefA1_1102 = list()\n",
        "S1meanC1_102 = list()\n",
        "for i in range(S1RGB_imgA1C1_2.shape[0]): \n",
        "     for j in range(S1RGB_imgA1C1_2.shape[1]): \n",
        "                if 1769<i<1881 and 2019<j<2131 :\n",
        "                  S1meanrefA1_1102.append(S1RGB_imgA1C1_2[i][j])\n",
        "                if 1770<i<1880 and 2015<j<2145 :\n",
        "                  S1meanC1_102.append(S1RGB_imgA1C1_2[i][j])  \n",
        "S1meanrefA1_1102 = np.array(S1meanrefA1_1102)\n",
        "S1meanC1_102 = np.array(S1meanC1_102)\n",
        "\n",
        "S1rgbrefA1_1102 = list()\n",
        "S1rgbC1_102 = list()\n",
        "for i in range(3):\n",
        "    S1rgbrefA1_1102.append(S1meanrefA1_1102[:,i].mean())\n",
        "    S1rgbC1_102.append(S1meanC1_102[:,i].mean())"
      ],
      "execution_count": null,
      "outputs": []
    },
    {
      "cell_type": "code",
      "metadata": {
        "id": "6zk1VOd0-ny0"
      },
      "source": [
        "S1meanrefA1_1202 = list()\n",
        "S1meanC2_102 = list()\n",
        "for i in range(S1RGB_imgA1C2_2.shape[0]): \n",
        "     for j in range(S1RGB_imgA1C2_2.shape[1]): \n",
        "                if 1769<i<1881 and 2019<j<2131 :\n",
        "                  S1meanrefA1_1202.append(S1RGB_imgA1C2_2[i][j])\n",
        "                if 1770<i<1880 and 2015<j<2145 :\n",
        "                  S1meanC2_102.append(S1RGB_imgA1C2_2[i][j])  \n",
        "S1meanrefA1_1202 = np.array(S1meanrefA1_1202)\n",
        "S1meanC2_102 = np.array(S1meanC2_102)\n",
        "\n",
        "S1rgbrefA1_1202 = list()\n",
        "S1rgbC2_102 = list()\n",
        "for i in range(3):\n",
        "    S1rgbrefA1_1202.append(S1meanrefA1_1202[:,i].mean())\n",
        "    S1rgbC2_102.append(S1meanC2_102[:,i].mean())"
      ],
      "execution_count": null,
      "outputs": []
    },
    {
      "cell_type": "code",
      "metadata": {
        "id": "e1xdUv34-ny0"
      },
      "source": [
        "S1meanrefA1_1302 = list()\n",
        "S1meanC3_102 = list()\n",
        "for i in range(S1RGB_imgA1C3_2.shape[0]): \n",
        "     for j in range(S1RGB_imgA1C3_2.shape[1]): \n",
        "                if 1769<i<1881 and 2019<j<2131 :\n",
        "                  S1meanrefA1_1302.append(S1RGB_imgA1C3_2[i][j])\n",
        "                if 1770<i<1880 and 2015<j<2145 :\n",
        "                  S1meanC3_102.append(S1RGB_imgA1C3_2[i][j])  \n",
        "S1meanrefA1_1302 = np.array(S1meanrefA1_1302)\n",
        "S1meanC3_102 = np.array(S1meanC3_102)\n",
        "\n",
        "S1rgbrefA1_1302 = list()\n",
        "S1rgbC3_102 = list()\n",
        "for i in range(3):\n",
        "    S1rgbrefA1_1302.append(S1meanrefA1_1302[:,i].mean())\n",
        "    S1rgbC3_102.append(S1meanC3_102[:,i].mean())"
      ],
      "execution_count": null,
      "outputs": []
    },
    {
      "cell_type": "code",
      "metadata": {
        "id": "6s9zmb-o-ny0"
      },
      "source": [
        "S1meanrefA1_1402 = list()\n",
        "S1meanC4_102 = list()\n",
        "for i in range(S1RGB_imgA1C4_2.shape[0]): \n",
        "     for j in range(S1RGB_imgA1C4_2.shape[1]): \n",
        "                if 1769<i<1881 and 2019<j<2131 :\n",
        "                  S1meanrefA1_1402.append(S1RGB_imgA1C4_2[i][j])\n",
        "                if 1770<i<1880 and 2015<j<2145 :\n",
        "                  S1meanC4_102.append(S1RGB_imgA1C4_2[i][j])  \n",
        "S1meanrefA1_1402 = np.array(S1meanrefA1_1402)\n",
        "S1meanC4_102 = np.array(S1meanC4_102)\n",
        "\n",
        "S1rgbrefA1_1402 = list()\n",
        "S1rgbC4_102 = list()\n",
        "for i in range(3):\n",
        "    S1rgbrefA1_1402.append(S1meanrefA1_1402[:,i].mean())\n",
        "    S1rgbC4_102.append(S1meanC4_102[:,i].mean())"
      ],
      "execution_count": null,
      "outputs": []
    },
    {
      "cell_type": "code",
      "metadata": {
        "id": "73-r0q_3-ny1"
      },
      "source": [
        "S1meanrefA1_1502 = list()\n",
        "S1meanD2_102 = list()\n",
        "for i in range(S1RGB_imgA1D2_2.shape[0]): \n",
        "     for j in range(S1RGB_imgA1D2_2.shape[1]): \n",
        "                if 1769<i<1881 and 2019<j<2131 :\n",
        "                  S1meanrefA1_1502.append(S1RGB_imgA1D2_2[i][j])\n",
        "                if 1770<i<1880 and 2015<j<2145 :\n",
        "                  S1meanD2_102.append(S1RGB_imgA1D2_2[i][j])  \n",
        "S1meanrefA1_1502 = np.array(S1meanrefA1_1502)\n",
        "S1meanD2_102 = np.array(S1meanD2_102)\n",
        "\n",
        "S1rgbrefA1_1502 = list()\n",
        "S1rgbD2_102 = list()\n",
        "for i in range(3):\n",
        "    S1rgbrefA1_1502.append(S1meanrefA1_1502[:,i].mean())\n",
        "    S1rgbD2_102.append(S1meanD2_102[:,i].mean())"
      ],
      "execution_count": null,
      "outputs": []
    },
    {
      "cell_type": "code",
      "metadata": {
        "id": "5pow4JZn-ny1"
      },
      "source": [
        "S1meanrefA1_1602 = list()\n",
        "S1meanD3_102 = list()\n",
        "for i in range(S1RGB_imgA1D3_2.shape[0]): \n",
        "     for j in range(S1RGB_imgA1D3_2.shape[1]): \n",
        "                if 1769<i<1881 and 2019<j<2131 :\n",
        "                  S1meanrefA1_1602.append(S1RGB_imgA1D3_2[i][j])\n",
        "                if 1770<i<1880 and 2015<j<2145 :\n",
        "                  S1meanD3_102.append(S1RGB_imgA1D3_2[i][j])  \n",
        "S1meanrefA1_1602 = np.array(S1meanrefA1_1602)\n",
        "S1meanD3_102 = np.array(S1meanD3_102)\n",
        "\n",
        "S1rgbrefA1_1602 = list()\n",
        "S1rgbD3_102 = list()\n",
        "for i in range(3):\n",
        "    S1rgbrefA1_1602.append(S1meanrefA1_1602[:,i].mean())\n",
        "    S1rgbD3_102.append(S1meanD3_102[:,i].mean())"
      ],
      "execution_count": null,
      "outputs": []
    },
    {
      "cell_type": "code",
      "metadata": {
        "id": "OvQd7MJW-ny1"
      },
      "source": [
        "S1meanrefA1_1702= list()\n",
        "S1meanD4_102 = list()\n",
        "for i in range(S1RGB_imgA1D4_2.shape[0]): \n",
        "     for j in range(S1RGB_imgA1D4_2.shape[1]): \n",
        "                if 1769<i<1881 and 2019<j<2131 :\n",
        "                  S1meanrefA1_1702.append(S1RGB_imgA1D4_2[i][j])\n",
        "                if 1770<i<1880 and 2015<j<2145 :\n",
        "                  S1meanD4_102.append(S1RGB_imgA1D4_2[i][j])  \n",
        "S1meanrefA1_1702 = np.array(S1meanrefA1_1402)\n",
        "S1meanD4_102 = np.array(S1meanD4_102)\n",
        "\n",
        "S1rgbrefA1_1702 = list()\n",
        "S1rgbD4_102 = list()\n",
        "for i in range(3):\n",
        "    S1rgbrefA1_1702.append(S1meanrefA1_1702[:,i].mean())\n",
        "    S1rgbD4_102.append(S1meanD4_102[:,i].mean())"
      ],
      "execution_count": null,
      "outputs": []
    },
    {
      "cell_type": "markdown",
      "metadata": {
        "id": "jHC0T1Oy-XCS"
      },
      "source": [
        "###Img 3"
      ]
    },
    {
      "cell_type": "code",
      "metadata": {
        "id": "7hyv2MRI-ph_",
        "colab": {
          "base_uri": "https://localhost:8080/"
        },
        "outputId": "4da8a075-b911-4d19-cdab-500b07dedbc2"
      },
      "source": [
        "S1meanrefA1_103 = list()\n",
        "S1meanA1_203 = list()\n",
        "for i in range(S1RGB_imgA1A1_3.shape[0]): #ให้ i รันตาม row หรือ shape[0] คือแถว มีทั้งหมด 4032 แถว ของภาพที่ปรับขนาดมาแล้ว\n",
        "     for j in range(S1RGB_imgA1A1_3.shape[1]): #ให้ j รันตาม colum มีทั้งหมด 3024 colum เช่น แถวที่ 1 เข้ามาให้รันครบ 3024colum\n",
        "                if 1769<i<1881 and 2019<j<2131 :\n",
        "                  S1meanrefA1_103.append(S1RGB_imgA1A1_3[i][j])\n",
        "                if 1770<i<1880 and 2015<j<2145 :\n",
        "                  S1meanA1_203.append(S1RGB_imgA1A1_3[i][j])  \n",
        "S1meanrefA1_103 = np.array(S1meanrefA1_103)\n",
        "S1meanA1_203 = np.array(S1meanA1_203)\n",
        "\n",
        "S1rgbrefA1_103 = list()\n",
        "S1rgbA1_203 = list()\n",
        "for i in range(3):\n",
        "    S1rgbrefA1_103.append(S1meanrefA1_103[:,i].mean())\n",
        "    S1rgbA1_203.append(S1meanA1_203[:,i].mean())\n",
        "S1rgbrefA1_103,S1rgbA1_203"
      ],
      "execution_count": null,
      "outputs": [
        {
          "output_type": "execute_result",
          "data": {
            "text/plain": [
              "([240.09301193084977, 213.65173281389497, 156.66268971674378],\n",
              " [240.73280705497476, 214.77697176587725, 158.43901571723205])"
            ]
          },
          "metadata": {},
          "execution_count": 290
        }
      ]
    },
    {
      "cell_type": "code",
      "metadata": {
        "id": "CwDhy4x7OD7D"
      },
      "source": [
        "S1meanrefA1_303 = list()\n",
        "S1meanA2_103 = list()\n",
        "for i in range(S1RGB_imgA1A2_3.shape[0]): \n",
        "     for j in range(S1RGB_imgA1A2_3.shape[1]): \n",
        "                if 1769<i<1881 and 2019<j<2131 :\n",
        "                  S1meanrefA1_303.append(S1RGB_imgA1A2_3[i][j])\n",
        "                if 1770<i<1880 and 2015<j<2145 :\n",
        "                  S1meanA2_103.append(S1RGB_imgA1A2_3[i][j])  \n",
        "S1meanrefA1_303 = np.array(S1meanrefA1_303)\n",
        "S1meanA2_103 = np.array(S1meanA2_103)\n",
        "\n",
        "S1rgbrefA1_303 = list()\n",
        "S1rgbA2_103 = list()\n",
        "for i in range(3):\n",
        "    S1rgbrefA1_303.append(S1meanrefA1_303[:,i].mean())\n",
        "    S1rgbA2_103.append(S1meanA2_103[:,i].mean())"
      ],
      "execution_count": null,
      "outputs": []
    },
    {
      "cell_type": "code",
      "metadata": {
        "id": "UYKaG174OD7J"
      },
      "source": [
        "S1meanrefA1_403 = list()\n",
        "S1meanA3_103 = list()\n",
        "for i in range(S1RGB_imgA1A3_3.shape[0]): \n",
        "     for j in range(S1RGB_imgA1A3_3.shape[1]): \n",
        "                if 1769<i<1881 and 2019<j<2131 :\n",
        "                  S1meanrefA1_403.append(S1RGB_imgA1A3_3[i][j])\n",
        "                if 1770<i<1880 and 2015<j<2145 :\n",
        "                  S1meanA3_103.append(S1RGB_imgA1A3_3[i][j])  \n",
        "S1meanrefA1_403= np.array(S1meanrefA1_403 )\n",
        "S1meanA3_103 = np.array(S1meanA3_103 )\n",
        "\n",
        "S1rgbrefA1_403  = list()\n",
        "S1rgbA3_103  = list()\n",
        "for i in range(3):\n",
        "    S1rgbrefA1_403 .append(S1meanrefA1_403[:,i].mean())\n",
        "    S1rgbA3_103 .append(S1meanA3_103 [:,i].mean())"
      ],
      "execution_count": null,
      "outputs": []
    },
    {
      "cell_type": "code",
      "metadata": {
        "id": "BXhaGTDpOD7L"
      },
      "source": [
        "S1meanrefA1_503  = list()\n",
        "S1meanA3_5103  = list()\n",
        "for i in range(S1RGB_imgA1A3_53.shape[0]): \n",
        "     for j in range(S1RGB_imgA1A3_53.shape[1]): \n",
        "                if 1769<i<1881 and 2019<j<2131 :\n",
        "                  S1meanrefA1_503 .append(S1RGB_imgA1A3_53[i][j])\n",
        "                if 1770<i<1880 and 2015<j<2145 :\n",
        "                  S1meanA3_5103 .append(S1RGB_imgA1A3_53[i][j])  \n",
        "S1meanrefA1_503  = np.array(S1meanrefA1_503 )\n",
        "S1meanA3_5103  = np.array(S1meanA3_5103 )\n",
        "\n",
        "S1rgbrefA1_503  = list()\n",
        "S1rgbA3_5103  = list()\n",
        "for i in range(3):\n",
        "    S1rgbrefA1_503 .append(S1meanrefA1_503 [:,i].mean())\n",
        "    S1rgbA3_5103 .append(S1meanA3_5103 [:,i].mean())"
      ],
      "execution_count": null,
      "outputs": []
    },
    {
      "cell_type": "code",
      "metadata": {
        "id": "_r-gQx7_OD7N"
      },
      "source": [
        "S1meanrefA1_603  = list()\n",
        "S1meanA4_103  = list()\n",
        "for i in range(S1RGB_imgA1A4_3.shape[0]): \n",
        "     for j in range(S1RGB_imgA1A4_3.shape[1]): \n",
        "                if 1769<i<1881 and 2019<j<2131 :\n",
        "                  S1meanrefA1_603 .append(S1RGB_imgA1A4_3[i][j])\n",
        "                if 1770<i<1880 and 2015<j<2145 :\n",
        "                  S1meanA4_103 .append(S1RGB_imgA1A4_3[i][j])  \n",
        "S1meanrefA1_603  = np.array(S1meanrefA1_603 )\n",
        "S1meanA4_103  = np.array(S1meanA4_103 )\n",
        "\n",
        "S1rgbrefA1_603  = list()\n",
        "S1rgbA4_103  = list()\n",
        "for i in range(3):\n",
        "    S1rgbrefA1_603 .append(S1meanrefA1_603[:,i].mean())\n",
        "    S1rgbA4_103 .append(S1meanA4_103 [:,i].mean())"
      ],
      "execution_count": null,
      "outputs": []
    },
    {
      "cell_type": "code",
      "metadata": {
        "id": "GuFjy19oOD7P"
      },
      "source": [
        "S1meanrefA1_703  = list()\n",
        "S1meanB1_103  = list()\n",
        "for i in range(S1RGB_imgA1B1_3.shape[0]): \n",
        "     for j in range(S1RGB_imgA1B1_3.shape[1]): \n",
        "                if 1769<i<1881 and 2019<j<2131 :\n",
        "                  S1meanrefA1_703 .append(S1RGB_imgA1B1_3[i][j])\n",
        "                if 1770<i<1880 and 2015<j<2145 :\n",
        "                  S1meanB1_103 .append(S1RGB_imgA1B1_3[i][j])  \n",
        "S1meanrefA1_703  = np.array(S1meanrefA1_703)\n",
        "S1meanB1_103  = np.array(S1meanB1_103)\n",
        "\n",
        "S1rgbrefA1_703  = list()\n",
        "S1rgbB1_103  = list()\n",
        "for i in range(3):\n",
        "    S1rgbrefA1_703 .append(S1meanrefA1_703 [:,i].mean())\n",
        "    S1rgbB1_103 .append(S1meanB1_103 [:,i].mean())"
      ],
      "execution_count": null,
      "outputs": []
    },
    {
      "cell_type": "code",
      "metadata": {
        "id": "b9OoXHnpOD7R"
      },
      "source": [
        "S1meanrefA1_803  = list()\n",
        "S1meanB2_103  = list()\n",
        "for i in range(S1RGB_imgA1B2_3.shape[0]): \n",
        "     for j in range(S1RGB_imgA1B2_3.shape[1]): \n",
        "                if 1769<i<1881 and 2019<j<2131 :\n",
        "                  S1meanrefA1_803 .append(S1RGB_imgA1B2_3[i][j])\n",
        "                if 1770<i<1880 and 2015<j<2145 :\n",
        "                  S1meanB2_103 .append(S1RGB_imgA1B2_3[i][j])  \n",
        "S1meanrefA1_803  = np.array(S1meanrefA1_803 )\n",
        "S1meanB2_103  = np.array(S1meanB2_103 )\n",
        "\n",
        "S1rgbrefA1_803  = list()\n",
        "S1rgbB2_103  = list()\n",
        "for i in range(3):\n",
        "    S1rgbrefA1_803 .append(S1meanrefA1_803 [:,i].mean())\n",
        "    S1rgbB2_103 .append(S1meanB2_103 [:,i].mean())"
      ],
      "execution_count": null,
      "outputs": []
    },
    {
      "cell_type": "code",
      "metadata": {
        "id": "yl2iPvWgOD7S"
      },
      "source": [
        "S1meanrefA1_903  = list()\n",
        "S1meanB3_103  = list()\n",
        "for i in range(S1RGB_imgA1B3_3.shape[0]): \n",
        "     for j in range(S1RGB_imgA1B3_3.shape[1]): \n",
        "                if 1769<i<1881 and 2019<j<2131 :\n",
        "                  S1meanrefA1_903 .append(S1RGB_imgA1B3_3[i][j])\n",
        "                if 1770<i<1880 and 2015<j<2145 :\n",
        "                  S1meanB3_103 .append(S1RGB_imgA1B3_3[i][j])  \n",
        "S1meanrefA1_903  = np.array(S1meanrefA1_903 )\n",
        "S1meanB3_103  = np.array(S1meanB3_103 )\n",
        "\n",
        "S1rgbrefA1_903  = list()\n",
        "S1rgbB3_103  = list()\n",
        "for i in range(3):\n",
        "    S1rgbrefA1_903 .append(S1meanrefA1_903 [:,i].mean())\n",
        "    S1rgbB3_103 .append(S1meanB3_103 [:,i].mean())"
      ],
      "execution_count": null,
      "outputs": []
    },
    {
      "cell_type": "code",
      "metadata": {
        "id": "wHIew2X0OD7T"
      },
      "source": [
        "S1meanrefA1_1003  = list()\n",
        "S1meanB4_103  = list()\n",
        "for i in range(S1RGB_imgA1B4_3.shape[0]): \n",
        "     for j in range(S1RGB_imgA1B4_3.shape[1]): \n",
        "                if 1769<i<1881 and 2019<j<2131 :\n",
        "                  S1meanrefA1_1003 .append(S1RGB_imgA1B4_3[i][j])\n",
        "                if 1770<i<1880 and 2015<j<2145 :\n",
        "                  S1meanB4_103 .append(S1RGB_imgA1B4_3[i][j])  \n",
        "S1meanrefA1_1003  = np.array(S1meanrefA1_1003 )\n",
        "S1meanB4_103  = np.array(S1meanB4_103 )\n",
        "\n",
        "S1rgbrefA1_1003  = list()\n",
        "S1rgbB4_103  = list()\n",
        "for i in range(3):\n",
        "    S1rgbrefA1_1003 .append(S1meanrefA1_1003[:,i].mean())\n",
        "    S1rgbB4_103 .append(S1meanB4_103 [:,i].mean())"
      ],
      "execution_count": null,
      "outputs": []
    },
    {
      "cell_type": "code",
      "metadata": {
        "id": "2QD9BQEbOD7U"
      },
      "source": [
        "S1meanrefA1_1103  = list()\n",
        "S1meanC1_103  = list()\n",
        "for i in range(S1RGB_imgA1C1_3.shape[0]): \n",
        "     for j in range(S1RGB_imgA1C1_3.shape[1]): \n",
        "                if 1769<i<1881 and 2019<j<2131 :\n",
        "                  S1meanrefA1_1103 .append(S1RGB_imgA1C1_3[i][j])\n",
        "                if 1770<i<1880 and 2015<j<2145 :\n",
        "                  S1meanC1_103 .append(S1RGB_imgA1C1_3[i][j])  \n",
        "S1meanrefA1_1103  = np.array(S1meanrefA1_1103 )\n",
        "S1meanC1_103  = np.array(S1meanC1_103 )\n",
        "\n",
        "S1rgbrefA1_1103  = list()\n",
        "S1rgbC1_103  = list()\n",
        "for i in range(3):\n",
        "    S1rgbrefA1_1103.append(S1meanrefA1_1103 [:,i].mean())\n",
        "    S1rgbC1_103.append(S1meanC1_103 [:,i].mean())"
      ],
      "execution_count": null,
      "outputs": []
    },
    {
      "cell_type": "code",
      "metadata": {
        "id": "Ey1K7hV-OD7V"
      },
      "source": [
        "S1meanrefA1_1203  = list()\n",
        "S1meanC2_103 = list()\n",
        "for i in range(S1RGB_imgA1C2_3.shape[0]): \n",
        "     for j in range(S1RGB_imgA1C2_3.shape[1]): \n",
        "                if 1769<i<1881 and 2019<j<2131 :\n",
        "                  S1meanrefA1_1203.append(S1RGB_imgA1C2_3[i][j])\n",
        "                if 1770<i<1880 and 2015<j<2145 :\n",
        "                  S1meanC2_103.append(S1RGB_imgA1C2_3[i][j])  \n",
        "S1meanrefA1_1203 = np.array(S1meanrefA1_1203)\n",
        "S1meanC2_103 = np.array(S1meanC2_103)\n",
        "\n",
        "S1rgbrefA1_1203 = list()\n",
        "S1rgbC2_103 = list()\n",
        "for i in range(3):\n",
        "    S1rgbrefA1_1203.append(S1meanrefA1_1203[:,i].mean())\n",
        "    S1rgbC2_103.append(S1meanC2_103[:,i].mean())"
      ],
      "execution_count": null,
      "outputs": []
    },
    {
      "cell_type": "code",
      "metadata": {
        "id": "Kwplx8sDOD7W"
      },
      "source": [
        "S1meanrefA1_1303 = list()\n",
        "S1meanC3_103 = list()\n",
        "for i in range(S1RGB_imgA1C3_3.shape[0]): \n",
        "     for j in range(S1RGB_imgA1C3_3.shape[1]): \n",
        "                if 1769<i<1881 and 2019<j<2131 :\n",
        "                  S1meanrefA1_1303.append(S1RGB_imgA1C3_3[i][j])\n",
        "                if 1770<i<1880 and 2015<j<2145 :\n",
        "                  S1meanC3_103.append(S1RGB_imgA1C3_3[i][j])  \n",
        "S1meanrefA1_1303 = np.array(S1meanrefA1_1303)\n",
        "S1meanC3_103 = np.array(S1meanC3_103)\n",
        "\n",
        "S1rgbrefA1_1303 = list()\n",
        "S1rgbC3_103 = list()\n",
        "for i in range(3):\n",
        "    S1rgbrefA1_1303.append(S1meanrefA1_1303[:,i].mean())\n",
        "    S1rgbC3_103.append(S1meanC3_103[:,i].mean())"
      ],
      "execution_count": null,
      "outputs": []
    },
    {
      "cell_type": "code",
      "metadata": {
        "id": "YRT1ACVGOD7W"
      },
      "source": [
        "S1meanrefA1_1403 = list()\n",
        "S1meanC4_103 = list()\n",
        "for i in range(S1RGB_imgA1C4_3.shape[0]): \n",
        "     for j in range(S1RGB_imgA1C4_3.shape[1]): \n",
        "                if 1769<i<1881 and 2019<j<2131 :\n",
        "                  S1meanrefA1_1403.append(S1RGB_imgA1C4_3[i][j])\n",
        "                if 1770<i<1880 and 2015<j<2145 :\n",
        "                  S1meanC4_103.append(S1RGB_imgA1C4_3[i][j])  \n",
        "S1meanrefA1_1403 = np.array(S1meanrefA1_1403)\n",
        "S1meanC4_103 = np.array(S1meanC4_103)\n",
        "\n",
        "S1rgbrefA1_1403 = list()\n",
        "S1rgbC4_103 = list()\n",
        "for i in range(3):\n",
        "    S1rgbrefA1_1403.append(S1meanrefA1_1403[:,i].mean())\n",
        "    S1rgbC4_103.append(S1meanC4_103[:,i].mean())"
      ],
      "execution_count": null,
      "outputs": []
    },
    {
      "cell_type": "code",
      "metadata": {
        "id": "T7eIAU-fOD7X"
      },
      "source": [
        "S1meanrefA1_1503 = list()\n",
        "S1meanD2_103 = list()\n",
        "for i in range(S1RGB_imgA1D2_3.shape[0]): \n",
        "     for j in range(S1RGB_imgA1D2_3.shape[1]): \n",
        "                if 1769<i<1881 and 2019<j<2131 :\n",
        "                  S1meanrefA1_1503.append(S1RGB_imgA1D2_3[i][j])\n",
        "                if 1770<i<1880 and 2015<j<2145 :\n",
        "                  S1meanD2_103.append(S1RGB_imgA1D2_3[i][j])  \n",
        "S1meanrefA1_1503 = np.array(S1meanrefA1_1503)\n",
        "S1meanD2_103 = np.array(S1meanD2_103)\n",
        "\n",
        "S1rgbrefA1_1503 = list()\n",
        "S1rgbD2_103 = list()\n",
        "for i in range(3):\n",
        "    S1rgbrefA1_1503.append(S1meanrefA1_1503[:,i].mean())\n",
        "    S1rgbD2_103.append(S1meanD2_103[:,i].mean())"
      ],
      "execution_count": null,
      "outputs": []
    },
    {
      "cell_type": "code",
      "metadata": {
        "id": "DpA4wXbfOD7Y"
      },
      "source": [
        "S1meanrefA1_1603 = list()\n",
        "S1meanD3_103 = list()\n",
        "for i in range(S1RGB_imgA1D3_3.shape[0]): \n",
        "     for j in range(S1RGB_imgA1D3_3.shape[1]): \n",
        "                if 1769<i<1881 and 2019<j<2131 :\n",
        "                  S1meanrefA1_1603.append(S1RGB_imgA1D3_3[i][j])\n",
        "                if 1770<i<1880 and 2015<j<2145 :\n",
        "                  S1meanD3_103.append(S1RGB_imgA1D3_3[i][j])  \n",
        "S1meanrefA1_1603 = np.array(S1meanrefA1_1603)\n",
        "S1meanD3_103 = np.array(S1meanD3_103)\n",
        "\n",
        "S1rgbrefA1_1603 = list()\n",
        "S1rgbD3_103 = list()\n",
        "for i in range(3):\n",
        "    S1rgbrefA1_1603.append(S1meanrefA1_1603[:,i].mean())\n",
        "    S1rgbD3_103.append(S1meanD3_103[:,i].mean())"
      ],
      "execution_count": null,
      "outputs": []
    },
    {
      "cell_type": "code",
      "metadata": {
        "id": "HYBlGYW-OD7Z"
      },
      "source": [
        "S1meanrefA1_1703= list()\n",
        "S1meanD4_103 = list()\n",
        "for i in range(S1RGB_imgA1D4_3.shape[0]): \n",
        "     for j in range(S1RGB_imgA1D4_3.shape[1]): \n",
        "                if 1769<i<1881 and 2019<j<2131 :\n",
        "                  S1meanrefA1_1703.append(S1RGB_imgA1D4_3[i][j])\n",
        "                if 1770<i<1880 and 2015<j<2145 :\n",
        "                  S1meanD4_103.append(S1RGB_imgA1D4_3[i][j])  \n",
        "S1meanrefA1_1703 = np.array(S1meanrefA1_1403)\n",
        "S1meanD4_103 = np.array(S1meanD4_103)\n",
        "\n",
        "S1rgbrefA1_1703 = list()\n",
        "S1rgbD4_103 = list()\n",
        "for i in range(3):\n",
        "    S1rgbrefA1_1703.append(S1meanrefA1_1703[:,i].mean())\n",
        "    S1rgbD4_103.append(S1meanD4_103[:,i].mean())"
      ],
      "execution_count": null,
      "outputs": []
    },
    {
      "cell_type": "markdown",
      "metadata": {
        "id": "Y80UKTuT-XCU"
      },
      "source": [
        "###Img 4"
      ]
    },
    {
      "cell_type": "code",
      "metadata": {
        "id": "bn84P_fUOzpo",
        "colab": {
          "base_uri": "https://localhost:8080/"
        },
        "outputId": "e73ee00b-6ef6-4f9d-c82b-8be7f5393bfc"
      },
      "source": [
        "S1meanrefA1_104 = list()\n",
        "S1meanA1_204 = list()\n",
        "for i in range(S1RGB_imgA1A1_4.shape[0]): #ให้ i รันตาม row หรือ shape[0] คือแถว มีทั้งหมด 4032 แถว ของภาพที่ปรับขนาดมาแล้ว\n",
        "     for j in range(S1RGB_imgA1A1_4.shape[1]): #ให้ j รันตาม colum มีทั้งหมด 3024 colum เช่น แถวที่ 1 เข้ามาให้รันครบ 3024colum\n",
        "                if 1769<i<1881 and 2019<j<2131 :\n",
        "                  S1meanrefA1_104.append(S1RGB_imgA1A1_4[i][j])\n",
        "                if 1770<i<1880 and 2015<j<2145 :\n",
        "                  S1meanA1_204.append(S1RGB_imgA1A1_4[i][j])  \n",
        "S1meanrefA1_104 = np.array(S1meanrefA1_104)\n",
        "S1meanA1_204 = np.array(S1meanA1_204)\n",
        "\n",
        "S1rgbrefA1_104 = list()\n",
        "S1rgbA1_204 = list()\n",
        "for i in range(3):\n",
        "    S1rgbrefA1_104.append(S1meanrefA1_104[:,i].mean())\n",
        "    S1rgbA1_204.append(S1meanA1_204[:,i].mean())\n",
        "S1rgbrefA1_104,S1rgbA1_204 "
      ],
      "execution_count": null,
      "outputs": [
        {
          "output_type": "execute_result",
          "data": {
            "text/plain": [
              "([236.76738901063226, 211.19040662283905, 157.94659524389255],\n",
              " [237.50224023895882, 212.320958680037, 159.89531327786074])"
            ]
          },
          "metadata": {},
          "execution_count": 306
        }
      ]
    },
    {
      "cell_type": "code",
      "metadata": {
        "id": "HvR90hw9OYMN"
      },
      "source": [
        "S1meanrefA1_304 = list()\n",
        "S1meanA2_104 = list()\n",
        "for i in range(S1RGB_imgA1A2_4.shape[0]): \n",
        "     for j in range(S1RGB_imgA1A2_4.shape[1]): \n",
        "                if 1769<i<1881 and 2019<j<2131 :\n",
        "                  S1meanrefA1_304.append(S1RGB_imgA1A2_4[i][j])\n",
        "                if 1770<i<1880 and 2015<j<2145 :\n",
        "                  S1meanA2_104.append(S1RGB_imgA1A2_4[i][j])  \n",
        "S1meanrefA1_304 = np.array(S1meanrefA1_304)\n",
        "S1meanA2_104 = np.array(S1meanA2_104)\n",
        "\n",
        "S1rgbrefA1_304 = list()\n",
        "S1rgbA2_104 = list()\n",
        "for i in range(3):\n",
        "    S1rgbrefA1_304.append(S1meanrefA1_304[:,i].mean())\n",
        "    S1rgbA2_104.append(S1meanA2_104[:,i].mean())"
      ],
      "execution_count": null,
      "outputs": []
    },
    {
      "cell_type": "code",
      "metadata": {
        "id": "dXd8lOH0OYMN"
      },
      "source": [
        "S1meanrefA1_404 = list()\n",
        "S1meanA3_104 = list()\n",
        "for i in range(S1RGB_imgA1A3_4.shape[0]): \n",
        "     for j in range(S1RGB_imgA1A3_4.shape[1]): \n",
        "                if 1769<i<1881 and 2019<j<2131 :\n",
        "                  S1meanrefA1_404.append(S1RGB_imgA1A3_4[i][j])\n",
        "                if 1770<i<1880 and 2015<j<2145 :\n",
        "                  S1meanA3_104.append(S1RGB_imgA1A3_4[i][j])  \n",
        "S1meanrefA1_404 = np.array(S1meanrefA1_404)\n",
        "S1meanA3_104 = np.array(S1meanA3_104)\n",
        "\n",
        "S1rgbrefA1_404 = list()\n",
        "S1rgbA3_104 = list()\n",
        "for i in range(3):\n",
        "    S1rgbrefA1_404.append(S1meanrefA1_404[:,i].mean())\n",
        "    S1rgbA3_104.append(S1meanA3_104[:,i].mean())"
      ],
      "execution_count": null,
      "outputs": []
    },
    {
      "cell_type": "code",
      "metadata": {
        "id": "Vl4y00CXOYMO"
      },
      "source": [
        "S1meanrefA1_504 = list()\n",
        "S1meanA3_5104 = list()\n",
        "for i in range(S1RGB_imgA1A3_54.shape[0]): \n",
        "     for j in range(S1RGB_imgA1A3_54.shape[1]): \n",
        "                if 1769<i<1881 and 2019<j<2131 :\n",
        "                  S1meanrefA1_504.append(S1RGB_imgA1A3_54[i][j])\n",
        "                if 1770<i<1880 and 2015<j<2145 :\n",
        "                  S1meanA3_5104.append(S1RGB_imgA1A3_54[i][j])  \n",
        "S1meanrefA1_504 = np.array(S1meanrefA1_504)\n",
        "S1meanA3_5104 = np.array(S1meanA3_5104)\n",
        "\n",
        "S1rgbrefA1_504 = list()\n",
        "S1rgbA3_5104 = list()\n",
        "for i in range(3):\n",
        "    S1rgbrefA1_504.append(S1meanrefA1_504[:,i].mean())\n",
        "    S1rgbA3_5104.append(S1meanA3_5104[:,i].mean())"
      ],
      "execution_count": null,
      "outputs": []
    },
    {
      "cell_type": "code",
      "metadata": {
        "id": "6oEuSutGOYMP"
      },
      "source": [
        "S1meanrefA1_604 = list()\n",
        "S1meanA4_104 = list()\n",
        "for i in range(S1RGB_imgA1A4_4.shape[0]): \n",
        "     for j in range(S1RGB_imgA1A4_4.shape[1]): \n",
        "                if 1769<i<1881 and 2019<j<2131 :\n",
        "                  S1meanrefA1_604.append(S1RGB_imgA1A4_4[i][j])\n",
        "                if 1770<i<1880 and 2015<j<2145 :\n",
        "                  S1meanA4_104.append(S1RGB_imgA1A4_4[i][j])  \n",
        "S1meanrefA1_604 = np.array(S1meanrefA1_604)\n",
        "S1meanA4_104 = np.array(S1meanA4_104)\n",
        "\n",
        "S1rgbrefA1_604 = list()\n",
        "S1rgbA4_104 = list()\n",
        "for i in range(3):\n",
        "    S1rgbrefA1_604.append(S1meanrefA1_604[:,i].mean())\n",
        "    S1rgbA4_104.append(S1meanA4_104[:,i].mean())"
      ],
      "execution_count": null,
      "outputs": []
    },
    {
      "cell_type": "code",
      "metadata": {
        "id": "cSHA_FHAOYMP"
      },
      "source": [
        "S1meanrefA1_704 = list()\n",
        "S1meanB1_104 = list()\n",
        "for i in range(S1RGB_imgA1B1_4.shape[0]): \n",
        "     for j in range(S1RGB_imgA1B1_4.shape[1]): \n",
        "                if 1769<i<1881 and 2019<j<2131 :\n",
        "                  S1meanrefA1_704.append(S1RGB_imgA1B1_4[i][j])\n",
        "                if 1770<i<1880 and 2015<j<2145 :\n",
        "                  S1meanB1_104.append(S1RGB_imgA1B1_4[i][j])  \n",
        "S1meanrefA1_704 = np.array(S1meanrefA1_704)\n",
        "S1meanB1_104 = np.array(S1meanB1_104)\n",
        "\n",
        "S1rgbrefA1_704 = list()\n",
        "S1rgbB1_104 = list()\n",
        "for i in range(3):\n",
        "    S1rgbrefA1_704.append(S1meanrefA1_704[:,i].mean())\n",
        "    S1rgbB1_104.append(S1meanB1_104[:,i].mean())"
      ],
      "execution_count": null,
      "outputs": []
    },
    {
      "cell_type": "code",
      "metadata": {
        "id": "t-4GZQBGOYMQ"
      },
      "source": [
        "S1meanrefA1_804 = list()\n",
        "S1meanB2_104 = list()\n",
        "for i in range(S1RGB_imgA1B2_4.shape[0]): \n",
        "     for j in range(S1RGB_imgA1B2_4.shape[1]): \n",
        "                if 1769<i<1881 and 2019<j<2131 :\n",
        "                  S1meanrefA1_804.append(S1RGB_imgA1B2_4[i][j])\n",
        "                if 1770<i<1880 and 2015<j<2145 :\n",
        "                  S1meanB2_104.append(S1RGB_imgA1B2_4[i][j])  \n",
        "S1meanrefA1_804 = np.array(S1meanrefA1_804)\n",
        "S1meanB2_104 = np.array(S1meanB2_104)\n",
        "\n",
        "S1rgbrefA1_804 = list()\n",
        "S1rgbB2_104 = list()\n",
        "for i in range(3):\n",
        "    S1rgbrefA1_804.append(S1meanrefA1_804[:,i].mean())\n",
        "    S1rgbB2_104.append(S1meanB2_104[:,i].mean())"
      ],
      "execution_count": null,
      "outputs": []
    },
    {
      "cell_type": "code",
      "metadata": {
        "id": "ZCK-5klmOYMQ"
      },
      "source": [
        "S1meanrefA1_904 = list()\n",
        "S1meanB3_104 = list()\n",
        "for i in range(S1RGB_imgA1B3_4.shape[0]): \n",
        "     for j in range(S1RGB_imgA1B3_4.shape[1]): \n",
        "                if 1769<i<1881 and 2019<j<2131 :\n",
        "                  S1meanrefA1_904.append(S1RGB_imgA1B3_4[i][j])\n",
        "                if 1770<i<1880 and 2015<j<2145 :\n",
        "                  S1meanB3_104.append(S1RGB_imgA1B3_4[i][j])  \n",
        "S1meanrefA1_904 = np.array(S1meanrefA1_904)\n",
        "S1meanB3_104 = np.array(S1meanB3_104)\n",
        "\n",
        "S1rgbrefA1_904 = list()\n",
        "S1rgbB3_104 = list()\n",
        "for i in range(3):\n",
        "    S1rgbrefA1_904.append(S1meanrefA1_904[:,i].mean())\n",
        "    S1rgbB3_104.append(S1meanB3_104[:,i].mean())"
      ],
      "execution_count": null,
      "outputs": []
    },
    {
      "cell_type": "code",
      "metadata": {
        "id": "qQDaQYu9OYMQ"
      },
      "source": [
        "S1meanrefA1_1004 = list()\n",
        "S1meanB4_104 = list()\n",
        "for i in range(S1RGB_imgA1B4_4.shape[0]): \n",
        "     for j in range(S1RGB_imgA1B4_4.shape[1]): \n",
        "                if 1769<i<1881 and 2019<j<2131 :\n",
        "                  S1meanrefA1_1004.append(S1RGB_imgA1B4_4[i][j])\n",
        "                if 1770<i<1880 and 2015<j<2145 :\n",
        "                  S1meanB4_104.append(S1RGB_imgA1B4_4[i][j])  \n",
        "S1meanrefA1_1004 = np.array(S1meanrefA1_1004)\n",
        "S1meanB4_104 = np.array(S1meanB4_104)\n",
        "\n",
        "S1rgbrefA1_1004 = list()\n",
        "S1rgbB4_104 = list()\n",
        "for i in range(3):\n",
        "    S1rgbrefA1_1004.append(S1meanrefA1_1004[:,i].mean())\n",
        "    S1rgbB4_104.append(S1meanB4_104[:,i].mean())"
      ],
      "execution_count": null,
      "outputs": []
    },
    {
      "cell_type": "code",
      "metadata": {
        "id": "ewVZRrNNOYMR"
      },
      "source": [
        "S1meanrefA1_1104 = list()\n",
        "S1meanC1_104 = list()\n",
        "for i in range(S1RGB_imgA1C1_4.shape[0]): \n",
        "     for j in range(S1RGB_imgA1C1_4.shape[1]): \n",
        "                if 1769<i<1881 and 2019<j<2131 :\n",
        "                  S1meanrefA1_1104.append(S1RGB_imgA1C1_4[i][j])\n",
        "                if 1770<i<1880 and 2015<j<2145 :\n",
        "                  S1meanC1_104.append(S1RGB_imgA1C1_4[i][j])  \n",
        "S1meanrefA1_1104 = np.array(S1meanrefA1_1104)\n",
        "S1meanC1_104 = np.array(S1meanC1_104)\n",
        "\n",
        "S1rgbrefA1_1104 = list()\n",
        "S1rgbC1_104 = list()\n",
        "for i in range(3):\n",
        "    S1rgbrefA1_1104.append(S1meanrefA1_1104[:,i].mean())\n",
        "    S1rgbC1_104.append(S1meanC1_104[:,i].mean())"
      ],
      "execution_count": null,
      "outputs": []
    },
    {
      "cell_type": "code",
      "metadata": {
        "id": "1fjC_EdYOYMR"
      },
      "source": [
        "S1meanrefA1_1204 = list()\n",
        "S1meanC2_104 = list()\n",
        "for i in range(S1RGB_imgA1C2_4.shape[0]): \n",
        "     for j in range(S1RGB_imgA1C2_4.shape[1]): \n",
        "                if 1769<i<1881 and 2019<j<2131 :\n",
        "                  S1meanrefA1_1204.append(S1RGB_imgA1C2_4[i][j])\n",
        "                if 1770<i<1880 and 2015<j<2145 :\n",
        "                  S1meanC2_104.append(S1RGB_imgA1C2_4[i][j])  \n",
        "S1meanrefA1_1204 = np.array(S1meanrefA1_1204)\n",
        "S1meanC2_104 = np.array(S1meanC2_104)\n",
        "\n",
        "S1rgbrefA1_1204 = list()\n",
        "S1rgbC2_104 = list()\n",
        "for i in range(3):\n",
        "    S1rgbrefA1_1204.append(S1meanrefA1_1204[:,i].mean())\n",
        "    S1rgbC2_104.append(S1meanC2_104[:,i].mean())"
      ],
      "execution_count": null,
      "outputs": []
    },
    {
      "cell_type": "code",
      "metadata": {
        "id": "QvnG7iiVOYMR"
      },
      "source": [
        "S1meanrefA1_1304 = list()\n",
        "S1meanC3_104 = list()\n",
        "for i in range(S1RGB_imgA1C3_4.shape[0]): \n",
        "     for j in range(S1RGB_imgA1C3_4.shape[1]): \n",
        "                if 1769<i<1881 and 2019<j<2131 :\n",
        "                  S1meanrefA1_1304.append(S1RGB_imgA1C3_4[i][j])\n",
        "                if 1770<i<1880 and 2015<j<2145 :\n",
        "                  S1meanC3_104.append(S1RGB_imgA1C3_4[i][j])  \n",
        "S1meanrefA1_1304 = np.array(S1meanrefA1_1304)\n",
        "S1meanC3_104 = np.array(S1meanC3_104)\n",
        "\n",
        "S1rgbrefA1_1304 = list()\n",
        "S1rgbC3_104 = list()\n",
        "for i in range(3):\n",
        "    S1rgbrefA1_1304.append(S1meanrefA1_1304[:,i].mean())\n",
        "    S1rgbC3_104.append(S1meanC3_104[:,i].mean())"
      ],
      "execution_count": null,
      "outputs": []
    },
    {
      "cell_type": "code",
      "metadata": {
        "id": "Ex49m5yGOYMS"
      },
      "source": [
        "S1meanrefA1_1404 = list()\n",
        "S1meanC4_104 = list()\n",
        "for i in range(S1RGB_imgA1C4_4.shape[0]): \n",
        "     for j in range(S1RGB_imgA1C4_4.shape[1]): \n",
        "                if 1769<i<1881 and 2019<j<2131 :\n",
        "                  S1meanrefA1_1404.append(S1RGB_imgA1C4_4[i][j])\n",
        "                if 1770<i<1880 and 2015<j<2145 :\n",
        "                  S1meanC4_104.append(S1RGB_imgA1C4_4[i][j])  \n",
        "S1meanrefA1_1404 = np.array(S1meanrefA1_1404)\n",
        "S1meanC4_104 = np.array(S1meanC4_104)\n",
        "\n",
        "S1rgbrefA1_1404 = list()\n",
        "S1rgbC4_104 = list()\n",
        "for i in range(3):\n",
        "    S1rgbrefA1_1404.append(S1meanrefA1_1404[:,i].mean())\n",
        "    S1rgbC4_104.append(S1meanC4_104[:,i].mean())"
      ],
      "execution_count": null,
      "outputs": []
    },
    {
      "cell_type": "code",
      "metadata": {
        "id": "OSDdu6HCOYMS"
      },
      "source": [
        "S1meanrefA1_1504 = list()\n",
        "S1meanD2_104 = list()\n",
        "for i in range(S1RGB_imgA1D2_4.shape[0]): \n",
        "     for j in range(S1RGB_imgA1D2_4.shape[1]): \n",
        "                if 1769<i<1881 and 2019<j<2131 :\n",
        "                  S1meanrefA1_1504.append(S1RGB_imgA1D2_4[i][j])\n",
        "                if 1770<i<1880 and 2015<j<2145 :\n",
        "                  S1meanD2_104.append(S1RGB_imgA1D2_4[i][j])  \n",
        "S1meanrefA1_1504 = np.array(S1meanrefA1_1504)\n",
        "S1meanD2_104 = np.array(S1meanD2_104)\n",
        "\n",
        "S1rgbrefA1_1504 = list()\n",
        "S1rgbD2_104 = list()\n",
        "for i in range(3):\n",
        "    S1rgbrefA1_1504.append(S1meanrefA1_1504[:,i].mean())\n",
        "    S1rgbD2_104.append(S1meanD2_104[:,i].mean())"
      ],
      "execution_count": null,
      "outputs": []
    },
    {
      "cell_type": "code",
      "metadata": {
        "id": "aXr6Kqt-OYMS"
      },
      "source": [
        "S1meanrefA1_1604 = list()\n",
        "S1meanD3_104 = list()\n",
        "for i in range(S1RGB_imgA1D3_4.shape[0]): \n",
        "     for j in range(S1RGB_imgA1D3_4.shape[1]): \n",
        "                if 1769<i<1881 and 2019<j<2131 :\n",
        "                  S1meanrefA1_1604.append(S1RGB_imgA1D3_4[i][j])\n",
        "                if 1770<i<1880 and 2015<j<2145 :\n",
        "                  S1meanD3_104.append(S1RGB_imgA1D3_4[i][j])  \n",
        "S1meanrefA1_1604 = np.array(S1meanrefA1_1604)\n",
        "S1meanD3_104 = np.array(S1meanD3_104)\n",
        "\n",
        "S1rgbrefA1_1604 = list()\n",
        "S1rgbD3_104 = list()\n",
        "for i in range(3):\n",
        "    S1rgbrefA1_1604.append(S1meanrefA1_1604[:,i].mean())\n",
        "    S1rgbD3_104.append(S1meanD3_104[:,i].mean())"
      ],
      "execution_count": null,
      "outputs": []
    },
    {
      "cell_type": "code",
      "metadata": {
        "id": "6eck_A4OOYMT"
      },
      "source": [
        "S1meanrefA1_1704= list()\n",
        "S1meanD4_104 = list()\n",
        "for i in range(S1RGB_imgA1D4_4.shape[0]): \n",
        "     for j in range(S1RGB_imgA1D4_4.shape[1]): \n",
        "                if 1769<i<1881 and 2019<j<2131 :\n",
        "                  S1meanrefA1_1704.append(S1RGB_imgA1D4_4[i][j])\n",
        "                if 1770<i<1880 and 2015<j<2145 :\n",
        "                  S1meanD4_104.append(S1RGB_imgA1D4_4[i][j])  \n",
        "S1meanrefA1_1704 = np.array(S1meanrefA1_1404)\n",
        "S1meanD4_104 = np.array(S1meanD4_104)\n",
        "\n",
        "S1rgbrefA1_1704 = list()\n",
        "S1rgbD4_104 = list()\n",
        "for i in range(3):\n",
        "    S1rgbrefA1_1704.append(S1meanrefA1_1704[:,i].mean())\n",
        "    S1rgbD4_104.append(S1meanD4_104[:,i].mean())"
      ],
      "execution_count": null,
      "outputs": []
    },
    {
      "cell_type": "markdown",
      "metadata": {
        "id": "yLQq-1FZ-XCV"
      },
      "source": [
        "###Img 5"
      ]
    },
    {
      "cell_type": "code",
      "metadata": {
        "id": "DKMpl6KPPIKP",
        "colab": {
          "base_uri": "https://localhost:8080/"
        },
        "outputId": "0962e7f3-d046-4e96-dbcd-0cfd460c2e4c"
      },
      "source": [
        "S1meanrefA1_105 = list()\n",
        "S1meanA1_205 = list()\n",
        "for i in range(S1RGB_imgA1A1_5.shape[0]): #ให้ i รันตาม row หรือ shape[0] คือแถว มีทั้งหมด 4032 แถว ของภาพที่ปรับขนาดมาแล้ว\n",
        "     for j in range(S1RGB_imgA1A1_5.shape[1]): #ให้ j รันตาม colum มีทั้งหมด 3024 colum เช่น แถวที่ 1 เข้ามาให้รันครบ 3024colum\n",
        "                if 1769<i<1881 and 2019<j<2131 :\n",
        "                  S1meanrefA1_105.append(S1RGB_imgA1A1_5[i][j])\n",
        "                if 1770<i<1880 and 2015<j<2145 :\n",
        "                  S1meanA1_205.append(S1RGB_imgA1A1_5[i][j])  \n",
        "S1meanrefA1_105 = np.array(S1meanrefA1_105)\n",
        "S1meanA1_205 = np.array(S1meanA1_205)\n",
        "\n",
        "S1rgbrefA1_105 = list()\n",
        "S1rgbA1_205 = list()\n",
        "for i in range(3):\n",
        "    S1rgbrefA1_105.append(S1meanrefA1_105[:,i].mean())\n",
        "    S1rgbA1_205.append(S1meanA1_2[:,i].mean())\n",
        "S1rgbrefA1_105,S1rgbA1_205 "
      ],
      "execution_count": null,
      "outputs": [
        {
          "output_type": "execute_result",
          "data": {
            "text/plain": [
              "([236.76738901063226, 211.19040662283905, 157.94659524389255],\n",
              " [237.80918853566604, 226.41682668373517, 193.19536306094872])"
            ]
          },
          "metadata": {},
          "execution_count": 322
        }
      ]
    },
    {
      "cell_type": "code",
      "metadata": {
        "id": "kGGu65MbPIKQ"
      },
      "source": [
        "S1meanrefA1_305 = list()\n",
        "S1meanA2_105 = list()\n",
        "for i in range(S1RGB_imgA1A2_5.shape[0]): \n",
        "     for j in range(S1RGB_imgA1A2_5.shape[1]): \n",
        "                if 1769<i<1881 and 2019<j<2131 :\n",
        "                  S1meanrefA1_305.append(S1RGB_imgA1A2_5[i][j])\n",
        "                if 1770<i<1880 and 2015<j<2145 :\n",
        "                  S1meanA2_105.append(S1RGB_imgA1A2_5[i][j])  \n",
        "S1meanrefA1_305 = np.array(S1meanrefA1_305 )\n",
        "S1meanA2_105 = np.array(S1meanA2_105 )\n",
        "\n",
        "S1rgbrefA1_305 = list()\n",
        "S1rgbA2_105  = list()\n",
        "for i in range(3):\n",
        "    S1rgbrefA1_305 .append(S1meanrefA1_305 [:,i].mean())\n",
        "    S1rgbA2_105 .append(S1meanA2_105 [:,i].mean())"
      ],
      "execution_count": null,
      "outputs": []
    },
    {
      "cell_type": "code",
      "metadata": {
        "id": "0Ls4I6iWPIKR"
      },
      "source": [
        "S1meanrefA1_405  = list()\n",
        "S1meanA3_105  = list()\n",
        "for i in range(S1RGB_imgA1A3_5.shape[0]): \n",
        "     for j in range(S1RGB_imgA1A3_5.shape[1]): \n",
        "                if 1769<i<1881 and 2019<j<2131 :\n",
        "                  S1meanrefA1_405 .append(S1RGB_imgA1A3_5[i][j])\n",
        "                if 1770<i<1880 and 2015<j<2145 :\n",
        "                  S1meanA3_105 .append(S1RGB_imgA1A3_5[i][j])  \n",
        "S1meanrefA1_405 = np.array(S1meanrefA1_405)\n",
        "S1meanA3_105  = np.array(S1meanA3_105 )\n",
        "\n",
        "S1rgbrefA1_405  = list()\n",
        "S1rgbA3_105  = list()\n",
        "for i in range(3):\n",
        "    S1rgbrefA1_405 .append(S1meanrefA1_405 [:,i].mean())\n",
        "    S1rgbA3_105 .append(S1meanA3_105 [:,i].mean())"
      ],
      "execution_count": null,
      "outputs": []
    },
    {
      "cell_type": "code",
      "metadata": {
        "id": "k3UxCX2fPIKT"
      },
      "source": [
        "S1meanrefA1_505  = list()\n",
        "S1meanA3_5105  = list()\n",
        "for i in range(S1RGB_imgA1A3_55.shape[0]): \n",
        "     for j in range(S1RGB_imgA1A3_55.shape[1]): \n",
        "                if 1769<i<1881 and 2019<j<2131 :\n",
        "                  S1meanrefA1_505 .append(S1RGB_imgA1A3_55[i][j])\n",
        "                if 1770<i<1880 and 2015<j<2145 :\n",
        "                  S1meanA3_5105 .append(S1RGB_imgA1A3_55[i][j])  \n",
        "S1meanrefA1_505  = np.array(S1meanrefA1_5)\n",
        "S1meanA3_5105  = np.array(S1meanA3_51)\n",
        "\n",
        "S1rgbrefA1_505  = list()\n",
        "S1rgbA3_5105  = list()\n",
        "for i in range(3):\n",
        "    S1rgbrefA1_505 .append(S1meanrefA1_505 [:,i].mean())\n",
        "    S1rgbA3_5105 .append(S1meanA3_5105 [:,i].mean())"
      ],
      "execution_count": null,
      "outputs": []
    },
    {
      "cell_type": "code",
      "metadata": {
        "id": "j-VsfMjOPIKV"
      },
      "source": [
        "S1meanrefA1_605  = list()\n",
        "S1meanA4_105  = list()\n",
        "for i in range(S1RGB_imgA1A4_5.shape[0]): \n",
        "     for j in range(S1RGB_imgA1A4_5.shape[1]): \n",
        "                if 1769<i<1881 and 2019<j<2131 :\n",
        "                  S1meanrefA1_605 .append(S1RGB_imgA1A4_5[i][j])\n",
        "                if 1770<i<1880 and 2015<j<2145 :\n",
        "                  S1meanA4_105 .append(S1RGB_imgA1A4_5[i][j])  \n",
        "S1meanrefA1_605 = np.array(S1meanrefA1_6)\n",
        "S1meanA4_105 = np.array(S1meanA4_1)\n",
        "\n",
        "S1rgbrefA1_605 = list()\n",
        "S1rgbA4_105 = list()\n",
        "for i in range(3):\n",
        "    S1rgbrefA1_605.append(S1meanrefA1_605[:,i].mean())\n",
        "    S1rgbA4_105.append(S1meanA4_105[:,i].mean())"
      ],
      "execution_count": null,
      "outputs": []
    },
    {
      "cell_type": "code",
      "metadata": {
        "id": "1ud_OvLDPIKV"
      },
      "source": [
        "S1meanrefA1_705 = list()\n",
        "S1meanB1_105 = list()\n",
        "for i in range(S1RGB_imgA1B1_5.shape[0]): \n",
        "     for j in range(S1RGB_imgA1B1_5.shape[1]): \n",
        "                if 1769<i<1881 and 2019<j<2131 :\n",
        "                  S1meanrefA1_705.append(S1RGB_imgA1B1_5[i][j])\n",
        "                if 1770<i<1880 and 2015<j<2145 :\n",
        "                  S1meanB1_105.append(S1RGB_imgA1B1_5[i][j])  \n",
        "S1meanrefA1_705 = np.array(S1meanrefA1_705)\n",
        "S1meanB1_105 = np.array(S1meanB1_105)\n",
        "\n",
        "S1rgbrefA1_705 = list()\n",
        "S1rgbB1_105 = list()\n",
        "for i in range(3):\n",
        "    S1rgbrefA1_705.append(S1meanrefA1_705[:,i].mean())\n",
        "    S1rgbB1_105.append(S1meanB1_105[:,i].mean())"
      ],
      "execution_count": null,
      "outputs": []
    },
    {
      "cell_type": "code",
      "metadata": {
        "id": "EaD2_t-7PIKW"
      },
      "source": [
        "S1meanrefA1_805 = list()\n",
        "S1meanB2_105 = list()\n",
        "for i in range(S1RGB_imgA1B2_5.shape[0]): \n",
        "     for j in range(S1RGB_imgA1B2_5.shape[1]): \n",
        "                if 1769<i<1881 and 2019<j<2131 :\n",
        "                  S1meanrefA1_805.append(S1RGB_imgA1B2_5[i][j])\n",
        "                if 1770<i<1880 and 2015<j<2145 :\n",
        "                  S1meanB2_105.append(S1RGB_imgA1B2_5[i][j])  \n",
        "S1meanrefA1_805 = np.array(S1meanrefA1_8)\n",
        "S1meanB2_105 = np.array(S1meanB2_1)\n",
        "\n",
        "S1rgbrefA1_805 = list()\n",
        "S1rgbB2_105 = list()\n",
        "for i in range(3):\n",
        "    S1rgbrefA1_805.append(S1meanrefA1_805[:,i].mean())\n",
        "    S1rgbB2_105.append(S1meanB2_105[:,i].mean())"
      ],
      "execution_count": null,
      "outputs": []
    },
    {
      "cell_type": "code",
      "metadata": {
        "id": "WvVWR0mlPIKW"
      },
      "source": [
        "S1meanrefA1_905 = list()\n",
        "S1meanB3_105 = list()\n",
        "for i in range(S1RGB_imgA1B3_5.shape[0]): \n",
        "     for j in range(S1RGB_imgA1B3_5.shape[1]): \n",
        "                if 1769<i<1881 and 2019<j<2131 :\n",
        "                  S1meanrefA1_905.append(S1RGB_imgA1B3_5[i][j])\n",
        "                if 1770<i<1880 and 2015<j<2145 :\n",
        "                  S1meanB3_105.append(S1RGB_imgA1B3_5[i][j])  \n",
        "S1meanrefA1_905 = np.array(S1meanrefA1_905)\n",
        "S1meanB3_105 = np.array(S1meanB3_105)\n",
        "\n",
        "S1rgbrefA1_905 = list()\n",
        "S1rgbB3_105 = list()\n",
        "for i in range(3):\n",
        "    S1rgbrefA1_905.append(S1meanrefA1_905[:,i].mean())\n",
        "    S1rgbB3_105.append(S1meanB3_105[:,i].mean())"
      ],
      "execution_count": null,
      "outputs": []
    },
    {
      "cell_type": "code",
      "metadata": {
        "id": "qAzCAafMPIKX"
      },
      "source": [
        "S1meanrefA1_1005 = list()\n",
        "S1meanB4_105 = list()\n",
        "for i in range(S1RGB_imgA1B4_5.shape[0]): \n",
        "     for j in range(S1RGB_imgA1B4_5.shape[1]): \n",
        "                if 1769<i<1881 and 2019<j<2131 :\n",
        "                  S1meanrefA1_1005.append(S1RGB_imgA1B4_5[i][j])\n",
        "                if 1770<i<1880 and 2015<j<2145 :\n",
        "                  S1meanB4_105.append(S1RGB_imgA1B4_5[i][j])  \n",
        "S1meanrefA1_1005 = np.array(S1meanrefA1_10)\n",
        "S1meanB4_105 = np.array(S1meanB4_1)\n",
        "\n",
        "S1rgbrefA1_1005 = list()\n",
        "S1rgbB4_105 = list()\n",
        "for i in range(3):\n",
        "    S1rgbrefA1_1005.append(S1meanrefA1_1005[:,i].mean())\n",
        "    S1rgbB4_105.append(S1meanB4_105[:,i].mean())"
      ],
      "execution_count": null,
      "outputs": []
    },
    {
      "cell_type": "code",
      "metadata": {
        "id": "oIFyW6HKPIKX"
      },
      "source": [
        "S1meanrefA1_1105 = list()\n",
        "S1meanC1_105 = list()\n",
        "for i in range(S1RGB_imgA1C1_5.shape[0]): \n",
        "     for j in range(S1RGB_imgA1C1_5.shape[1]): \n",
        "                if 1769<i<1881 and 2019<j<2131 :\n",
        "                  S1meanrefA1_1105.append(S1RGB_imgA1C1_5[i][j])\n",
        "                if 1770<i<1880 and 2015<j<2145 :\n",
        "                  S1meanC1_105.append(S1RGB_imgA1C1_5[i][j])  \n",
        "S1meanrefA1_1105 = np.array(S1meanrefA1_1105)\n",
        "S1meanC1_105 = np.array(S1meanC1_105)\n",
        "\n",
        "S1rgbrefA1_1105 = list()\n",
        "S1rgbC1_105 = list()\n",
        "for i in range(3):\n",
        "    S1rgbrefA1_1105.append(S1meanrefA1_1105[:,i].mean())\n",
        "    S1rgbC1_105.append(S1meanC1_105[:,i].mean())"
      ],
      "execution_count": null,
      "outputs": []
    },
    {
      "cell_type": "code",
      "metadata": {
        "id": "yOsgRrwFPIKY"
      },
      "source": [
        "S1meanrefA1_1205 = list()\n",
        "S1meanC2_105 = list()\n",
        "for i in range(S1RGB_imgA1C2_5.shape[0]): \n",
        "     for j in range(S1RGB_imgA1C2_5.shape[1]): \n",
        "                if 1769<i<1881 and 2019<j<2131 :\n",
        "                  S1meanrefA1_1205.append(S1RGB_imgA1C2_5[i][j])\n",
        "                if 1770<i<1880 and 2015<j<2145 :\n",
        "                  S1meanC2_105.append(S1RGB_imgA1C2_5[i][j])  \n",
        "S1meanrefA1_1205 = np.array(S1meanrefA1_1205)\n",
        "S1meanC2_105 = np.array(S1meanC2_105)\n",
        "\n",
        "S1rgbrefA1_1205 = list()\n",
        "S1rgbC2_105 = list()\n",
        "for i in range(3):\n",
        "    S1rgbrefA1_1205.append(S1meanrefA1_1205[:,i].mean())\n",
        "    S1rgbC2_105.append(S1meanC2_105[:,i].mean())"
      ],
      "execution_count": null,
      "outputs": []
    },
    {
      "cell_type": "code",
      "metadata": {
        "id": "iWWRMtj7PIKY"
      },
      "source": [
        "S1meanrefA1_1305 = list()\n",
        "S1meanC3_105 = list()\n",
        "for i in range(S1RGB_imgA1C3_5.shape[0]): \n",
        "     for j in range(S1RGB_imgA1C3_5.shape[1]): \n",
        "                if 1769<i<1881 and 2019<j<2131 :\n",
        "                  S1meanrefA1_1305.append(S1RGB_imgA1C3_5[i][j])\n",
        "                if 1770<i<1880 and 2015<j<2145 :\n",
        "                  S1meanC3_105.append(S1RGB_imgA1C3_5[i][j])  \n",
        "S1meanrefA1_1305 = np.array(S1meanrefA1_13)\n",
        "S1meanC3_105 = np.array(S1meanC3_1)\n",
        "\n",
        "S1rgbrefA1_1305 = list()\n",
        "S1rgbC3_105 = list()\n",
        "for i in range(3):\n",
        "    S1rgbrefA1_1305.append(S1meanrefA1_1305[:,i].mean())\n",
        "    S1rgbC3_105.append(S1meanC3_105[:,i].mean())"
      ],
      "execution_count": null,
      "outputs": []
    },
    {
      "cell_type": "code",
      "metadata": {
        "id": "RUKUTXzPPIKY"
      },
      "source": [
        "S1meanrefA1_1405 = list()\n",
        "S1meanC4_105 = list()\n",
        "for i in range(S1RGB_imgA1C4_5.shape[0]): \n",
        "     for j in range(S1RGB_imgA1C4_5.shape[1]): \n",
        "                if 1769<i<1881 and 2019<j<2131 :\n",
        "                  S1meanrefA1_1405.append(S1RGB_imgA1C4_5[i][j])\n",
        "                if 1770<i<1880 and 2015<j<2145 :\n",
        "                  S1meanC4_105.append(S1RGB_imgA1C4_5[i][j])  \n",
        "S1meanrefA1_1405 = np.array(S1meanrefA1_1405)\n",
        "S1meanC4_105 = np.array(S1meanC4_105)\n",
        "\n",
        "S1rgbrefA1_1405 = list()\n",
        "S1rgbC4_105 = list()\n",
        "for i in range(3):\n",
        "    S1rgbrefA1_1405.append(S1meanrefA1_1405[:,i].mean())\n",
        "    S1rgbC4_105.append(S1meanC4_105[:,i].mean())"
      ],
      "execution_count": null,
      "outputs": []
    },
    {
      "cell_type": "code",
      "metadata": {
        "id": "ouvNr9pOPIKZ"
      },
      "source": [
        "S1meanrefA1_1505 = list()\n",
        "S1meanD2_105 = list()\n",
        "for i in range(S1RGB_imgA1D2_5.shape[0]): \n",
        "     for j in range(S1RGB_imgA1D2_5.shape[1]): \n",
        "                if 1769<i<1881 and 2019<j<2131 :\n",
        "                  S1meanrefA1_1505.append(S1RGB_imgA1D2_5[i][j])\n",
        "                if 1770<i<1880 and 2015<j<2145 :\n",
        "                  S1meanD2_105.append(S1RGB_imgA1D2_5[i][j])  \n",
        "S1meanrefA1_1505 = np.array(S1meanrefA1_15)\n",
        "S1meanD2_105 = np.array(S1meanD2_1)\n",
        "\n",
        "S1rgbrefA1_1505 = list()\n",
        "S1rgbD2_105 = list()\n",
        "for i in range(3):\n",
        "    S1rgbrefA1_1505.append(S1meanrefA1_1505[:,i].mean())\n",
        "    S1rgbD2_105.append(S1meanD2_105[:,i].mean())"
      ],
      "execution_count": null,
      "outputs": []
    },
    {
      "cell_type": "code",
      "metadata": {
        "id": "3jNYetAuPIKZ"
      },
      "source": [
        "S1meanrefA1_1605 = list()\n",
        "S1meanD3_105 = list()\n",
        "for i in range(S1RGB_imgA1D3_5.shape[0]): \n",
        "     for j in range(S1RGB_imgA1D3_5.shape[1]): \n",
        "                if 1769<i<1881 and 2019<j<2131 :\n",
        "                  S1meanrefA1_1605.append(S1RGB_imgA1D3_5[i][j])\n",
        "                if 1770<i<1880 and 2015<j<2145 :\n",
        "                  S1meanD3_105.append(S1RGB_imgA1D3_5[i][j])  \n",
        "S1meanrefA1_1605 = np.array(S1meanrefA1_1605)\n",
        "S1meanD3_105 = np.array(S1meanD3_105)\n",
        "\n",
        "S1rgbrefA1_1605 = list()\n",
        "S1rgbD3_105 = list()\n",
        "for i in range(3):\n",
        "    S1rgbrefA1_1605.append(S1meanrefA1_1605[:,i].mean())\n",
        "    S1rgbD3_105.append(S1meanD3_105[:,i].mean())"
      ],
      "execution_count": null,
      "outputs": []
    },
    {
      "cell_type": "code",
      "metadata": {
        "id": "n0HkYyGGPIKZ"
      },
      "source": [
        "S1meanrefA1_1705= list()\n",
        "S1meanD4_105 = list()\n",
        "for i in range(S1RGB_imgA1D4_5.shape[0]): \n",
        "     for j in range(S1RGB_imgA1D4_5.shape[1]): \n",
        "                if 1769<i<1881 and 2019<j<2131 :\n",
        "                  S1meanrefA1_1705.append(S1RGB_imgA1D4_5[i][j])\n",
        "                if 1770<i<1880 and 2015<j<2145 :\n",
        "                  S1meanD4_105.append(S1RGB_imgA1D4_5[i][j])  \n",
        "S1meanrefA1_1705 = np.array(S1meanrefA1_1405)\n",
        "S1meanD4_105 = np.array(S1meanD4_105)\n",
        "\n",
        "S1rgbrefA1_1705 = list()\n",
        "S1rgbD4_105 = list()\n",
        "for i in range(3):\n",
        "    S1rgbrefA1_1705.append(S1meanrefA1_1705[:,i].mean())\n",
        "    S1rgbD4_105.append(S1meanD4_105[:,i].mean())"
      ],
      "execution_count": null,
      "outputs": []
    },
    {
      "cell_type": "markdown",
      "metadata": {
        "id": "7OGOajgpt7TD"
      },
      "source": [
        "###HSV"
      ]
    },
    {
      "cell_type": "code",
      "metadata": {
        "id": "gyewAPUYuQs5",
        "colab": {
          "base_uri": "https://localhost:8080/"
        },
        "outputId": "e0afe8b9-86d6-4b8b-e742-e9d051ad8668"
      },
      "source": [
        "S1meanrefA1_1 = list()\n",
        "S1meanA1_2 = list()\n",
        "for i in range(S1HSV_imgA1A1_1.shape[0]): #ให้ i รันตาม row หรือ shape[0] คือแถว มีทั้งหมด 4032 แถว ของภาพที่ปรับขนาดมาแล้ว\n",
        "     for j in range(S1HSV_imgA1A1_1.shape[1]): #ให้ j รันตาม colum มีทั้งหมด 3024 colum เช่น แถวที่ 1 เข้ามาให้รันครบ 3024colum\n",
        "                if 1769<i<1881 and 2019<j<2131 :\n",
        "                  S1meanrefA1_1.append(S1HSV_imgA1A1_1[i][j])\n",
        "                if 1770<i<1880 and 2015<j<2145 :\n",
        "                  S1meanA1_2.append(S1HSV_imgA1A1_1[i][j])  \n",
        "S1meanrefA1_1 = np.array(S1meanrefA1_1)\n",
        "S1meanA1_2 = np.array(S1meanA1_2)\n",
        "\n",
        "S1hsvrefA1_1 = list()\n",
        "S1hsvA1_2 = list()\n",
        "for i in range(3):\n",
        "    S1hsvrefA1_1.append(S1meanrefA1_1[:,i].mean())\n",
        "    S1hsvA1_2.append(S1meanA1_2[:,i].mean())\n",
        "S1hsvrefA1_1,S1hsvA1_2 "
      ],
      "execution_count": null,
      "outputs": [
        {
          "output_type": "execute_result",
          "data": {
            "text/plain": [
              "([22.295755214674134, 48.93888483077672, 237.14446879311745],\n",
              " [22.33276438375649, 47.91750231135766, 237.81096650309365])"
            ]
          },
          "metadata": {},
          "execution_count": 338
        }
      ]
    },
    {
      "cell_type": "code",
      "metadata": {
        "id": "dK9vu9zRuQs7"
      },
      "source": [
        "S1meanrefA1_3 = list()\n",
        "S1meanA2_1 = list()\n",
        "for i in range(S1HSV_imgA1A2_1.shape[0]): \n",
        "     for j in range(S1HSV_imgA1A2_1.shape[1]): \n",
        "                if 1769<i<1881 and 2019<j<2131 :\n",
        "                  S1meanrefA1_3.append(S1HSV_imgA1A2_1[i][j])\n",
        "                if 1770<i<1880 and 2015<j<2145 :\n",
        "                  S1meanA2_1.append(S1HSV_imgA1A2_1[i][j])  \n",
        "S1meanrefA1_3 = np.array(S1meanrefA1_3)\n",
        "S1meanA2_1 = np.array(S1meanA2_1)\n",
        "\n",
        "S1hsvrefA1_3 = list()\n",
        "S1hsvA2_1 = list()\n",
        "for i in range(3):\n",
        "    S1hsvrefA1_3.append(S1meanrefA1_3[:,i].mean())\n",
        "    S1hsvA2_1.append(S1meanA2_1[:,i].mean())"
      ],
      "execution_count": null,
      "outputs": []
    },
    {
      "cell_type": "code",
      "metadata": {
        "id": "HVnaWekuuQs8"
      },
      "source": [
        "S1meanrefA1_4 = list()\n",
        "S1meanA3_1 = list()\n",
        "for i in range(S1HSV_imgA1A3_1.shape[0]): \n",
        "     for j in range(S1HSV_imgA1A3_1.shape[1]): \n",
        "                if 1769<i<1881 and 2019<j<2131 :\n",
        "                  S1meanrefA1_4.append(S1HSV_imgA1A3_1[i][j])\n",
        "                if 1770<i<1880 and 2015<j<2145 :\n",
        "                  S1meanA3_1.append(S1HSV_imgA1A3_1[i][j])  \n",
        "S1meanrefA1_4 = np.array(S1meanrefA1_4)\n",
        "S1meanA3_1 = np.array(S1meanA3_1)\n",
        "\n",
        "S1hsvrefA1_4 = list()\n",
        "S1hsvA3_1 = list()\n",
        "for i in range(3):\n",
        "    S1hsvrefA1_4.append(S1meanrefA1_4[:,i].mean())\n",
        "    S1hsvA3_1.append(S1meanA3_1[:,i].mean())"
      ],
      "execution_count": null,
      "outputs": []
    },
    {
      "cell_type": "code",
      "metadata": {
        "id": "-YCvbbWAuQs8"
      },
      "source": [
        "S1meanrefA1_5 = list()\n",
        "S1meanA3_51 = list()\n",
        "for i in range(S1HSV_imgA1A3_51.shape[0]): \n",
        "     for j in range(S1HSV_imgA1A3_51.shape[1]): \n",
        "                if 1769<i<1881 and 2019<j<2131 :\n",
        "                  S1meanrefA1_5.append(S1HSV_imgA1A3_51[i][j])\n",
        "                if 1770<i<1880 and 2015<j<2145 :\n",
        "                  S1meanA3_51.append(S1HSV_imgA1A3_51[i][j])  \n",
        "S1meanrefA1_5 = np.array(S1meanrefA1_5)\n",
        "S1meanA3_51 = np.array(S1meanA3_51)\n",
        "\n",
        "S1hsvrefA1_5 = list()\n",
        "S1hsvA3_51 = list()\n",
        "for i in range(3):\n",
        "    S1hsvrefA1_5.append(S1meanrefA1_5[:,i].mean())\n",
        "    S1hsvA3_51.append(S1meanA3_51[:,i].mean())"
      ],
      "execution_count": null,
      "outputs": []
    },
    {
      "cell_type": "code",
      "metadata": {
        "id": "UvZxCzLSuQs9"
      },
      "source": [
        "S1meanrefA1_6 = list()\n",
        "S1meanA4_1 = list()\n",
        "for i in range(S1HSV_imgA1A4_1.shape[0]): \n",
        "     for j in range(S1HSV_imgA1A4_1.shape[1]): \n",
        "                if 1769<i<1881 and 2019<j<2131 :\n",
        "                  S1meanrefA1_6.append(S1HSV_imgA1A4_1[i][j])\n",
        "                if 1770<i<1880 and 2015<j<2145 :\n",
        "                  S1meanA4_1.append(S1HSV_imgA1A4_1[i][j])  \n",
        "S1meanrefA1_6 = np.array(S1meanrefA1_6)\n",
        "S1meanA4_1 = np.array(S1meanA4_1)\n",
        "\n",
        "S1hsvrefA1_6 = list()\n",
        "S1hsvA4_1 = list()\n",
        "for i in range(3):\n",
        "    S1hsvrefA1_6.append(S1meanrefA1_6[:,i].mean())\n",
        "    S1hsvA4_1.append(S1meanA4_1[:,i].mean())"
      ],
      "execution_count": null,
      "outputs": []
    },
    {
      "cell_type": "code",
      "metadata": {
        "id": "_KgSdI0LuQs-"
      },
      "source": [
        "S1meanrefA1_7 = list()\n",
        "S1meanB1_1 = list()\n",
        "for i in range(S1HSV_imgA1B1_1.shape[0]): \n",
        "     for j in range(S1HSV_imgA1B1_1.shape[1]): \n",
        "                if 1769<i<1881 and 2019<j<2131 :\n",
        "                  S1meanrefA1_7.append(S1HSV_imgA1B1_1[i][j])\n",
        "                if 1770<i<1880 and 2015<j<2145 :\n",
        "                  S1meanB1_1.append(S1HSV_imgA1B1_1[i][j])  \n",
        "S1meanrefA1_7 = np.array(S1meanrefA1_7)\n",
        "S1meanB1_1 = np.array(S1meanB1_1)\n",
        "\n",
        "S1hsvrefA1_7 = list()\n",
        "S1hsvB1_1 = list()\n",
        "for i in range(3):\n",
        "    S1hsvrefA1_7.append(S1meanrefA1_7[:,i].mean())\n",
        "    S1hsvB1_1.append(S1meanB1_1[:,i].mean())"
      ],
      "execution_count": null,
      "outputs": []
    },
    {
      "cell_type": "code",
      "metadata": {
        "id": "D73bQNbSuQs_"
      },
      "source": [
        "S1meanrefA1_8 = list()\n",
        "S1meanB2_1 = list()\n",
        "for i in range(S1HSV_imgA1B2_1.shape[0]): \n",
        "     for j in range(S1HSV_imgA1B2_1.shape[1]): \n",
        "                if 1769<i<1881 and 2019<j<2131 :\n",
        "                  S1meanrefA1_8.append(S1HSV_imgA1B2_1[i][j])\n",
        "                if 1770<i<1880 and 2015<j<2145 :\n",
        "                  S1meanB2_1.append(S1HSV_imgA1B2_1[i][j])  \n",
        "S1meanrefA1_8 = np.array(S1meanrefA1_8)\n",
        "S1meanB2_1 = np.array(S1meanB2_1)\n",
        "\n",
        "S1hsvrefA1_8 = list()\n",
        "S1hsvB2_1 = list()\n",
        "for i in range(3):\n",
        "    S1hsvrefA1_8.append(S1meanrefA1_8[:,i].mean())\n",
        "    S1hsvB2_1.append(S1meanB2_1[:,i].mean())"
      ],
      "execution_count": null,
      "outputs": []
    },
    {
      "cell_type": "code",
      "metadata": {
        "id": "-2Um-Pq5uQtA"
      },
      "source": [
        "S1meanrefA1_9 = list()\n",
        "S1meanB3_1 = list()\n",
        "for i in range(S1HSV_imgA1B3_1.shape[0]): \n",
        "     for j in range(S1HSV_imgA1B3_1.shape[1]): \n",
        "                if 1769<i<1881 and 2019<j<2131 :\n",
        "                  S1meanrefA1_9.append(S1HSV_imgA1B3_1[i][j])\n",
        "                if 1770<i<1880 and 2015<j<2145 :\n",
        "                  S1meanB3_1.append(S1HSV_imgA1B3_1[i][j])  \n",
        "S1meanrefA1_9 = np.array(S1meanrefA1_9)\n",
        "S1meanB3_1 = np.array(S1meanB3_1)\n",
        "\n",
        "S1hsvrefA1_9 = list()\n",
        "S1hsvB3_1 = list()\n",
        "for i in range(3):\n",
        "    S1hsvrefA1_9.append(S1meanrefA1_9[:,i].mean())\n",
        "    S1hsvB3_1.append(S1meanB3_1[:,i].mean())"
      ],
      "execution_count": null,
      "outputs": []
    },
    {
      "cell_type": "code",
      "metadata": {
        "id": "Bprrg-KQuQtB"
      },
      "source": [
        "S1meanrefA1_10 = list()\n",
        "S1meanB4_1 = list()\n",
        "for i in range(S1HSV_imgA1B4_1.shape[0]): \n",
        "     for j in range(S1HSV_imgA1B4_1.shape[1]): \n",
        "                if 1769<i<1881 and 2019<j<2131 :\n",
        "                  S1meanrefA1_10.append(S1HSV_imgA1B4_1[i][j])\n",
        "                if 1770<i<1880 and 2015<j<2145 :\n",
        "                  S1meanB4_1.append(S1HSV_imgA1B4_1[i][j])  \n",
        "S1meanrefA1_10 = np.array(S1meanrefA1_10)\n",
        "S1meanB4_1 = np.array(S1meanB4_1)\n",
        "\n",
        "S1hsvrefA1_10 = list()\n",
        "S1hsvB4_1 = list()\n",
        "for i in range(3):\n",
        "    S1hsvrefA1_10.append(S1meanrefA1_10[:,i].mean())\n",
        "    S1hsvB4_1.append(S1meanB4_1[:,i].mean())"
      ],
      "execution_count": null,
      "outputs": []
    },
    {
      "cell_type": "code",
      "metadata": {
        "id": "tM9mAjB8uQtB"
      },
      "source": [
        "S1meanrefA1_11 = list()\n",
        "S1meanC1_1 = list()\n",
        "for i in range(S1HSV_imgA1C1_1.shape[0]): \n",
        "     for j in range(S1HSV_imgA1C1_1.shape[1]): \n",
        "                if 1769<i<1881 and 2019<j<2131 :\n",
        "                  S1meanrefA1_11.append(S1HSV_imgA1C1_1[i][j])\n",
        "                if 1770<i<1880 and 2015<j<2145 :\n",
        "                  S1meanC1_1.append(S1HSV_imgA1C1_1[i][j])  \n",
        "S1meanrefA1_11 = np.array(S1meanrefA1_11)\n",
        "S1meanC1_1 = np.array(S1meanC1_1)\n",
        "\n",
        "S1hsvrefA1_11 = list()\n",
        "S1hsvC1_1 = list()\n",
        "for i in range(3):\n",
        "    S1hsvrefA1_11.append(S1meanrefA1_11[:,i].mean())\n",
        "    S1hsvC1_1.append(S1meanC1_1[:,i].mean())"
      ],
      "execution_count": null,
      "outputs": []
    },
    {
      "cell_type": "code",
      "metadata": {
        "id": "kDklKgouuQtC"
      },
      "source": [
        "S1meanrefA1_12 = list()\n",
        "S1meanC2_1 = list()\n",
        "for i in range(S1HSV_imgA1C2_1.shape[0]): \n",
        "     for j in range(S1HSV_imgA1C2_1.shape[1]): \n",
        "                if 1769<i<1881 and 2019<j<2131 :\n",
        "                  S1meanrefA1_12.append(S1HSV_imgA1C2_1[i][j])\n",
        "                if 1770<i<1880 and 2015<j<2145 :\n",
        "                  S1meanC2_1.append(S1HSV_imgA1C2_1[i][j])  \n",
        "S1meanrefA1_12 = np.array(S1meanrefA1_12)\n",
        "S1meanC2_1 = np.array(S1meanC2_1)\n",
        "\n",
        "S1hsvrefA1_12 = list()\n",
        "S1hsvC2_1 = list()\n",
        "for i in range(3):\n",
        "    S1hsvrefA1_12.append(S1meanrefA1_12[:,i].mean())\n",
        "    S1hsvC2_1.append(S1meanC2_1[:,i].mean())"
      ],
      "execution_count": null,
      "outputs": []
    },
    {
      "cell_type": "code",
      "metadata": {
        "id": "y5Ptet2IuQtC"
      },
      "source": [
        "S1meanrefA1_13 = list()\n",
        "S1meanC3_1 = list()\n",
        "for i in range(S1HSV_imgA1C3_1.shape[0]): \n",
        "     for j in range(S1HSV_imgA1C3_1.shape[1]): \n",
        "                if 1769<i<1881 and 2019<j<2131 :\n",
        "                  S1meanrefA1_13.append(S1HSV_imgA1C3_1[i][j])\n",
        "                if 1770<i<1880 and 2015<j<2145 :\n",
        "                  S1meanC3_1.append(S1HSV_imgA1C3_1[i][j])  \n",
        "S1meanrefA1_13 = np.array(S1meanrefA1_13)\n",
        "S1meanC3_1 = np.array(S1meanC3_1)\n",
        "\n",
        "S1hsvrefA1_13 = list()\n",
        "S1hsvC3_1 = list()\n",
        "for i in range(3):\n",
        "    S1hsvrefA1_13.append(S1meanrefA1_13[:,i].mean())\n",
        "    S1hsvC3_1.append(S1meanC3_1[:,i].mean())"
      ],
      "execution_count": null,
      "outputs": []
    },
    {
      "cell_type": "code",
      "metadata": {
        "id": "HukrHNNxuQtC"
      },
      "source": [
        "S1meanrefA1_14 = list()\n",
        "S1meanC4_1 = list()\n",
        "for i in range(S1HSV_imgA1C4_1.shape[0]): \n",
        "     for j in range(S1HSV_imgA1C4_1.shape[1]): \n",
        "                if 1769<i<1881 and 2019<j<2131 :\n",
        "                  S1meanrefA1_14.append(S1HSV_imgA1C4_1[i][j])\n",
        "                if 1770<i<1880 and 2015<j<2145 :\n",
        "                  S1meanC4_1.append(S1HSV_imgA1C4_1[i][j])  \n",
        "S1meanrefA1_14 = np.array(S1meanrefA1_14)\n",
        "S1meanC4_1 = np.array(S1meanC4_1)\n",
        "\n",
        "S1hsvrefA1_14 = list()\n",
        "S1hsvC4_1 = list()\n",
        "for i in range(3):\n",
        "    S1hsvrefA1_14.append(S1meanrefA1_14[:,i].mean())\n",
        "    S1hsvC4_1.append(S1meanC4_1[:,i].mean())"
      ],
      "execution_count": null,
      "outputs": []
    },
    {
      "cell_type": "code",
      "metadata": {
        "id": "EEzN-mXZuQtD"
      },
      "source": [
        "S1meanrefA1_15 = list()\n",
        "S1meanD2_1 = list()\n",
        "for i in range(S1HSV_imgA1D2_1.shape[0]): \n",
        "     for j in range(S1HSV_imgA1D2_1.shape[1]): \n",
        "                if 1769<i<1881 and 2019<j<2131 :\n",
        "                  S1meanrefA1_15.append(S1HSV_imgA1D2_1[i][j])\n",
        "                if 1770<i<1880 and 2015<j<2145 :\n",
        "                  S1meanD2_1.append(S1HSV_imgA1D2_1[i][j])  \n",
        "S1meanrefA1_15 = np.array(S1meanrefA1_15)\n",
        "S1meanD2_1 = np.array(S1meanD2_1)\n",
        "\n",
        "S1hsvrefA1_15 = list()\n",
        "S1hsvD2_1 = list()\n",
        "for i in range(3):\n",
        "    S1hsvrefA1_15.append(S1meanrefA1_15[:,i].mean())\n",
        "    S1hsvD2_1.append(S1meanD2_1[:,i].mean())"
      ],
      "execution_count": null,
      "outputs": []
    },
    {
      "cell_type": "code",
      "metadata": {
        "id": "ceqVIiUGuQtD"
      },
      "source": [
        "S1meanrefA1_16 = list()\n",
        "S1meanD3_1 = list()\n",
        "for i in range(S1HSV_imgA1D3_1.shape[0]): \n",
        "     for j in range(S1HSV_imgA1D3_1.shape[1]): \n",
        "                if 1769<i<1881 and 2019<j<2131 :\n",
        "                  S1meanrefA1_16.append(S1HSV_imgA1D3_1[i][j])\n",
        "                if 1770<i<1880 and 2015<j<2145 :\n",
        "                  S1meanD3_1.append(S1HSV_imgA1D3_1[i][j])  \n",
        "S1meanrefA1_16 = np.array(S1meanrefA1_16)\n",
        "S1meanD3_1 = np.array(S1meanD3_1)\n",
        "\n",
        "S1hsvrefA1_16 = list()\n",
        "S1hsvD3_1 = list()\n",
        "for i in range(3):\n",
        "    S1hsvrefA1_16.append(S1meanrefA1_16[:,i].mean())\n",
        "    S1hsvD3_1.append(S1meanD3_1[:,i].mean())"
      ],
      "execution_count": null,
      "outputs": []
    },
    {
      "cell_type": "code",
      "metadata": {
        "id": "GEl4Fv4ouQtD"
      },
      "source": [
        "S1meanrefA1_17= list()\n",
        "S1meanD4_1 = list()\n",
        "for i in range(S1HSV_imgA1D4_1.shape[0]): \n",
        "     for j in range(S1HSV_imgA1D4_1.shape[1]): \n",
        "                if 1769<i<1881 and 2019<j<2131 :\n",
        "                  S1meanrefA1_17.append(S1HSV_imgA1D4_1[i][j])\n",
        "                if 1770<i<1880 and 2015<j<2145 :\n",
        "                  S1meanD4_1.append(S1HSV_imgA1D4_1[i][j])  \n",
        "S1meanrefA1_17 = np.array(S1meanrefA1_14)\n",
        "S1meanD4_1 = np.array(S1meanD4_1)\n",
        "\n",
        "S1hsvrefA1_17 = list()\n",
        "S1hsvD4_1 = list()\n",
        "for i in range(3):\n",
        "    S1hsvrefA1_17.append(S1meanrefA1_17[:,i].mean())\n",
        "    S1hsvD4_1.append(S1meanD4_1[:,i].mean())"
      ],
      "execution_count": null,
      "outputs": []
    },
    {
      "cell_type": "markdown",
      "metadata": {
        "id": "fe9uE8W88Y1l"
      },
      "source": [
        "###Img 2"
      ]
    },
    {
      "cell_type": "code",
      "metadata": {
        "id": "Xm87A-FV-1IY",
        "colab": {
          "base_uri": "https://localhost:8080/"
        },
        "outputId": "8696fa0a-8123-4ae7-e838-3d74ac17e02a"
      },
      "source": [
        "S1meanrefA1_102 = list()\n",
        "S1meanA1_202 = list()\n",
        "for i in range(S1HSV_imgA1A1_2.shape[0]): #ให้ i รันตาม row หรือ shape[0] คือแถว มีทั้งหมด 4032 แถว ของภาพที่ปรับขนาดมาแล้ว\n",
        "     for j in range(S1HSV_imgA1A1_2.shape[1]): #ให้ j รันตาม colum มีทั้งหมด 3024 colum เช่น แถวที่ 1 เข้ามาให้รันครบ 3024colum\n",
        "                if 1769<i<1881 and 2019<j<2131 :\n",
        "                  S1meanrefA1_102.append(S1HSV_imgA1A1_2[i][j])\n",
        "                if 1770<i<1880 and 2015<j<2145 :\n",
        "                  S1meanA1_202.append(S1HSV_imgA1A1_2[i][j])  \n",
        "S1meanrefA1_102= np.array(S1meanrefA1_102)\n",
        "S1meanA1_202 = np.array(S1meanA1_202)\n",
        "\n",
        "S1hsvrefA1_102 = list()\n",
        "S1hsvA1_202 = list()\n",
        "for i in range(3):\n",
        "    S1hsvrefA1_102.append(S1meanrefA1_1[:,i].mean())\n",
        "    S1hsvA1_202.append(S1meanA1_2[:,i].mean())\n",
        "S1hsvrefA1_102,S1hsvA1_202 "
      ],
      "execution_count": null,
      "outputs": [
        {
          "output_type": "execute_result",
          "data": {
            "text/plain": [
              "([22.295755214674134, 48.93888483077672, 237.14446879311745],\n",
              " [22.33276438375649, 47.91750231135766, 237.81096650309365])"
            ]
          },
          "metadata": {},
          "execution_count": 354
        }
      ]
    },
    {
      "cell_type": "code",
      "metadata": {
        "id": "rYLMn5SR-1IZ"
      },
      "source": [
        "S1meanrefA1_302 = list()\n",
        "S1meanA2_102 = list()\n",
        "for i in range(S1HSV_imgA1A2_2.shape[0]): \n",
        "     for j in range(S1HSV_imgA1A2_2.shape[1]): \n",
        "                if 1769<i<1881 and 2019<j<2131 :\n",
        "                  S1meanrefA1_302.append(S1HSV_imgA1A2_2[i][j])\n",
        "                if 1770<i<1880 and 2015<j<2145 :\n",
        "                  S1meanA2_102.append(S1HSV_imgA1A2_2[i][j])  \n",
        "S1meanrefA1_302 = np.array(S1meanrefA1_3)\n",
        "S1meanA2_102 = np.array(S1meanA2_1)\n",
        "\n",
        "S1hsvrefA1_302 = list()\n",
        "S1hsvA2_102 = list()\n",
        "for i in range(3):\n",
        "    S1hsvrefA1_302.append(S1meanrefA1_302[:,i].mean())\n",
        "    S1hsvA2_102.append(S1meanA2_102[:,i].mean())"
      ],
      "execution_count": null,
      "outputs": []
    },
    {
      "cell_type": "code",
      "metadata": {
        "id": "A5BphPfF-1Ia"
      },
      "source": [
        "S1meanrefA1_402 = list()\n",
        "S1meanA3_102 = list()\n",
        "for i in range(S1HSV_imgA1A3_2.shape[0]): \n",
        "     for j in range(S1HSV_imgA1A3_2.shape[1]): \n",
        "                if 1769<i<1881 and 2019<j<2131 :\n",
        "                  S1meanrefA1_402.append(S1HSV_imgA1A3_2[i][j])\n",
        "                if 1770<i<1880 and 2015<j<2145 :\n",
        "                  S1meanA3_102.append(S1HSV_imgA1A3_2[i][j])  \n",
        "S1meanrefA1_402= np.array(S1meanrefA1_402)\n",
        "S1meanA3_102 = np.array(S1meanA3_102)\n",
        "\n",
        "S1hsvrefA1_402 = list()\n",
        "S1hsvA3_102 = list()\n",
        "for i in range(3):\n",
        "    S1hsvrefA1_402.append(S1meanrefA1_402[:,i].mean())\n",
        "    S1hsvA3_102.append(S1meanA3_102[:,i].mean())"
      ],
      "execution_count": null,
      "outputs": []
    },
    {
      "cell_type": "code",
      "metadata": {
        "id": "DQ0nlZoK-1Ia"
      },
      "source": [
        "S1meanrefA1_502 = list()\n",
        "S1meanA3_5102 = list()\n",
        "for i in range(S1HSV_imgA1A3_52.shape[0]): \n",
        "     for j in range(S1HSV_imgA1A3_52.shape[1]): \n",
        "                if 1769<i<1881 and 2019<j<2131 :\n",
        "                  S1meanrefA1_502.append(S1HSV_imgA1A3_52[i][j])\n",
        "                if 1770<i<1880 and 2015<j<2145 :\n",
        "                  S1meanA3_5102.append(S1HSV_imgA1A3_52[i][j])  \n",
        "S1meanrefA1_502 = np.array(S1meanrefA1_502)\n",
        "S1meanA3_5102 = np.array(S1meanA3_5102)\n",
        "\n",
        "S1hsvrefA1_502 = list()\n",
        "S1hsvA3_5102 = list()\n",
        "for i in range(3):\n",
        "    S1hsvrefA1_502.append(S1meanrefA1_502[:,i].mean())\n",
        "    S1hsvA3_5102.append(S1meanA3_5102[:,i].mean())"
      ],
      "execution_count": null,
      "outputs": []
    },
    {
      "cell_type": "code",
      "metadata": {
        "id": "gn9mbsac-1Ib"
      },
      "source": [
        "S1meanrefA1_602 = list()\n",
        "S1meanA4_102 = list()\n",
        "for i in range(S1HSV_imgA1A4_2.shape[0]): \n",
        "     for j in range(S1HSV_imgA1A4_2.shape[1]): \n",
        "                if 1769<i<1881 and 2019<j<2131 :\n",
        "                  S1meanrefA1_602.append(S1HSV_imgA1A4_2[i][j])\n",
        "                if 1770<i<1880 and 2015<j<2145 :\n",
        "                  S1meanA4_102.append(S1HSV_imgA1A4_2[i][j])  \n",
        "S1meanrefA1_602 = np.array(S1meanrefA1_602)\n",
        "S1meanA4_102 = np.array(S1meanA4_102)\n",
        "\n",
        "S1hsvrefA1_602 = list()\n",
        "S1hsvA4_102 = list()\n",
        "for i in range(3):\n",
        "    S1hsvrefA1_602.append(S1meanrefA1_602[:,i].mean())\n",
        "    S1hsvA4_102.append(S1meanA4_102[:,i].mean())"
      ],
      "execution_count": null,
      "outputs": []
    },
    {
      "cell_type": "code",
      "metadata": {
        "id": "3NYWQq6O-1Ib"
      },
      "source": [
        "S1meanrefA1_702 = list()\n",
        "S1meanB1_102 = list()\n",
        "for i in range(S1HSV_imgA1B1_2.shape[0]): \n",
        "     for j in range(S1HSV_imgA1B1_2.shape[1]): \n",
        "                if 1769<i<1881 and 2019<j<2131 :\n",
        "                  S1meanrefA1_702.append(S1HSV_imgA1B1_2[i][j])\n",
        "                if 1770<i<1880 and 2015<j<2145 :\n",
        "                  S1meanB1_102.append(S1HSV_imgA1B1_2[i][j])  \n",
        "S1meanrefA1_702 = np.array(S1meanrefA1_702)\n",
        "S1meanB1_102 = np.array(S1meanB1_102)\n",
        "\n",
        "S1hsvrefA1_702 = list()\n",
        "S1hsvB1_102 = list()\n",
        "for i in range(3):\n",
        "    S1hsvrefA1_702.append(S1meanrefA1_702[:,i].mean())\n",
        "    S1hsvB1_102.append(S1meanB1_102[:,i].mean())"
      ],
      "execution_count": null,
      "outputs": []
    },
    {
      "cell_type": "code",
      "metadata": {
        "id": "tG9prEea-1Ic"
      },
      "source": [
        "S1meanrefA1_802 = list()\n",
        "S1meanB2_102 = list()\n",
        "for i in range(S1HSV_imgA1B2_2.shape[0]): \n",
        "     for j in range(S1HSV_imgA1B2_2.shape[1]): \n",
        "                if 1769<i<1881 and 2019<j<2131 :\n",
        "                  S1meanrefA1_802.append(S1HSV_imgA1B2_2[i][j])\n",
        "                if 1770<i<1880 and 2015<j<2145 :\n",
        "                  S1meanB2_102.append(S1HSV_imgA1B2_2[i][j])  \n",
        "S1meanrefA1_802 = np.array(S1meanrefA1_802)\n",
        "S1meanB2_102 = np.array(S1meanB2_102)\n",
        "\n",
        "S1hsvrefA1_802 = list()\n",
        "S1hsvB2_102 = list()\n",
        "for i in range(3):\n",
        "    S1hsvrefA1_802.append(S1meanrefA1_802[:,i].mean())\n",
        "    S1hsvB2_102.append(S1meanB2_102[:,i].mean())"
      ],
      "execution_count": null,
      "outputs": []
    },
    {
      "cell_type": "code",
      "metadata": {
        "id": "eGt2Tuln-1Ic"
      },
      "source": [
        "S1meanrefA1_902 = list()\n",
        "S1meanB3_102 = list()\n",
        "for i in range(S1HSV_imgA1B3_2.shape[0]): \n",
        "     for j in range(S1HSV_imgA1B3_2.shape[1]): \n",
        "                if 1769<i<1881 and 2019<j<2131 :\n",
        "                  S1meanrefA1_902.append(S1HSV_imgA1B3_2[i][j])\n",
        "                if 1770<i<1880 and 2015<j<2145 :\n",
        "                  S1meanB3_102.append(S1HSV_imgA1B3_2[i][j])  \n",
        "S1meanrefA1_902 = np.array(S1meanrefA1_902)\n",
        "S1meanB3_102 = np.array(S1meanB3_102)\n",
        "\n",
        "S1hsvrefA1_902 = list()\n",
        "S1hsvB3_102 = list()\n",
        "for i in range(3):\n",
        "    S1hsvrefA1_902.append(S1meanrefA1_902[:,i].mean())\n",
        "    S1hsvB3_102.append(S1meanB3_102[:,i].mean())"
      ],
      "execution_count": null,
      "outputs": []
    },
    {
      "cell_type": "code",
      "metadata": {
        "id": "kkHmxLn6-1Id"
      },
      "source": [
        "S1meanrefA1_1002 = list()\n",
        "S1meanB4_102 = list()\n",
        "for i in range(S1HSV_imgA1B4_2.shape[0]): \n",
        "     for j in range(S1HSV_imgA1B4_2.shape[1]): \n",
        "                if 1769<i<1881 and 2019<j<2131 :\n",
        "                  S1meanrefA1_1002.append(S1HSV_imgA1B4_2[i][j])\n",
        "                if 1770<i<1880 and 2015<j<2145 :\n",
        "                  S1meanB4_102.append(S1HSV_imgA1B4_2[i][j])  \n",
        "S1meanrefA1_1002 = np.array(S1meanrefA1_1002)\n",
        "S1meanB4_102 = np.array(S1meanB4_102)\n",
        "\n",
        "S1hsvrefA1_1002 = list()\n",
        "S1hsvB4_102 = list()\n",
        "for i in range(3):\n",
        "    S1hsvrefA1_1002.append(S1meanrefA1_1002[:,i].mean())\n",
        "    S1hsvB4_102.append(S1meanB4_102[:,i].mean())"
      ],
      "execution_count": null,
      "outputs": []
    },
    {
      "cell_type": "code",
      "metadata": {
        "id": "Lb7z9PnN-1Id"
      },
      "source": [
        "S1meanrefA1_1102 = list()\n",
        "S1meanC1_102 = list()\n",
        "for i in range(S1HSV_imgA1C1_2.shape[0]): \n",
        "     for j in range(S1HSV_imgA1C1_2.shape[1]): \n",
        "                if 1769<i<1881 and 2019<j<2131 :\n",
        "                  S1meanrefA1_1102.append(S1HSV_imgA1C1_2[i][j])\n",
        "                if 1770<i<1880 and 2015<j<2145 :\n",
        "                  S1meanC1_102.append(S1HSV_imgA1C1_2[i][j])  \n",
        "S1meanrefA1_1102 = np.array(S1meanrefA1_1102)\n",
        "S1meanC1_102= np.array(S1meanC1_102)\n",
        "\n",
        "S1hsvrefA1_1102 = list()\n",
        "S1hsvC1_102 = list()\n",
        "for i in range(3):\n",
        "    S1hsvrefA1_1102.append(S1meanrefA1_1102[:,i].mean())\n",
        "    S1hsvC1_102.append(S1meanC1_102[:,i].mean())"
      ],
      "execution_count": null,
      "outputs": []
    },
    {
      "cell_type": "code",
      "metadata": {
        "id": "MAT7IIoE-1Id"
      },
      "source": [
        "S1meanrefA1_1202 = list()\n",
        "S1meanC2_102 = list()\n",
        "for i in range(S1HSV_imgA1C2_2.shape[0]): \n",
        "     for j in range(S1HSV_imgA1C2_2.shape[1]): \n",
        "                if 1769<i<1881 and 2019<j<2131 :\n",
        "                  S1meanrefA1_1202.append(S1HSV_imgA1C2_2[i][j])\n",
        "                if 1770<i<1880 and 2015<j<2145 :\n",
        "                  S1meanC2_102.append(S1HSV_imgA1C2_2[i][j])  \n",
        "S1meanrefA1_1202 = np.array(S1meanrefA1_1202)\n",
        "S1meanC2_102 = np.array(S1meanC2_102)\n",
        "\n",
        "S1hsvrefA1_1202 = list()\n",
        "S1hsvC2_102 = list()\n",
        "for i in range(3):\n",
        "    S1hsvrefA1_1202.append(S1meanrefA1_1202[:,i].mean())\n",
        "    S1hsvC2_102.append(S1meanC2_102[:,i].mean())"
      ],
      "execution_count": null,
      "outputs": []
    },
    {
      "cell_type": "code",
      "metadata": {
        "id": "Md5vmNBm-1Ie"
      },
      "source": [
        "S1meanrefA1_1302 = list()\n",
        "S1meanC3_102 = list()\n",
        "for i in range(S1HSV_imgA1C3_2.shape[0]): \n",
        "     for j in range(S1HSV_imgA1C3_2.shape[1]): \n",
        "                if 1769<i<1881 and 2019<j<2131 :\n",
        "                  S1meanrefA1_1302.append(S1HSV_imgA1C3_2[i][j])\n",
        "                if 1770<i<1880 and 2015<j<2145 :\n",
        "                  S1meanC3_102.append(S1HSV_imgA1C3_2[i][j])  \n",
        "S1meanrefA1_1302 = np.array(S1meanrefA1_1302)\n",
        "S1meanC3_102 = np.array(S1meanC3_102)\n",
        "\n",
        "S1hsvrefA1_1302 = list()\n",
        "S1hsvC3_102 = list()\n",
        "for i in range(3):\n",
        "    S1hsvrefA1_1302.append(S1meanrefA1_1302[:,i].mean())\n",
        "    S1hsvC3_102.append(S1meanC3_102[:,i].mean())"
      ],
      "execution_count": null,
      "outputs": []
    },
    {
      "cell_type": "code",
      "metadata": {
        "id": "VGFMiVDs-1Ie"
      },
      "source": [
        "S1meanrefA1_1402 = list()\n",
        "S1meanC4_102 = list()\n",
        "for i in range(S1HSV_imgA1C4_2.shape[0]): \n",
        "     for j in range(S1HSV_imgA1C4_2.shape[1]): \n",
        "                if 1769<i<1881 and 2019<j<2131 :\n",
        "                  S1meanrefA1_1402.append(S1HSV_imgA1C4_2[i][j])\n",
        "                if 1770<i<1880 and 2015<j<2145 :\n",
        "                  S1meanC4_102.append(S1HSV_imgA1C4_2[i][j])  \n",
        "S1meanrefA1_1402 = np.array(S1meanrefA1_1402)\n",
        "S1meanC4_102 = np.array(S1meanC4_102)\n",
        "\n",
        "S1hsvrefA1_1402 = list()\n",
        "S1hsvC4_102 = list()\n",
        "for i in range(3):\n",
        "    S1hsvrefA1_1402.append(S1meanrefA1_1402[:,i].mean())\n",
        "    S1hsvC4_102.append(S1meanC4_102[:,i].mean())"
      ],
      "execution_count": null,
      "outputs": []
    },
    {
      "cell_type": "code",
      "metadata": {
        "id": "3u4rPyIU-1If"
      },
      "source": [
        "S1meanrefA1_1502 = list()\n",
        "S1meanD2_102 = list()\n",
        "for i in range(S1HSV_imgA1D2_2.shape[0]): \n",
        "     for j in range(S1HSV_imgA1D2_2.shape[1]): \n",
        "                if 1769<i<1881 and 2019<j<2131 :\n",
        "                  S1meanrefA1_1502.append(S1HSV_imgA1D2_2[i][j])\n",
        "                if 1770<i<1880 and 2015<j<2145 :\n",
        "                  S1meanD2_102.append(S1HSV_imgA1D2_2[i][j])  \n",
        "S1meanrefA1_1502 = np.array(S1meanrefA1_1502)\n",
        "S1meanD2_102 = np.array(S1meanD2_102)\n",
        "\n",
        "S1hsvrefA1_1502 = list()\n",
        "S1hsvD2_102 = list()\n",
        "for i in range(3):\n",
        "    S1hsvrefA1_1502.append(S1meanrefA1_1502[:,i].mean())\n",
        "    S1hsvD2_102.append(S1meanD2_102[:,i].mean())"
      ],
      "execution_count": null,
      "outputs": []
    },
    {
      "cell_type": "code",
      "metadata": {
        "id": "ZqpY4tfP-1Ig"
      },
      "source": [
        "S1meanrefA1_1602 = list()\n",
        "S1meanD3_102 = list()\n",
        "for i in range(S1HSV_imgA1D3_2.shape[0]): \n",
        "     for j in range(S1HSV_imgA1D3_2.shape[1]): \n",
        "                if 1769<i<1881 and 2019<j<2131 :\n",
        "                  S1meanrefA1_1602.append(S1HSV_imgA1D3_2[i][j])\n",
        "                if 1770<i<1880 and 2015<j<2145 :\n",
        "                  S1meanD3_102.append(S1HSV_imgA1D3_2[i][j])  \n",
        "S1meanrefA1_1602 = np.array(S1meanrefA1_1602)\n",
        "S1meanD3_102 = np.array(S1meanD3_102)\n",
        "\n",
        "S1hsvrefA1_1602 = list()\n",
        "S1hsvD3_102 = list()\n",
        "for i in range(3):\n",
        "    S1hsvrefA1_1602.append(S1meanrefA1_1602[:,i].mean())\n",
        "    S1hsvD3_102.append(S1meanD3_102[:,i].mean())"
      ],
      "execution_count": null,
      "outputs": []
    },
    {
      "cell_type": "code",
      "metadata": {
        "id": "Gg3OiTIE-1Ih"
      },
      "source": [
        "S1meanrefA1_1702= list()\n",
        "S1meanD4_102 = list()\n",
        "for i in range(S1HSV_imgA1D4_2.shape[0]): \n",
        "     for j in range(S1HSV_imgA1D4_2.shape[1]): \n",
        "                if 1769<i<1881 and 2019<j<2131 :\n",
        "                  S1meanrefA1_1702.append(S1HSV_imgA1D4_2[i][j])\n",
        "                if 1770<i<1880 and 2015<j<2145 :\n",
        "                  S1meanD4_102.append(S1HSV_imgA1D4_2[i][j])  \n",
        "S1meanrefA1_1702 = np.array(S1meanrefA1_1702)\n",
        "S1meanD4_102 = np.array(S1meanD4_102)\n",
        "\n",
        "S1hsvrefA1_1702 = list()\n",
        "S1hsvD4_102 = list()\n",
        "for i in range(3):\n",
        "    S1hsvrefA1_1702.append(S1meanrefA1_1702[:,i].mean())\n",
        "    S1hsvD4_102.append(S1meanD4_102[:,i].mean())"
      ],
      "execution_count": null,
      "outputs": []
    },
    {
      "cell_type": "markdown",
      "metadata": {
        "id": "V9K2-oKw8lpO"
      },
      "source": [
        "###Img 3"
      ]
    },
    {
      "cell_type": "code",
      "metadata": {
        "id": "MRhjsmBPaD64",
        "colab": {
          "base_uri": "https://localhost:8080/"
        },
        "outputId": "64caa038-5d00-4c7a-bdb7-94a7dd2d1387"
      },
      "source": [
        "S1meanrefA1_103 = list()\n",
        "S1meanA1_203 = list()\n",
        "for i in range(S1HSV_imgA1A1_3.shape[0]): #ให้ i รันตาม row หรือ shape[0] คือแถว มีทั้งหมด 4032 แถว ของภาพที่ปรับขนาดมาแล้ว\n",
        "     for j in range(S1HSV_imgA1A1_3.shape[1]): #ให้ j รันตาม colum มีทั้งหมด 3024 colum เช่น แถวที่ 1 เข้ามาให้รันครบ 3024colum\n",
        "                if 1769<i<1881 and 2019<j<2131 :\n",
        "                  S1meanrefA1_103.append(S1HSV_imgA1A1_3[i][j])\n",
        "                if 1770<i<1880 and 2015<j<2145 :\n",
        "                  S1meanA1_203.append(S1HSV_imgA1A1_3[i][j])  \n",
        "S1meanrefA1_103 = np.array(S1meanrefA1_103)\n",
        "S1meanA1_203 = np.array(S1meanA1_203)\n",
        "\n",
        "S1hsvrefA1_103 = list()\n",
        "S1hsvA1_203 = list()\n",
        "for i in range(3):\n",
        "    S1hsvrefA1_103.append(S1meanrefA1_103[:,i].mean())\n",
        "    S1hsvA1_203.append(S1meanA1_203[:,i].mean())\n",
        "S1hsvrefA1_103,S1hsvA1_203 "
      ],
      "execution_count": null,
      "outputs": [
        {
          "output_type": "execute_result",
          "data": {
            "text/plain": [
              "([20.714471227984742, 88.66098530963396, 240.09301193084977],\n",
              " [20.751013441433752, 87.25560059739706, 240.73280705497476])"
            ]
          },
          "metadata": {},
          "execution_count": 370
        }
      ]
    },
    {
      "cell_type": "code",
      "metadata": {
        "id": "8mLq2ZPPaD68"
      },
      "source": [
        "S1meanrefA1_303 = list()\n",
        "S1meanA2_103 = list()\n",
        "for i in range(S1HSV_imgA1A2_3.shape[0]): \n",
        "     for j in range(S1HSV_imgA1A2_3.shape[1]): \n",
        "                if 1769<i<1881 and 2019<j<2131 :\n",
        "                  S1meanrefA1_303.append(S1HSV_imgA1A2_3[i][j])\n",
        "                if 1770<i<1880 and 2015<j<2145 :\n",
        "                  S1meanA2_103.append(S1HSV_imgA1A2_3[i][j])  \n",
        "S1meanrefA1_303 = np.array(S1meanrefA1_303)\n",
        "S1meanA2_103 = np.array(S1meanA2_103)\n",
        "\n",
        "S1hsvrefA1_303 = list()\n",
        "S1hsvA2_103 = list()\n",
        "for i in range(3):\n",
        "    S1hsvrefA1_303.append(S1meanrefA1_303[:,i].mean())\n",
        "    S1hsvA2_103.append(S1meanA2_103[:,i].mean())"
      ],
      "execution_count": null,
      "outputs": []
    },
    {
      "cell_type": "code",
      "metadata": {
        "id": "2D3d780VaD69"
      },
      "source": [
        "S1meanrefA1_403 = list()\n",
        "S1meanA3_103 = list()\n",
        "for i in range(S1HSV_imgA1A3_3.shape[0]): \n",
        "     for j in range(S1HSV_imgA1A3_3.shape[1]): \n",
        "                if 1769<i<1881 and 2019<j<2131 :\n",
        "                  S1meanrefA1_403.append(S1HSV_imgA1A3_3[i][j])\n",
        "                if 1770<i<1880 and 2015<j<2145 :\n",
        "                  S1meanA3_103.append(S1HSV_imgA1A3_3[i][j])  \n",
        "S1meanrefA1_403 = np.array(S1meanrefA1_403)\n",
        "S1meanA3_103 = np.array(S1meanA3_103)\n",
        "\n",
        "S1hsvrefA1_403 = list()\n",
        "S1hsvA3_103 = list()\n",
        "for i in range(3):\n",
        "    S1hsvrefA1_403.append(S1meanrefA1_403[:,i].mean())\n",
        "    S1hsvA3_103.append(S1meanA3_103[:,i].mean())"
      ],
      "execution_count": null,
      "outputs": []
    },
    {
      "cell_type": "code",
      "metadata": {
        "id": "UZqI76CTaD6-"
      },
      "source": [
        "S1meanrefA1_503 = list()\n",
        "S1meanA3_5103 = list()\n",
        "for i in range(S1HSV_imgA1A3_53.shape[0]): \n",
        "     for j in range(S1HSV_imgA1A3_53.shape[1]): \n",
        "                if 1769<i<1881 and 2019<j<2131 :\n",
        "                  S1meanrefA1_503.append(S1HSV_imgA1A3_53[i][j])\n",
        "                if 1770<i<1880 and 2015<j<2145 :\n",
        "                  S1meanA3_5103.append(S1HSV_imgA1A3_53[i][j])  \n",
        "S1meanrefA1_503 = np.array(S1meanrefA1_503)\n",
        "S1meanA3_5103 = np.array(S1meanA3_5103)\n",
        "\n",
        "S1hsvrefA1_503 = list()\n",
        "S1hsvA3_5103 = list()\n",
        "for i in range(3):\n",
        "    S1hsvrefA1_503.append(S1meanrefA1_503[:,i].mean())\n",
        "    S1hsvA3_5103.append(S1meanA3_5103[:,i].mean())"
      ],
      "execution_count": null,
      "outputs": []
    },
    {
      "cell_type": "code",
      "metadata": {
        "id": "Sr2jeoZ2aD6_"
      },
      "source": [
        "S1meanrefA1_603 = list()\n",
        "S1meanA4_103 = list()\n",
        "for i in range(S1HSV_imgA1A4_3.shape[0]): \n",
        "     for j in range(S1HSV_imgA1A4_3.shape[1]): \n",
        "                if 1769<i<1881 and 2019<j<2131 :\n",
        "                  S1meanrefA1_603.append(S1HSV_imgA1A4_3[i][j])\n",
        "                if 1770<i<1880 and 2015<j<2145 :\n",
        "                  S1meanA4_103.append(S1HSV_imgA1A4_3[i][j])  \n",
        "S1meanrefA1_603 = np.array(S1meanrefA1_603)\n",
        "S1meanA4_103 = np.array(S1meanA4_103)\n",
        "\n",
        "S1hsvrefA1_603 = list()\n",
        "S1hsvA4_103 = list()\n",
        "for i in range(3):\n",
        "    S1hsvrefA1_603.append(S1meanrefA1_603[:,i].mean())\n",
        "    S1hsvA4_103.append(S1meanA4_103[:,i].mean())"
      ],
      "execution_count": null,
      "outputs": []
    },
    {
      "cell_type": "code",
      "metadata": {
        "id": "3uzrToiraD7A"
      },
      "source": [
        "S1meanrefA1_703 = list()\n",
        "S1meanB1_103 = list()\n",
        "for i in range(S1HSV_imgA1B1_3.shape[0]): \n",
        "     for j in range(S1HSV_imgA1B1_3.shape[1]): \n",
        "                if 1769<i<1881 and 2019<j<2131 :\n",
        "                  S1meanrefA1_703.append(S1HSV_imgA1B1_3[i][j])\n",
        "                if 1770<i<1880 and 2015<j<2145 :\n",
        "                  S1meanB1_103.append(S1HSV_imgA1B1_3[i][j])  \n",
        "S1meanrefA1_703 = np.array(S1meanrefA1_703)\n",
        "S1meanB1_103 = np.array(S1meanB1_103)\n",
        "\n",
        "S1hsvrefA1_703 = list()\n",
        "S1hsvB1_103 = list()\n",
        "for i in range(3):\n",
        "    S1hsvrefA1_703.append(S1meanrefA1_703[:,i].mean())\n",
        "    S1hsvB1_103.append(S1meanB1_103[:,i].mean())"
      ],
      "execution_count": null,
      "outputs": []
    },
    {
      "cell_type": "code",
      "metadata": {
        "id": "H07I0B3FaD7A"
      },
      "source": [
        "S1meanrefA1_803 = list()\n",
        "S1meanB2_103 = list()\n",
        "for i in range(S1HSV_imgA1B2_3.shape[0]): \n",
        "     for j in range(S1HSV_imgA1B2_3.shape[1]): \n",
        "                if 1769<i<1881 and 2019<j<2131 :\n",
        "                  S1meanrefA1_803.append(S1HSV_imgA1B2_3[i][j])\n",
        "                if 1770<i<1880 and 2015<j<2145 :\n",
        "                  S1meanB2_103.append(S1HSV_imgA1B2_3[i][j])  \n",
        "S1meanrefA1_803 = np.array(S1meanrefA1_803)\n",
        "S1meanB2_103 = np.array(S1meanB2_103)\n",
        "\n",
        "S1hsvrefA1_803 = list()\n",
        "S1hsvB2_103 = list()\n",
        "for i in range(3):\n",
        "    S1hsvrefA1_803.append(S1meanrefA1_803[:,i].mean())\n",
        "    S1hsvB2_103.append(S1meanB2_103[:,i].mean())"
      ],
      "execution_count": null,
      "outputs": []
    },
    {
      "cell_type": "code",
      "metadata": {
        "id": "scFxo4IkaD7B"
      },
      "source": [
        "S1meanrefA1_903 = list()\n",
        "S1meanB3_103 = list()\n",
        "for i in range(S1HSV_imgA1B3_3.shape[0]): \n",
        "     for j in range(S1HSV_imgA1B3_3.shape[1]): \n",
        "                if 1769<i<1881 and 2019<j<2131 :\n",
        "                  S1meanrefA1_903.append(S1HSV_imgA1B3_3[i][j])\n",
        "                if 1770<i<1880 and 2015<j<2145 :\n",
        "                  S1meanB3_103.append(S1HSV_imgA1B3_3[i][j])  \n",
        "S1meanrefA1_903 = np.array(S1meanrefA1_903)\n",
        "S1meanB3_103 = np.array(S1meanB3_103)\n",
        "\n",
        "S1hsvrefA1_903 = list()\n",
        "S1hsvB3_103 = list()\n",
        "for i in range(3):\n",
        "    S1hsvrefA1_903.append(S1meanrefA1_9[:,i].mean())\n",
        "    S1hsvB3_103.append(S1meanB3_1[:,i].mean())"
      ],
      "execution_count": null,
      "outputs": []
    },
    {
      "cell_type": "code",
      "metadata": {
        "id": "upHvOqQMaD7B"
      },
      "source": [
        "S1meanrefA1_1003 = list()\n",
        "S1meanB4_103 = list()\n",
        "for i in range(S1HSV_imgA1B4_3.shape[0]): \n",
        "     for j in range(S1HSV_imgA1B4_3.shape[1]): \n",
        "                if 1769<i<1881 and 2019<j<2131 :\n",
        "                  S1meanrefA1_1003.append(S1HSV_imgA1B4_3[i][j])\n",
        "                if 1770<i<1880 and 2015<j<2145 :\n",
        "                  S1meanB4_103.append(S1HSV_imgA1B4_3[i][j])  \n",
        "S1meanrefA1_1003 = np.array(S1meanrefA1_1003)\n",
        "S1meanB4_103 = np.array(S1meanB4_103)\n",
        "\n",
        "S1hsvrefA1_1003 = list()\n",
        "S1hsvB4_103 = list()\n",
        "for i in range(3):\n",
        "    S1hsvrefA1_1003.append(S1meanrefA1_1003[:,i].mean())\n",
        "    S1hsvB4_103.append(S1meanB4_103[:,i].mean())"
      ],
      "execution_count": null,
      "outputs": []
    },
    {
      "cell_type": "code",
      "metadata": {
        "id": "DTwQ6hWzaD7C"
      },
      "source": [
        "S1meanrefA1_1103 = list()\n",
        "S1meanC1_103 = list()\n",
        "for i in range(S1HSV_imgA1C1_3.shape[0]): \n",
        "     for j in range(S1HSV_imgA1C1_3.shape[1]): \n",
        "                if 1769<i<1881 and 2019<j<2131 :\n",
        "                  S1meanrefA1_1103.append(S1HSV_imgA1C1_3[i][j])\n",
        "                if 1770<i<1880 and 2015<j<2145 :\n",
        "                  S1meanC1_103.append(S1HSV_imgA1C1_3[i][j])  \n",
        "S1meanrefA1_1103 = np.array(S1meanrefA1_1103)\n",
        "S1meanC1_103 = np.array(S1meanC1_103)\n",
        "\n",
        "S1hsvrefA1_1103 = list()\n",
        "S1hsvC1_103 = list()\n",
        "for i in range(3):\n",
        "    S1hsvrefA1_1103.append(S1meanrefA1_1103[:,i].mean())\n",
        "    S1hsvC1_103.append(S1meanC1_103[:,i].mean())"
      ],
      "execution_count": null,
      "outputs": []
    },
    {
      "cell_type": "code",
      "metadata": {
        "id": "VhGjLm5PaD7D"
      },
      "source": [
        "S1meanrefA1_1203 = list()\n",
        "S1meanC2_103 = list()\n",
        "for i in range(S1HSV_imgA1C2_3.shape[0]): \n",
        "     for j in range(S1HSV_imgA1C2_3.shape[1]): \n",
        "                if 1769<i<1881 and 2019<j<2131 :\n",
        "                  S1meanrefA1_1203.append(S1HSV_imgA1C2_3[i][j])\n",
        "                if 1770<i<1880 and 2015<j<2145 :\n",
        "                  S1meanC2_103.append(S1HSV_imgA1C2_3[i][j])  \n",
        "S1meanrefA1_1203 = np.array(S1meanrefA1_1203)\n",
        "S1meanC2_103 = np.array(S1meanC2_103)\n",
        "\n",
        "S1hsvrefA1_1203 = list()\n",
        "S1hsvC2_103 = list()\n",
        "for i in range(3):\n",
        "    S1hsvrefA1_1203.append(S1meanrefA1_1203[:,i].mean())\n",
        "    S1hsvC2_103.append(S1meanC2_103[:,i].mean())"
      ],
      "execution_count": null,
      "outputs": []
    },
    {
      "cell_type": "code",
      "metadata": {
        "id": "PVa_ARI7aD7D"
      },
      "source": [
        "S1meanrefA1_1303 = list()\n",
        "S1meanC3_103 = list()\n",
        "for i in range(S1HSV_imgA1C3_3.shape[0]): \n",
        "     for j in range(S1HSV_imgA1C3_3.shape[1]): \n",
        "                if 1769<i<1881 and 2019<j<2131 :\n",
        "                  S1meanrefA1_1303.append(S1HSV_imgA1C3_3[i][j])\n",
        "                if 1770<i<1880 and 2015<j<2145 :\n",
        "                  S1meanC3_103.append(S1HSV_imgA1C3_3[i][j])  \n",
        "S1meanrefA1_1303 = np.array(S1meanrefA1_1303)\n",
        "S1meanC3_103 = np.array(S1meanC3_103)\n",
        "\n",
        "S1hsvrefA1_1303 = list()\n",
        "S1hsvC3_103 = list()\n",
        "for i in range(3):\n",
        "    S1hsvrefA1_1303.append(S1meanrefA1_1303[:,i].mean())\n",
        "    S1hsvC3_103.append(S1meanC3_103[:,i].mean())"
      ],
      "execution_count": null,
      "outputs": []
    },
    {
      "cell_type": "code",
      "metadata": {
        "id": "9rsxA2L8aD7D"
      },
      "source": [
        "S1meanrefA1_1403 = list()\n",
        "S1meanC4_103 = list()\n",
        "for i in range(S1HSV_imgA1C4_3.shape[0]): \n",
        "     for j in range(S1HSV_imgA1C4_3.shape[1]): \n",
        "                if 1769<i<1881 and 2019<j<2131 :\n",
        "                  S1meanrefA1_1403.append(S1HSV_imgA1C4_3[i][j])\n",
        "                if 1770<i<1880 and 2015<j<2145 :\n",
        "                  S1meanC4_103.append(S1HSV_imgA1C4_3[i][j])  \n",
        "S1meanrefA1_1403 = np.array(S1meanrefA1_1403)\n",
        "S1meanC4_103 = np.array(S1meanC4_103)\n",
        "\n",
        "S1hsvrefA1_1403 = list()\n",
        "S1hsvC4_103 = list()\n",
        "for i in range(3):\n",
        "    S1hsvrefA1_1403.append(S1meanrefA1_1403[:,i].mean())\n",
        "    S1hsvC4_103.append(S1meanC4_103[:,i].mean())"
      ],
      "execution_count": null,
      "outputs": []
    },
    {
      "cell_type": "code",
      "metadata": {
        "id": "IeBME7OKaD7E"
      },
      "source": [
        "S1meanrefA1_1503 = list()\n",
        "S1meanD2_103 = list()\n",
        "for i in range(S1HSV_imgA1D2_3.shape[0]): \n",
        "     for j in range(S1HSV_imgA1D2_3.shape[1]): \n",
        "                if 1769<i<1881 and 2019<j<2131 :\n",
        "                  S1meanrefA1_1503.append(S1HSV_imgA1D2_3[i][j])\n",
        "                if 1770<i<1880 and 2015<j<2145 :\n",
        "                  S1meanD2_103.append(S1HSV_imgA1D2_3[i][j])  \n",
        "S1meanrefA1_1503 = np.array(S1meanrefA1_1503)\n",
        "S1meanD2_103 = np.array(S1meanD2_103)\n",
        "\n",
        "S1hsvrefA1_1503 = list()\n",
        "S1hsvD2_103 = list()\n",
        "for i in range(3):\n",
        "    S1hsvrefA1_1503.append(S1meanrefA1_1503[:,i].mean())\n",
        "    S1hsvD2_103.append(S1meanD2_103[:,i].mean())"
      ],
      "execution_count": null,
      "outputs": []
    },
    {
      "cell_type": "code",
      "metadata": {
        "id": "w8-WEzxtaD7E"
      },
      "source": [
        "S1meanrefA1_1603 = list()\n",
        "S1meanD3_103 = list()\n",
        "for i in range(S1HSV_imgA1D3_3.shape[0]): \n",
        "     for j in range(S1HSV_imgA1D3_3.shape[1]): \n",
        "                if 1769<i<1881 and 2019<j<2131 :\n",
        "                  S1meanrefA1_1603.append(S1HSV_imgA1D3_3[i][j])\n",
        "                if 1770<i<1880 and 2015<j<2145 :\n",
        "                  S1meanD3_103.append(S1HSV_imgA1D3_3[i][j])  \n",
        "S1meanrefA1_1603 = np.array(S1meanrefA1_1603)\n",
        "S1meanD3_103 = np.array(S1meanD3_103)\n",
        "\n",
        "S1hsvrefA1_1603 = list()\n",
        "S1hsvD3_103 = list()\n",
        "for i in range(3):\n",
        "    S1hsvrefA1_1603.append(S1meanrefA1_1603[:,i].mean())\n",
        "    S1hsvD3_103.append(S1meanD3_103[:,i].mean())"
      ],
      "execution_count": null,
      "outputs": []
    },
    {
      "cell_type": "code",
      "metadata": {
        "id": "OIsms0DjaD7F"
      },
      "source": [
        "S1meanrefA1_1703= list()\n",
        "S1meanD4_103 = list()\n",
        "for i in range(S1HSV_imgA1D4_3.shape[0]): \n",
        "     for j in range(S1HSV_imgA1D4_3.shape[1]): \n",
        "                if 1769<i<1881 and 2019<j<2131 :\n",
        "                  S1meanrefA1_1703.append(S1HSV_imgA1D4_3[i][j])\n",
        "                if 1770<i<1880 and 2015<j<2145 :\n",
        "                  S1meanD4_103.append(S1HSV_imgA1D4_3[i][j])  \n",
        "S1meanrefA1_1703 = np.array(S1meanrefA1_1403)\n",
        "S1meanD4_103 = np.array(S1meanD4_103)\n",
        "\n",
        "S1hsvrefA1_1703 = list()\n",
        "S1hsvD4_103 = list()\n",
        "for i in range(3):\n",
        "    S1hsvrefA1_1703.append(S1meanrefA1_1703[:,i].mean())\n",
        "    S1hsvD4_103.append(S1meanD4_103[:,i].mean())"
      ],
      "execution_count": null,
      "outputs": []
    },
    {
      "cell_type": "markdown",
      "metadata": {
        "id": "ccU_XQuv8nEE"
      },
      "source": [
        "###Img 4"
      ]
    },
    {
      "cell_type": "code",
      "metadata": {
        "id": "wvN1uUmKaICO",
        "colab": {
          "base_uri": "https://localhost:8080/"
        },
        "outputId": "ce5e852a-1f93-454c-8f12-3a73f6bdf74f"
      },
      "source": [
        "S1meanrefA1_104 = list()\n",
        "S1meanA1_204 = list()\n",
        "for i in range(S1HSV_imgA1A1_4.shape[0]): #ให้ i รันตาม row หรือ shape[0] คือแถว มีทั้งหมด 4032 แถว ของภาพที่ปรับขนาดมาแล้ว\n",
        "     for j in range(S1HSV_imgA1A1_4.shape[1]): #ให้ j รันตาม colum มีทั้งหมด 3024 colum เช่น แถวที่ 1 เข้ามาให้รันครบ 3024colum\n",
        "                if 1769<i<1881 and 2019<j<2131 :\n",
        "                  S1meanrefA1_104.append(S1HSV_imgA1A1_4[i][j])\n",
        "                if 1770<i<1880 and 2015<j<2145 :\n",
        "                  S1meanA1_204.append(S1HSV_imgA1A1_4[i][j])  \n",
        "S1meanrefA1_104 = np.array(S1meanrefA1_104)\n",
        "S1meanA1_204 = np.array(S1meanA1_204)\n",
        "\n",
        "S1hsvrefA1_104 = list()\n",
        "S1hsvA1_204 = list()\n",
        "for i in range(3):\n",
        "    S1hsvrefA1_104.append(S1meanrefA1_104[:,i].mean())\n",
        "    S1hsvA1_204.append(S1meanA1_204[:,i].mean())\n",
        "S1hsvrefA1_104,S1hsvA1_204 "
      ],
      "execution_count": null,
      "outputs": [
        {
          "output_type": "execute_result",
          "data": {
            "text/plain": [
              "([20.437951464978493, 84.98125152179206, 236.76738901063226],\n",
              " [20.40302965649669, 83.47400611620795, 237.50224023895882])"
            ]
          },
          "metadata": {},
          "execution_count": 386
        }
      ]
    },
    {
      "cell_type": "code",
      "metadata": {
        "id": "yVzXURhOaICP"
      },
      "source": [
        "S1meanrefA1_304 = list()\n",
        "S1meanA2_104 = list()\n",
        "for i in range(S1HSV_imgA1A2_4.shape[0]): \n",
        "     for j in range(S1HSV_imgA1A2_4.shape[1]): \n",
        "                if 1769<i<1881 and 2019<j<2131 :\n",
        "                  S1meanrefA1_304.append(S1HSV_imgA1A2_4[i][j])\n",
        "                if 1770<i<1880 and 2015<j<2145 :\n",
        "                  S1meanA2_104.append(S1HSV_imgA1A2_4[i][j])  \n",
        "S1meanrefA1_304 = np.array(S1meanrefA1_304)\n",
        "S1meanA2_104 = np.array(S1meanA2_104)\n",
        "\n",
        "S1hsvrefA1_304 = list()\n",
        "S1hsvA2_104 = list()\n",
        "for i in range(3):\n",
        "    S1hsvrefA1_304.append(S1meanrefA1_304[:,i].mean())\n",
        "    S1hsvA2_104.append(S1meanA2_104[:,i].mean())"
      ],
      "execution_count": null,
      "outputs": []
    },
    {
      "cell_type": "code",
      "metadata": {
        "id": "OYidQZ77aICQ"
      },
      "source": [
        "S1meanrefA1_404 = list()\n",
        "S1meanA3_104 = list()\n",
        "for i in range(S1HSV_imgA1A3_4.shape[0]): \n",
        "     for j in range(S1HSV_imgA1A3_4.shape[1]): \n",
        "                if 1769<i<1881 and 2019<j<2131 :\n",
        "                  S1meanrefA1_404.append(S1HSV_imgA1A3_4[i][j])\n",
        "                if 1770<i<1880 and 2015<j<2145 :\n",
        "                  S1meanA3_104.append(S1HSV_imgA1A3_4[i][j])  \n",
        "S1meanrefA1_404 = np.array(S1meanrefA1_404)\n",
        "S1meanA3_104 = np.array(S1meanA3_104)\n",
        "\n",
        "S1hsvrefA1_404 = list()\n",
        "S1hsvA3_104 = list()\n",
        "for i in range(3):\n",
        "    S1hsvrefA1_404.append(S1meanrefA1_404[:,i].mean())\n",
        "    S1hsvA3_104.append(S1meanA3_104[:,i].mean())"
      ],
      "execution_count": null,
      "outputs": []
    },
    {
      "cell_type": "code",
      "metadata": {
        "id": "RDGFdA8QaICR"
      },
      "source": [
        "S1meanrefA1_504 = list()\n",
        "S1meanA3_5104 = list()\n",
        "for i in range(S1HSV_imgA1A3_54.shape[0]): \n",
        "     for j in range(S1HSV_imgA1A3_54.shape[1]): \n",
        "                if 1769<i<1881 and 2019<j<2131 :\n",
        "                  S1meanrefA1_504.append(S1HSV_imgA1A3_54[i][j])\n",
        "                if 1770<i<1880 and 2015<j<2145 :\n",
        "                  S1meanA3_5104.append(S1HSV_imgA1A3_54[i][j])  \n",
        "S1meanrefA1_504 = np.array(S1meanrefA1_504)\n",
        "S1meanA3_5104 = np.array(S1meanA3_5104)\n",
        "\n",
        "S1hsvrefA1_504 = list()\n",
        "S1hsvA3_5104 = list()\n",
        "for i in range(3):\n",
        "    S1hsvrefA1_504.append(S1meanrefA1_504[:,i].mean())\n",
        "    S1hsvA3_5104.append(S1meanA3_5104[:,i].mean())"
      ],
      "execution_count": null,
      "outputs": []
    },
    {
      "cell_type": "code",
      "metadata": {
        "id": "phmsZ1pVaICR"
      },
      "source": [
        "S1meanrefA1_604 = list()\n",
        "S1meanA4_104 = list()\n",
        "for i in range(S1HSV_imgA1A4_4.shape[0]): \n",
        "     for j in range(S1HSV_imgA1A4_4.shape[1]): \n",
        "                if 1769<i<1881 and 2019<j<2131 :\n",
        "                  S1meanrefA1_604.append(S1HSV_imgA1A4_4[i][j])\n",
        "                if 1770<i<1880 and 2015<j<2145 :\n",
        "                  S1meanA4_104.append(S1HSV_imgA1A4_4[i][j])  \n",
        "S1meanrefA1_604 = np.array(S1meanrefA1_604)\n",
        "S1meanA4_104 = np.array(S1meanA4_104)\n",
        "\n",
        "S1hsvrefA1_604 = list()\n",
        "S1hsvA4_104 = list()\n",
        "for i in range(3):\n",
        "    S1hsvrefA1_604.append(S1meanrefA1_604[:,i].mean())\n",
        "    S1hsvA4_104.append(S1meanA4_104[:,i].mean())"
      ],
      "execution_count": null,
      "outputs": []
    },
    {
      "cell_type": "code",
      "metadata": {
        "id": "jVkmiIbYaICS"
      },
      "source": [
        "S1meanrefA1_704 = list()\n",
        "S1meanB1_104 = list()\n",
        "for i in range(S1HSV_imgA1B1_4.shape[0]): \n",
        "     for j in range(S1HSV_imgA1B1_4.shape[1]): \n",
        "                if 1769<i<1881 and 2019<j<2131 :\n",
        "                  S1meanrefA1_704.append(S1HSV_imgA1B1_4[i][j])\n",
        "                if 1770<i<1880 and 2015<j<2145 :\n",
        "                  S1meanB1_104.append(S1HSV_imgA1B1_4[i][j])  \n",
        "S1meanrefA1_704 = np.array(S1meanrefA1_704)\n",
        "S1meanB1_104 = np.array(S1meanB1_104)\n",
        "\n",
        "S1hsvrefA1_704 = list()\n",
        "S1hsvB1_104 = list()\n",
        "for i in range(3):\n",
        "    S1hsvrefA1_704.append(S1meanrefA1_704[:,i].mean())\n",
        "    S1hsvB1_104.append(S1meanB1_104[:,i].mean())"
      ],
      "execution_count": null,
      "outputs": []
    },
    {
      "cell_type": "code",
      "metadata": {
        "id": "01iHJyeDaICS"
      },
      "source": [
        "S1meanrefA1_804 = list()\n",
        "S1meanB2_104 = list()\n",
        "for i in range(S1HSV_imgA1B2_4.shape[0]): \n",
        "     for j in range(S1HSV_imgA1B2_4.shape[1]): \n",
        "                if 1769<i<1881 and 2019<j<2131 :\n",
        "                  S1meanrefA1_804.append(S1HSV_imgA1B2_4[i][j])\n",
        "                if 1770<i<1880 and 2015<j<2145 :\n",
        "                  S1meanB2_104.append(S1HSV_imgA1B2_4[i][j])  \n",
        "S1meanrefA1_804 = np.array(S1meanrefA1_804)\n",
        "S1meanB2_104 = np.array(S1meanB2_104)\n",
        "\n",
        "S1hsvrefA1_804 = list()\n",
        "S1hsvB2_104 = list()\n",
        "for i in range(3):\n",
        "    S1hsvrefA1_804.append(S1meanrefA1_804[:,i].mean())\n",
        "    S1hsvB2_104.append(S1meanB2_104[:,i].mean())"
      ],
      "execution_count": null,
      "outputs": []
    },
    {
      "cell_type": "code",
      "metadata": {
        "id": "xKzJJkajaICT"
      },
      "source": [
        "S1meanrefA1_904 = list()\n",
        "S1meanB3_104 = list()\n",
        "for i in range(S1HSV_imgA1B3_4.shape[0]): \n",
        "     for j in range(S1HSV_imgA1B3_4.shape[1]): \n",
        "                if 1769<i<1881 and 2019<j<2131 :\n",
        "                  S1meanrefA1_904.append(S1HSV_imgA1B3_4[i][j])\n",
        "                if 1770<i<1880 and 2015<j<2145 :\n",
        "                  S1meanB3_104.append(S1HSV_imgA1B3_4[i][j])  \n",
        "S1meanrefA1_904 = np.array(S1meanrefA1_904)\n",
        "S1meanB3_104 = np.array(S1meanB3_104)\n",
        "\n",
        "S1hsvrefA1_904 = list()\n",
        "S1hsvB3_104 = list()\n",
        "for i in range(3):\n",
        "    S1hsvrefA1_904.append(S1meanrefA1_904[:,i].mean())\n",
        "    S1hsvB3_104.append(S1meanB3_104[:,i].mean())"
      ],
      "execution_count": null,
      "outputs": []
    },
    {
      "cell_type": "code",
      "metadata": {
        "id": "xZvWsisKaICT"
      },
      "source": [
        "S1meanrefA1_1004 = list()\n",
        "S1meanB4_104 = list()\n",
        "for i in range(S1HSV_imgA1B4_4.shape[0]): \n",
        "     for j in range(S1HSV_imgA1B4_4.shape[1]): \n",
        "                if 1769<i<1881 and 2019<j<2131 :\n",
        "                  S1meanrefA1_1004.append(S1HSV_imgA1B4_4[i][j])\n",
        "                if 1770<i<1880 and 2015<j<2145 :\n",
        "                  S1meanB4_104.append(S1HSV_imgA1B4_4[i][j])  \n",
        "S1meanrefA1_1004 = np.array(S1meanrefA1_1004)\n",
        "S1meanB4_104 = np.array(S1meanB4_104)\n",
        "\n",
        "S1hsvrefA1_1004 = list()\n",
        "S1hsvB4_104= list()\n",
        "for i in range(3):\n",
        "    S1hsvrefA1_1004.append(S1meanrefA1_1004[:,i].mean())\n",
        "    S1hsvB4_104.append(S1meanB4_104[:,i].mean())"
      ],
      "execution_count": null,
      "outputs": []
    },
    {
      "cell_type": "code",
      "metadata": {
        "id": "K9eqM_dhaICU"
      },
      "source": [
        "S1meanrefA1_1104 = list()\n",
        "S1meanC1_104 = list()\n",
        "for i in range(S1HSV_imgA1C1_4.shape[0]): \n",
        "     for j in range(S1HSV_imgA1C1_4.shape[1]): \n",
        "                if 1769<i<1881 and 2019<j<2131 :\n",
        "                  S1meanrefA1_1104.append(S1HSV_imgA1C1_4[i][j])\n",
        "                if 1770<i<1880 and 2015<j<2145 :\n",
        "                  S1meanC1_104.append(S1HSV_imgA1C1_4[i][j])  \n",
        "S1meanrefA1_1104 = np.array(S1meanrefA1_1104)\n",
        "S1meanC1_104 = np.array(S1meanC1_104)\n",
        "\n",
        "S1hsvrefA1_1104 = list()\n",
        "S1hsvC1_104 = list()\n",
        "for i in range(3):\n",
        "    S1hsvrefA1_1104.append(S1meanrefA1_1104[:,i].mean())\n",
        "    S1hsvC1_104.append(S1meanC1_104[:,i].mean())"
      ],
      "execution_count": null,
      "outputs": []
    },
    {
      "cell_type": "code",
      "metadata": {
        "id": "uuX8MaetaICW"
      },
      "source": [
        "S1meanrefA1_1204 = list()\n",
        "S1meanC2_104 = list()\n",
        "for i in range(S1HSV_imgA1C2_4.shape[0]): \n",
        "     for j in range(S1HSV_imgA1C2_4.shape[1]): \n",
        "                if 1769<i<1881 and 2019<j<2131 :\n",
        "                  S1meanrefA1_1204.append(S1HSV_imgA1C2_4[i][j])\n",
        "                if 1770<i<1880 and 2015<j<2145 :\n",
        "                  S1meanC2_104.append(S1HSV_imgA1C2_4[i][j])  \n",
        "S1meanrefA1_1204 = np.array(S1meanrefA1_1204)\n",
        "S1meanC2_104 = np.array(S1meanC2_104)\n",
        "\n",
        "S1hsvrefA1_1204 = list()\n",
        "S1hsvC2_104 = list()\n",
        "for i in range(3):\n",
        "    S1hsvrefA1_1204.append(S1meanrefA1_1204[:,i].mean())\n",
        "    S1hsvC2_104.append(S1meanC2_104[:,i].mean())"
      ],
      "execution_count": null,
      "outputs": []
    },
    {
      "cell_type": "code",
      "metadata": {
        "id": "NapZ8mwHaICY"
      },
      "source": [
        "S1meanrefA1_1304 = list()\n",
        "S1meanC3_104 = list()\n",
        "for i in range(S1HSV_imgA1C3_4.shape[0]): \n",
        "     for j in range(S1HSV_imgA1C3_4.shape[1]): \n",
        "                if 1769<i<1881 and 2019<j<2131 :\n",
        "                  S1meanrefA1_1304.append(S1HSV_imgA1C3_4[i][j])\n",
        "                if 1770<i<1880 and 2015<j<2145 :\n",
        "                  S1meanC3_104.append(S1HSV_imgA1C3_4[i][j])  \n",
        "S1meanrefA1_1304 = np.array(S1meanrefA1_1304)\n",
        "S1meanC3_104 = np.array(S1meanC3_104)\n",
        "\n",
        "S1hsvrefA1_1304 = list()\n",
        "S1hsvC3_104 = list()\n",
        "for i in range(3):\n",
        "    S1hsvrefA1_1304.append(S1meanrefA1_1304[:,i].mean())\n",
        "    S1hsvC3_104.append(S1meanC3_104[:,i].mean())"
      ],
      "execution_count": null,
      "outputs": []
    },
    {
      "cell_type": "code",
      "metadata": {
        "id": "ZsekeOCDaICZ"
      },
      "source": [
        "S1meanrefA1_1404 = list()\n",
        "S1meanC4_104 = list()\n",
        "for i in range(S1HSV_imgA1C4_4.shape[0]): \n",
        "     for j in range(S1HSV_imgA1C4_4.shape[1]): \n",
        "                if 1769<i<1881 and 2019<j<2131 :\n",
        "                  S1meanrefA1_1404.append(S1HSV_imgA1C4_4[i][j])\n",
        "                if 1770<i<1880 and 2015<j<2145 :\n",
        "                  S1meanC4_104.append(S1HSV_imgA1C4_4[i][j])  \n",
        "S1meanrefA1_1404 = np.array(S1meanrefA1_14)\n",
        "S1meanC4_104 = np.array(S1meanC4_1)\n",
        "\n",
        "S1hsvrefA1_1404 = list()\n",
        "S1hsvC4_104 = list()\n",
        "for i in range(3):\n",
        "    S1hsvrefA1_1404.append(S1meanrefA1_1404[:,i].mean())\n",
        "    S1hsvC4_104.append(S1meanC4_104[:,i].mean())"
      ],
      "execution_count": null,
      "outputs": []
    },
    {
      "cell_type": "code",
      "metadata": {
        "id": "otvoaOftaICa"
      },
      "source": [
        "S1meanrefA1_1504 = list()\n",
        "S1meanD2_104 = list()\n",
        "for i in range(S1HSV_imgA1D2_4.shape[0]): \n",
        "     for j in range(S1HSV_imgA1D2_4.shape[1]): \n",
        "                if 1769<i<1881 and 2019<j<2131 :\n",
        "                  S1meanrefA1_1504.append(S1HSV_imgA1D2_4[i][j])\n",
        "                if 1770<i<1880 and 2015<j<2145 :\n",
        "                  S1meanD2_104.append(S1HSV_imgA1D2_4[i][j])  \n",
        "S1meanrefA1_1504 = np.array(S1meanrefA1_1504)\n",
        "S1meanD2_104 = np.array(S1meanD2_104)\n",
        "\n",
        "S1hsvrefA1_1504 = list()\n",
        "S1hsvD2_104 = list()\n",
        "for i in range(3):\n",
        "    S1hsvrefA1_1504.append(S1meanrefA1_1504[:,i].mean())\n",
        "    S1hsvD2_104.append(S1meanD2_104[:,i].mean())"
      ],
      "execution_count": null,
      "outputs": []
    },
    {
      "cell_type": "code",
      "metadata": {
        "id": "IH5MJeHdaICa"
      },
      "source": [
        "S1meanrefA1_1604 = list()\n",
        "S1meanD3_104 = list()\n",
        "for i in range(S1HSV_imgA1D3_4.shape[0]): \n",
        "     for j in range(S1HSV_imgA1D3_4.shape[1]): \n",
        "                if 1769<i<1881 and 2019<j<2131 :\n",
        "                  S1meanrefA1_1604.append(S1HSV_imgA1D3_4[i][j])\n",
        "                if 1770<i<1880 and 2015<j<2145 :\n",
        "                  S1meanD3_104.append(S1HSV_imgA1D3_4[i][j])  \n",
        "S1meanrefA1_1604 = np.array(S1meanrefA1_1604)\n",
        "S1meanD3_104 = np.array(S1meanD3_104)\n",
        "\n",
        "S1hsvrefA1_1604 = list()\n",
        "S1hsvD3_104 = list()\n",
        "for i in range(3):\n",
        "    S1hsvrefA1_1604.append(S1meanrefA1_1604[:,i].mean())\n",
        "    S1hsvD3_104.append(S1meanD3_104[:,i].mean())"
      ],
      "execution_count": null,
      "outputs": []
    },
    {
      "cell_type": "code",
      "metadata": {
        "id": "h610zfiwaICa"
      },
      "source": [
        "S1meanrefA1_1704= list()\n",
        "S1meanD4_104 = list()\n",
        "for i in range(S1HSV_imgA1D4_4.shape[0]): \n",
        "     for j in range(S1HSV_imgA1D4_4.shape[1]): \n",
        "                if 1769<i<1881 and 2019<j<2131 :\n",
        "                  S1meanrefA1_1704.append(S1HSV_imgA1D4_4[i][j])\n",
        "                if 1770<i<1880 and 2015<j<2145 :\n",
        "                  S1meanD4_104.append(S1HSV_imgA1D4_4[i][j])  \n",
        "S1meanrefA1_1704 = np.array(S1meanrefA1_1404)\n",
        "S1meanD4_104 = np.array(S1meanD4_104)\n",
        "\n",
        "S1hsvrefA1_1704 = list()\n",
        "S1hsvD4_104 = list()\n",
        "for i in range(3):\n",
        "    S1hsvrefA1_1704.append(S1meanrefA1_1704[:,i].mean())\n",
        "    S1hsvD4_104.append(S1meanD4_104[:,i].mean())"
      ],
      "execution_count": null,
      "outputs": []
    },
    {
      "cell_type": "markdown",
      "metadata": {
        "id": "j3cXkom98pAa"
      },
      "source": [
        "###Img 5"
      ]
    },
    {
      "cell_type": "code",
      "metadata": {
        "id": "amRJlxpuaJL5",
        "colab": {
          "base_uri": "https://localhost:8080/"
        },
        "outputId": "e4c3917f-7af8-4329-9281-80dabb1a6a94"
      },
      "source": [
        "S1meanrefA1_105 = list()\n",
        "S1meanA1_205 = list()\n",
        "for i in range(S1HSV_imgA1A1_5.shape[0]): #ให้ i รันตาม row หรือ shape[0] คือแถว มีทั้งหมด 4032 แถว ของภาพที่ปรับขนาดมาแล้ว\n",
        "     for j in range(S1HSV_imgA1A1_5.shape[1]): #ให้ j รันตาม colum มีทั้งหมด 3024 colum เช่น แถวที่ 1 เข้ามาให้รันครบ 3024colum\n",
        "                if 1769<i<1881 and 2019<j<2131 :\n",
        "                  S1meanrefA1_105.append(S1HSV_imgA1A1_5[i][j])\n",
        "                if 1770<i<1880 and 2015<j<2145 :\n",
        "                  S1meanA1_205.append(S1HSV_imgA1A1_5[i][j])  \n",
        "S1meanrefA1_105 = np.array(S1meanrefA1_105)\n",
        "S1meanA1_205 = np.array(S1meanA1_205)\n",
        "\n",
        "S1hsvrefA1_105 = list()\n",
        "S1hsvA1_205 = list()\n",
        "for i in range(3):\n",
        "    S1hsvrefA1_105.append(S1meanrefA1_105[:,i].mean())\n",
        "    S1hsvA1_205.append(S1meanA1_205[:,i].mean())\n",
        "S1hsvrefA1_105,S1hsvA1_205 "
      ],
      "execution_count": null,
      "outputs": [
        {
          "output_type": "execute_result",
          "data": {
            "text/plain": [
              "([20.437951464978493, 84.98125152179206, 236.76738901063226],\n",
              " [20.40302965649669, 83.47400611620795, 237.50224023895882])"
            ]
          },
          "metadata": {},
          "execution_count": 402
        }
      ]
    },
    {
      "cell_type": "code",
      "metadata": {
        "id": "fElJ0l6-aJL6"
      },
      "source": [
        "S1meanrefA1_305 = list()\n",
        "S1meanA2_105 = list()\n",
        "for i in range(S1HSV_imgA1A2_5.shape[0]): \n",
        "     for j in range(S1HSV_imgA1A2_5.shape[1]): \n",
        "                if 1769<i<1881 and 2019<j<2131 :\n",
        "                  S1meanrefA1_305.append(S1HSV_imgA1A2_5[i][j])\n",
        "                if 1770<i<1880 and 2015<j<2145 :\n",
        "                  S1meanA2_105.append(S1HSV_imgA1A2_5[i][j])  \n",
        "S1meanrefA1_305 = np.array(S1meanrefA1_305)\n",
        "S1meanA2_105 = np.array(S1meanA2_105)\n",
        "\n",
        "S1hsvrefA1_305 = list()\n",
        "S1hsvA2_105 = list()\n",
        "for i in range(3):\n",
        "    S1hsvrefA1_305.append(S1meanrefA1_305[:,i].mean())\n",
        "    S1hsvA2_105.append(S1meanA2_105[:,i].mean())"
      ],
      "execution_count": null,
      "outputs": []
    },
    {
      "cell_type": "code",
      "metadata": {
        "id": "SmoplvtRaJL7"
      },
      "source": [
        "S1meanrefA1_405 = list()\n",
        "S1meanA3_105 = list()\n",
        "for i in range(S1HSV_imgA1A3_5.shape[0]): \n",
        "     for j in range(S1HSV_imgA1A3_5.shape[1]): \n",
        "                if 1769<i<1881 and 2019<j<2131 :\n",
        "                  S1meanrefA1_405.append(S1HSV_imgA1A3_5[i][j])\n",
        "                if 1770<i<1880 and 2015<j<2145 :\n",
        "                  S1meanA3_105.append(S1HSV_imgA1A3_5[i][j])  \n",
        "S1meanrefA1_405 = np.array(S1meanrefA1_405)\n",
        "S1meanA3_105 = np.array(S1meanA3_105)\n",
        "\n",
        "S1hsvrefA1_405 = list()\n",
        "S1hsvA3_105= list()\n",
        "for i in range(3):\n",
        "    S1hsvrefA1_405.append(S1meanrefA1_405[:,i].mean())\n",
        "    S1hsvA3_105.append(S1meanA3_105[:,i].mean())"
      ],
      "execution_count": null,
      "outputs": []
    },
    {
      "cell_type": "code",
      "metadata": {
        "id": "YBgssB_7aJL7"
      },
      "source": [
        "S1meanrefA1_505 = list()\n",
        "S1meanA3_5105 = list()\n",
        "for i in range(S1HSV_imgA1A3_55.shape[0]): \n",
        "     for j in range(S1HSV_imgA1A3_55.shape[1]): \n",
        "                if 1769<i<1881 and 2019<j<2131 :\n",
        "                  S1meanrefA1_505.append(S1HSV_imgA1A3_55[i][j])\n",
        "                if 1770<i<1880 and 2015<j<2145 :\n",
        "                  S1meanA3_5105.append(S1HSV_imgA1A3_55[i][j])  \n",
        "S1meanrefA1_505 = np.array(S1meanrefA1_505)\n",
        "S1meanA3_5105 = np.array(S1meanA3_5105)\n",
        "\n",
        "S1hsvrefA1_505= list()\n",
        "S1hsvA3_5105 = list()\n",
        "for i in range(3):\n",
        "    S1hsvrefA1_505.append(S1meanrefA1_505[:,i].mean())\n",
        "    S1hsvA3_5105.append(S1meanA3_5105[:,i].mean())"
      ],
      "execution_count": null,
      "outputs": []
    },
    {
      "cell_type": "code",
      "metadata": {
        "id": "LYdkCfgdaJL8"
      },
      "source": [
        "S1meanrefA1_605 = list()\n",
        "S1meanA4_105= list()\n",
        "for i in range(S1HSV_imgA1A4_5.shape[0]): \n",
        "     for j in range(S1HSV_imgA1A4_5.shape[1]): \n",
        "                if 1769<i<1881 and 2019<j<2131 :\n",
        "                  S1meanrefA1_605.append(S1HSV_imgA1A4_5[i][j])\n",
        "                if 1770<i<1880 and 2015<j<2145 :\n",
        "                  S1meanA4_105.append(S1HSV_imgA1A4_5[i][j])  \n",
        "S1meanrefA1_605 = np.array(S1meanrefA1_605)\n",
        "S1meanA4_105 = np.array(S1meanA4_105)\n",
        "\n",
        "S1hsvrefA1_605 = list()\n",
        "S1hsvA4_105 = list()\n",
        "for i in range(3):\n",
        "    S1hsvrefA1_605.append(S1meanrefA1_605[:,i].mean())\n",
        "    S1hsvA4_105.append(S1meanA4_105[:,i].mean())"
      ],
      "execution_count": null,
      "outputs": []
    },
    {
      "cell_type": "code",
      "metadata": {
        "id": "gHBQsZxiaJL9"
      },
      "source": [
        "S1meanrefA1_705 = list()\n",
        "S1meanB1_105 = list()\n",
        "for i in range(S1HSV_imgA1B1_5.shape[0]): \n",
        "     for j in range(S1HSV_imgA1B1_5.shape[1]): \n",
        "                if 1769<i<1881 and 2019<j<2131 :\n",
        "                  S1meanrefA1_705.append(S1HSV_imgA1B1_5[i][j])\n",
        "                if 1770<i<1880 and 2015<j<2145 :\n",
        "                  S1meanB1_105.append(S1HSV_imgA1B1_5[i][j])  \n",
        "S1meanrefA1_705 = np.array(S1meanrefA1_705)\n",
        "S1meanB1_105 = np.array(S1meanB1_105)\n",
        "\n",
        "S1hsvrefA1_705 = list()\n",
        "S1hsvB1_105 = list()\n",
        "for i in range(3):\n",
        "    S1hsvrefA1_705.append(S1meanrefA1_7[:,i].mean())\n",
        "    S1hsvB1_105.append(S1meanB1_1[:,i].mean())"
      ],
      "execution_count": null,
      "outputs": []
    },
    {
      "cell_type": "code",
      "metadata": {
        "id": "7qGd14_BaJL9"
      },
      "source": [
        "S1meanrefA1_805 = list()\n",
        "S1meanB2_105 = list()\n",
        "for i in range(S1HSV_imgA1B2_5.shape[0]): \n",
        "     for j in range(S1HSV_imgA1B2_5.shape[1]): \n",
        "                if 1769<i<1881 and 2019<j<2131 :\n",
        "                  S1meanrefA1_805.append(S1HSV_imgA1B2_5[i][j])\n",
        "                if 1770<i<1880 and 2015<j<2145 :\n",
        "                  S1meanB2_105.append(S1HSV_imgA1B2_5[i][j])  \n",
        "S1meanrefA1_805 = np.array(S1meanrefA1_805)\n",
        "S1meanB2_105 = np.array(S1meanB2_105)\n",
        "\n",
        "S1hsvrefA1_805 = list()\n",
        "S1hsvB2_105 = list()\n",
        "for i in range(3):\n",
        "    S1hsvrefA1_805.append(S1meanrefA1_805[:,i].mean())\n",
        "    S1hsvB2_105.append(S1meanB2_105[:,i].mean())"
      ],
      "execution_count": null,
      "outputs": []
    },
    {
      "cell_type": "code",
      "metadata": {
        "id": "tuT8A623aJL9"
      },
      "source": [
        "S1meanrefA1_905 = list()\n",
        "S1meanB3_105= list()\n",
        "for i in range(S1HSV_imgA1B3_5.shape[0]): \n",
        "     for j in range(S1HSV_imgA1B3_5.shape[1]): \n",
        "                if 1769<i<1881 and 2019<j<2131 :\n",
        "                  S1meanrefA1_905.append(S1HSV_imgA1B3_5[i][j])\n",
        "                if 1770<i<1880 and 2015<j<2145 :\n",
        "                  S1meanB3_105.append(S1HSV_imgA1B3_5[i][j])  \n",
        "S1meanrefA1_905 = np.array(S1meanrefA1_905)\n",
        "S1meanB3_105 = np.array(S1meanB3_105)\n",
        "\n",
        "S1hsvrefA1_905 = list()\n",
        "S1hsvB3_105 = list()\n",
        "for i in range(3):\n",
        "    S1hsvrefA1_905.append(S1meanrefA1_905[:,i].mean())\n",
        "    S1hsvB3_105.append(S1meanB3_105[:,i].mean())"
      ],
      "execution_count": null,
      "outputs": []
    },
    {
      "cell_type": "code",
      "metadata": {
        "id": "8zaqHapfaJL-"
      },
      "source": [
        "S1meanrefA1_1005 = list()\n",
        "S1meanB4_105 = list()\n",
        "for i in range(S1HSV_imgA1B4_5.shape[0]): \n",
        "     for j in range(S1HSV_imgA1B4_5.shape[1]): \n",
        "                if 1769<i<1881 and 2019<j<2131 :\n",
        "                  S1meanrefA1_1005.append(S1HSV_imgA1B4_5[i][j])\n",
        "                if 1770<i<1880 and 2015<j<2145 :\n",
        "                  S1meanB4_105.append(S1HSV_imgA1B4_5[i][j])  \n",
        "S1meanrefA1_1005 = np.array(S1meanrefA1_1005)\n",
        "S1meanB4_105 = np.array(S1meanB4_105)\n",
        "\n",
        "S1hsvrefA1_1005 = list()\n",
        "S1hsvB4_105 = list()\n",
        "for i in range(3):\n",
        "    S1hsvrefA1_1005.append(S1meanrefA1_1005[:,i].mean())\n",
        "    S1hsvB4_105.append(S1meanB4_105[:,i].mean())"
      ],
      "execution_count": null,
      "outputs": []
    },
    {
      "cell_type": "code",
      "metadata": {
        "id": "06bY9c0LaJL-"
      },
      "source": [
        "S1meanrefA1_1105 = list()\n",
        "S1meanC1_105 = list()\n",
        "for i in range(S1HSV_imgA1C1_5.shape[0]): \n",
        "     for j in range(S1HSV_imgA1C1_5.shape[1]): \n",
        "                if 1769<i<1881 and 2019<j<2131 :\n",
        "                  S1meanrefA1_1105.append(S1HSV_imgA1C1_5[i][j])\n",
        "                if 1770<i<1880 and 2015<j<2145 :\n",
        "                  S1meanC1_105.append(S1HSV_imgA1C1_5[i][j])  \n",
        "S1meanrefA1_1105 = np.array(S1meanrefA1_1105)\n",
        "S1meanC1_105 = np.array(S1meanC1_105)\n",
        "\n",
        "S1hsvrefA1_1105 = list()\n",
        "S1hsvC1_105= list()\n",
        "for i in range(3):\n",
        "    S1hsvrefA1_1105.append(S1meanrefA1_1105[:,i].mean())\n",
        "    S1hsvC1_105.append(S1meanC1_105[:,i].mean())"
      ],
      "execution_count": null,
      "outputs": []
    },
    {
      "cell_type": "code",
      "metadata": {
        "id": "N2jnieV0aJL-"
      },
      "source": [
        "S1meanrefA1_1205 = list()\n",
        "S1meanC2_105 = list()\n",
        "for i in range(S1HSV_imgA1C2_5.shape[0]): \n",
        "     for j in range(S1HSV_imgA1C2_5.shape[1]): \n",
        "                if 1769<i<1881 and 2019<j<2131 :\n",
        "                  S1meanrefA1_1205.append(S1HSV_imgA1C2_5[i][j])\n",
        "                if 1770<i<1880 and 2015<j<2145 :\n",
        "                  S1meanC2_105.append(S1HSV_imgA1C2_5[i][j])  \n",
        "S1meanrefA1_1205 = np.array(S1meanrefA1_1205)\n",
        "S1meanC2_105 = np.array(S1meanC2_105)\n",
        "\n",
        "S1hsvrefA1_1205 = list()\n",
        "S1hsvC2_105 = list()\n",
        "for i in range(3):\n",
        "    S1hsvrefA1_1205.append(S1meanrefA1_1205[:,i].mean())\n",
        "    S1hsvC2_105.append(S1meanC2_105[:,i].mean())"
      ],
      "execution_count": null,
      "outputs": []
    },
    {
      "cell_type": "code",
      "metadata": {
        "id": "VhyPBVeaaJL_"
      },
      "source": [
        "S1meanrefA1_1305 = list()\n",
        "S1meanC3_105 = list()\n",
        "for i in range(S1HSV_imgA1C3_5.shape[0]): \n",
        "     for j in range(S1HSV_imgA1C3_5.shape[1]): \n",
        "                if 1769<i<1881 and 2019<j<2131 :\n",
        "                  S1meanrefA1_1305 .append(S1HSV_imgA1C3_5[i][j])\n",
        "                if 1770<i<1880 and 2015<j<2145 :\n",
        "                  S1meanC3_105 .append(S1HSV_imgA1C3_5[i][j])  \n",
        "S1meanrefA1_1305 = np.array(S1meanrefA1_1305)\n",
        "S1meanC3_105 = np.array(S1meanC3_105)\n",
        "\n",
        "S1hsvrefA1_1305 = list()\n",
        "S1hsvC3_105 = list()\n",
        "for i in range(3):\n",
        "    S1hsvrefA1_1305.append(S1meanrefA1_1305[:,i].mean())\n",
        "    S1hsvC3_105.append(S1meanC3_105[:,i].mean())"
      ],
      "execution_count": null,
      "outputs": []
    },
    {
      "cell_type": "code",
      "metadata": {
        "id": "t-9dLwsoaJL_"
      },
      "source": [
        "S1meanrefA1_1405 = list()\n",
        "S1meanC4_105 = list()\n",
        "for i in range(S1HSV_imgA1C4_5.shape[0]): \n",
        "     for j in range(S1HSV_imgA1C4_5.shape[1]): \n",
        "                if 1769<i<1881 and 2019<j<2131 :\n",
        "                  S1meanrefA1_1405.append(S1HSV_imgA1C4_5[i][j])\n",
        "                if 1770<i<1880 and 2015<j<2145 :\n",
        "                  S1meanC4_105.append(S1HSV_imgA1C4_5[i][j])  \n",
        "S1meanrefA1_1405 = np.array(S1meanrefA1_1405)\n",
        "S1meanC4_105 = np.array(S1meanC4_105)\n",
        "\n",
        "S1hsvrefA1_1405 = list()\n",
        "S1hsvC4_105 = list()\n",
        "for i in range(3):\n",
        "    S1hsvrefA1_1405.append(S1meanrefA1_1405[:,i].mean())\n",
        "    S1hsvC4_105.append(S1meanC4_105[:,i].mean())"
      ],
      "execution_count": null,
      "outputs": []
    },
    {
      "cell_type": "code",
      "metadata": {
        "id": "XDE-yECUaJL_"
      },
      "source": [
        "S1meanrefA1_1505  = list()\n",
        "S1meanD2_105  = list()\n",
        "for i in range(S1HSV_imgA1D2_5.shape[0]): \n",
        "     for j in range(S1HSV_imgA1D2_5.shape[1]): \n",
        "                if 1769<i<1881 and 2019<j<2131 :\n",
        "                  S1meanrefA1_1505 .append(S1HSV_imgA1D2_5[i][j])\n",
        "                if 1770<i<1880 and 2015<j<2145 :\n",
        "                  S1meanD2_105 .append(S1HSV_imgA1D2_5[i][j])  \n",
        "S1meanrefA1_1505 = np.array(S1meanrefA1_1505)\n",
        "S1meanD2_105  = np.array(S1meanD2_105)\n",
        "\n",
        "S1hsvrefA1_1505 = list()\n",
        "S1hsvD2_105 = list()\n",
        "for i in range(3):\n",
        "    S1hsvrefA1_1505.append(S1meanrefA1_1505[:,i].mean())\n",
        "    S1hsvD2_105.append(S1meanD2_105[:,i].mean())"
      ],
      "execution_count": null,
      "outputs": []
    },
    {
      "cell_type": "code",
      "metadata": {
        "id": "pLUKwAK3aJMA"
      },
      "source": [
        "S1meanrefA1_1605 = list()\n",
        "S1meanD3_105 = list()\n",
        "for i in range(S1HSV_imgA1D3_5.shape[0]): \n",
        "     for j in range(S1HSV_imgA1D3_5.shape[1]): \n",
        "                if 1769<i<1881 and 2019<j<2131 :\n",
        "                  S1meanrefA1_1605.append(S1HSV_imgA1D3_5[i][j])\n",
        "                if 1770<i<1880 and 2015<j<2145 :\n",
        "                  S1meanD3_105.append(S1HSV_imgA1D3_5[i][j])  \n",
        "S1meanrefA1_1605 = np.array(S1meanrefA1_1605)\n",
        "S1meanD3_105 = np.array(S1meanD3_105)\n",
        "\n",
        "S1hsvrefA1_1605 = list()\n",
        "S1hsvD3_105 = list()\n",
        "for i in range(3):\n",
        "    S1hsvrefA1_1605.append(S1meanrefA1_1605[:,i].mean())\n",
        "    S1hsvD3_105.append(S1meanD3_105[:,i].mean())"
      ],
      "execution_count": null,
      "outputs": []
    },
    {
      "cell_type": "code",
      "metadata": {
        "id": "bOfaWIAsaJMA"
      },
      "source": [
        "S1meanrefA1_1705= list()\n",
        "S1meanD4_105 = list()\n",
        "for i in range(S1HSV_imgA1D4_5.shape[0]): \n",
        "     for j in range(S1HSV_imgA1D4_5.shape[1]): \n",
        "                if 1769<i<1881 and 2019<j<2131 :\n",
        "                  S1meanrefA1_1705.append(S1HSV_imgA1D4_5[i][j])\n",
        "                if 1770<i<1880 and 2015<j<2145 :\n",
        "                  S1meanD4_105.append(S1HSV_imgA1D4_5[i][j])  \n",
        "S1meanrefA1_1705 = np.array(S1meanrefA1_1405)\n",
        "S1meanD4_105 = np.array(S1meanD4_105)\n",
        "\n",
        "S1hsvrefA1_1705 = list()\n",
        "S1hsvD4_105 = list()\n",
        "for i in range(3):\n",
        "    S1hsvrefA1_1705.append(S1meanrefA1_1705[:,i].mean())\n",
        "    S1hsvD4_105.append(S1meanD4_105[:,i].mean())"
      ],
      "execution_count": null,
      "outputs": []
    },
    {
      "cell_type": "markdown",
      "metadata": {
        "id": "4ihnBocWKAjD"
      },
      "source": [
        "#7.สร้างตาราง"
      ]
    },
    {
      "cell_type": "code",
      "metadata": {
        "id": "EjvYvGQwEIVW"
      },
      "source": [
        "from tabulate import tabulate"
      ],
      "execution_count": null,
      "outputs": []
    },
    {
      "cell_type": "code",
      "metadata": {
        "id": "g1Ir2tayht50"
      },
      "source": [
        "table   = [['R-ref', 'G-ref', 'B-ref', 'R-Shad', 'G-Shad', 'B-Shad', 'H-ref', 'S-ref', 'V-ref', 'H-Shad', 'S-Shad', 'V-Shad', 'Shade-ref', 'Shade', 'Setting']]"
      ],
      "execution_count": null,
      "outputs": []
    },
    {
      "cell_type": "code",
      "metadata": {
        "id": "holTb0QrmfaQ",
        "colab": {
          "base_uri": "https://localhost:8080/",
          "height": 787
        },
        "outputId": "307176d0-b0bf-400d-9c99-4ae55d5bccf1"
      },
      "source": [
        "df1 = pd.DataFrame({'R-ref':[S1rgbrefA1_1[0],S1rgbrefA1_102[0],S1rgbrefA1_103[0],S1rgbrefA1_104[0],S1rgbrefA1_105[0],S1rgbrefA1_3[0],S1rgbrefA1_302[0],S1rgbrefA1_303[0],S1rgbrefA1_304[0],S1rgbrefA1_305[0],S1rgbrefA1_4[0], S1rgbrefA1_402[0], S1rgbrefA1_403[0], S1rgbrefA1_404[0], S1rgbrefA1_405[0],S1rgbrefA1_5[0], S1rgbrefA1_502[0], S1rgbrefA1_503[0], S1rgbrefA1_504[0], S1rgbrefA1_505[0],S1rgbrefA1_6[0], S1rgbrefA1_602[0], S1rgbrefA1_603[0], S1rgbrefA1_604[0], S1rgbrefA1_605[0],S1rgbrefA1_7[0], S1rgbrefA1_702[0], S1rgbrefA1_703[0], S1rgbrefA1_704[0],S1rgbrefA1_705[0],S1rgbrefA1_8[0], S1rgbrefA1_802[0], S1rgbrefA1_803[0], S1rgbrefA1_804[0], S1rgbrefA1_805[0],S1rgbrefA1_9[0], S1rgbrefA1_902[0], S1rgbrefA1_903[0], S1rgbrefA1_904[0], S1rgbrefA1_905[0],S1rgbrefA1_10[0], S1rgbrefA1_1002[0], S1rgbrefA1_1003[0], S1rgbrefA1_1004[0], S1rgbrefA1_1005[0], S1rgbrefA1_11[0], S1rgbrefA1_1102[0], S1rgbrefA1_1103[0], S1rgbrefA1_1104[0], S1rgbrefA1_1105[0],S1rgbrefA1_12[0], S1rgbrefA1_1202[0], S1rgbrefA1_1203[0], S1rgbrefA1_1204[0], S1rgbrefA1_1205[0],S1rgbrefA1_13[0], S1rgbrefA1_1302[0], S1rgbrefA1_1303[0], S1rgbrefA1_1304[0], S1rgbrefA1_1305[0], S1rgbrefA1_14[0], S1rgbrefA1_1402[0], S1rgbrefA1_1403[0], S1rgbrefA1_1404[0], S1rgbrefA1_1405[0], S1rgbrefA1_15[0], S1rgbrefA1_1502[0], S1rgbrefA1_1503[0], S1rgbrefA1_1504[0], S1rgbrefA1_1505[0],  S1rgbrefA1_16[0], S1rgbrefA1_1602[0], S1rgbrefA1_1603[0], S1rgbrefA1_1604[0], S1rgbrefA1_1605[0], S1rgbrefA1_17[0], S1rgbrefA1_1702[0], S1rgbrefA1_1703[0], S1rgbrefA1_1704[0], S1rgbrefA1_1705[0]],\n",
        "'G-ref': [S1rgbrefA1_1[1],S1rgbrefA1_102[1],S1rgbrefA1_103[1],S1rgbrefA1_104[1],S1rgbrefA1_105[1],S1rgbrefA1_3[1],S1rgbrefA1_302[1],S1rgbrefA1_303[1],S1rgbrefA1_304[1],S1rgbrefA1_305[1],S1rgbrefA1_4[1], S1rgbrefA1_402[1], S1rgbrefA1_403[1], S1rgbrefA1_404[1], S1rgbrefA1_405[1],S1rgbrefA1_5[1], S1rgbrefA1_502[1], S1rgbrefA1_503[1], S1rgbrefA1_504[1], S1rgbrefA1_505[1],S1rgbrefA1_6[1], S1rgbrefA1_602[1], S1rgbrefA1_603[1], S1rgbrefA1_604[1], S1rgbrefA1_605[1],S1rgbrefA1_7[1], S1rgbrefA1_702[1], S1rgbrefA1_703[1], S1rgbrefA1_704[1],S1rgbrefA1_705[1],S1rgbrefA1_8[1], S1rgbrefA1_802[1],S1rgbrefA1_803[1], S1rgbrefA1_804[1], S1rgbrefA1_805[1],S1rgbrefA1_9[1], S1rgbrefA1_902[1], S1rgbrefA1_903[1], S1rgbrefA1_904[1], S1rgbrefA1_905[1],S1rgbrefA1_10[1], S1rgbrefA1_1002[1], S1rgbrefA1_1003[1], S1rgbrefA1_1004[1], S1rgbrefA1_1005[1],  S1rgbrefA1_11[1], S1rgbrefA1_1102[1], S1rgbrefA1_1103[1], S1rgbrefA1_1104[1], S1rgbrefA1_1105[1],S1rgbrefA1_12[1],S1rgbrefA1_1202[1], S1rgbrefA1_1203[1], S1rgbrefA1_1204[1], S1rgbrefA1_1205[1],S1rgbrefA1_13[1], S1rgbrefA1_1302[1], S1rgbrefA1_1303[1], S1rgbrefA1_1304[1], S1rgbrefA1_1305[1], S1rgbrefA1_14[1], S1rgbrefA1_1402[1], S1rgbrefA1_1403[1], S1rgbrefA1_1404[1], S1rgbrefA1_1405[1],S1rgbrefA1_15[1], S1rgbrefA1_1502[1], S1rgbrefA1_1503[1], S1rgbrefA1_1504[1], S1rgbrefA1_1505[1], S1rgbrefA1_16[1], S1rgbrefA1_1602[1], S1rgbrefA1_1603[1], S1rgbrefA1_1604[1], S1rgbrefA1_1605[1],S1rgbrefA1_17[1], S1rgbrefA1_1702[1], S1rgbrefA1_1703[1], S1rgbrefA1_1704[1], S1rgbrefA1_1705[1]],\n",
        "'B-ref': [S1rgbrefA1_1[2],S1rgbrefA1_102[2],S1rgbrefA1_103[2],S1rgbrefA1_104[2],S1rgbrefA1_105[2],S1rgbrefA1_3[2],S1rgbrefA1_302[2],S1rgbrefA1_303[2],S1rgbrefA1_304[2],S1rgbrefA1_305[2],S1rgbrefA1_4[2], S1rgbrefA1_402[2], S1rgbrefA1_403[2], S1rgbrefA1_404[2], S1rgbrefA1_405[2],S1rgbrefA1_5[2], S1rgbrefA1_502[2], S1rgbrefA1_503[2], S1rgbrefA1_504[2], S1rgbrefA1_505[2],S1rgbrefA1_6[2], S1rgbrefA1_602[2], S1rgbrefA1_603[2], S1rgbrefA1_604[2], S1rgbrefA1_605[2],S1rgbrefA1_7[2], S1rgbrefA1_702[2], S1rgbrefA1_703[2], S1rgbrefA1_704[2],S1rgbrefA1_705[2],S1rgbrefA1_8[2], S1rgbrefA1_802[2], S1rgbrefA1_803[2], S1rgbrefA1_804[2], S1rgbrefA1_805[2],S1rgbrefA1_9[2], S1rgbrefA1_902[2], S1rgbrefA1_903[2], S1rgbrefA1_904[2], S1rgbrefA1_905[2],S1rgbrefA1_10[2], S1rgbrefA1_1002[2], S1rgbrefA1_1003[2], S1rgbrefA1_1004[2], S1rgbrefA1_1005[2],S1rgbrefA1_11[2], S1rgbrefA1_1102[2], S1rgbrefA1_1103[2], S1rgbrefA1_1104[2], S1rgbrefA1_1105[2],S1rgbrefA1_12[2], S1rgbrefA1_1202[2], S1rgbrefA1_1203[2], S1rgbrefA1_1204[2], S1rgbrefA1_1205[2],S1rgbrefA1_13[2], S1rgbrefA1_1302[2], S1rgbrefA1_1303[2], S1rgbrefA1_1304[2], S1rgbrefA1_1305[2],S1rgbrefA1_14[2], S1rgbrefA1_1402[2], S1rgbrefA1_1403[2], S1rgbrefA1_1404[2], S1rgbrefA1_1405[2],S1rgbrefA1_15[2], S1rgbrefA1_1502[2], S1rgbrefA1_1503[2], S1rgbrefA1_1504[2], S1rgbrefA1_1505[2],S1rgbrefA1_16[2], S1rgbrefA1_1602[2], S1rgbrefA1_1603[2], S1rgbrefA1_1604[2], S1rgbrefA1_1605[2],S1rgbrefA1_17[2], S1rgbrefA1_1702[2], S1rgbrefA1_1703[2], S1rgbrefA1_1704[2], S1rgbrefA1_1705[2]], \n",
        "'R-Shad':  [S1rgbA1_2[0], S1rgbA1_202[0], S1rgbA1_203[0], S1rgbA1_204[0], S1rgbA1_205[0], S1rgbA2_1[0], S1rgbA2_102[0],  S1rgbA2_103[0], S1rgbA2_104[0], S1rgbA2_105[0],S1rgbA3_1[0], S1rgbA3_102[0],S1rgbA3_103[0],S1rgbA3_104[0],S1rgbA3_105[0],S1rgbA3_51[0],S1rgbA3_5102[0],S1rgbA3_5103[0],S1rgbA3_5104[0],  S1rgbA3_5105[0],S1rgbA4_1[0],S1rgbA4_102[0], S1rgbA4_103[0],S1rgbA4_104[0],S1rgbA4_105[0],S1rgbB1_1[0],S1rgbB1_102[0],S1rgbB1_103[0],S1rgbB1_104[0],S1rgbB1_105[0],S1rgbB2_1[0],S1rgbB2_102[0],S1rgbB2_103[0],S1rgbB2_104[0],S1rgbB2_105[0],S1rgbB3_1[0],S1rgbB3_102[0],S1rgbB3_103[0],S1rgbB3_104[0],S1rgbB3_105[0],S1rgbB4_1[0],S1rgbB4_102[0],S1rgbB4_103[0],S1rgbB4_104[0],S1rgbB4_105[0],S1rgbC1_1[0],S1rgbC1_102[0],S1rgbC1_103[0],S1rgbC1_104[0],S1rgbC1_105[0],S1rgbC2_1[0],S1rgbC2_102[0],S1rgbC2_103[0],S1rgbC2_104[0],S1rgbC2_105[0],S1rgbC3_1[0],S1rgbC3_102[0],S1rgbC3_103[0],S1rgbC3_104[0],S1rgbC3_105[0],S1rgbC4_1[0],S1rgbC4_102[0],S1rgbC4_103[0],S1rgbC4_104[0],S1rgbC4_105[0],S1rgbD2_1[0],S1rgbD2_102[0],S1rgbD2_103[0],S1rgbD2_104[0],S1rgbD2_105[0],S1rgbD3_1[0],S1rgbD3_102[0],S1rgbD3_103[0],S1rgbD3_104[0],S1rgbD3_105[0],S1rgbD4_1[0],S1rgbD4_102[0],S1rgbD4_103[0],S1rgbD4_104[0],S1rgbD4_105[0]],\n",
        "'G-Shad':[S1rgbA1_2[1],S1rgbA1_202[1],S1rgbA1_203[1],S1rgbA1_204[1],S1rgbA1_205[1],S1rgbA2_1[1],S1rgbA2_102[1],S1rgbA2_103[1],S1rgbA2_104[1],S1rgbA2_105[1],S1rgbA3_1[1],S1rgbA3_102[1],S1rgbA3_103[1],S1rgbA3_104[1],S1rgbA3_105[1],S1rgbA3_51[1], S1rgbA3_5102[1], S1rgbA3_5103[1],S1rgbA3_5104[1],  S1rgbA3_5105[1],S1rgbA4_1[1],S1rgbA4_102[1],S1rgbA4_103[1],S1rgbA4_104[1],S1rgbA4_105[1],S1rgbB1_1[1],S1rgbB1_102[1],S1rgbB1_103[1],S1rgbB1_104[1],S1rgbB1_105[1],S1rgbB2_1[1],S1rgbB2_102[1],S1rgbB2_103[1],S1rgbB2_104[1],S1rgbB2_105[1],S1rgbB3_1[1],S1rgbB3_102[1],S1rgbB3_103[1],S1rgbB3_104[1],S1rgbB3_105[1],S1rgbB4_1[1],S1rgbB4_102[1],S1rgbB4_103[1],S1rgbB4_104[1],S1rgbB4_105[1],S1rgbC1_1[1],S1rgbC1_102[1],S1rgbC1_103[1],S1rgbC1_104[1],S1rgbC1_105[1],S1rgbC2_1[1],S1rgbC2_102[1],S1rgbC2_103[1],S1rgbC2_104[1],S1rgbC2_105[1],S1rgbC3_1[1],S1rgbC3_102[1],S1rgbC3_103[1],S1rgbC3_104[1],S1rgbC3_105[1],S1rgbC4_1[1],S1rgbC4_102[1],S1rgbC4_103[1],S1rgbC4_104[1],S1rgbC4_105[1],S1rgbD2_1[1],S1rgbD2_102[1],S1rgbD2_103[1],S1rgbD2_104[1],S1rgbD2_105[1],S1rgbD3_1[1],S1rgbD3_102[1],S1rgbD3_103[1],S1rgbD3_104[1],S1rgbD3_105[1],S1rgbD4_1[1],S1rgbD4_102[1],S1rgbD4_103[1],S1rgbD4_104[1],S1rgbD4_105[1]],\n",
        "'B-Shad': [S1rgbA1_2[2],S1rgbA1_202[2],S1rgbA1_203[2],S1rgbA1_204[2],S1rgbA1_205[2],S1rgbA2_1[2],S1rgbA2_102[2],S1rgbA2_103[2],S1rgbA2_104[2],S1rgbA2_105[2],S1rgbA3_1[2],S1rgbA3_102[2],S1rgbA3_103[2],S1rgbA3_104[2],S1rgbA3_105[2],S1rgbA3_51[2],S1rgbA3_5102[2],S1rgbA3_5103[2], S1rgbA3_5104[2],  S1rgbA3_5105[2],S1rgbA4_1[2],S1rgbA4_102[2], S1rgbA4_103[2],S1rgbA4_104[2],S1rgbA4_105[2],S1rgbB1_1[2],S1rgbB1_102[2],S1rgbB1_103[2],S1rgbB1_104[2],S1rgbB1_105[2],S1rgbB2_1[2],S1rgbB2_102[2],S1rgbB2_103[2],S1rgbB2_104[2],S1rgbB2_105[2],S1rgbB3_1[2],S1rgbB3_102[2],S1rgbB3_103[2],S1rgbB3_104[2],S1rgbB3_105[2],S1rgbB4_1[2],S1rgbB4_102[2],S1rgbB4_103[2],S1rgbB4_104[2],S1rgbB4_105[2],S1rgbC1_1[2],S1rgbC1_102[2],S1rgbC1_103[2],S1rgbC1_104[2],S1rgbC1_105[2],S1rgbC2_1[2],S1rgbC2_102[2],S1rgbC2_103[2],S1rgbC2_104[2],S1rgbC2_105[2],S1rgbC3_1[2],S1rgbC3_102[2],S1rgbC3_103[2],S1rgbC3_104[2],S1rgbC3_105[2],S1rgbC4_1[2],S1rgbC4_102[2],S1rgbC4_103[2],S1rgbC4_104[2],S1rgbC4_105[2],S1rgbD2_1[2],S1rgbD2_102[2],S1rgbD2_103[2],S1rgbD2_104[2],S1rgbD2_105[2],S1rgbD3_1[2],S1rgbD3_102[2],S1rgbD3_103[2],S1rgbD3_104[2],S1rgbD3_105[2],S1rgbD4_1[2],S1rgbD4_102[2],S1rgbD4_103[2],S1rgbD4_104[2],S1rgbD4_105[2]],\n",
        "'H-ref':[S1hsvrefA1_1[0],S1hsvrefA1_102[0],S1hsvrefA1_103[0],S1hsvrefA1_104[0],S1hsvrefA1_105[0],S1hsvrefA1_3[0],S1hsvrefA1_302[0],S1hsvrefA1_303[0],S1hsvrefA1_304[0],S1hsvrefA1_305[0],S1hsvrefA1_4[0], S1hsvrefA1_402[0], S1hsvrefA1_403[0], S1hsvrefA1_404[0], S1hsvrefA1_405[0],S1hsvrefA1_5[0], S1hsvrefA1_502[0], S1hsvrefA1_503[0], S1hsvrefA1_504[0], S1hsvrefA1_505[0],S1hsvrefA1_6[0], S1hsvrefA1_602[0], S1hsvrefA1_603[0], S1hsvrefA1_604[0], S1hsvrefA1_605[0],S1hsvrefA1_7[0], S1hsvrefA1_702[0], S1hsvrefA1_703[0], S1hsvrefA1_704[0],S1hsvrefA1_705[0],S1hsvrefA1_8[0], S1hsvrefA1_802[0],S1hsvrefA1_803[0], S1hsvrefA1_804[0], S1hsvrefA1_805[0],S1hsvrefA1_9[0], S1hsvrefA1_902[0], S1hsvrefA1_903[0], S1hsvrefA1_904[0], S1hsvrefA1_905[0],S1hsvrefA1_10[0], S1hsvrefA1_1002[0], S1hsvrefA1_1003[0], S1hsvrefA1_1004[0], S1hsvrefA1_1005[0], S1hsvrefA1_11[0], S1hsvrefA1_1102[0], S1hsvrefA1_1103[0], S1hsvrefA1_1104[0], S1hsvrefA1_1105[0],S1hsvrefA1_12[0], S1hsvrefA1_1202[0], S1hsvrefA1_1203[0], S1hsvrefA1_1204[0], S1hsvrefA1_1205[0],S1hsvrefA1_13[0], S1hsvrefA1_1302[0], S1hsvrefA1_1303[0], S1hsvrefA1_1304[0], S1hsvrefA1_1305[0], S1hsvrefA1_14[0], S1hsvrefA1_1402[0], S1hsvrefA1_1403[0], S1hsvrefA1_1404[0], S1hsvrefA1_1405[0],  S1hsvrefA1_15[0], S1hsvrefA1_1502[0], S1hsvrefA1_1503[0], S1hsvrefA1_1504[0], S1hsvrefA1_1505[0], S1hsvrefA1_16[0], S1hsvrefA1_1602[0], S1hsvrefA1_1603[0], S1hsvrefA1_1604[0], S1hsvrefA1_1605[0], S1hsvrefA1_17[0], S1hsvrefA1_1702[0], S1hsvrefA1_1703[0], S1hsvrefA1_1704[0], S1hsvrefA1_1705[0]], \n",
        "'S-ref':[S1hsvrefA1_1[1],S1hsvrefA1_102[1],S1hsvrefA1_103[1],S1hsvrefA1_104[1],S1hsvrefA1_105[1],S1hsvrefA1_3[1],S1hsvrefA1_302[1],S1hsvrefA1_303[1],S1hsvrefA1_304[1],S1hsvrefA1_305[1],S1hsvrefA1_4[1], S1hsvrefA1_402[1], S1hsvrefA1_403[1], S1hsvrefA1_404[1], S1hsvrefA1_405[1],S1hsvrefA1_5[1], S1hsvrefA1_502[1], S1hsvrefA1_503[1], S1hsvrefA1_504[1], S1hsvrefA1_505[1],S1hsvrefA1_6[1], S1hsvrefA1_602[1], S1hsvrefA1_603[1], S1hsvrefA1_604[1], S1hsvrefA1_605[1],S1hsvrefA1_7[1], S1hsvrefA1_702[1], S1hsvrefA1_703[1], S1hsvrefA1_704[1],S1hsvrefA1_705[1], S1hsvrefA1_8[1], S1hsvrefA1_802[1], S1hsvrefA1_803[1], S1hsvrefA1_804[1], S1hsvrefA1_805[1],S1hsvrefA1_9[1], S1hsvrefA1_902[1], S1hsvrefA1_903[1], S1hsvrefA1_904[1], S1hsvrefA1_905[1],S1hsvrefA1_10[1], S1hsvrefA1_1002[1], S1hsvrefA1_1003[1], S1hsvrefA1_1004[1], S1hsvrefA1_1005[1], S1hsvrefA1_11[1], S1hsvrefA1_1102[1], S1hsvrefA1_1103[1], S1hsvrefA1_1104[1], S1hsvrefA1_1105[1],S1hsvrefA1_12[1], S1hsvrefA1_1202[1], S1hsvrefA1_1203[1], S1hsvrefA1_1204[1], S1hsvrefA1_1205[1],S1hsvrefA1_13[1], S1hsvrefA1_1302[1], S1hsvrefA1_1303[1],S1hsvrefA1_1304[1], S1hsvrefA1_1305[1], S1hsvrefA1_14[1], S1hsvrefA1_1402[1], S1hsvrefA1_1403[1], S1hsvrefA1_1404[1], S1hsvrefA1_1405[1], S1hsvrefA1_15[1], S1hsvrefA1_1502[1], S1hsvrefA1_1503[1], S1hsvrefA1_1504[1], S1hsvrefA1_1505[1], S1hsvrefA1_16[1], S1hsvrefA1_1602[1], S1hsvrefA1_1603[1], S1hsvrefA1_1604[1], S1hsvrefA1_1605[1], S1hsvrefA1_17[1], S1hsvrefA1_1702[1], S1hsvrefA1_1703[1], S1hsvrefA1_1704[1], S1hsvrefA1_1705[1]],\n",
        "'V-ref':[S1hsvrefA1_1[2],S1hsvrefA1_102[2],S1hsvrefA1_103[2],S1hsvrefA1_104[2],S1hsvrefA1_105[2],S1hsvrefA1_3[1],S1hsvrefA1_302[1],S1hsvrefA1_303[1],S1hsvrefA1_304[1],S1hsvrefA1_305[1],S1hsvrefA1_4[2], S1hsvrefA1_402[2], S1hsvrefA1_403[2], S1hsvrefA1_404[2], S1hsvrefA1_405[2],S1hsvrefA1_5[2], S1hsvrefA1_502[2], S1hsvrefA1_503[2], S1hsvrefA1_504[2], S1hsvrefA1_505[2],S1hsvrefA1_6[2], S1hsvrefA1_602[2], S1hsvrefA1_603[2], S1hsvrefA1_604[2], S1hsvrefA1_605[2],S1hsvrefA1_7[2], S1hsvrefA1_702[2], S1hsvrefA1_703[2], S1hsvrefA1_704[2],S1hsvrefA1_705[2],S1hsvrefA1_8[2], S1hsvrefA1_802[2], S1hsvrefA1_803[2], S1hsvrefA1_804[2], S1hsvrefA1_805[2],S1hsvrefA1_9[2], S1hsvrefA1_902[2], S1hsvrefA1_903[2], S1hsvrefA1_904[2], S1hsvrefA1_905[2],S1hsvrefA1_10[2], S1hsvrefA1_1002[2], S1hsvrefA1_1003[2], S1hsvrefA1_1004[2], S1hsvrefA1_1005[2],      S1hsvrefA1_11[2], S1hsvrefA1_1102[2], S1hsvrefA1_1103[2], S1hsvrefA1_1104[2], S1hsvrefA1_1105[2],S1hsvrefA1_12[2], S1hsvrefA1_1202[2], S1hsvrefA1_1203[2], S1hsvrefA1_1204[2], S1hsvrefA1_1205[2],S1hsvrefA1_13[2], S1hsvrefA1_1302[2], S1hsvrefA1_1303[2], S1hsvrefA1_1304[2], S1hsvrefA1_1305[2], S1hsvrefA1_14[2], S1hsvrefA1_1402[2], S1hsvrefA1_1403[2], S1hsvrefA1_1404[2], S1hsvrefA1_1405[2], S1hsvrefA1_15[2], S1hsvrefA1_1502[2], S1hsvrefA1_1503[2], S1hsvrefA1_1504[2], S1hsvrefA1_1505[2],S1hsvrefA1_16[2], S1hsvrefA1_1602[2], S1hsvrefA1_1603[2], S1hsvrefA1_1604[2], S1hsvrefA1_1605[2], S1hsvrefA1_17[2], S1hsvrefA1_1702[2], S1hsvrefA1_1703[2], S1hsvrefA1_1704[2], S1hsvrefA1_1705[2]],\n",
        "'H-Shad':[S1hsvA1_2[0],S1hsvA1_202[0],S1hsvA1_203[0],S1hsvA1_204[0],S1hsvA1_205[0],S1hsvA2_1[0],S1hsvA2_102[0],S1hsvA2_103[0],S1hsvA2_104[0],S1hsvA2_105[0],S1hsvA3_1[0],S1hsvA3_102[0],S1hsvA3_103[0],S1hsvA3_104[0],S1hsvA3_105[0],S1hsvA3_51[0],S1hsvA3_5102[0],S1hsvA3_5103[0],S1hsvA3_5104[0],S1hsvA3_5105[0],S1hsvA4_1[0],S1hsvA4_102[0],S1hsvA4_103[0],S1hsvA4_104[0],S1hsvA4_105[0],S1hsvB1_1[0],S1hsvB1_102[0],S1hsvB1_103[0],S1hsvB1_104[0],S1hsvB1_105[0],S1hsvB2_1[0],S1hsvB2_102[0],S1hsvB2_103[0],S1hsvB2_104[0],S1hsvB2_105[0],S1hsvB3_1[0],S1hsvB3_102[0],S1hsvB3_103[0],S1hsvB3_104[0],S1hsvB3_105[0],S1hsvB4_1[0],S1hsvB4_102[0],S1hsvB4_103[0],S1hsvB4_104[0],S1hsvB4_105[0],S1hsvC1_1[0],S1hsvC1_102[0],S1hsvC1_103[0],S1hsvC1_104[0],S1hsvC1_105[0],S1hsvC2_1[0],S1hsvC2_102[0],S1hsvC2_103[0],S1hsvC2_104[0],S1hsvC2_105[0],S1hsvC3_1[0],S1hsvC3_102[0],S1hsvC3_103[0],S1hsvC3_104[0],S1hsvC3_105[0],S1hsvC4_1[0],S1hsvC4_102[0],S1hsvC4_103[0],S1hsvC4_104[0],S1hsvC4_105[0],S1hsvD2_1[0],S1hsvD2_102[0],S1hsvD2_103[0],S1hsvD2_104[0],S1hsvD2_105[0],S1hsvD3_1[0],S1hsvD3_102[0],S1hsvD3_103[0],S1hsvD3_104[0],S1hsvD3_105[0],S1hsvD4_1[0],S1hsvD4_102[0],S1hsvD4_103[0],S1hsvD4_104[0],S1hsvD4_105[0]],\n",
        "'S-Shad':[S1hsvA1_2[1],S1hsvA1_202[1],S1hsvA1_203[1], S1hsvA1_204[1],S1hsvA1_205[1],S1hsvA2_1[1],S1hsvA2_102[1],S1hsvA2_103[1],S1hsvA2_104[1],S1hsvA2_105[1],S1hsvA3_1[1],S1hsvA3_102[1], S1hsvA3_103[1],S1hsvA3_104[1],S1hsvA3_105[1],S1hsvA3_51[1],S1hsvA3_5102[1],S1hsvA3_5103[1],S1hsvA3_5104[1],S1hsvA3_5105[1],S1hsvA4_1[1],S1hsvA4_102[1],S1hsvA4_103[1],S1hsvA4_104[1],S1hsvA4_105[1],S1hsvB1_1[1],S1hsvB1_102[1],S1hsvB1_103[1],S1hsvB1_104[1],S1hsvB1_105[1],S1hsvB2_1[1],S1hsvB2_102[1],S1hsvB2_103[1],S1hsvB2_104[1],S1hsvB2_105[1],S1hsvB3_1[1],S1hsvB3_102[1],S1hsvB3_103[1],S1hsvB3_104[1],S1hsvB3_105[1],S1hsvB4_1[1],S1hsvB4_102[1],S1hsvB4_103[1],S1hsvB4_104[1],S1hsvB4_105[1],S1hsvC1_1[1],S1hsvC1_102[1],S1hsvC1_103[1],S1hsvC1_104[1],S1hsvC1_105[1],S1hsvC2_1[1],S1hsvC2_102[1],S1hsvC2_103[1],S1hsvC2_104[1],S1hsvC2_105[1],S1hsvC3_1[1],S1hsvC3_102[1],S1hsvC3_103[1],S1hsvC3_104[1],S1hsvC3_105[1],S1hsvC4_1[1],S1hsvC4_102[1],S1hsvC4_103[1],S1hsvC4_104[1],S1hsvC4_105[1],S1hsvD2_1[1],S1hsvD2_102[1],S1hsvD2_103[1],S1hsvD2_104[1],S1hsvD2_105[1],S1hsvD3_1[1],S1hsvD3_102[1],S1hsvD3_103[1],S1hsvD3_104[1],S1hsvD3_105[1],S1hsvD4_1[1],S1hsvD4_102[1],S1hsvD4_103[1],S1hsvD4_104[1],S1hsvD4_105[1]],\n",
        "'V-Shad':[S1hsvA1_2[2],S1hsvA1_202[2],S1hsvA1_203[2],S1hsvA1_204[2],S1hsvA1_205[2],S1hsvA2_1[2],S1hsvA2_102[2],S1hsvA2_103[2],S1hsvA2_104[2],S1hsvA2_105[2],S1hsvA3_1[2],S1hsvA3_102[2],S1hsvA3_103[2],S1hsvA3_104[2],S1hsvA3_105[2],S1hsvA3_51[2],S1hsvA3_5102[2],S1hsvA3_5103[2],S1hsvA3_5104[2],  S1hsvA3_5105[2],S1hsvA4_1[2],S1hsvA4_102[2],S1hsvA4_103[2],S1hsvA4_104[2],S1hsvA4_105[2],S1hsvB1_1[2],S1hsvB1_102[2],S1hsvB1_103[2],S1hsvB1_104[2],S1hsvB1_105[2],S1hsvB2_1[2],S1hsvB2_102[2],S1hsvB2_103[2],S1hsvB2_104[2],S1hsvB2_105[2],S1hsvB3_1[2],S1hsvB3_102[2],S1hsvB3_103[2],S1hsvB3_104[2],S1hsvB3_105[2],S1hsvB4_1[2],S1hsvB4_102[2],S1hsvB4_103[2],S1hsvB4_104[2],S1hsvB4_105[2],S1hsvC1_1[2],S1hsvC1_102[2],S1hsvC1_103[2],S1hsvC1_104[2],S1hsvC1_105[2],S1hsvC2_1[2],S1hsvC2_102[2],S1hsvC2_103[2],S1hsvC2_104[2],S1hsvC2_105[2],S1hsvC3_1[2],S1hsvC3_102[2],S1hsvC3_103[2],S1hsvC3_104[2],S1hsvC3_105[2],S1hsvC4_1[2],S1hsvC4_102[2],S1hsvC4_103[2],S1hsvC4_104[2],S1hsvC4_105[2],S1hsvD2_1[2],S1hsvD2_102[2],S1hsvD2_103[2],S1hsvD2_104[2],S1hsvD2_105[2],S1hsvD3_1[2],S1hsvD3_102[2],S1hsvD3_103[2],S1hsvD3_104[2],S1hsvD3_105[2],S1hsvD4_1[2],S1hsvD4_102[2],S1hsvD4_103[2],S1hsvD4_104[2],S1hsvD4_105[2]],\n",
        "'Shade-ref': ['A1', 'A1', 'A1', 'A1', 'A1', 'A1',  'A1', 'A1', 'A1', 'A1', 'A1',  'A1', 'A1', 'A1', 'A1', 'A1','A1', 'A1', 'A1', 'A1', 'A1', 'A1',  'A1', 'A1', 'A1', 'A1', 'A1',  'A1', 'A1', 'A1', 'A1', 'A1','A1', 'A1', 'A1', 'A1', 'A1', 'A1',  'A1', 'A1', 'A1', 'A1', 'A1',  'A1', 'A1', 'A1', 'A1', 'A1','A1', 'A1', 'A1', 'A1', 'A1', 'A1', 'A1', 'A1', 'A1', 'A1', 'A1',  'A1', 'A1', 'A1', 'A1', 'A1','A1', 'A1', 'A1', 'A1', 'A1', 'A1', 'A1', 'A1', 'A1', 'A1', 'A1', 'A1', 'A1', 'A1', 'A1', 'A1'],\n",
        "'Shade':  ['A1', 'A1', 'A1', 'A1', 'A1', 'A1', 'A1', 'A1', 'A1', 'A1', 'A2', 'A2', 'A2','A2','A2', 'A2', 'A2', 'A2' ,'A2', 'A2','A3', 'A3', 'A3', 'A3', 'A3', 'A3','A3', 'A3','A3', 'A3','A3_5', 'A3_5', 'A3_5', 'A3_5', 'A3_5', 'A3_5', 'A3_5', 'A3_5', 'A3_5', 'A3_5','A4', 'A4', 'A4', 'A4', 'A4', 'A4', 'A4', 'A4', 'A4', 'A4','B1', 'B1', 'B1', 'B1', 'B1', 'B1','B1', 'B1', 'B1', 'B1','B2', 'B2', 'B2', 'B2', 'B2', 'B2','B2', 'B2','B2', 'B2', 'B3','B3', 'B3', 'B3', 'B3', 'B3', 'B3', 'B3', 'B3', 'B3'],\n",
        "'Setting': ['Set1', 'Set1', 'Set1', 'Set1', 'Set1', 'Set1', 'Set1', 'Set1', 'Set1', 'Set1', 'Set1', 'Set1', 'Set1', 'Set1', 'Set1', 'Set1','Set1', 'Set1', 'Set1', 'Set1', 'Set1', 'Set1', 'Set1', 'Set1', 'Set1', 'Set1', 'Set1', 'Set1', 'Set1', 'Set1', 'Set1', 'Set1','Set1', 'Set1', 'Set1', 'Set1', 'Set1', 'Set1', 'Set1', 'Set1', 'Set1', 'Set1', 'Set1', 'Set1', 'Set1', 'Set1', 'Set1', 'Set1','Set1', 'Set1', 'Set1', 'Set1', 'Set1', 'Set1', 'Set1', 'Set1', 'Set1', 'Set1', 'Set1', 'Set1', 'Set1', 'Set1', 'Set1', 'Set1','Set1', 'Set1', 'Set1', 'Set1', 'Set1', 'Set1', 'Set1', 'Set1', 'Set1', 'Set1', 'Set1', 'Set1', 'Set1', 'Set1', 'Set1', 'Set1'],\n",
        "'Img' :[S1_doubleA1A1_1,S1_doubleA1A1_2,S1_doubleA1A1_3,S1_doubleA1A1_4,S1_doubleA1A1_5,S1_doubleA1A2_1, S1_doubleA1A2_2, S1_doubleA1A2_3, S1_doubleA1A2_4, S1_doubleA1A2_5, S1_doubleA1A3_1, S1_doubleA1A3_2, S1_doubleA1A3_3, S1_doubleA1A3_4, S1_doubleA1A3_5, S1_doubleA1A3_51, S1_doubleA1A3_52,S1_doubleA1A3_53,S1_doubleA1A3_54,S1_doubleA1A3_55,S1_doubleA1A4_1, S1_doubleA1A4_2, S1_doubleA1A4_3, S1_doubleA1A4_4, S1_doubleA1A4_5,S1_doubleA1B1_1,S1_doubleA1B1_2,S1_doubleA1B1_3,S1_doubleA1B1_4,S1_doubleA1B1_5,S1_doubleA1B2_1, S1_doubleA1B2_2,S1_doubleA1B2_3,S1_doubleA1B2_4,S1_doubleA1B2_5,S1_doubleA1B3_1, S1_doubleA1B3_2,S1_doubleA1B3_3,S1_doubleA1B3_4,S1_doubleA1B3_5,S1_doubleA1B4_1,S1_doubleA1B4_2,S1_doubleA1B4_3,S1_doubleA1B4_4,S1_doubleA1B4_5,S1_doubleA1C1_1 ,S1_doubleA1C1_2,S1_doubleA1C1_3,S1_doubleA1C1_4,S1_doubleA1C1_5,S1_doubleA1C2_1, S1_doubleA1C2_2, S1_doubleA1C2_3, S1_doubleA1C2_4, S1_doubleA1C2_5,S1_doubleA1C3_1,S1_doubleA1C3_2, S1_doubleA1C3_3,S1_doubleA1C3_4,S1_doubleA1C3_5,S1_doubleA1C4_1, S1_doubleA1C4_2,S1_doubleA1C4_3,S1_doubleA1C4_4,S1_doubleA1C4_5,S1_doubleA1D2_1,S1_doubleA1D2_2, S1_doubleA1D2_3,S1_doubleA1D2_4,  S1_doubleA1D2_5,S1_doubleA1D3_1,S1_doubleA1D3_2,S1_doubleA1D3_3,S1_doubleA1D3_4,S1_doubleA1D3_5,S1_doubleA1D4_1,S1_doubleA1D4_2,S1_doubleA1D4_3,S1_doubleA1D4_4,S1_doubleA1D4_5]\n",
        "})\n",
        "df1 "
      ],
      "execution_count": null,
      "outputs": [
        {
          "output_type": "execute_result",
          "data": {
            "text/html": [
              "<div>\n",
              "<style scoped>\n",
              "    .dataframe tbody tr th:only-of-type {\n",
              "        vertical-align: middle;\n",
              "    }\n",
              "\n",
              "    .dataframe tbody tr th {\n",
              "        vertical-align: top;\n",
              "    }\n",
              "\n",
              "    .dataframe thead th {\n",
              "        text-align: right;\n",
              "    }\n",
              "</style>\n",
              "<table border=\"1\" class=\"dataframe\">\n",
              "  <thead>\n",
              "    <tr style=\"text-align: right;\">\n",
              "      <th></th>\n",
              "      <th>R-ref</th>\n",
              "      <th>G-ref</th>\n",
              "      <th>B-ref</th>\n",
              "      <th>R-Shad</th>\n",
              "      <th>G-Shad</th>\n",
              "      <th>B-Shad</th>\n",
              "      <th>H-ref</th>\n",
              "      <th>S-ref</th>\n",
              "      <th>V-ref</th>\n",
              "      <th>H-Shad</th>\n",
              "      <th>S-Shad</th>\n",
              "      <th>V-Shad</th>\n",
              "      <th>Shade-ref</th>\n",
              "      <th>Shade</th>\n",
              "      <th>Setting</th>\n",
              "      <th>Img</th>\n",
              "    </tr>\n",
              "  </thead>\n",
              "  <tbody>\n",
              "    <tr>\n",
              "      <th>0</th>\n",
              "      <td>237.144469</td>\n",
              "      <td>225.537862</td>\n",
              "      <td>191.670806</td>\n",
              "      <td>237.809189</td>\n",
              "      <td>226.416827</td>\n",
              "      <td>193.195363</td>\n",
              "      <td>22.295755</td>\n",
              "      <td>48.938885</td>\n",
              "      <td>237.144469</td>\n",
              "      <td>22.332764</td>\n",
              "      <td>47.917502</td>\n",
              "      <td>237.810967</td>\n",
              "      <td>A1</td>\n",
              "      <td>A1</td>\n",
              "      <td>Set1</td>\n",
              "      <td>219558E6-E67A-4672-9E46-3D084D0D2032.png</td>\n",
              "    </tr>\n",
              "    <tr>\n",
              "      <th>1</th>\n",
              "      <td>240.253713</td>\n",
              "      <td>223.249493</td>\n",
              "      <td>178.513270</td>\n",
              "      <td>240.728042</td>\n",
              "      <td>223.933717</td>\n",
              "      <td>179.628191</td>\n",
              "      <td>22.295755</td>\n",
              "      <td>48.938885</td>\n",
              "      <td>237.144469</td>\n",
              "      <td>22.332764</td>\n",
              "      <td>47.917502</td>\n",
              "      <td>237.810967</td>\n",
              "      <td>A1</td>\n",
              "      <td>A1</td>\n",
              "      <td>Set1</td>\n",
              "      <td>C88EF40F-E3F2-462F-9F7F-F2BACB0E4704.png</td>\n",
              "    </tr>\n",
              "    <tr>\n",
              "      <th>2</th>\n",
              "      <td>240.093012</td>\n",
              "      <td>213.651733</td>\n",
              "      <td>156.662690</td>\n",
              "      <td>240.732807</td>\n",
              "      <td>214.776972</td>\n",
              "      <td>158.439016</td>\n",
              "      <td>20.714471</td>\n",
              "      <td>88.660985</td>\n",
              "      <td>240.093012</td>\n",
              "      <td>20.751013</td>\n",
              "      <td>87.255601</td>\n",
              "      <td>240.732807</td>\n",
              "      <td>A1</td>\n",
              "      <td>A1</td>\n",
              "      <td>Set1</td>\n",
              "      <td>9664FAC5-C093-4C4E-9906-23DCC933C2BC.png</td>\n",
              "    </tr>\n",
              "    <tr>\n",
              "      <th>3</th>\n",
              "      <td>236.767389</td>\n",
              "      <td>211.190407</td>\n",
              "      <td>157.946595</td>\n",
              "      <td>237.502240</td>\n",
              "      <td>212.320959</td>\n",
              "      <td>159.895313</td>\n",
              "      <td>20.437951</td>\n",
              "      <td>84.981252</td>\n",
              "      <td>236.767389</td>\n",
              "      <td>20.403030</td>\n",
              "      <td>83.474006</td>\n",
              "      <td>237.502240</td>\n",
              "      <td>A1</td>\n",
              "      <td>A1</td>\n",
              "      <td>Set1</td>\n",
              "      <td>07D1EFD7-B26D-41DE-AFC4-C1BACE8867A4.png</td>\n",
              "    </tr>\n",
              "    <tr>\n",
              "      <th>4</th>\n",
              "      <td>236.767389</td>\n",
              "      <td>211.190407</td>\n",
              "      <td>157.946595</td>\n",
              "      <td>237.809189</td>\n",
              "      <td>226.416827</td>\n",
              "      <td>193.195363</td>\n",
              "      <td>20.437951</td>\n",
              "      <td>84.981252</td>\n",
              "      <td>236.767389</td>\n",
              "      <td>20.403030</td>\n",
              "      <td>83.474006</td>\n",
              "      <td>237.502240</td>\n",
              "      <td>A1</td>\n",
              "      <td>A1</td>\n",
              "      <td>Set1</td>\n",
              "      <td>07D1EFD7-B26D-41DE-AFC4-C1BACE8867A4.png</td>\n",
              "    </tr>\n",
              "    <tr>\n",
              "      <th>...</th>\n",
              "      <td>...</td>\n",
              "      <td>...</td>\n",
              "      <td>...</td>\n",
              "      <td>...</td>\n",
              "      <td>...</td>\n",
              "      <td>...</td>\n",
              "      <td>...</td>\n",
              "      <td>...</td>\n",
              "      <td>...</td>\n",
              "      <td>...</td>\n",
              "      <td>...</td>\n",
              "      <td>...</td>\n",
              "      <td>...</td>\n",
              "      <td>...</td>\n",
              "      <td>...</td>\n",
              "      <td>...</td>\n",
              "    </tr>\n",
              "    <tr>\n",
              "      <th>75</th>\n",
              "      <td>239.992127</td>\n",
              "      <td>222.837189</td>\n",
              "      <td>178.561562</td>\n",
              "      <td>239.514188</td>\n",
              "      <td>223.455444</td>\n",
              "      <td>180.412488</td>\n",
              "      <td>21.939372</td>\n",
              "      <td>65.314017</td>\n",
              "      <td>239.992127</td>\n",
              "      <td>22.003414</td>\n",
              "      <td>63.019842</td>\n",
              "      <td>239.514188</td>\n",
              "      <td>A1</td>\n",
              "      <td>B3</td>\n",
              "      <td>Set1</td>\n",
              "      <td>14BF11D2-5597-4D76-982D-6D73CA85D29C.png</td>\n",
              "    </tr>\n",
              "    <tr>\n",
              "      <th>76</th>\n",
              "      <td>240.446636</td>\n",
              "      <td>219.947569</td>\n",
              "      <td>169.074669</td>\n",
              "      <td>238.258232</td>\n",
              "      <td>212.947657</td>\n",
              "      <td>158.989617</td>\n",
              "      <td>20.619430</td>\n",
              "      <td>86.358088</td>\n",
              "      <td>237.557341</td>\n",
              "      <td>20.636299</td>\n",
              "      <td>84.931584</td>\n",
              "      <td>238.258232</td>\n",
              "      <td>A1</td>\n",
              "      <td>B3</td>\n",
              "      <td>Set1</td>\n",
              "      <td>630B56EB-1A02-4C39-8E72-401279881303.png</td>\n",
              "    </tr>\n",
              "    <tr>\n",
              "      <th>77</th>\n",
              "      <td>235.038146</td>\n",
              "      <td>208.802776</td>\n",
              "      <td>156.380976</td>\n",
              "      <td>236.999004</td>\n",
              "      <td>211.617168</td>\n",
              "      <td>159.461205</td>\n",
              "      <td>20.145118</td>\n",
              "      <td>85.448827</td>\n",
              "      <td>235.038146</td>\n",
              "      <td>20.295783</td>\n",
              "      <td>83.586018</td>\n",
              "      <td>236.999004</td>\n",
              "      <td>A1</td>\n",
              "      <td>B3</td>\n",
              "      <td>Set1</td>\n",
              "      <td>839EA3F3-4256-44C3-9E4C-70E87B10CB38.png</td>\n",
              "    </tr>\n",
              "    <tr>\n",
              "      <th>78</th>\n",
              "      <td>236.767389</td>\n",
              "      <td>211.190407</td>\n",
              "      <td>157.946595</td>\n",
              "      <td>237.502240</td>\n",
              "      <td>212.320959</td>\n",
              "      <td>159.895313</td>\n",
              "      <td>21.939372</td>\n",
              "      <td>65.314017</td>\n",
              "      <td>239.992127</td>\n",
              "      <td>20.403030</td>\n",
              "      <td>83.474006</td>\n",
              "      <td>237.502240</td>\n",
              "      <td>A1</td>\n",
              "      <td>B3</td>\n",
              "      <td>Set1</td>\n",
              "      <td>07D1EFD7-B26D-41DE-AFC4-C1BACE8867A4.png</td>\n",
              "    </tr>\n",
              "    <tr>\n",
              "      <th>79</th>\n",
              "      <td>240.093012</td>\n",
              "      <td>213.651733</td>\n",
              "      <td>156.662690</td>\n",
              "      <td>238.663395</td>\n",
              "      <td>228.625133</td>\n",
              "      <td>195.733020</td>\n",
              "      <td>20.714471</td>\n",
              "      <td>88.660985</td>\n",
              "      <td>240.093012</td>\n",
              "      <td>22.744257</td>\n",
              "      <td>45.941043</td>\n",
              "      <td>238.663395</td>\n",
              "      <td>A1</td>\n",
              "      <td>B3</td>\n",
              "      <td>Set1</td>\n",
              "      <td>7F841DFC-287B-41C2-A4F5-49FA7331CBB0.png</td>\n",
              "    </tr>\n",
              "  </tbody>\n",
              "</table>\n",
              "<p>80 rows × 16 columns</p>\n",
              "</div>"
            ],
            "text/plain": [
              "         R-ref       G-ref  ...  Setting                                       Img\n",
              "0   237.144469  225.537862  ...     Set1  219558E6-E67A-4672-9E46-3D084D0D2032.png\n",
              "1   240.253713  223.249493  ...     Set1  C88EF40F-E3F2-462F-9F7F-F2BACB0E4704.png\n",
              "2   240.093012  213.651733  ...     Set1  9664FAC5-C093-4C4E-9906-23DCC933C2BC.png\n",
              "3   236.767389  211.190407  ...     Set1  07D1EFD7-B26D-41DE-AFC4-C1BACE8867A4.png\n",
              "4   236.767389  211.190407  ...     Set1  07D1EFD7-B26D-41DE-AFC4-C1BACE8867A4.png\n",
              "..         ...         ...  ...      ...                                       ...\n",
              "75  239.992127  222.837189  ...     Set1  14BF11D2-5597-4D76-982D-6D73CA85D29C.png\n",
              "76  240.446636  219.947569  ...     Set1  630B56EB-1A02-4C39-8E72-401279881303.png\n",
              "77  235.038146  208.802776  ...     Set1  839EA3F3-4256-44C3-9E4C-70E87B10CB38.png\n",
              "78  236.767389  211.190407  ...     Set1  07D1EFD7-B26D-41DE-AFC4-C1BACE8867A4.png\n",
              "79  240.093012  213.651733  ...     Set1  7F841DFC-287B-41C2-A4F5-49FA7331CBB0.png\n",
              "\n",
              "[80 rows x 16 columns]"
            ]
          },
          "metadata": {},
          "execution_count": 421
        }
      ]
    },
    {
      "cell_type": "code",
      "source": [
        "df('Shade_A101 Guide.csv', index=False)"
      ],
      "metadata": {
        "id": "Bb3DfdjYkGAA"
      },
      "execution_count": null,
      "outputs": []
    },
    {
      "cell_type": "code",
      "source": [
        "d2 = pd.read_csv('ShadeSet1_A102 Guide.csv')\n",
        "df2\n"
      ],
      "metadata": {
        "id": "3bEAD6N3iwXF"
      },
      "execution_count": null,
      "outputs": []
    },
    {
      "cell_type": "code",
      "source": [
        "d3 = pd.read_csv('ShadeSet1_A102 Guide.csv')\n",
        "df3"
      ],
      "metadata": {
        "id": "MW8P1W_AcB1L"
      },
      "execution_count": null,
      "outputs": []
    },
    {
      "cell_type": "code",
      "source": [
        "d4 = pd.read_csv('ShadeSet1_A102 Guide.csv')\n",
        "df4"
      ],
      "metadata": {
        "id": "gthn5_UjcCYD"
      },
      "execution_count": null,
      "outputs": []
    },
    {
      "cell_type": "code",
      "source": [
        "A1_concat = pd.concat([df1, df2, df3, df4])\n",
        "A1_concat"
      ],
      "metadata": {
        "id": "2_lNtZ9Oikph"
      },
      "execution_count": null,
      "outputs": []
    },
    {
      "cell_type": "code",
      "source": [
        "A3_concat.to_csv('Shade_A3 Guide.csv', index=False)"
      ],
      "metadata": {
        "id": "7VvHaGzcisZa"
      },
      "execution_count": null,
      "outputs": []
    }
  ]
}